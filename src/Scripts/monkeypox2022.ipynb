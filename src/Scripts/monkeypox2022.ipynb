{
  "nbformat": 4,
  "nbformat_minor": 0,
  "metadata": {
    "colab": {
      "name": "monkeypox2022.ipynb",
      "provenance": [],
      "collapsed_sections": []
    },
    "kernelspec": {
      "name": "python3",
      "display_name": "Python 3"
    },
    "language_info": {
      "name": "python"
    }
  },
  "cells": [
    {
      "cell_type": "markdown",
      "source": [
        "### Conectando o Google Drive ao Colab"
      ],
      "metadata": {
        "id": "Ry84gtoeWSiJ"
      }
    },
    {
      "cell_type": "code",
      "execution_count": 1,
      "metadata": {
        "colab": {
          "base_uri": "https://localhost:8080/"
        },
        "id": "rUE1GOHtWNZS",
        "outputId": "c7615910-1934-4ecc-b0f7-005e23f9572d"
      },
      "outputs": [
        {
          "output_type": "stream",
          "name": "stdout",
          "text": [
            "Mounted at /content/drive\n"
          ]
        }
      ],
      "source": [
        "from google.colab import drive\n",
        "drive.mount('/content/drive')"
      ]
    },
    {
      "cell_type": "markdown",
      "source": [
        "### Lendo Dataset em pasta do Google Drive"
      ],
      "metadata": {
        "id": "1aMFYrs8apYy"
      }
    },
    {
      "cell_type": "code",
      "source": [
        "!unzip \"/content/drive/MyDrive/Datasets/Monkeypox/latest.csv.zip\""
      ],
      "metadata": {
        "colab": {
          "base_uri": "https://localhost:8080/"
        },
        "id": "URPqKU-KWf5D",
        "outputId": "bda5a706-dbe7-4f7d-c301-4b36a3329657"
      },
      "execution_count": 4,
      "outputs": [
        {
          "output_type": "stream",
          "name": "stdout",
          "text": [
            "Archive:  /content/drive/MyDrive/Datasets/Monkeypox/latest.csv.zip\n",
            "  inflating: latest.csv              \n",
            "  inflating: __MACOSX/._latest.csv   \n"
          ]
        }
      ]
    },
    {
      "cell_type": "markdown",
      "source": [
        "### Configurando PySpark no Google Colab"
      ],
      "metadata": {
        "id": "8UZcbbjIa3MI"
      }
    },
    {
      "cell_type": "markdown",
      "source": [
        "##### Instalação das dependências"
      ],
      "metadata": {
        "id": "75boISXEe1YA"
      }
    },
    {
      "cell_type": "code",
      "source": [
        "!apt-get install openjdk-8-jdk-headless -qq > /dev/null\n",
        "!wget -q https://archive.apache.org/dist/spark/spark-2.4.4/spark-2.4.4-bin-hadoop2.7.tgz\n",
        "!tar xf spark-2.4.4-bin-hadoop2.7.tgz\n",
        "!pip install -q findspark"
      ],
      "metadata": {
        "id": "Qv7Z1C8AZ9dR"
      },
      "execution_count": 14,
      "outputs": []
    },
    {
      "cell_type": "markdown",
      "source": [
        "##### Configurando as variáveis do ambiente"
      ],
      "metadata": {
        "id": "5_Co2gxffgUY"
      }
    },
    {
      "cell_type": "code",
      "source": [
        "import os\n",
        "os.environ[\"JAVA_HOME\"] = \"/usr/lib/jvm/java-8-openjdk-amd64\"\n",
        "os.environ[\"SPARK_HOME\"] = \"/content/spark-2.4.4-bin-hadoop2.7\"\n",
        "\n",
        "# tornar o pyspark \"importável\"\n",
        "import findspark\n",
        "findspark.init('spark-2.4.4-bin-hadoop2.7')"
      ],
      "metadata": {
        "id": "ScUBcoqmd-pI"
      },
      "execution_count": 15,
      "outputs": []
    },
    {
      "cell_type": "markdown",
      "source": [
        "##### Importando e Criando SparkSession"
      ],
      "metadata": {
        "id": "PMH2RObogDAm"
      }
    },
    {
      "cell_type": "code",
      "source": [
        "from pyspark.sql import SparkSession\n",
        "\n",
        "spark = SparkSession.builder\\\n",
        "        .master(\"local\")\\\n",
        "        .appName(\"monkeypoxcolab\")\\\n",
        "        .config('spark.ui.port', '4050')\\\n",
        "        .getOrCreate()"
      ],
      "metadata": {
        "id": "m5gJp45Xfxff"
      },
      "execution_count": 18,
      "outputs": []
    },
    {
      "cell_type": "code",
      "source": [
        "spark"
      ],
      "metadata": {
        "colab": {
          "base_uri": "https://localhost:8080/",
          "height": 221
        },
        "id": "8g-5wJe2gw8o",
        "outputId": "14b57192-9d2c-4cac-8403-31a62f899d90"
      },
      "execution_count": 19,
      "outputs": [
        {
          "output_type": "execute_result",
          "data": {
            "text/plain": [
              "<pyspark.sql.session.SparkSession at 0x7f74a745cd90>"
            ],
            "text/html": [
              "\n",
              "            <div>\n",
              "                <p><b>SparkSession - in-memory</b></p>\n",
              "                \n",
              "        <div>\n",
              "            <p><b>SparkContext</b></p>\n",
              "\n",
              "            <p><a href=\"http://6d176aa97ed4:4040\">Spark UI</a></p>\n",
              "\n",
              "            <dl>\n",
              "              <dt>Version</dt>\n",
              "                <dd><code>v2.4.4</code></dd>\n",
              "              <dt>Master</dt>\n",
              "                <dd><code>local</code></dd>\n",
              "              <dt>AppName</dt>\n",
              "                <dd><code>monkeypoxcolab</code></dd>\n",
              "            </dl>\n",
              "        </div>\n",
              "        \n",
              "            </div>\n",
              "        "
            ]
          },
          "metadata": {},
          "execution_count": 19
        }
      ]
    },
    {
      "cell_type": "markdown",
      "source": [
        "### Subindo os dados no PySpark"
      ],
      "metadata": {
        "id": "arG-_9ipicb8"
      }
    },
    {
      "cell_type": "code",
      "source": [
        "monkeypoxdf = spark.read.csv(\"/content/drive/MyDrive/Datasets/latest.csv\", sep=\",\", header=True, inferSchema=True)"
      ],
      "metadata": {
        "id": "1A6cAv12hByZ"
      },
      "execution_count": 28,
      "outputs": []
    },
    {
      "cell_type": "markdown",
      "source": [
        "##### Mostrando os detalhes das colunas do dataframe"
      ],
      "metadata": {
        "id": "vU0LDcwkluiL"
      }
    },
    {
      "cell_type": "code",
      "source": [
        "monkeypoxdf.printSchema()"
      ],
      "metadata": {
        "colab": {
          "base_uri": "https://localhost:8080/"
        },
        "id": "uzShb5E_jZ3x",
        "outputId": "7dbf900f-1887-4158-a64c-7bd33f95538d"
      },
      "execution_count": 32,
      "outputs": [
        {
          "output_type": "stream",
          "name": "stdout",
          "text": [
            "root\n",
            " |-- ID: string (nullable = true)\n",
            " |-- Status: string (nullable = true)\n",
            " |-- Location: string (nullable = true)\n",
            " |-- City: string (nullable = true)\n",
            " |-- Country: string (nullable = true)\n",
            " |-- Country_ISO3: string (nullable = true)\n",
            " |-- Age: string (nullable = true)\n",
            " |-- Gender: string (nullable = true)\n",
            " |-- Date_onset: timestamp (nullable = true)\n",
            " |-- Date_confirmation: timestamp (nullable = true)\n",
            " |-- Symptoms: string (nullable = true)\n",
            " |-- Hospitalised (Y/N/NA): string (nullable = true)\n",
            " |-- Date_hospitalisation: timestamp (nullable = true)\n",
            " |-- Isolated (Y/N/NA): string (nullable = true)\n",
            " |-- Date_isolation: timestamp (nullable = true)\n",
            " |-- Outcome: string (nullable = true)\n",
            " |-- Contact_comment: string (nullable = true)\n",
            " |-- Contact_ID: integer (nullable = true)\n",
            " |-- Contact_location: string (nullable = true)\n",
            " |-- Travel_history (Y/N/NA): string (nullable = true)\n",
            " |-- Travel_history_entry: string (nullable = true)\n",
            " |-- Travel_history_start: string (nullable = true)\n",
            " |-- Travel_history_location: string (nullable = true)\n",
            " |-- Travel_history_country: string (nullable = true)\n",
            " |-- Genomics_Metadata: string (nullable = true)\n",
            " |-- Confirmation_method: string (nullable = true)\n",
            " |-- Source: string (nullable = true)\n",
            " |-- Source_II: string (nullable = true)\n",
            " |-- Source_III: string (nullable = true)\n",
            " |-- Source_IV: string (nullable = true)\n",
            " |-- Source_V: string (nullable = true)\n",
            " |-- Source_VI: string (nullable = true)\n",
            " |-- Source_VII: string (nullable = true)\n",
            " |-- Date_entry: timestamp (nullable = true)\n",
            " |-- Date_death: timestamp (nullable = true)\n",
            " |-- Date_last_modified: timestamp (nullable = true)\n",
            "\n"
          ]
        }
      ]
    },
    {
      "cell_type": "markdown",
      "source": [
        "#### Número de linhas no Dataframe \n",
        "##### *número total de casos rastreados no mundo incluindo a universalidade de status (confirmado, descartado, investigando e omit_error)*\n",
        "\n",
        "\n"
      ],
      "metadata": {
        "id": "5OTSTrGwmEF8"
      }
    },
    {
      "cell_type": "code",
      "source": [
        "monkeypoxdf.count()"
      ],
      "metadata": {
        "colab": {
          "base_uri": "https://localhost:8080/"
        },
        "id": "EkJ-lSorlOAQ",
        "outputId": "9c1dd70b-8a44-4a68-d923-0a1641222610"
      },
      "execution_count": 33,
      "outputs": [
        {
          "output_type": "execute_result",
          "data": {
            "text/plain": [
              "49289"
            ]
          },
          "metadata": {},
          "execution_count": 33
        }
      ]
    },
    {
      "cell_type": "code",
      "source": [
        "monkeypoxdf.select(\"Status\").distinct().show()"
      ],
      "metadata": {
        "colab": {
          "base_uri": "https://localhost:8080/"
        },
        "id": "1CftkVYbnXtN",
        "outputId": "7e988b48-688e-4efb-86cb-8cd76e900eef"
      },
      "execution_count": 37,
      "outputs": [
        {
          "output_type": "stream",
          "name": "stdout",
          "text": [
            "+----------+\n",
            "|    Status|\n",
            "+----------+\n",
            "|omit_error|\n",
            "|      null|\n",
            "| suspected|\n",
            "| confirmed|\n",
            "| discarded|\n",
            "+----------+\n",
            "\n"
          ]
        }
      ]
    },
    {
      "cell_type": "markdown",
      "source": [
        "#### Descrevendo aspectos das colunas"
      ],
      "metadata": {
        "id": "R29JWD-YnGit"
      }
    },
    {
      "cell_type": "code",
      "source": [
        "monkeypoxdf.describe().show()"
      ],
      "metadata": {
        "colab": {
          "base_uri": "https://localhost:8080/"
        },
        "id": "Z9MXPX8GmX6R",
        "outputId": "d7017528-9fae-4e41-d688-5c92a5bd4f79"
      },
      "execution_count": 38,
      "outputs": [
        {
          "output_type": "stream",
          "name": "stdout",
          "text": [
            "+-------+--------------------+---------+-------------+-------------+-------+------------+-----+------+--------------------+---------------------+-----------------+---------+--------------------+-----------------+--------------------+-----------------------+--------------------+--------------------+-----------------------+----------------------+--------------------+--------------------+--------------------+--------------------+--------------------+--------------------+--------+---------+----------+\n",
            "|summary|                  ID|   Status|     Location|         City|Country|Country_ISO3|  Age|Gender|            Symptoms|Hospitalised (Y/N/NA)|Isolated (Y/N/NA)|  Outcome|     Contact_comment|       Contact_ID|    Contact_location|Travel_history (Y/N/NA)|Travel_history_entry|Travel_history_start|Travel_history_location|Travel_history_country|   Genomics_Metadata| Confirmation_method|              Source|           Source_II|          Source_III|           Source_IV|Source_V|Source_VI|Source_VII|\n",
            "+-------+--------------------+---------+-------------+-------------+-------+------------+-----+------+--------------------+---------------------+-----------------+---------+--------------------+-----------------+--------------------+-----------------------+--------------------+--------------------+-----------------------+----------------------+--------------------+--------------------+--------------------+--------------------+--------------------+--------------------+--------+---------+----------+\n",
            "|  count|               49289|    49245|        35957|         1273|  49245|       49245| 2747|  2232|                 203|                  303|              425|       90|                  91|               27|                   6|                    343|                  37|                  10|                    107|                    95|                  24|                  99|               49245|                6966|                 838|                  53|       0|        0|         0|\n",
            "|   mean|                null|     null|         null|         null|   null|        null| null|  null|                null|                 null|             null|     null|                null| 5928.62962962963|                null|                   null|                null|                null|                   null|                  null|                null|                null|                null|                null|                null|                null|    null|     null|      null|\n",
            "| stddev|                null|     null|         null|         null|   null|        null| null|  null|                null|                 null|             null|     null|                null|8407.295605366293|                null|                   null|                null|                null|                   null|                  null|                null|                null|                null|                null|                null|                null|    null|     null|      null|\n",
            "|    min|,,,,,,,2022-06-03...|confirmed|         Abia|       Aachen|Andorra|         ABW| 0-14|Female|Fatigue, headache...|                    N|                Y|    Death|1261, 1262, 1263 ...|                2|           Household|                      N|          2022-05-04|          2022-04-28|                 Africa|                Africa|    Genomic sequence|\"\"\"Molecular and ...|http://famagusta-...|http://outbreakne...|http://www.tribun...|https://agenciabr...|    null|     null|      null|\n",
            "|    max|               N9999|suspected|île-de-France|île-de-France| Zambia|         ZMB|70-74| male |      vesicular rash|                    Y|                Y|Recovered| under investigation|            25755|potentially infec...|                      Y|           early May|          late April|   travel within the...|  travel to a count...|https://www.ncbi....|      qPCR or RT-PCR|https://zap.aeiou...|https://www3.nhk....|https://www3.gobi...|https://www.sanid...|    null|     null|      null|\n",
            "+-------+--------------------+---------+-------------+-------------+-------+------------+-----+------+--------------------+---------------------+-----------------+---------+--------------------+-----------------+--------------------+-----------------------+--------------------+--------------------+-----------------------+----------------------+--------------------+--------------------+--------------------+--------------------+--------------------+--------------------+--------+---------+----------+\n",
            "\n"
          ]
        }
      ]
    },
    {
      "cell_type": "code",
      "source": [
        "monkeypoxdf.select(\"Symptoms\").distinct().toPandas()"
      ],
      "metadata": {
        "colab": {
          "base_uri": "https://localhost:8080/",
          "height": 2238
        },
        "id": "Mr-FYacGoQfM",
        "outputId": "39ab89b1-01c5-4952-a497-032373caf265"
      },
      "execution_count": 40,
      "outputs": [
        {
          "output_type": "execute_result",
          "data": {
            "text/plain": [
              "                                             Symptoms\n",
              "0                              headache, skin lesions\n",
              "1                                Perianal rash, fever\n",
              "2      Fever, chills, fatigue, headache, skin lesions\n",
              "3   headache, muscle pain, back pain, vasicular ra...\n",
              "4       fever, outbreak on the skin, hands, and chest\n",
              "..                                                ...\n",
              "94               general weakness, fever, skin rashes\n",
              "95                                     genital ulcers\n",
              "96                                 Fever, skin rashes\n",
              "97                         Rash, muscle ache, fatigue\n",
              "98                 Three lesions typical of monkeypox\n",
              "\n",
              "[99 rows x 1 columns]"
            ],
            "text/html": [
              "\n",
              "  <div id=\"df-0f5bde0d-2888-479f-b491-db7b18659ec7\">\n",
              "    <div class=\"colab-df-container\">\n",
              "      <div>\n",
              "<style scoped>\n",
              "    .dataframe tbody tr th:only-of-type {\n",
              "        vertical-align: middle;\n",
              "    }\n",
              "\n",
              "    .dataframe tbody tr th {\n",
              "        vertical-align: top;\n",
              "    }\n",
              "\n",
              "    .dataframe thead th {\n",
              "        text-align: right;\n",
              "    }\n",
              "</style>\n",
              "<table border=\"1\" class=\"dataframe\">\n",
              "  <thead>\n",
              "    <tr style=\"text-align: right;\">\n",
              "      <th></th>\n",
              "      <th>Symptoms</th>\n",
              "    </tr>\n",
              "  </thead>\n",
              "  <tbody>\n",
              "    <tr>\n",
              "      <th>0</th>\n",
              "      <td>headache, skin lesions</td>\n",
              "    </tr>\n",
              "    <tr>\n",
              "      <th>1</th>\n",
              "      <td>Perianal rash, fever</td>\n",
              "    </tr>\n",
              "    <tr>\n",
              "      <th>2</th>\n",
              "      <td>Fever, chills, fatigue, headache, skin lesions</td>\n",
              "    </tr>\n",
              "    <tr>\n",
              "      <th>3</th>\n",
              "      <td>headache, muscle pain, back pain, vasicular ra...</td>\n",
              "    </tr>\n",
              "    <tr>\n",
              "      <th>4</th>\n",
              "      <td>fever, outbreak on the skin, hands, and chest</td>\n",
              "    </tr>\n",
              "    <tr>\n",
              "      <th>...</th>\n",
              "      <td>...</td>\n",
              "    </tr>\n",
              "    <tr>\n",
              "      <th>94</th>\n",
              "      <td>general weakness, fever, skin rashes</td>\n",
              "    </tr>\n",
              "    <tr>\n",
              "      <th>95</th>\n",
              "      <td>genital ulcers</td>\n",
              "    </tr>\n",
              "    <tr>\n",
              "      <th>96</th>\n",
              "      <td>Fever, skin rashes</td>\n",
              "    </tr>\n",
              "    <tr>\n",
              "      <th>97</th>\n",
              "      <td>Rash, muscle ache, fatigue</td>\n",
              "    </tr>\n",
              "    <tr>\n",
              "      <th>98</th>\n",
              "      <td>Three lesions typical of monkeypox</td>\n",
              "    </tr>\n",
              "  </tbody>\n",
              "</table>\n",
              "<p>99 rows × 1 columns</p>\n",
              "</div>\n",
              "      <button class=\"colab-df-convert\" onclick=\"convertToInteractive('df-0f5bde0d-2888-479f-b491-db7b18659ec7')\"\n",
              "              title=\"Convert this dataframe to an interactive table.\"\n",
              "              style=\"display:none;\">\n",
              "        \n",
              "  <svg xmlns=\"http://www.w3.org/2000/svg\" height=\"24px\"viewBox=\"0 0 24 24\"\n",
              "       width=\"24px\">\n",
              "    <path d=\"M0 0h24v24H0V0z\" fill=\"none\"/>\n",
              "    <path d=\"M18.56 5.44l.94 2.06.94-2.06 2.06-.94-2.06-.94-.94-2.06-.94 2.06-2.06.94zm-11 1L8.5 8.5l.94-2.06 2.06-.94-2.06-.94L8.5 2.5l-.94 2.06-2.06.94zm10 10l.94 2.06.94-2.06 2.06-.94-2.06-.94-.94-2.06-.94 2.06-2.06.94z\"/><path d=\"M17.41 7.96l-1.37-1.37c-.4-.4-.92-.59-1.43-.59-.52 0-1.04.2-1.43.59L10.3 9.45l-7.72 7.72c-.78.78-.78 2.05 0 2.83L4 21.41c.39.39.9.59 1.41.59.51 0 1.02-.2 1.41-.59l7.78-7.78 2.81-2.81c.8-.78.8-2.07 0-2.86zM5.41 20L4 18.59l7.72-7.72 1.47 1.35L5.41 20z\"/>\n",
              "  </svg>\n",
              "      </button>\n",
              "      \n",
              "  <style>\n",
              "    .colab-df-container {\n",
              "      display:flex;\n",
              "      flex-wrap:wrap;\n",
              "      gap: 12px;\n",
              "    }\n",
              "\n",
              "    .colab-df-convert {\n",
              "      background-color: #E8F0FE;\n",
              "      border: none;\n",
              "      border-radius: 50%;\n",
              "      cursor: pointer;\n",
              "      display: none;\n",
              "      fill: #1967D2;\n",
              "      height: 32px;\n",
              "      padding: 0 0 0 0;\n",
              "      width: 32px;\n",
              "    }\n",
              "\n",
              "    .colab-df-convert:hover {\n",
              "      background-color: #E2EBFA;\n",
              "      box-shadow: 0px 1px 2px rgba(60, 64, 67, 0.3), 0px 1px 3px 1px rgba(60, 64, 67, 0.15);\n",
              "      fill: #174EA6;\n",
              "    }\n",
              "\n",
              "    [theme=dark] .colab-df-convert {\n",
              "      background-color: #3B4455;\n",
              "      fill: #D2E3FC;\n",
              "    }\n",
              "\n",
              "    [theme=dark] .colab-df-convert:hover {\n",
              "      background-color: #434B5C;\n",
              "      box-shadow: 0px 1px 3px 1px rgba(0, 0, 0, 0.15);\n",
              "      filter: drop-shadow(0px 1px 2px rgba(0, 0, 0, 0.3));\n",
              "      fill: #FFFFFF;\n",
              "    }\n",
              "  </style>\n",
              "\n",
              "      <script>\n",
              "        const buttonEl =\n",
              "          document.querySelector('#df-0f5bde0d-2888-479f-b491-db7b18659ec7 button.colab-df-convert');\n",
              "        buttonEl.style.display =\n",
              "          google.colab.kernel.accessAllowed ? 'block' : 'none';\n",
              "\n",
              "        async function convertToInteractive(key) {\n",
              "          const element = document.querySelector('#df-0f5bde0d-2888-479f-b491-db7b18659ec7');\n",
              "          const dataTable =\n",
              "            await google.colab.kernel.invokeFunction('convertToInteractive',\n",
              "                                                     [key], {});\n",
              "          if (!dataTable) return;\n",
              "\n",
              "          const docLinkHtml = 'Like what you see? Visit the ' +\n",
              "            '<a target=\"_blank\" href=https://colab.research.google.com/notebooks/data_table.ipynb>data table notebook</a>'\n",
              "            + ' to learn more about interactive tables.';\n",
              "          element.innerHTML = '';\n",
              "          dataTable['output_type'] = 'display_data';\n",
              "          await google.colab.output.renderOutput(dataTable, element);\n",
              "          const docLink = document.createElement('div');\n",
              "          docLink.innerHTML = docLinkHtml;\n",
              "          element.appendChild(docLink);\n",
              "        }\n",
              "      </script>\n",
              "    </div>\n",
              "  </div>\n",
              "  "
            ]
          },
          "metadata": {},
          "execution_count": 40
        }
      ]
    },
    {
      "cell_type": "code",
      "source": [],
      "metadata": {
        "id": "PWAidg52hdAw"
      },
      "execution_count": null,
      "outputs": []
    }
  ]
}