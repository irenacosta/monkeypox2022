{
  "nbformat": 4,
  "nbformat_minor": 0,
  "metadata": {
    "colab": {
      "name": "monkeypox2022.ipynb",
      "provenance": [],
      "collapsed_sections": []
    },
    "kernelspec": {
      "name": "python3",
      "display_name": "Python 3"
    },
    "language_info": {
      "name": "python"
    }
  },
  "cells": [
    {
      "cell_type": "code",
      "source": [
        "!pip install pyspark"
      ],
      "metadata": {
        "colab": {
          "base_uri": "https://localhost:8080/"
        },
        "id": "CdJvROpz6bk-",
        "outputId": "dbdaa65e-4062-4f09-8fe1-68689e2bc740"
      },
      "execution_count": 1,
      "outputs": [
        {
          "output_type": "stream",
          "name": "stdout",
          "text": [
            "Looking in indexes: https://pypi.org/simple, https://us-python.pkg.dev/colab-wheels/public/simple/\n",
            "Requirement already satisfied: pyspark in /usr/local/lib/python3.7/dist-packages (3.3.0)\n",
            "Requirement already satisfied: py4j==0.10.9.5 in /usr/local/lib/python3.7/dist-packages (from pyspark) (0.10.9.5)\n"
          ]
        }
      ]
    },
    {
      "cell_type": "markdown",
      "source": [
        "### Conectando o Google Drive ao Colab"
      ],
      "metadata": {
        "id": "Ry84gtoeWSiJ"
      }
    },
    {
      "cell_type": "code",
      "execution_count": 2,
      "metadata": {
        "colab": {
          "base_uri": "https://localhost:8080/"
        },
        "id": "rUE1GOHtWNZS",
        "outputId": "1b230d15-5878-4663-bac7-b6714ee686e1"
      },
      "outputs": [
        {
          "output_type": "stream",
          "name": "stdout",
          "text": [
            "Drive already mounted at /content/drive; to attempt to forcibly remount, call drive.mount(\"/content/drive\", force_remount=True).\n"
          ]
        }
      ],
      "source": [
        "from google.colab import drive\n",
        "drive.mount('/content/drive')"
      ]
    },
    {
      "cell_type": "markdown",
      "source": [
        "### Configurando PySpark no Google Colab"
      ],
      "metadata": {
        "id": "8UZcbbjIa3MI"
      }
    },
    {
      "cell_type": "markdown",
      "source": [
        "##### Instalação das dependências"
      ],
      "metadata": {
        "id": "75boISXEe1YA"
      }
    },
    {
      "cell_type": "code",
      "source": [
        "!apt-get install openjdk-8-jdk-headless -qq > /dev/null\n",
        "!wget -q https://archive.apache.org/dist/spark/spark-2.4.4/spark-2.4.4-bin-hadoop2.7.tgz\n",
        "!tar xf spark-2.4.4-bin-hadoop2.7.tgz\n",
        "!pip install -q findspark"
      ],
      "metadata": {
        "id": "Qv7Z1C8AZ9dR"
      },
      "execution_count": 3,
      "outputs": []
    },
    {
      "cell_type": "markdown",
      "source": [
        "##### Configurando as variáveis do ambiente"
      ],
      "metadata": {
        "id": "5_Co2gxffgUY"
      }
    },
    {
      "cell_type": "code",
      "source": [
        "import os\n",
        "os.environ[\"JAVA_HOME\"] = \"/usr/lib/jvm/java-8-openjdk-amd64\"\n",
        "os.environ[\"SPARK_HOME\"] = \"/content/spark-2.4.4-bin-hadoop2.7\"\n",
        "\n",
        "# tornar o pyspark \"importável\"\n",
        "import findspark\n",
        "findspark.init('spark-2.4.4-bin-hadoop2.7')"
      ],
      "metadata": {
        "id": "ScUBcoqmd-pI"
      },
      "execution_count": 4,
      "outputs": []
    },
    {
      "cell_type": "markdown",
      "source": [
        "##### Importando e Criando SparkSession"
      ],
      "metadata": {
        "id": "PMH2RObogDAm"
      }
    },
    {
      "cell_type": "code",
      "source": [
        "from pyspark.sql import SparkSession\n",
        "\n",
        "spark = SparkSession.builder\\\n",
        "        .master(\"local\")\\\n",
        "        .appName(\"monkeypoxcolab\")\\\n",
        "        .config('spark.ui.port', '4050')\\\n",
        "        .getOrCreate()"
      ],
      "metadata": {
        "id": "m5gJp45Xfxff"
      },
      "execution_count": 5,
      "outputs": []
    },
    {
      "cell_type": "code",
      "source": [
        "spark"
      ],
      "metadata": {
        "colab": {
          "base_uri": "https://localhost:8080/",
          "height": 219
        },
        "id": "8g-5wJe2gw8o",
        "outputId": "947f1f05-04c7-462b-8cea-bc52fc8abb64"
      },
      "execution_count": 6,
      "outputs": [
        {
          "output_type": "execute_result",
          "data": {
            "text/plain": [
              "<pyspark.sql.session.SparkSession at 0x7f69b62f1650>"
            ],
            "text/html": [
              "\n",
              "            <div>\n",
              "                <p><b>SparkSession - in-memory</b></p>\n",
              "                \n",
              "        <div>\n",
              "            <p><b>SparkContext</b></p>\n",
              "\n",
              "            <p><a href=\"http://2d59dcb74404:4050\">Spark UI</a></p>\n",
              "\n",
              "            <dl>\n",
              "              <dt>Version</dt>\n",
              "                <dd><code>v2.4.4</code></dd>\n",
              "              <dt>Master</dt>\n",
              "                <dd><code>local</code></dd>\n",
              "              <dt>AppName</dt>\n",
              "                <dd><code>monkeypoxcolab</code></dd>\n",
              "            </dl>\n",
              "        </div>\n",
              "        \n",
              "            </div>\n",
              "        "
            ]
          },
          "metadata": {},
          "execution_count": 6
        }
      ]
    },
    {
      "cell_type": "markdown",
      "source": [
        "##### Instalando bibliotecas"
      ],
      "metadata": {
        "id": "TySwYdIOm0-T"
      }
    },
    {
      "cell_type": "code",
      "source": [
        "from pyspark.sql.types import *\n",
        "from pyspark.sql.functions import *\n",
        "from pyspark.sql import functions as f\n",
        "from IPython.core.display import HTML"
      ],
      "metadata": {
        "id": "j8LiFonxm0c9"
      },
      "execution_count": 7,
      "outputs": []
    },
    {
      "cell_type": "markdown",
      "source": [
        "### Carregando o dataset localizado no Google Drive"
      ],
      "metadata": {
        "id": "arG-_9ipicb8"
      }
    },
    {
      "cell_type": "code",
      "source": [
        "monkeypoxdf = spark.read.csv(\"/content/drive/MyDrive/Datasets/latest.csv\", sep=\",\", header=True, inferSchema=True)"
      ],
      "metadata": {
        "id": "1A6cAv12hByZ"
      },
      "execution_count": 8,
      "outputs": []
    },
    {
      "cell_type": "markdown",
      "source": [
        "##### Mostrando os detalhes das colunas do dataframe"
      ],
      "metadata": {
        "id": "vU0LDcwkluiL"
      }
    },
    {
      "cell_type": "code",
      "source": [
        "monkeypoxdf.printSchema()"
      ],
      "metadata": {
        "colab": {
          "base_uri": "https://localhost:8080/"
        },
        "id": "uzShb5E_jZ3x",
        "outputId": "50aa84e1-b523-4c4b-9f01-696c9029366f"
      },
      "execution_count": 9,
      "outputs": [
        {
          "output_type": "stream",
          "name": "stdout",
          "text": [
            "root\n",
            " |-- ID: string (nullable = true)\n",
            " |-- Status: string (nullable = true)\n",
            " |-- Location: string (nullable = true)\n",
            " |-- City: string (nullable = true)\n",
            " |-- Country: string (nullable = true)\n",
            " |-- Country_ISO3: string (nullable = true)\n",
            " |-- Age: string (nullable = true)\n",
            " |-- Gender: string (nullable = true)\n",
            " |-- Date_onset: timestamp (nullable = true)\n",
            " |-- Date_confirmation: timestamp (nullable = true)\n",
            " |-- Symptoms: string (nullable = true)\n",
            " |-- Hospitalised (Y/N/NA): string (nullable = true)\n",
            " |-- Date_hospitalisation: timestamp (nullable = true)\n",
            " |-- Isolated (Y/N/NA): string (nullable = true)\n",
            " |-- Date_isolation: timestamp (nullable = true)\n",
            " |-- Outcome: string (nullable = true)\n",
            " |-- Contact_comment: string (nullable = true)\n",
            " |-- Contact_ID: integer (nullable = true)\n",
            " |-- Contact_location: string (nullable = true)\n",
            " |-- Travel_history (Y/N/NA): string (nullable = true)\n",
            " |-- Travel_history_entry: string (nullable = true)\n",
            " |-- Travel_history_start: string (nullable = true)\n",
            " |-- Travel_history_location: string (nullable = true)\n",
            " |-- Travel_history_country: string (nullable = true)\n",
            " |-- Genomics_Metadata: string (nullable = true)\n",
            " |-- Confirmation_method: string (nullable = true)\n",
            " |-- Source: string (nullable = true)\n",
            " |-- Source_II: string (nullable = true)\n",
            " |-- Source_III: string (nullable = true)\n",
            " |-- Source_IV: string (nullable = true)\n",
            " |-- Source_V: string (nullable = true)\n",
            " |-- Source_VI: string (nullable = true)\n",
            " |-- Source_VII: string (nullable = true)\n",
            " |-- Date_entry: timestamp (nullable = true)\n",
            " |-- Date_death: timestamp (nullable = true)\n",
            " |-- Date_last_modified: timestamp (nullable = true)\n",
            "\n"
          ]
        }
      ]
    },
    {
      "cell_type": "markdown",
      "source": [
        "##### Renomeando as colunas"
      ],
      "metadata": {
        "id": "lEQclRieKXQr"
      }
    },
    {
      "cell_type": "code",
      "source": [
        "newmonkeypoxdf = monkeypoxdf.withColumnRenamed(\"Location\", \"Localizacao\") \\\n",
        "              .withColumnRenamed(\"City\", \"Cidade\") \\\n",
        "              .withColumnRenamed(\"Country\", \"Pais\") \\\n",
        "              .withColumnRenamed(\"Country_ISO3\", \"Cod_ISO3\") \\\n",
        "              .withColumnRenamed(\"Age\", \"Idade\") \\\n",
        "              .withColumnRenamed(\"Gender\", \"Sexo\") \\\n",
        "              .withColumnRenamed(\"Date_onset\", \"Data_entrada_sistema\") \\\n",
        "              .withColumnRenamed(\"Date_confirmation\", \"Data_confirmacao\") \\\n",
        "              .withColumnRenamed(\"Symptoms\", \"Sintomas\") \\\n",
        "              .withColumnRenamed(\"Hospitalised (Y/N/NA)\", \"Hospitalizado\") \\\n",
        "              .withColumnRenamed(\"Date_hospitalisation\", \"Data_internacao\") \\\n",
        "              .withColumnRenamed(\"Isolated (Y/N/NA)\", \"Em_isolamento\") \\\n",
        "              .withColumnRenamed(\"Date_isolation\", \"Data_isolamento\") \\\n",
        "              .withColumnRenamed(\"Outcome\", \"Detectado\") \\\n",
        "              .withColumnRenamed(\"Contact_comment\", \"Comentarios_contato\") \\\n",
        "              .withColumnRenamed(\"Contact_ID\", \"Identidade_Contato\") \\\n",
        "              .withColumnRenamed(\"Contact_location\", \"Cidade_contato\") \\\n",
        "              .withColumnRenamed(\"Travel_history (Y/N/NA)\", \"Viajou\") \\\n",
        "              .withColumnRenamed(\"Travel_history_entry\", \"Data_viagem\") \\\n",
        "              .withColumnRenamed(\"Travel_history_start\", \"Data_inicio_viagem\") \\\n",
        "              .withColumnRenamed(\"Travel_history_location\", \"Localidade_visitada\") \\\n",
        "              .withColumnRenamed(\"Travel_history_country\", \"País_visitado\") \\\n",
        "              .withColumnRenamed(\"Genomics_Metadata\", \"Genoma_virus\") \\\n",
        "              .withColumnRenamed(\"Confirmation_method\", \"Metodo_confirmacao\") \\\n",
        "              .withColumnRenamed(\"Source\", \"Fonte\") \\\n",
        "              .withColumnRenamed(\"Source_II\", \"Fonte_II\") \\\n",
        "              .withColumnRenamed(\"Source_III\", \"Fonte_III\") \\\n",
        "              .withColumnRenamed(\"Source_IV\", \"Fonte_IV\") \\\n",
        "              .withColumnRenamed(\"Source_V\", \"Fonte_V\") \\\n",
        "              .withColumnRenamed(\"Source_VI\", \"Fonte_VI\") \\\n",
        "              .withColumnRenamed(\"Source_VII\", \"Fonte_VII\") \\\n",
        "              .withColumnRenamed(\"Date_entry\", \"Data_registro\") \\\n",
        "              .withColumnRenamed(\"Date_death\", \"Data_obito\") \\\n",
        "              .withColumnRenamed(\"Date_last_modified\", \"Data_ultima_atualizacao\")\n",
        "newmonkeypoxdf.printSchema()"
      ],
      "metadata": {
        "colab": {
          "base_uri": "https://localhost:8080/"
        },
        "id": "dZsxqb7hAQej",
        "outputId": "a9c2f9b2-4bfb-43f6-ba45-2dee1aaa11c9"
      },
      "execution_count": 58,
      "outputs": [
        {
          "output_type": "stream",
          "name": "stdout",
          "text": [
            "root\n",
            " |-- ID: string (nullable = true)\n",
            " |-- Status: string (nullable = true)\n",
            " |-- Localizacao: string (nullable = true)\n",
            " |-- Cidade: string (nullable = true)\n",
            " |-- Pais: string (nullable = true)\n",
            " |-- Cod_ISO3: string (nullable = true)\n",
            " |-- Idade: string (nullable = true)\n",
            " |-- Sexo: string (nullable = true)\n",
            " |-- Data_entrada_sistema: timestamp (nullable = true)\n",
            " |-- Data_confirmacao: timestamp (nullable = true)\n",
            " |-- Sintomas: string (nullable = true)\n",
            " |-- Hospitalizado: string (nullable = true)\n",
            " |-- Data_internacao: timestamp (nullable = true)\n",
            " |-- Em_isolamento: string (nullable = true)\n",
            " |-- Data_isolamento: timestamp (nullable = true)\n",
            " |-- Detectado: string (nullable = true)\n",
            " |-- Comentarios_contato: string (nullable = true)\n",
            " |-- Identidade_Contato: integer (nullable = true)\n",
            " |-- Cidade_contato: string (nullable = true)\n",
            " |-- Viajou: string (nullable = true)\n",
            " |-- Data_viagem: string (nullable = true)\n",
            " |-- Data_inicio_viagem: string (nullable = true)\n",
            " |-- Localidade_visitada: string (nullable = true)\n",
            " |-- País_visitado: string (nullable = true)\n",
            " |-- Genoma_virus: string (nullable = true)\n",
            " |-- Metodo_confirmacao: string (nullable = true)\n",
            " |-- Fonte: string (nullable = true)\n",
            " |-- Fonte_II: string (nullable = true)\n",
            " |-- Fonte_III: string (nullable = true)\n",
            " |-- Fonte_IV: string (nullable = true)\n",
            " |-- Fonte_V: string (nullable = true)\n",
            " |-- Fonte_VI: string (nullable = true)\n",
            " |-- Fonte_VII: string (nullable = true)\n",
            " |-- Data_registro: timestamp (nullable = true)\n",
            " |-- Data_obito: timestamp (nullable = true)\n",
            " |-- Data_ultima_atualizacao: timestamp (nullable = true)\n",
            "\n"
          ]
        }
      ]
    },
    {
      "cell_type": "code",
      "source": [
        "newmonkeypoxdf.show()"
      ],
      "metadata": {
        "colab": {
          "base_uri": "https://localhost:8080/"
        },
        "id": "10S-yfdI3iKK",
        "outputId": "2e3e129e-2124-4c8e-87e1-6cad74eb9b6c"
      },
      "execution_count": 56,
      "outputs": [
        {
          "output_type": "stream",
          "name": "stdout",
          "text": [
            "+---+---------+--------------------+---------+--------+--------+-----+----+--------------------+-------------------+--------------------+-------------+-------------------+-------------+-------------------+---------+--------------------+------------------+--------------+------+-----------+------------------+--------------------+-------------+------------------+------------------+--------------------+--------------------+---------+--------+-------+--------+---------+-------------------+----------+-----------------------+\n",
            "| ID|   Status|         Localizacao|   Cidade|    País|Cod_ISO3|Idade|Sexo|Data_entrada_sistema|   Data_confirmacao|            Sintomas|Hospitalizado|    Data_internacao|Em_isolamento|    Data_isolamento|Detectado| Comentarios_contato|Identidade_Contato|Cidade_contato|Viajou|Data_viagem|Data_inicio_viagem| Localidade_visitada|País_visitado|      Genoma_vírus|Metodo_confirmacao|               Fonte|            Fonte_II|Fonte_III|Fonte_IV|Fonte_V|Fonte_VI|Fonte_VII|      Data_registro|Data_obito|Data_ultima_atualizacao|\n",
            "+---+---------+--------------------+---------+--------+--------+-----+----+--------------------+-------------------+--------------------+-------------+-------------------+-------------+-------------------+---------+--------------------+------------------+--------------+------+-----------+------------------+--------------------+-------------+------------------+------------------+--------------------+--------------------+---------+--------+-------+--------+---------+-------------------+----------+-----------------------+\n",
            "| N1|confirmed|Guy's and St Thom...|   London| England|     GBR| null|null| 2022-04-29 00:00:00|2022-05-06 00:00:00|                rash|            Y|2022-05-04 00:00:00|            Y|2022-05-04 00:00:00|     null|                null|              null|          null|     Y| 2022-05-04|        late April|Lagos and Delta S...|      Nigeria|West African Clade|            RT-PCR|https://www.gov.u...|https://www.who.i...|     null|    null|   null|    null|     null|2022-05-18 00:00:00|      null|    2022-05-18 00:00:00|\n",
            "| N2|confirmed|Guy's and St Thom...|   London| England|     GBR| null|null| 2022-05-05 00:00:00|2022-05-12 00:00:00|                rash|            Y|2022-05-06 00:00:00|            Y|2022-05-09 00:00:00|     null|Index Case of hou...|                 3|     Household|     N|       null|              null|                null|         null|West African Clade|            RT-PCR|https://www.gov.u...|                null|     null|    null|   null|    null|     null|2022-05-18 00:00:00|      null|    2022-05-18 00:00:00|\n",
            "| N3|confirmed|              London|   London| England|     GBR| null|null| 2022-04-30 00:00:00|2022-05-13 00:00:00|      vesicular rash|            N|               null|            Y|               null|     null|                null|                 2|     Household|     N|       null|              null|                null|         null|West African Clade|            RT-PCR|https://www.gov.u...|                null|     null|    null|   null|    null|     null|2022-05-18 00:00:00|      null|    2022-05-18 00:00:00|\n",
            "| N4|confirmed|              London|   London| England|     GBR| null|male|                null|2022-05-15 00:00:00|      vesicular rash|            Y|               null|            Y|               null|     null| Under investigation|              null|          null|     N|       null|              null|                null|         null|West African Clade|              null|https://www.gov.u...|                null|     null|    null|   null|    null|     null|2022-05-18 00:00:00|      null|    2022-05-18 00:00:00|\n",
            "| N5|confirmed|              London|   London| England|     GBR| null|male|                null|2022-05-15 00:00:00|      vesicular rash|            Y|               null|            Y|               null|     null| Under investigation|              null|          null|     N|       null|              null|                null|         null|West African Clade|              null|https://www.gov.u...|                null|     null|    null|   null|    null|     null|2022-05-18 00:00:00|      null|    2022-05-18 00:00:00|\n",
            "| N6|confirmed|              London|   London| England|     GBR| null|male|                null|2022-05-15 00:00:00|      vesicular rash|         null|               null|            Y|               null|     null| Under investigation|              null|          null|     N|       null|              null|                null|         null|West African Clade|              null|https://www.gov.u...|                null|     null|    null|   null|    null|     null|2022-05-18 00:00:00|      null|    2022-05-18 00:00:00|\n",
            "| N7|confirmed|           Newcastle|Newcastle| England|     GBR| null|male|                null|2022-05-15 00:00:00|      vesicular rash|            Y|               null|            Y|               null|     null| Under investigation|              null|          null|     Y|       null|              null|              London|      England|West African Clade|              null|https://www.gov.u...|                null|     null|    null|   null|    null|     null|2022-05-18 00:00:00|      null|    2022-05-18 00:00:00|\n",
            "| N8|confirmed|              Lisbon|   Lisbon|Portugal|     PRT|20-44|male|                null|2022-05-17 00:00:00|skin lesions, ulc...|            N|               null|         null|               null|     null| Under investigation|              null|          null|     N|       null|              null|                null|         null|West African Clade|              null|https://cnnportug...|                null|     null|    null|   null|    null|     null|2022-05-18 00:00:00|      null|    2022-05-20 00:00:00|\n",
            "| N9|confirmed|              Lisbon|   Lisbon|Portugal|     PRT|20-44|male|                null|2022-05-17 00:00:00|skin lesions, ulc...|            N|               null|         null|               null|     null| Under investigation|              null|          null|     N|       null|              null|                null|         null|              null|              null|https://cnnportug...|                null|     null|    null|   null|    null|     null|2022-05-18 00:00:00|      null|    2022-05-18 00:00:00|\n",
            "|N10|confirmed|              Lisbon|   Lisbon|Portugal|     PRT|20-44|male|                null|2022-05-17 00:00:00|skin lesions, ulc...|            N|               null|         null|               null|     null| Under investigation|              null|          null|     N|       null|              null|                null|         null|              null|              null|https://cnnportug...|                null|     null|    null|   null|    null|     null|2022-05-18 00:00:00|      null|    2022-05-18 00:00:00|\n",
            "|N11|confirmed|              Lisbon|   Lisbon|Portugal|     PRT|20-44|male|                null|2022-05-18 00:00:00|skin lesions, ulc...|            N|               null|         null|               null|     null| Under investigation|              null|          null|     N|       null|              null|                null|         null|              null|              null|https://cnnportug...|                null|     null|    null|   null|    null|     null|2022-05-18 00:00:00|      null|    2022-05-18 00:00:00|\n",
            "|N12|confirmed|              Lisbon|   Lisbon|Portugal|     PRT|20-44|male|                null|2022-05-18 00:00:00|skin lesions, ulc...|            N|               null|         null|               null|     null| Under investigation|              null|          null|     N|       null|              null|                null|         null|              null|              null|https://cnnportug...|                null|     null|    null|   null|    null|     null|2022-05-18 00:00:00|      null|    2022-05-18 00:00:00|\n",
            "|N13|confirmed|Lisbon and Tagus ...|   Lisbon|Portugal|     PRT|20-44|male|                null|2022-05-18 00:00:00|  ulcerative lesions|            N|               null|         null|               null|     null|                null|              null|          null|     N|       null|              null|                null|         null|              null|              null|https://cnnportug...|https://web.archi...|     null|    null|   null|    null|     null|2022-05-18 00:00:00|      null|    2022-05-18 00:00:00|\n",
            "|N14|confirmed|Lisbon and Tagus ...|   Lisbon|Portugal|     PRT|20-44|male|                null|2022-05-18 00:00:00|  ulcerative lesions|            N|               null|         null|               null|     null|                null|              null|          null|     N|       null|              null|                null|         null|              null|              null|https://cnnportug...|https://web.archi...|     null|    null|   null|    null|     null|2022-05-18 00:00:00|      null|    2022-05-18 00:00:00|\n",
            "|N15|confirmed|Lisbon and Tagus ...|   Lisbon|Portugal|     PRT|20-44|male|                null|2022-05-18 00:00:00|  ulcerative lesions|            N|               null|         null|               null|     null|                null|              null|          null|     N|       null|              null|                null|         null|              null|              null|https://cnnportug...|https://web.archi...|     null|    null|   null|    null|     null|2022-05-18 00:00:00|      null|    2022-05-18 00:00:00|\n",
            "|N16|confirmed|Lisbon and Tagus ...|   Lisbon|Portugal|     PRT|20-44|male|                null|2022-05-18 00:00:00|  ulcerative lesions|            N|               null|         null|               null|     null|                null|              null|          null|     N|       null|              null|                null|         null|              null|              null|https://cnnportug...|https://web.archi...|     null|    null|   null|    null|     null|2022-05-18 00:00:00|      null|    2022-05-18 00:00:00|\n",
            "|N17|confirmed|Lisbon and Tagus ...|   Lisbon|Portugal|     PRT|20-44|male|                null|2022-05-18 00:00:00|  ulcerative lesions|            N|               null|         null|               null|     null|                null|              null|          null|     N|       null|              null|                null|         null|              null|              null|https://cnnportug...|https://web.archi...|     null|    null|   null|    null|     null|2022-05-18 00:00:00|      null|    2022-05-18 00:00:00|\n",
            "|N18|confirmed|Lisbon and Tagus ...|   Lisbon|Portugal|     PRT|20-44|male|                null|2022-05-18 00:00:00|  ulcerative lesions|            N|               null|         null|               null|     null|                null|              null|          null|     N|       null|              null|                null|         null|              null|              null|https://cnnportug...|https://web.archi...|     null|    null|   null|    null|     null|2022-05-18 00:00:00|      null|    2022-05-18 00:00:00|\n",
            "|N19|confirmed|Lisbon and Tagus ...|   Lisbon|Portugal|     PRT|20-44|male|                null|2022-05-18 00:00:00|  ulcerative lesions|            N|               null|         null|               null|     null|                null|              null|          null|     N|       null|              null|                null|         null|              null|              null|https://cnnportug...|https://web.archi...|     null|    null|   null|    null|     null|2022-05-18 00:00:00|      null|    2022-05-18 00:00:00|\n",
            "|N20|confirmed|Lisbon and Tagus ...|   Lisbon|Portugal|     PRT|20-44|male|                null|2022-05-18 00:00:00|  ulcerative lesions|            N|               null|         null|               null|     null|                null|              null|          null|     N|       null|              null|                null|         null|              null|              null|https://cnnportug...|https://web.archi...|     null|    null|   null|    null|     null|2022-05-18 00:00:00|      null|    2022-05-18 00:00:00|\n",
            "+---+---------+--------------------+---------+--------+--------+-----+----+--------------------+-------------------+--------------------+-------------+-------------------+-------------+-------------------+---------+--------------------+------------------+--------------+------+-----------+------------------+--------------------+-------------+------------------+------------------+--------------------+--------------------+---------+--------+-------+--------+---------+-------------------+----------+-----------------------+\n",
            "only showing top 20 rows\n",
            "\n"
          ]
        }
      ]
    },
    {
      "cell_type": "code",
      "source": [
        "newmonkeypoxdf.createOrReplaceTempView(\"MonkeyPox\")\n",
        "spark.sql(\"select ID, Status, Cidade, Pais, Idade, Sexo, Data_confirmacao, Sintomas from MonkeyPox ORDER BY Data_confirmacao asc\").show(truncate=True)"
      ],
      "metadata": {
        "colab": {
          "base_uri": "https://localhost:8080/"
        },
        "id": "JXfDa7iV4Bck",
        "outputId": "f49439ab-5bcf-498a-dd04-e8e4858e7688"
      },
      "execution_count": 59,
      "outputs": [
        {
          "output_type": "stream",
          "name": "stdout",
          "text": [
            "+----+---------+-------------+-------+-----+------+----------------+--------------------+\n",
            "|  ID|   Status|       Cidade|   Pais|Idade|  Sexo|Data_confirmacao|            Sintomas|\n",
            "+----+---------+-------------+-------+-----+------+----------------+--------------------+\n",
            "|N111|discarded|Costa del Sol|  Spain| null|  null|            null|                null|\n",
            "|N321|discarded|         null| Israel| null|  null|            null|                null|\n",
            "|N138|discarded|         null|  Spain| null|  null|            null|                null|\n",
            "|N254|discarded|         null|  Spain| null|  null|            null|                null|\n",
            "|N255|discarded|         null|Morocco| null|  null|            null|                null|\n",
            "|N182|discarded|         null|  Spain| null|  null|            null|                null|\n",
            "|N183|discarded|         null|  Spain| null|  null|            null|                null|\n",
            "|N184|discarded|         null|  Spain| null|  null|            null|                null|\n",
            "|N187|discarded|    Kefalonia| Greece| null|  male|            null|         skin rashes|\n",
            "|N188|discarded|     Ashkelon| Israel|25-29|  male|            null|                null|\n",
            "|N204|discarded| Gran Canaria|  Spain| null|  null|            null|                null|\n",
            "|N247|discarded|Fuerteventura|  Spain| null|  null|            null|                null|\n",
            "|N320|discarded|   Valladolid|  Spain| null|  null|            null|                null|\n",
            "|N140|discarded|         null|  Spain| null|female|            null|                null|\n",
            "|N256|discarded|         null|Morocco| null|  null|            null|                null|\n",
            "|N257|discarded|         null|Morocco| null|  null|            null|                null|\n",
            "|N267|discarded|       Malaga|  Spain| null|  male|            null|                null|\n",
            "|N268|discarded|       Malaga|  Spain| null|  male|            null|                null|\n",
            "|N290|discarded|      Palermo|  Italy|15-19|  male|            null|fever, pustules o...|\n",
            "|N291|discarded|    Canicatti|  Italy|30-34|  male|            null|fever, pustules o...|\n",
            "+----+---------+-------------+-------+-----+------+----------------+--------------------+\n",
            "only showing top 20 rows\n",
            "\n"
          ]
        }
      ]
    },
    {
      "cell_type": "markdown",
      "source": [
        "#### Número de linhas no Dataframe \n",
        "##### *número total de casos rastreados no mundo incluindo a universalidade de status (confirmado, descartado, investigando e omit_error)*\n",
        "\n",
        "\n"
      ],
      "metadata": {
        "id": "5OTSTrGwmEF8"
      }
    },
    {
      "cell_type": "code",
      "source": [
        "newmonkeypoxdf.count()"
      ],
      "metadata": {
        "colab": {
          "base_uri": "https://localhost:8080/"
        },
        "id": "EkJ-lSorlOAQ",
        "outputId": "31cd5966-f26f-4b9d-dbc5-99610809fcb2"
      },
      "execution_count": 60,
      "outputs": [
        {
          "output_type": "execute_result",
          "data": {
            "text/plain": [
              "49289"
            ]
          },
          "metadata": {},
          "execution_count": 60
        }
      ]
    },
    {
      "cell_type": "code",
      "source": [
        "newmonkeypoxdf.select(\"Status\").distinct().show()"
      ],
      "metadata": {
        "colab": {
          "base_uri": "https://localhost:8080/"
        },
        "id": "1CftkVYbnXtN",
        "outputId": "99304d9b-644c-439a-d60d-7385a5ecc1c0"
      },
      "execution_count": 61,
      "outputs": [
        {
          "output_type": "stream",
          "name": "stdout",
          "text": [
            "+----------+\n",
            "|    Status|\n",
            "+----------+\n",
            "|omit_error|\n",
            "|      null|\n",
            "| suspected|\n",
            "| confirmed|\n",
            "| discarded|\n",
            "+----------+\n",
            "\n"
          ]
        }
      ]
    },
    {
      "cell_type": "markdown",
      "source": [
        "#### Descrevendo aspectos das colunas"
      ],
      "metadata": {
        "id": "R29JWD-YnGit"
      }
    },
    {
      "cell_type": "code",
      "source": [
        "newmonkeypoxdf.describe().show()"
      ],
      "metadata": {
        "colab": {
          "base_uri": "https://localhost:8080/"
        },
        "id": "Z9MXPX8GmX6R",
        "outputId": "8e80d09d-4b6a-4dd0-dcd8-d71ed4603451"
      },
      "execution_count": 62,
      "outputs": [
        {
          "output_type": "stream",
          "name": "stdout",
          "text": [
            "+-------+--------------------+---------+-------------+-------------+-------+--------+-----+------+--------------------+-------------+-------------+---------+--------------------+------------------+--------------------+------+-----------+------------------+--------------------+--------------------+--------------------+--------------------+--------------------+--------------------+--------------------+--------------------+-------+--------+---------+\n",
            "|summary|                  ID|   Status|  Localizacao|       Cidade|   Pais|Cod_ISO3|Idade|  Sexo|            Sintomas|Hospitalizado|Em_isolamento|Detectado| Comentarios_contato|Identidade_Contato|      Cidade_contato|Viajou|Data_viagem|Data_inicio_viagem| Localidade_visitada|       País_visitado|        Genoma_virus|  Metodo_confirmacao|               Fonte|            Fonte_II|           Fonte_III|            Fonte_IV|Fonte_V|Fonte_VI|Fonte_VII|\n",
            "+-------+--------------------+---------+-------------+-------------+-------+--------+-----+------+--------------------+-------------+-------------+---------+--------------------+------------------+--------------------+------+-----------+------------------+--------------------+--------------------+--------------------+--------------------+--------------------+--------------------+--------------------+--------------------+-------+--------+---------+\n",
            "|  count|               49289|    49245|        35957|         1273|  49245|   49245| 2747|  2232|                 203|          303|          425|       90|                  91|                27|                   6|   343|         37|                10|                 107|                  95|                  24|                  99|               49245|                6966|                 838|                  53|      0|       0|        0|\n",
            "|   mean|                null|     null|         null|         null|   null|    null| null|  null|                null|         null|         null|     null|                null|  5928.62962962963|                null|  null|       null|              null|                null|                null|                null|                null|                null|                null|                null|                null|   null|    null|     null|\n",
            "| stddev|                null|     null|         null|         null|   null|    null| null|  null|                null|         null|         null|     null|                null| 8407.295605366293|                null|  null|       null|              null|                null|                null|                null|                null|                null|                null|                null|                null|   null|    null|     null|\n",
            "|    min|,,,,,,,2022-06-03...|confirmed|         Abia|       Aachen|Andorra|     ABW| 0-14|Female|Fatigue, headache...|            N|            Y|    Death|1261, 1262, 1263 ...|                 2|           Household|     N| 2022-05-04|        2022-04-28|              Africa|              Africa|    Genomic sequence|\"\"\"Molecular and ...|http://famagusta-...|http://outbreakne...|http://www.tribun...|https://agenciabr...|   null|    null|     null|\n",
            "|    max|               N9999|suspected|île-de-France|île-de-France| Zambia|     ZMB|70-74| male |      vesicular rash|            Y|            Y|Recovered| under investigation|             25755|potentially infec...|     Y|  early May|        late April|travel within the...|travel to a count...|https://www.ncbi....|      qPCR or RT-PCR|https://zap.aeiou...|https://www3.nhk....|https://www3.gobi...|https://www.sanid...|   null|    null|     null|\n",
            "+-------+--------------------+---------+-------------+-------------+-------+--------+-----+------+--------------------+-------------+-------------+---------+--------------------+------------------+--------------------+------+-----------+------------------+--------------------+--------------------+--------------------+--------------------+--------------------+--------------------+--------------------+--------------------+-------+--------+---------+\n",
            "\n"
          ]
        }
      ]
    },
    {
      "cell_type": "markdown",
      "source": [
        "#### Ranking dos 10 países com maior número de infectados (até 22-08-2022)"
      ],
      "metadata": {
        "id": "r2b3rdEhxFTS"
      }
    },
    {
      "cell_type": "code",
      "source": [
        "newmonkeypoxdf_total = newmonkeypoxdf.groupBy(\"Pais\").agg(count(\"Pais\").alias(\"total_casos\")).orderBy(col(\"total_casos\").desc()).show(10)"
      ],
      "metadata": {
        "id": "PWAidg52hdAw",
        "colab": {
          "base_uri": "https://localhost:8080/"
        },
        "outputId": "39463dcd-00fd-4de3-cf09-9ea3120add80"
      },
      "execution_count": 64,
      "outputs": [
        {
          "output_type": "stream",
          "name": "stdout",
          "text": [
            "+--------------------+-----------+\n",
            "|                Pais|total_casos|\n",
            "+--------------------+-----------+\n",
            "|       United States|      16759|\n",
            "|               Spain|       6470|\n",
            "|              Brazil|       4186|\n",
            "|             Germany|       3350|\n",
            "|             England|       3191|\n",
            "|              France|       2899|\n",
            "|Democratic Republ...|       2380|\n",
            "|              Canada|       1298|\n",
            "|                Peru|       1210|\n",
            "|         Netherlands|       1090|\n",
            "+--------------------+-----------+\n",
            "only showing top 10 rows\n",
            "\n"
          ]
        }
      ]
    },
    {
      "cell_type": "markdown",
      "source": [
        "#### Sintomas encontrados entre os infectados pelo vírus"
      ],
      "metadata": {
        "id": "odg6teL-wT-p"
      }
    },
    {
      "cell_type": "code",
      "source": [
        "newmonkeypoxdf.select(\"Sintomas\").distinct().count()"
      ],
      "metadata": {
        "colab": {
          "base_uri": "https://localhost:8080/"
        },
        "id": "Mr-FYacGoQfM",
        "outputId": "7689402f-7966-4f71-b948-fa9f3a7dd296"
      },
      "execution_count": 65,
      "outputs": [
        {
          "output_type": "execute_result",
          "data": {
            "text/plain": [
              "99"
            ]
          },
          "metadata": {},
          "execution_count": 65
        }
      ]
    },
    {
      "cell_type": "code",
      "source": [
        "newmonkeypoxdf.select(\"Sintomas\").distinct().show(99)"
      ],
      "metadata": {
        "colab": {
          "base_uri": "https://localhost:8080/"
        },
        "id": "lvJWKeLVzBzH",
        "outputId": "2c9f5cd6-45f9-489a-bdcb-1d5c43fd695a"
      },
      "execution_count": 66,
      "outputs": [
        {
          "output_type": "stream",
          "name": "stdout",
          "text": [
            "+--------------------+\n",
            "|            Sintomas|\n",
            "+--------------------+\n",
            "|headache, skin le...|\n",
            "|Perianal rash, fever|\n",
            "|Fever, chills, fa...|\n",
            "|headache, muscle ...|\n",
            "|fever, outbreak o...|\n",
            "|                rash|\n",
            "|rash, body pains,...|\n",
            "|             lesions|\n",
            "|genital ulcer les...|\n",
            "|characteristic sy...|\n",
            "|      fever, lesions|\n",
            "| skin manifestations|\n",
            "|headache, muscle ...|\n",
            "|symptoms compatib...|\n",
            "|                Rash|\n",
            "|      fever; myalgia|\n",
            "|Spots on skin, ve...|\n",
            "|         skin rashes|\n",
            "|                null|\n",
            "|  ulcerative lesions|\n",
            "|fever, general di...|\n",
            "|  myalgias, postules|\n",
            "|muscle aches, fev...|\n",
            "|blisters, high fever|\n",
            "|Fatigue, headache...|\n",
            "|skin lesions, ulc...|\n",
            "|oral and genital ...|\n",
            "|Malaise, headache...|\n",
            "| fever, skin lesions|\n",
            "|headache, fever, ...|\n",
            "|            Vesicles|\n",
            "|Pain urinating, f...|\n",
            "|fatigue, fever, s...|\n",
            "|skin lesions, hea...|\n",
            "|fever, headache, ...|\n",
            "|fever, cough, ski...|\n",
            "|Perianal rash, fe...|\n",
            "|         Rash, fever|\n",
            "|skin lesions, fev...|\n",
            "|fever, headache, ...|\n",
            "|fatigue, skin man...|\n",
            "|papules, itching,...|\n",
            "|fever, adenomegal...|\n",
            "|swelling of lymph...|\n",
            "|     blisters, fever|\n",
            "|    papules, itching|\n",
            "|fatigue, malaise,...|\n",
            "|skin rashes, dysp...|\n",
            "|erythema with ves...|\n",
            "|fever, pustules o...|\n",
            "|        Skin lesions|\n",
            "|         fever; rash|\n",
            "|          itch; rash|\n",
            "|        genital rash|\n",
            "|            blisters|\n",
            "|lower abdomen ski...|\n",
            "|      vesicular rash|\n",
            "|skin lesions, spo...|\n",
            "|    fever, skin rash|\n",
            "|rashes in the gro...|\n",
            "|headache, myalgia...|\n",
            "|        encephalitis|\n",
            "|malaise, skin les...|\n",
            "|Swelling, fever, ...|\n",
            "|Swollen lymph nod...|\n",
            "|      Genital rashes|\n",
            "|headache, fatigue...|\n",
            "|    rash on the skin|\n",
            "|rashes typical of...|\n",
            "|       mild symptoms|\n",
            "|         fever, rash|\n",
            "|               fever|\n",
            "|             Lesions|\n",
            "|perianal papules;...|\n",
            "|fever, muscle pai...|\n",
            "|     pustules, fever|\n",
            "|Fatigue, sore thr...|\n",
            "|        skin lesions|\n",
            "|fever, sore throa...|\n",
            "|Fever, vesicular ...|\n",
            "|fever, swollen ly...|\n",
            "|         rash, fever|\n",
            "|Headache, mild fe...|\n",
            "|rash, headache, m...|\n",
            "|Vesicular skin le...|\n",
            "|               Rash |\n",
            "|Rash, fever, lymp...|\n",
            "|fever, blisters o...|\n",
            "| skin lesions, fever|\n",
            "|headache, fever, ...|\n",
            "|Slight swallowing...|\n",
            "|Rashes in the per...|\n",
            "|fever, fatigue, h...|\n",
            "|cough, chills, mu...|\n",
            "|general weakness,...|\n",
            "|      genital ulcers|\n",
            "|  Fever, skin rashes|\n",
            "|Rash, muscle ache...|\n",
            "|Three lesions typ...|\n",
            "+--------------------+\n",
            "\n"
          ]
        }
      ]
    },
    {
      "cell_type": "code",
      "source": [
        "#conversão de coluna do Dataframe para Pandas visando melhor visualização dos dados\n",
        "newmonkeypoxdf.select(\"Sintomas\").distinct().toPandas()"
      ],
      "metadata": {
        "colab": {
          "base_uri": "https://localhost:8080/",
          "height": 424
        },
        "id": "u10kJ4p_wgM9",
        "outputId": "80c9f3a7-b257-4195-c95c-f25f748da569"
      },
      "execution_count": 67,
      "outputs": [
        {
          "output_type": "execute_result",
          "data": {
            "text/plain": [
              "                                             Sintomas\n",
              "0                              headache, skin lesions\n",
              "1                                Perianal rash, fever\n",
              "2      Fever, chills, fatigue, headache, skin lesions\n",
              "3   headache, muscle pain, back pain, vasicular ra...\n",
              "4       fever, outbreak on the skin, hands, and chest\n",
              "..                                                ...\n",
              "94               general weakness, fever, skin rashes\n",
              "95                                     genital ulcers\n",
              "96                                 Fever, skin rashes\n",
              "97                         Rash, muscle ache, fatigue\n",
              "98                 Three lesions typical of monkeypox\n",
              "\n",
              "[99 rows x 1 columns]"
            ],
            "text/html": [
              "\n",
              "  <div id=\"df-5104e56e-256c-4960-a8c5-703c55c28abd\">\n",
              "    <div class=\"colab-df-container\">\n",
              "      <div>\n",
              "<style scoped>\n",
              "    .dataframe tbody tr th:only-of-type {\n",
              "        vertical-align: middle;\n",
              "    }\n",
              "\n",
              "    .dataframe tbody tr th {\n",
              "        vertical-align: top;\n",
              "    }\n",
              "\n",
              "    .dataframe thead th {\n",
              "        text-align: right;\n",
              "    }\n",
              "</style>\n",
              "<table border=\"1\" class=\"dataframe\">\n",
              "  <thead>\n",
              "    <tr style=\"text-align: right;\">\n",
              "      <th></th>\n",
              "      <th>Sintomas</th>\n",
              "    </tr>\n",
              "  </thead>\n",
              "  <tbody>\n",
              "    <tr>\n",
              "      <th>0</th>\n",
              "      <td>headache, skin lesions</td>\n",
              "    </tr>\n",
              "    <tr>\n",
              "      <th>1</th>\n",
              "      <td>Perianal rash, fever</td>\n",
              "    </tr>\n",
              "    <tr>\n",
              "      <th>2</th>\n",
              "      <td>Fever, chills, fatigue, headache, skin lesions</td>\n",
              "    </tr>\n",
              "    <tr>\n",
              "      <th>3</th>\n",
              "      <td>headache, muscle pain, back pain, vasicular ra...</td>\n",
              "    </tr>\n",
              "    <tr>\n",
              "      <th>4</th>\n",
              "      <td>fever, outbreak on the skin, hands, and chest</td>\n",
              "    </tr>\n",
              "    <tr>\n",
              "      <th>...</th>\n",
              "      <td>...</td>\n",
              "    </tr>\n",
              "    <tr>\n",
              "      <th>94</th>\n",
              "      <td>general weakness, fever, skin rashes</td>\n",
              "    </tr>\n",
              "    <tr>\n",
              "      <th>95</th>\n",
              "      <td>genital ulcers</td>\n",
              "    </tr>\n",
              "    <tr>\n",
              "      <th>96</th>\n",
              "      <td>Fever, skin rashes</td>\n",
              "    </tr>\n",
              "    <tr>\n",
              "      <th>97</th>\n",
              "      <td>Rash, muscle ache, fatigue</td>\n",
              "    </tr>\n",
              "    <tr>\n",
              "      <th>98</th>\n",
              "      <td>Three lesions typical of monkeypox</td>\n",
              "    </tr>\n",
              "  </tbody>\n",
              "</table>\n",
              "<p>99 rows × 1 columns</p>\n",
              "</div>\n",
              "      <button class=\"colab-df-convert\" onclick=\"convertToInteractive('df-5104e56e-256c-4960-a8c5-703c55c28abd')\"\n",
              "              title=\"Convert this dataframe to an interactive table.\"\n",
              "              style=\"display:none;\">\n",
              "        \n",
              "  <svg xmlns=\"http://www.w3.org/2000/svg\" height=\"24px\"viewBox=\"0 0 24 24\"\n",
              "       width=\"24px\">\n",
              "    <path d=\"M0 0h24v24H0V0z\" fill=\"none\"/>\n",
              "    <path d=\"M18.56 5.44l.94 2.06.94-2.06 2.06-.94-2.06-.94-.94-2.06-.94 2.06-2.06.94zm-11 1L8.5 8.5l.94-2.06 2.06-.94-2.06-.94L8.5 2.5l-.94 2.06-2.06.94zm10 10l.94 2.06.94-2.06 2.06-.94-2.06-.94-.94-2.06-.94 2.06-2.06.94z\"/><path d=\"M17.41 7.96l-1.37-1.37c-.4-.4-.92-.59-1.43-.59-.52 0-1.04.2-1.43.59L10.3 9.45l-7.72 7.72c-.78.78-.78 2.05 0 2.83L4 21.41c.39.39.9.59 1.41.59.51 0 1.02-.2 1.41-.59l7.78-7.78 2.81-2.81c.8-.78.8-2.07 0-2.86zM5.41 20L4 18.59l7.72-7.72 1.47 1.35L5.41 20z\"/>\n",
              "  </svg>\n",
              "      </button>\n",
              "      \n",
              "  <style>\n",
              "    .colab-df-container {\n",
              "      display:flex;\n",
              "      flex-wrap:wrap;\n",
              "      gap: 12px;\n",
              "    }\n",
              "\n",
              "    .colab-df-convert {\n",
              "      background-color: #E8F0FE;\n",
              "      border: none;\n",
              "      border-radius: 50%;\n",
              "      cursor: pointer;\n",
              "      display: none;\n",
              "      fill: #1967D2;\n",
              "      height: 32px;\n",
              "      padding: 0 0 0 0;\n",
              "      width: 32px;\n",
              "    }\n",
              "\n",
              "    .colab-df-convert:hover {\n",
              "      background-color: #E2EBFA;\n",
              "      box-shadow: 0px 1px 2px rgba(60, 64, 67, 0.3), 0px 1px 3px 1px rgba(60, 64, 67, 0.15);\n",
              "      fill: #174EA6;\n",
              "    }\n",
              "\n",
              "    [theme=dark] .colab-df-convert {\n",
              "      background-color: #3B4455;\n",
              "      fill: #D2E3FC;\n",
              "    }\n",
              "\n",
              "    [theme=dark] .colab-df-convert:hover {\n",
              "      background-color: #434B5C;\n",
              "      box-shadow: 0px 1px 3px 1px rgba(0, 0, 0, 0.15);\n",
              "      filter: drop-shadow(0px 1px 2px rgba(0, 0, 0, 0.3));\n",
              "      fill: #FFFFFF;\n",
              "    }\n",
              "  </style>\n",
              "\n",
              "      <script>\n",
              "        const buttonEl =\n",
              "          document.querySelector('#df-5104e56e-256c-4960-a8c5-703c55c28abd button.colab-df-convert');\n",
              "        buttonEl.style.display =\n",
              "          google.colab.kernel.accessAllowed ? 'block' : 'none';\n",
              "\n",
              "        async function convertToInteractive(key) {\n",
              "          const element = document.querySelector('#df-5104e56e-256c-4960-a8c5-703c55c28abd');\n",
              "          const dataTable =\n",
              "            await google.colab.kernel.invokeFunction('convertToInteractive',\n",
              "                                                     [key], {});\n",
              "          if (!dataTable) return;\n",
              "\n",
              "          const docLinkHtml = 'Like what you see? Visit the ' +\n",
              "            '<a target=\"_blank\" href=https://colab.research.google.com/notebooks/data_table.ipynb>data table notebook</a>'\n",
              "            + ' to learn more about interactive tables.';\n",
              "          element.innerHTML = '';\n",
              "          dataTable['output_type'] = 'display_data';\n",
              "          await google.colab.output.renderOutput(dataTable, element);\n",
              "          const docLink = document.createElement('div');\n",
              "          docLink.innerHTML = docLinkHtml;\n",
              "          element.appendChild(docLink);\n",
              "        }\n",
              "      </script>\n",
              "    </div>\n",
              "  </div>\n",
              "  "
            ]
          },
          "metadata": {},
          "execution_count": 67
        }
      ]
    },
    {
      "cell_type": "code",
      "source": [
        "newmonkeypoxdf.select(\"Sintomas\",\"Sexo\").distinct().toPandas()"
      ],
      "metadata": {
        "colab": {
          "base_uri": "https://localhost:8080/",
          "height": 424
        },
        "id": "G63QDtUCwxDZ",
        "outputId": "239a649a-7cab-42bc-9a2c-693ed017972c"
      },
      "execution_count": 69,
      "outputs": [
        {
          "output_type": "execute_result",
          "data": {
            "text/plain": [
              "                                              Sintomas  Sexo\n",
              "0                                              lesions  male\n",
              "1                               headache, skin lesions  None\n",
              "2                                   ulcerative lesions  male\n",
              "3                                                Rash   Male\n",
              "4                                  fever, skin lesions  male\n",
              "..                                                 ...   ...\n",
              "106                    Swelling, fever, rash, diarrhea  Male\n",
              "107  lower abdomen skin lesions, fatigue, swollen l...  male\n",
              "108                               Perianal rash, fever  Male\n",
              "109                            rash, body pains, fever  male\n",
              "110                 Three lesions typical of monkeypox  None\n",
              "\n",
              "[111 rows x 2 columns]"
            ],
            "text/html": [
              "\n",
              "  <div id=\"df-572281ec-e94d-4892-aad0-3cbf159a8653\">\n",
              "    <div class=\"colab-df-container\">\n",
              "      <div>\n",
              "<style scoped>\n",
              "    .dataframe tbody tr th:only-of-type {\n",
              "        vertical-align: middle;\n",
              "    }\n",
              "\n",
              "    .dataframe tbody tr th {\n",
              "        vertical-align: top;\n",
              "    }\n",
              "\n",
              "    .dataframe thead th {\n",
              "        text-align: right;\n",
              "    }\n",
              "</style>\n",
              "<table border=\"1\" class=\"dataframe\">\n",
              "  <thead>\n",
              "    <tr style=\"text-align: right;\">\n",
              "      <th></th>\n",
              "      <th>Sintomas</th>\n",
              "      <th>Sexo</th>\n",
              "    </tr>\n",
              "  </thead>\n",
              "  <tbody>\n",
              "    <tr>\n",
              "      <th>0</th>\n",
              "      <td>lesions</td>\n",
              "      <td>male</td>\n",
              "    </tr>\n",
              "    <tr>\n",
              "      <th>1</th>\n",
              "      <td>headache, skin lesions</td>\n",
              "      <td>None</td>\n",
              "    </tr>\n",
              "    <tr>\n",
              "      <th>2</th>\n",
              "      <td>ulcerative lesions</td>\n",
              "      <td>male</td>\n",
              "    </tr>\n",
              "    <tr>\n",
              "      <th>3</th>\n",
              "      <td>Rash</td>\n",
              "      <td>Male</td>\n",
              "    </tr>\n",
              "    <tr>\n",
              "      <th>4</th>\n",
              "      <td>fever, skin lesions</td>\n",
              "      <td>male</td>\n",
              "    </tr>\n",
              "    <tr>\n",
              "      <th>...</th>\n",
              "      <td>...</td>\n",
              "      <td>...</td>\n",
              "    </tr>\n",
              "    <tr>\n",
              "      <th>106</th>\n",
              "      <td>Swelling, fever, rash, diarrhea</td>\n",
              "      <td>Male</td>\n",
              "    </tr>\n",
              "    <tr>\n",
              "      <th>107</th>\n",
              "      <td>lower abdomen skin lesions, fatigue, swollen l...</td>\n",
              "      <td>male</td>\n",
              "    </tr>\n",
              "    <tr>\n",
              "      <th>108</th>\n",
              "      <td>Perianal rash, fever</td>\n",
              "      <td>Male</td>\n",
              "    </tr>\n",
              "    <tr>\n",
              "      <th>109</th>\n",
              "      <td>rash, body pains, fever</td>\n",
              "      <td>male</td>\n",
              "    </tr>\n",
              "    <tr>\n",
              "      <th>110</th>\n",
              "      <td>Three lesions typical of monkeypox</td>\n",
              "      <td>None</td>\n",
              "    </tr>\n",
              "  </tbody>\n",
              "</table>\n",
              "<p>111 rows × 2 columns</p>\n",
              "</div>\n",
              "      <button class=\"colab-df-convert\" onclick=\"convertToInteractive('df-572281ec-e94d-4892-aad0-3cbf159a8653')\"\n",
              "              title=\"Convert this dataframe to an interactive table.\"\n",
              "              style=\"display:none;\">\n",
              "        \n",
              "  <svg xmlns=\"http://www.w3.org/2000/svg\" height=\"24px\"viewBox=\"0 0 24 24\"\n",
              "       width=\"24px\">\n",
              "    <path d=\"M0 0h24v24H0V0z\" fill=\"none\"/>\n",
              "    <path d=\"M18.56 5.44l.94 2.06.94-2.06 2.06-.94-2.06-.94-.94-2.06-.94 2.06-2.06.94zm-11 1L8.5 8.5l.94-2.06 2.06-.94-2.06-.94L8.5 2.5l-.94 2.06-2.06.94zm10 10l.94 2.06.94-2.06 2.06-.94-2.06-.94-.94-2.06-.94 2.06-2.06.94z\"/><path d=\"M17.41 7.96l-1.37-1.37c-.4-.4-.92-.59-1.43-.59-.52 0-1.04.2-1.43.59L10.3 9.45l-7.72 7.72c-.78.78-.78 2.05 0 2.83L4 21.41c.39.39.9.59 1.41.59.51 0 1.02-.2 1.41-.59l7.78-7.78 2.81-2.81c.8-.78.8-2.07 0-2.86zM5.41 20L4 18.59l7.72-7.72 1.47 1.35L5.41 20z\"/>\n",
              "  </svg>\n",
              "      </button>\n",
              "      \n",
              "  <style>\n",
              "    .colab-df-container {\n",
              "      display:flex;\n",
              "      flex-wrap:wrap;\n",
              "      gap: 12px;\n",
              "    }\n",
              "\n",
              "    .colab-df-convert {\n",
              "      background-color: #E8F0FE;\n",
              "      border: none;\n",
              "      border-radius: 50%;\n",
              "      cursor: pointer;\n",
              "      display: none;\n",
              "      fill: #1967D2;\n",
              "      height: 32px;\n",
              "      padding: 0 0 0 0;\n",
              "      width: 32px;\n",
              "    }\n",
              "\n",
              "    .colab-df-convert:hover {\n",
              "      background-color: #E2EBFA;\n",
              "      box-shadow: 0px 1px 2px rgba(60, 64, 67, 0.3), 0px 1px 3px 1px rgba(60, 64, 67, 0.15);\n",
              "      fill: #174EA6;\n",
              "    }\n",
              "\n",
              "    [theme=dark] .colab-df-convert {\n",
              "      background-color: #3B4455;\n",
              "      fill: #D2E3FC;\n",
              "    }\n",
              "\n",
              "    [theme=dark] .colab-df-convert:hover {\n",
              "      background-color: #434B5C;\n",
              "      box-shadow: 0px 1px 3px 1px rgba(0, 0, 0, 0.15);\n",
              "      filter: drop-shadow(0px 1px 2px rgba(0, 0, 0, 0.3));\n",
              "      fill: #FFFFFF;\n",
              "    }\n",
              "  </style>\n",
              "\n",
              "      <script>\n",
              "        const buttonEl =\n",
              "          document.querySelector('#df-572281ec-e94d-4892-aad0-3cbf159a8653 button.colab-df-convert');\n",
              "        buttonEl.style.display =\n",
              "          google.colab.kernel.accessAllowed ? 'block' : 'none';\n",
              "\n",
              "        async function convertToInteractive(key) {\n",
              "          const element = document.querySelector('#df-572281ec-e94d-4892-aad0-3cbf159a8653');\n",
              "          const dataTable =\n",
              "            await google.colab.kernel.invokeFunction('convertToInteractive',\n",
              "                                                     [key], {});\n",
              "          if (!dataTable) return;\n",
              "\n",
              "          const docLinkHtml = 'Like what you see? Visit the ' +\n",
              "            '<a target=\"_blank\" href=https://colab.research.google.com/notebooks/data_table.ipynb>data table notebook</a>'\n",
              "            + ' to learn more about interactive tables.';\n",
              "          element.innerHTML = '';\n",
              "          dataTable['output_type'] = 'display_data';\n",
              "          await google.colab.output.renderOutput(dataTable, element);\n",
              "          const docLink = document.createElement('div');\n",
              "          docLink.innerHTML = docLinkHtml;\n",
              "          element.appendChild(docLink);\n",
              "        }\n",
              "      </script>\n",
              "    </div>\n",
              "  </div>\n",
              "  "
            ]
          },
          "metadata": {},
          "execution_count": 69
        }
      ]
    },
    {
      "cell_type": "markdown",
      "source": [
        "### Panorama de infecção no Brasil"
      ],
      "metadata": {
        "id": "JojkbifO3wHY"
      }
    },
    {
      "cell_type": "code",
      "source": [
        "li=[\"Sao Paulo\", \"Rio de Janeiro\", \"Belo Horizonte\"]\n",
        "newmonkeypoxBrazil = newmonkeypoxdf.filter(newmonkeypoxdf.Cidade.isin(li)).show()"
      ],
      "metadata": {
        "colab": {
          "base_uri": "https://localhost:8080/"
        },
        "id": "63sCbOU288mI",
        "outputId": "6c6b8150-8375-4548-9934-8d4b5b3f7b25"
      },
      "execution_count": 70,
      "outputs": [
        {
          "output_type": "stream",
          "name": "stdout",
          "text": [
            "+-----+---------+------------+--------------+------+--------+-----+------+--------------------+-------------------+--------------+-------------+---------------+-------------+---------------+---------+-------------------+------------------+--------------+------+-----------+------------------+-------------------+---------------+--------------------+------------------+--------------------+--------------------+--------------------+--------+-------+--------+---------+-------------------+----------+-----------------------+\n",
            "|   ID|   Status| Localizacao|        Cidade|  Pais|Cod_ISO3|Idade|  Sexo|Data_entrada_sistema|   Data_confirmacao|      Sintomas|Hospitalizado|Data_internacao|Em_isolamento|Data_isolamento|Detectado|Comentarios_contato|Identidade_Contato|Cidade_contato|Viajou|Data_viagem|Data_inicio_viagem|Localidade_visitada|  País_visitado|        Genoma_virus|Metodo_confirmacao|               Fonte|            Fonte_II|           Fonte_III|Fonte_IV|Fonte_V|Fonte_VI|Fonte_VII|      Data_registro|Data_obito|Data_ultima_atualizacao|\n",
            "+-----+---------+------------+--------------+------+--------+-----+------+--------------------+-------------------+--------------+-------------+---------------+-------------+---------------+---------+-------------------+------------------+--------------+------+-----------+------------------+-------------------+---------------+--------------------+------------------+--------------------+--------------------+--------------------+--------+-------+--------+---------+-------------------+----------+-----------------------+\n",
            "|N1344|discarded|   Sao Paulo|     Sao Paulo|Brazil|     BRA|25-29|female|                null|               null|          null|            Y|           null|         null|           null|     null|               null|              null|          null|  null|       null|              null|               null|           null|                null|              null|https://web.archi...|https://g1.globo....|https://www.gov.b...|    null|   null|    null|     null|2022-06-08 00:00:00|      null|    2022-06-22 00:00:00|\n",
            "|N1564|confirmed|   Sao Paulo|     Sao Paulo|Brazil|     BRA|40-44|  male| 2022-05-28 00:00:00|2022-06-08 00:00:00|fever; myalgia|         null|           null|            Y|           null|     null|               null|              null|          null|     Y|       null|              null|               null|Spain; Portugal|https://virologic...|              null|https://g1.globo....|                null|                null|    null|   null|    null|     null|2022-06-09 00:00:00|      null|    2022-06-09 00:00:00|\n",
            "|N5632|confirmed|Minas Gerais|Belo Horizonte|Brazil|     BRA|20-24|  male|                null|2022-07-02 00:00:00|          null|         null|           null|         null|           null|     null|               null|              null|          null|     Y|       null|              null|          Sao Paulo|         Brazil|                null|              null|https://www.gov.b...|https://www.gov.b...|https://www.em.co...|    null|   null|    null|     null|2022-06-30 00:00:00|      null|    2022-07-07 00:00:00|\n",
            "|N5643|confirmed|Minas Gerais|Belo Horizonte|Brazil|     BRA|30-34|  male|                null|2022-07-03 00:00:00|          null|         null|           null|         null|           null|     null|               null|              null|          null|     Y|       null|              null|          Sao Paulo|         Brazil|                null|              null|https://www.gov.b...|https://www.gov.b...|https://www.em.co...|    null|   null|    null|     null|2022-06-30 00:00:00|      null|    2022-07-07 00:00:00|\n",
            "|N5838|confirmed|Minas Gerais|Belo Horizonte|Brazil|     BRA|30-34|  male|                null|2022-06-29 00:00:00|          null|            N|           null|            Y|           null|     null|               null|              null|          null|     Y| 2022-06-26|        2022-06-11|             Europe|           null|                null|              null|https://www.gov.b...|https://www.em.co...|https://www.hojee...|    null|   null|    null|     null|2022-07-01 00:00:00|      null|    2022-07-07 00:00:00|\n",
            "|N7834|confirmed|Minas Gerais|Belo Horizonte|Brazil|     BRA|23-46|  null|                null|2022-07-06 00:00:00|          null|         null|           null|         null|           null|     null|               null|              null|          null|  null|       null|              null|               null|           null|                null|              null|https://www.gov.b...|https://www.em.co...|                null|    null|   null|    null|     null|2022-07-07 00:00:00|      null|    2022-07-07 00:00:00|\n",
            "|N7835|confirmed|Minas Gerais|Belo Horizonte|Brazil|     BRA|23-46|  null|                null|2022-07-06 00:00:00|          null|         null|           null|         null|           null|     null|               null|              null|          null|  null|       null|              null|               null|           null|                null|              null|https://www.gov.b...|https://www.em.co...|                null|    null|   null|    null|     null|2022-07-07 00:00:00|      null|    2022-07-07 00:00:00|\n",
            "|N7836|confirmed|Minas Gerais|Belo Horizonte|Brazil|     BRA|23-46|  null|                null|2022-07-06 00:00:00|          null|         null|           null|         null|           null|     null|               null|              null|          null|  null|       null|              null|               null|           null|                null|              null|https://www.gov.b...|https://www.em.co...|                null|    null|   null|    null|     null|2022-07-07 00:00:00|      null|    2022-07-07 00:00:00|\n",
            "+-----+---------+------------+--------------+------+--------+-----+------+--------------------+-------------------+--------------+-------------+---------------+-------------+---------------+---------+-------------------+------------------+--------------+------+-----------+------------------+-------------------+---------------+--------------------+------------------+--------------------+--------------------+--------------------+--------+-------+--------+---------+-------------------+----------+-----------------------+\n",
            "\n"
          ]
        }
      ]
    },
    {
      "cell_type": "code",
      "source": [],
      "metadata": {
        "id": "fnvDJEsjEeUm"
      },
      "execution_count": null,
      "outputs": []
    },
    {
      "cell_type": "code",
      "source": [
        "newmonkeypoxdf.filter(newmonkeypoxdf.Sintomas.like(\"%skin%\") & newmonkeypoxdf.Pais.like(\"%Brazil%\")).show()"
      ],
      "metadata": {
        "colab": {
          "base_uri": "https://localhost:8080/"
        },
        "id": "MM8Ut-hs9WHX",
        "outputId": "7143a8cf-3a00-4746-af02-bdccd07faa93"
      },
      "execution_count": 71,
      "outputs": [
        {
          "output_type": "stream",
          "name": "stdout",
          "text": [
            "+-----+---------+--------------------+------------------+------+--------+-----+------+--------------------+-------------------+--------------------+-------------+-------------------+-------------+---------------+---------+-------------------+------------------+--------------+------+-----------+------------------+-------------------+---------------+------------+------------------+--------------------+--------------------+--------------------+--------------------+-------+--------+---------+-------------------+----------+-----------------------+\n",
            "|   ID|   Status|         Localizacao|            Cidade|  Pais|Cod_ISO3|Idade|  Sexo|Data_entrada_sistema|   Data_confirmacao|            Sintomas|Hospitalizado|    Data_internacao|Em_isolamento|Data_isolamento|Detectado|Comentarios_contato|Identidade_Contato|Cidade_contato|Viajou|Data_viagem|Data_inicio_viagem|Localidade_visitada|  País_visitado|Genoma_virus|Metodo_confirmacao|               Fonte|            Fonte_II|           Fonte_III|            Fonte_IV|Fonte_V|Fonte_VI|Fonte_VII|      Data_registro|Data_obito|Data_ultima_atualizacao|\n",
            "+-----+---------+--------------------+------------------+------+--------+-----+------+--------------------+-------------------+--------------------+-------------+-------------------+-------------+---------------+---------+-------------------+------------------+--------------+------+-----------+------------------+-------------------+---------------+------------+------------------+--------------------+--------------------+--------------------+--------------------+-------+--------+---------+-------------------+----------+-----------------------+\n",
            "| N591|confirmed|Porto Alegre, Rio...|      Porto Alegre|Brazil|     BRA|50-54|  male| 2022-05-13 00:00:00|2022-06-12 00:00:00|skin lesions, hea...|         null|               null|         null|           null|     null|               null|              null|          null|     Y| 2022-05-10|              null|           Portugal|           null|        null|              null|https://gazetabra...|https://agenciabr...|https://www.gov.b...|                null|   null|    null|     null|2022-05-30 00:00:00|      null|    2022-06-13 00:00:00|\n",
            "| N649|discarded|Dionisio Cerqueir...|Dionisio Cerqueira|Brazil|     BRA|25-29|female| 2022-05-24 00:00:00|               null|skin rashes, dysp...|         null|               null|         null|           null|     null|               null|              null|          null|  null|       null|              null|               null|           null|        null|              null|https://globovisi...|https://brazil.po...|https://agenciabr...|https://scc10.com...|   null|    null|     null|2022-05-31 00:00:00|      null|    2022-06-22 00:00:00|\n",
            "|N1345|discarded|Blumenau, Santa C...|          Blumenau|Brazil|     BRA|25-29|  male| 2022-05-30 00:00:00|               null|skin lesions, fev...|         null|               null|         null|           null|     null|               null|              null|          null|  null|       null|              null|               null|           null|        null|              null|https://scc10.com...|https://www.gov.b...|                null|                null|   null|    null|     null|2022-06-08 00:00:00|      null|    2022-06-22 00:00:00|\n",
            "|N1839|confirmed|  Vinhedo, Sao Paulo|           Vinhedo|Brazil|     BRA|25-29|  male|                null|2022-06-11 00:00:00|        skin lesions|         null|               null|            Y|           null|     null|               null|              null|          null|     Y|       null|              null|               null|Spain, Portugal|        null|              null|https://cultura.u...|https://www.gov.b...|                null|                null|   null|    null|     null|2022-06-12 00:00:00|      null|    2022-06-13 00:00:00|\n",
            "|N3734|suspected|                Acre|              null|Brazil|     BRA|30-34|  male|                null|               null|fever, adenomegal...|         null|               null|            Y|           null|     null|               null|              null|          null|  null|       null|              null|               null|           null|        null|              null|https://www.gov.b...|https://brazil.po...|                null|                null|   null|    null|     null|2022-06-22 00:00:00|      null|    2022-06-27 00:00:00|\n",
            "|N3856|suspected|Grande Vitoria, E...|              null|Brazil|     BRA|40-44|  male|                null|               null|    fever, skin rash|         null|2022-06-15 00:00:00|         null|           null|     null|               null|              null|          null|     Y| 2022-06-09|              null|          Singapore|           null|        null|              null|https://www.gov.b...|https://brazil.po...|                null|                null|   null|    null|     null|2022-06-23 00:00:00|      null|    2022-06-27 00:00:00|\n",
            "+-----+---------+--------------------+------------------+------+--------+-----+------+--------------------+-------------------+--------------------+-------------+-------------------+-------------+---------------+---------+-------------------+------------------+--------------+------+-----------+------------------+-------------------+---------------+------------+------------------+--------------------+--------------------+--------------------+--------------------+-------+--------+---------+-------------------+----------+-----------------------+\n",
            "\n"
          ]
        }
      ]
    },
    {
      "cell_type": "code",
      "source": [],
      "metadata": {
        "id": "7YxZDWszFdW_"
      },
      "execution_count": null,
      "outputs": []
    }
  ]
}