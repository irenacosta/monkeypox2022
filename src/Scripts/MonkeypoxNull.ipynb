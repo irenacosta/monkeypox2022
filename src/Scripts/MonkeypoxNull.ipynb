{
  "nbformat": 4,
  "nbformat_minor": 0,
  "metadata": {
    "colab": {
      "name": "MonkeypoxNull.ipynb",
      "provenance": [],
      "collapsed_sections": []
    },
    "kernelspec": {
      "name": "python3",
      "display_name": "Python 3"
    },
    "language_info": {
      "name": "python"
    }
  },
  "cells": [
    {
      "cell_type": "markdown",
      "source": [
        "## Configurando o ambiente do Colab para o Pyspark e para usar arquivos armazenados no Google Drive"
      ],
      "metadata": {
        "id": "gRQk62sYbhYi"
      }
    },
    {
      "cell_type": "code",
      "execution_count": null,
      "metadata": {
        "id": "uEmlT3iOZQJc"
      },
      "outputs": [],
      "source": [
        "!pip install pyspark"
      ]
    },
    {
      "cell_type": "code",
      "source": [
        "from google.colab import drive\n",
        "drive.mount('/content/drive')"
      ],
      "metadata": {
        "id": "2oXMIK_baFiO"
      },
      "execution_count": null,
      "outputs": []
    },
    {
      "cell_type": "code",
      "source": [
        "!apt-get install openjdk-8-jdk-headless -qq > /dev/null\n",
        "!wget -q https://archive.apache.org/dist/spark/spark-2.4.4/spark-2.4.4-bin-hadoop2.7.tgz\n",
        "!tar xf spark-2.4.4-bin-hadoop2.7.tgz\n",
        "!pip install -q findspark"
      ],
      "metadata": {
        "id": "H7t8VDVwaYxI"
      },
      "execution_count": null,
      "outputs": []
    },
    {
      "cell_type": "code",
      "source": [
        "import os\n",
        "os.environ[\"JAVA_HOME\"] = \"/usr/lib/jvm/java-8-openjdk-amd64\"\n",
        "os.environ[\"SPARK_HOME\"] = \"/content/spark-2.4.4-bin-hadoop2.7\"\n",
        "\n",
        "# tornar o pyspark \"importável\"\n",
        "import findspark\n",
        "findspark.init('spark-2.4.4-bin-hadoop2.7')"
      ],
      "metadata": {
        "id": "qfWE1tPca4CS"
      },
      "execution_count": null,
      "outputs": []
    },
    {
      "cell_type": "code",
      "source": [
        "from pyspark.sql import SparkSession\n",
        "\n",
        "spark = SparkSession.builder\\\n",
        "        .master(\"local\")\\\n",
        "        .appName(\"monkeypoxcolab\")\\\n",
        "        .config('spark.ui.port', '4050')\\\n",
        "        .getOrCreate()"
      ],
      "metadata": {
        "id": "ofX462q_bBZi"
      },
      "execution_count": null,
      "outputs": []
    },
    {
      "cell_type": "code",
      "source": [
        "spark"
      ],
      "metadata": {
        "id": "dJ7Nrj_GbKBI"
      },
      "execution_count": null,
      "outputs": []
    },
    {
      "cell_type": "code",
      "source": [
        "from pyspark.sql.types import *\n",
        "from pyspark.sql import functions as f\n",
        "from pyspark.sql.functions import *\n",
        "from IPython.core.display import HTML"
      ],
      "metadata": {
        "id": "Xfx2aYjtbOfn"
      },
      "execution_count": null,
      "outputs": []
    },
    {
      "cell_type": "code",
      "source": [
        "!pip install -U plotly"
      ],
      "metadata": {
        "id": "1hBU9jcbpWRN"
      },
      "execution_count": null,
      "outputs": []
    },
    {
      "cell_type": "code",
      "source": [
        "import numpy as np\n",
        "import pandas as pd\n",
        "import plotly.express as px"
      ],
      "metadata": {
        "id": "6vB5EwmEbSjy"
      },
      "execution_count": null,
      "outputs": []
    },
    {
      "cell_type": "markdown",
      "source": [
        "### Carregando dataset em csv e renomeando colunas"
      ],
      "metadata": {
        "id": "3B_9Iu7vb9pf"
      }
    },
    {
      "cell_type": "code",
      "source": [
        "monkeypoxdf = spark.read.csv(\"/content/drive/MyDrive/Datasets/latest.csv\", sep=\",\", header=True, inferSchema=True)"
      ],
      "metadata": {
        "id": "igA46fALbxS-"
      },
      "execution_count": null,
      "outputs": []
    },
    {
      "cell_type": "code",
      "source": [
        "monkeypoxdf.printSchema()"
      ],
      "metadata": {
        "id": "s4wt3AsNcLC1"
      },
      "execution_count": null,
      "outputs": []
    },
    {
      "cell_type": "code",
      "source": [
        "newmonkeypoxdf1 = monkeypoxdf.withColumnRenamed(\"Location\", \"Localizacao\") \\\n",
        "              .withColumnRenamed(\"City\", \"Cidade\") \\\n",
        "              .withColumnRenamed(\"Country\", \"Pais\") \\\n",
        "              .withColumnRenamed(\"Country_ISO3\", \"Cod_ISO3\") \\\n",
        "              .withColumnRenamed(\"Age\", \"Idade\") \\\n",
        "              .withColumnRenamed(\"Gender\", \"Sexo\") \\\n",
        "              .withColumnRenamed(\"Date_onset\", \"Data_entrada_sistema\") \\\n",
        "              .withColumnRenamed(\"Date_confirmation\", \"Data_confirmacao\") \\\n",
        "              .withColumnRenamed(\"Symptoms\", \"Sintomas\") \\\n",
        "              .withColumnRenamed(\"Hospitalised (Y/N/NA)\", \"Hospitalizado\") \\\n",
        "              .withColumnRenamed(\"Date_hospitalisation\", \"Data_internacao\") \\\n",
        "              .withColumnRenamed(\"Isolated (Y/N/NA)\", \"Em_isolamento\") \\\n",
        "              .withColumnRenamed(\"Date_isolation\", \"Data_isolamento\") \\\n",
        "              .withColumnRenamed(\"Outcome\", \"Detectado\") \\\n",
        "              .withColumnRenamed(\"Contact_comment\", \"Comentarios_contato\") \\\n",
        "              .withColumnRenamed(\"Contact_ID\", \"Identidade_Contato\") \\\n",
        "              .withColumnRenamed(\"Contact_location\", \"Cidade_contato\") \\\n",
        "              .withColumnRenamed(\"Travel_history (Y/N/NA)\", \"Viajou\") \\\n",
        "              .withColumnRenamed(\"Travel_history_entry\", \"Data_viagem\") \\\n",
        "              .withColumnRenamed(\"Travel_history_start\", \"Data_inicio_viagem\") \\\n",
        "              .withColumnRenamed(\"Travel_history_location\", \"Localidade_visitada\") \\\n",
        "              .withColumnRenamed(\"Travel_history_country\", \"Pais_visitado\") \\\n",
        "              .withColumnRenamed(\"Genomics_Metadata\", \"Genoma_virus\") \\\n",
        "              .withColumnRenamed(\"Confirmation_method\", \"Metodo_confirmacao\") \\\n",
        "              .withColumnRenamed(\"Source\", \"Fonte\") \\\n",
        "              .withColumnRenamed(\"Source_II\", \"Fonte_II\") \\\n",
        "              .withColumnRenamed(\"Source_III\", \"Fonte_III\") \\\n",
        "              .withColumnRenamed(\"Source_IV\", \"Fonte_IV\") \\\n",
        "              .withColumnRenamed(\"Source_V\", \"Fonte_V\") \\\n",
        "              .withColumnRenamed(\"Source_VI\", \"Fonte_VI\") \\\n",
        "              .withColumnRenamed(\"Source_VII\", \"Fonte_VII\") \\\n",
        "              .withColumnRenamed(\"Date_entry\", \"Data_registro\") \\\n",
        "              .withColumnRenamed(\"Date_death\", \"Data_obito\") \\\n",
        "              .withColumnRenamed(\"Date_last_modified\", \"Data_ultima_atualizacao\")\n",
        "newmonkeypoxdf1.printSchema()"
      ],
      "metadata": {
        "id": "zRCjxqaAcspx"
      },
      "execution_count": null,
      "outputs": []
    },
    {
      "cell_type": "code",
      "source": [
        "newmonkeypoxdf1.show()"
      ],
      "metadata": {
        "id": "o40J-cVMc2oE"
      },
      "execution_count": null,
      "outputs": []
    },
    {
      "cell_type": "markdown",
      "source": [
        "### **ANÁLISE EXPLORATÓRIA E EXPLANATÓRIA DO PESO DO VAZIO NO DATASET SOBRE A EPIDEMIA DE VARÍOLA DOS MACACOS**"
      ],
      "metadata": {
        "id": "p_3Q6ahoZWHO"
      }
    },
    {
      "cell_type": "markdown",
      "source": [
        "#### Contagem de valores vazios em cada coluna do dataframe"
      ],
      "metadata": {
        "id": "xxOWe-lNjE7g"
      }
    },
    {
      "cell_type": "code",
      "source": [
        "from pyspark.sql.functions import col, isnan,when, count\n",
        "newmonkeypoxdf_Null=[\"Status\", \"Localizacao\", \"Cidade\", \"Pais\", \"Cod_ISO3\",\"Idade\", \"Sexo\", \"Sintomas\",\"Hospitalizado\",\"Em_isolamento\",\"Detectado\",\"Comentarios_contato\",\"Identidade_Contato\",\"Cidade_contato\", \"Viajou\", \"Data_viagem\",\"Data_inicio_viagem\",\"Localidade_visitada\",\"Pais_visitado\",\"Genoma_virus\", \"Metodo_confirmacao\", \"Fonte\", \"Fonte_II\", \"Fonte_III\", \"Fonte_IV\", \"Fonte_V\", \"Fonte_VI\", \"Fonte_VII\"]\n",
        "newmonkeypoxdf1.select([count(when(isnan(c) | col(c).isNull(), c)).alias(c) for c in newmonkeypoxdf_Null]).show()"
      ],
      "metadata": {
        "id": "wiZuWLieeT74"
      },
      "execution_count": null,
      "outputs": []
    },
    {
      "cell_type": "markdown",
      "source": [
        "##### Plotagem em gráfico de linha de Dataframe com contagem de valores nulos de cada coluna"
      ],
      "metadata": {
        "id": "dXEwCJ8grM7e"
      }
    },
    {
      "cell_type": "code",
      "source": [
        "px.line(x=[\"Status\",\"Localizacao\",\"Cidade\",\"Pais\",\"Cod_ISO3\",\"Idade\",\"Sexo\",\"Sintomas\",\"Hospitalizado\",\"Em_isolamento\",\"Detectado\",\"Comentarios_contato\",\"Identidade_Contato\",\"Cidade_Contato\",\"Viajou\",\"Data_viagem\",\"Data_inicio_viagem\",\"Localidade_visitada\",\"Pais_visitado\",\"Genoma_virus\", \"Metodo_confirmacao\", \"Fonte\", \"Fonte_II\", \"Fonte_III\", \"Fonte_IV\", \"Fonte_V\", \"Fonte_VI\", \"Fonte_VII\"], y=[44,13332,48016,44,44,46542,47057,49086,48986,48864,49199,49198,49262,49283,48946,49252,49279,49182,49194,49265,49190,44,42323,48451,49236,49289,49289,49289])"
      ],
      "metadata": {
        "id": "O1fwKbO1rjhH"
      },
      "execution_count": null,
      "outputs": []
    },
    {
      "cell_type": "code",
      "source": [
        "newmonkeypoxdf1.createOrReplaceTempView(\"NewMonkeyPox1\")\n",
        "spark.sql(\"select Status, Pais, CASE WHEN Sexo = 'Female' THEN 'female' \" +\n",
        "          \"WHEN Sexo = 'female ' THEN 'female' \" + \n",
        "          \"WHEN Sexo = 'Male' THEN 'male' \" +\n",
        "          \"WHEN Sexo = 'male ' THEN 'male' WHEN Sexo IS NULL THEN '' \" +\n",
        "          \"ELSE Sexo END as novo_sexo from NewMonkeyPox1\").show(10)"
      ],
      "metadata": {
        "id": "FD-wvEmmdjXB"
      },
      "execution_count": null,
      "outputs": []
    },
    {
      "cell_type": "code",
      "source": [
        "spark.sql('select * from NewMonkeyPox1 where isNULL(Sexo)').count()"
      ],
      "metadata": {
        "id": "1iyEUjnvZoc7"
      },
      "execution_count": null,
      "outputs": []
    },
    {
      "cell_type": "code",
      "source": [
        "newmonkeypoxdf1.count()"
      ],
      "metadata": {
        "id": "Wtk3DVlYfXth"
      },
      "execution_count": null,
      "outputs": []
    },
    {
      "cell_type": "code",
      "source": [
        "spark.sql('select * from NewMonkeyPox1 where isNULL(Sexo)').show(30)"
      ],
      "metadata": {
        "id": "vPmqE6ZddVJp"
      },
      "execution_count": null,
      "outputs": []
    }
  ]
}