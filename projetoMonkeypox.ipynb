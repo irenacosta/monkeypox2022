{
  "nbformat": 4,
  "nbformat_minor": 0,
  "metadata": {
    "colab": {
      "provenance": [],
      "collapsed_sections": []
    },
    "kernelspec": {
      "name": "python3",
      "display_name": "Python 3"
    },
    "language_info": {
      "name": "python"
    }
  },
  "cells": [
    {
      "cell_type": "markdown",
      "source": [
        "## Configuração do ambiente"
      ],
      "metadata": {
        "id": "28VWMNOxRDT9"
      }
    },
    {
      "cell_type": "markdown",
      "source": [
        "#### Instalação do Pyspark e conexão com Google Drive"
      ],
      "metadata": {
        "id": "N5HCNS2zRYVy"
      }
    },
    {
      "cell_type": "code",
      "execution_count": 1,
      "metadata": {
        "colab": {
          "base_uri": "https://localhost:8080/"
        },
        "id": "Y7bp4yDhQ1jx",
        "outputId": "6fe6b585-f42d-4fce-9f45-09f8daf702d7"
      },
      "outputs": [
        {
          "output_type": "stream",
          "name": "stdout",
          "text": [
            "Looking in indexes: https://pypi.org/simple, https://us-python.pkg.dev/colab-wheels/public/simple/\n",
            "Collecting pyspark\n",
            "  Downloading pyspark-3.3.0.tar.gz (281.3 MB)\n",
            "\u001b[K     |████████████████████████████████| 281.3 MB 51 kB/s \n",
            "\u001b[?25hCollecting py4j==0.10.9.5\n",
            "  Downloading py4j-0.10.9.5-py2.py3-none-any.whl (199 kB)\n",
            "\u001b[K     |████████████████████████████████| 199 kB 62.5 MB/s \n",
            "\u001b[?25hBuilding wheels for collected packages: pyspark\n",
            "  Building wheel for pyspark (setup.py) ... \u001b[?25l\u001b[?25hdone\n",
            "  Created wheel for pyspark: filename=pyspark-3.3.0-py2.py3-none-any.whl size=281764026 sha256=32083e7d9c54b5f94d2e081403946de8a301e6ada29cde27565970bd0868469f\n",
            "  Stored in directory: /root/.cache/pip/wheels/7a/8e/1b/f73a52650d2e5f337708d9f6a1750d451a7349a867f928b885\n",
            "Successfully built pyspark\n",
            "Installing collected packages: py4j, pyspark\n",
            "Successfully installed py4j-0.10.9.5 pyspark-3.3.0\n"
          ]
        }
      ],
      "source": [
        "!pip install pyspark"
      ]
    },
    {
      "cell_type": "code",
      "source": [
        "from google.colab import drive\n",
        "drive.mount('/content/drive')"
      ],
      "metadata": {
        "colab": {
          "base_uri": "https://localhost:8080/"
        },
        "id": "_qOnZlm8RL5I",
        "outputId": "92f041e8-50e9-4094-f209-a3505412121b"
      },
      "execution_count": 2,
      "outputs": [
        {
          "output_type": "stream",
          "name": "stdout",
          "text": [
            "Mounted at /content/drive\n"
          ]
        }
      ]
    },
    {
      "cell_type": "code",
      "source": [
        "!apt-get install openjdk-8-jdk-headless -qq > /dev/null\n",
        "!wget -q https://archive.apache.org/dist/spark/spark-2.4.4/spark-2.4.4-bin-hadoop2.7.tgz\n",
        "!tar xf spark-2.4.4-bin-hadoop2.7.tgz\n",
        "!pip install -q findspark"
      ],
      "metadata": {
        "id": "iqAx6lBfRPe6"
      },
      "execution_count": 3,
      "outputs": []
    },
    {
      "cell_type": "code",
      "source": [
        "import os\n",
        "os.environ[\"JAVA_HOME\"] = \"/usr/lib/jvm/java-8-openjdk-amd64\"\n",
        "os.environ[\"SPARK_HOME\"] = \"/content/spark-2.4.4-bin-hadoop2.7\"\n",
        "\n",
        "# tornar o pyspark \"importável\"\n",
        "import findspark\n",
        "findspark.init('spark-2.4.4-bin-hadoop2.7')"
      ],
      "metadata": {
        "id": "cawyo73SRTow"
      },
      "execution_count": 4,
      "outputs": []
    },
    {
      "cell_type": "code",
      "source": [
        "from pyspark.sql import SparkSession\n",
        "\n",
        "spark = SparkSession.builder\\\n",
        "        .master(\"local\")\\\n",
        "        .appName(\"monkeypoxcolab\")\\\n",
        "        .config('spark.ui.port', '4050')\\\n",
        "        .getOrCreate()"
      ],
      "metadata": {
        "id": "UcPCgSNCRw2y"
      },
      "execution_count": 5,
      "outputs": []
    },
    {
      "cell_type": "code",
      "source": [
        "spark"
      ],
      "metadata": {
        "colab": {
          "base_uri": "https://localhost:8080/",
          "height": 221
        },
        "id": "XQ-R48jcRyJN",
        "outputId": "714f1733-31b9-4391-f8ee-aaaaa67f116c"
      },
      "execution_count": 6,
      "outputs": [
        {
          "output_type": "execute_result",
          "data": {
            "text/plain": [
              "<pyspark.sql.session.SparkSession at 0x7f8572e75650>"
            ],
            "text/html": [
              "\n",
              "            <div>\n",
              "                <p><b>SparkSession - in-memory</b></p>\n",
              "                \n",
              "        <div>\n",
              "            <p><b>SparkContext</b></p>\n",
              "\n",
              "            <p><a href=\"http://b3e593fa5a63:4050\">Spark UI</a></p>\n",
              "\n",
              "            <dl>\n",
              "              <dt>Version</dt>\n",
              "                <dd><code>v2.4.4</code></dd>\n",
              "              <dt>Master</dt>\n",
              "                <dd><code>local</code></dd>\n",
              "              <dt>AppName</dt>\n",
              "                <dd><code>monkeypoxcolab</code></dd>\n",
              "            </dl>\n",
              "        </div>\n",
              "        \n",
              "            </div>\n",
              "        "
            ]
          },
          "metadata": {},
          "execution_count": 6
        }
      ]
    },
    {
      "cell_type": "markdown",
      "source": [
        "#### Importando as bibliotecas utilizadas no projeto"
      ],
      "metadata": {
        "id": "f4In9d66R3wd"
      }
    },
    {
      "cell_type": "code",
      "source": [
        "!pip install -U plotly"
      ],
      "metadata": {
        "colab": {
          "base_uri": "https://localhost:8080/"
        },
        "id": "IFPPLCnISLHE",
        "outputId": "1d3e3517-ebc6-4de6-8f2c-9f0f97ae159a"
      },
      "execution_count": 7,
      "outputs": [
        {
          "output_type": "stream",
          "name": "stdout",
          "text": [
            "Looking in indexes: https://pypi.org/simple, https://us-python.pkg.dev/colab-wheels/public/simple/\n",
            "Requirement already satisfied: plotly in /usr/local/lib/python3.7/dist-packages (5.5.0)\n",
            "Collecting plotly\n",
            "  Downloading plotly-5.10.0-py2.py3-none-any.whl (15.2 MB)\n",
            "\u001b[K     |████████████████████████████████| 15.2 MB 5.1 MB/s \n",
            "\u001b[?25hRequirement already satisfied: tenacity>=6.2.0 in /usr/local/lib/python3.7/dist-packages (from plotly) (8.1.0)\n",
            "Installing collected packages: plotly\n",
            "  Attempting uninstall: plotly\n",
            "    Found existing installation: plotly 5.5.0\n",
            "    Uninstalling plotly-5.5.0:\n",
            "      Successfully uninstalled plotly-5.5.0\n",
            "Successfully installed plotly-5.10.0\n"
          ]
        }
      ]
    },
    {
      "cell_type": "code",
      "source": [
        "from pyspark.sql import types as typ\n",
        "from pyspark.sql import functions as f\n",
        "from pyspark.sql.functions import expr, regexp_replace, desc\n",
        "from pyspark.sql.functions import col,lit,create_map, collect_list\n",
        "from pyspark.sql.functions import col, isnan,when, count, countDistinct\n",
        "from IPython.core.display import HTML"
      ],
      "metadata": {
        "id": "e9CnjHqpR1T0"
      },
      "execution_count": 8,
      "outputs": []
    },
    {
      "cell_type": "code",
      "source": [
        "import numpy as np\n",
        "import pandas as pd\n",
        "import plotly.express as px"
      ],
      "metadata": {
        "id": "nGckHS78SVLM"
      },
      "execution_count": 9,
      "outputs": []
    },
    {
      "cell_type": "markdown",
      "source": [
        "#### Importando dataset global sobre a Varíola dos macacos. Atualizado até 23/09/2022.\n",
        "##### Fonte: World in Data - Data Health Center"
      ],
      "metadata": {
        "id": "X2znPFsiXVBd"
      }
    },
    {
      "cell_type": "code",
      "source": [
        "monkeypoxdf = spark.read.csv(\"/content/drive/MyDrive/Monkey_Pox_Dataset/latest_deprecated.csv\", sep=\",\", header=True, inferSchema=True)"
      ],
      "metadata": {
        "id": "eZ3kvn_KW3NW"
      },
      "execution_count": 10,
      "outputs": []
    },
    {
      "cell_type": "markdown",
      "source": [
        "## Análise exploratória do dataframe"
      ],
      "metadata": {
        "id": "rECA3AoHX32m"
      }
    },
    {
      "cell_type": "markdown",
      "source": [
        "### Panorama geral do Dataframe"
      ],
      "metadata": {
        "id": "Be0pINrGX-G9"
      }
    },
    {
      "cell_type": "code",
      "source": [
        "col = len(monkeypoxdf.columns)\n",
        "col"
      ],
      "metadata": {
        "colab": {
          "base_uri": "https://localhost:8080/"
        },
        "id": "uxH1Im7znoZb",
        "outputId": "6a1d75f1-da75-4cde-b83b-f3f1fdb3a45a"
      },
      "execution_count": 11,
      "outputs": [
        {
          "output_type": "execute_result",
          "data": {
            "text/plain": [
              "36"
            ]
          },
          "metadata": {},
          "execution_count": 11
        }
      ]
    },
    {
      "cell_type": "code",
      "source": [
        "row = monkeypoxdf.count()\n",
        "row"
      ],
      "metadata": {
        "colab": {
          "base_uri": "https://localhost:8080/"
        },
        "id": "CHduJg5unyf9",
        "outputId": "9044cde2-2efd-4895-c624-79db8a158987"
      },
      "execution_count": 12,
      "outputs": [
        {
          "output_type": "execute_result",
          "data": {
            "text/plain": [
              "69639"
            ]
          },
          "metadata": {},
          "execution_count": 12
        }
      ]
    },
    {
      "cell_type": "code",
      "source": [
        "print(f'A dimensáo do Dataframe é: {(row,col)}')\n",
        "print(f'O Dataframe possui o total de {row} linhas e {col} colunas')"
      ],
      "metadata": {
        "colab": {
          "base_uri": "https://localhost:8080/"
        },
        "id": "T2XR3UsxojrG",
        "outputId": "a9f86fb8-7786-439f-ada1-87bb664b32d4"
      },
      "execution_count": 13,
      "outputs": [
        {
          "output_type": "stream",
          "name": "stdout",
          "text": [
            "A dimensáo do Dataframe é: (69639, 36)\n",
            "O Dataframe possui o total de 69639 linhas e 36 colunas\n"
          ]
        }
      ]
    },
    {
      "cell_type": "code",
      "source": [
        "monkeypoxdf.printSchema()"
      ],
      "metadata": {
        "colab": {
          "base_uri": "https://localhost:8080/"
        },
        "id": "SqwdVtPdX1qE",
        "outputId": "f58b746a-f2e7-4f17-d059-933544148319"
      },
      "execution_count": 14,
      "outputs": [
        {
          "output_type": "stream",
          "name": "stdout",
          "text": [
            "root\n",
            " |-- ID: string (nullable = true)\n",
            " |-- Status: string (nullable = true)\n",
            " |-- Location: string (nullable = true)\n",
            " |-- City: string (nullable = true)\n",
            " |-- Country: string (nullable = true)\n",
            " |-- Country_ISO3: string (nullable = true)\n",
            " |-- Age: string (nullable = true)\n",
            " |-- Gender: string (nullable = true)\n",
            " |-- Date_onset: timestamp (nullable = true)\n",
            " |-- Date_confirmation: timestamp (nullable = true)\n",
            " |-- Symptoms: string (nullable = true)\n",
            " |-- Hospitalised (Y/N/NA): string (nullable = true)\n",
            " |-- Date_hospitalisation: timestamp (nullable = true)\n",
            " |-- Isolated (Y/N/NA): string (nullable = true)\n",
            " |-- Date_isolation: timestamp (nullable = true)\n",
            " |-- Outcome: string (nullable = true)\n",
            " |-- Contact_comment: string (nullable = true)\n",
            " |-- Contact_ID: integer (nullable = true)\n",
            " |-- Contact_location: string (nullable = true)\n",
            " |-- Travel_history (Y/N/NA): string (nullable = true)\n",
            " |-- Travel_history_entry: string (nullable = true)\n",
            " |-- Travel_history_start: string (nullable = true)\n",
            " |-- Travel_history_location: string (nullable = true)\n",
            " |-- Travel_history_country: string (nullable = true)\n",
            " |-- Genomics_Metadata: string (nullable = true)\n",
            " |-- Confirmation_method: string (nullable = true)\n",
            " |-- Source: string (nullable = true)\n",
            " |-- Source_II: string (nullable = true)\n",
            " |-- Source_III: string (nullable = true)\n",
            " |-- Source_IV: string (nullable = true)\n",
            " |-- Source_V: string (nullable = true)\n",
            " |-- Source_VI: string (nullable = true)\n",
            " |-- Source_VII: string (nullable = true)\n",
            " |-- Date_entry: timestamp (nullable = true)\n",
            " |-- Date_death: timestamp (nullable = true)\n",
            " |-- Date_last_modified: timestamp (nullable = true)\n",
            "\n"
          ]
        }
      ]
    },
    {
      "cell_type": "code",
      "source": [
        "monkeypoxdf.agg(\n",
        "    f.count('Status').alias('count_Status'),\n",
        "    f.countDistinct('Status').alias('distinct_Status'),\n",
        "    f.count('Location').alias('count_Location'),\n",
        "    f.countDistinct('Location').alias('distinct_Location'),\n",
        "    f.count('City').alias('count_City'),\n",
        "    f.countDistinct('City').alias('distinct_City'),\n",
        "    f.count('Country').alias('count_Country'),\n",
        "    f.countDistinct('Country').alias('distinct_Country'),\n",
        "    f.count('Country_ISO3').alias('count_Country_ISO3'),\n",
        "    f.countDistinct('Country_ISO3').alias('distinct_Country_ISO3'),\n",
        "    f.count('Age').alias('count_Age'),\n",
        "    f.countDistinct('Age').alias('distinct_Age'),\n",
        "    f.count('Gender').alias('count_Gender'),\n",
        "    f.countDistinct('Gender').alias('distinct_Gender'),\n",
        "    f.count('Date_onset').alias('Date_onset'),\n",
        "    f.countDistinct('Date_onset').alias('distinct_Date_onset'),\n",
        "    f.count('Date_confirmation').alias('count_Date_confirmation'),\n",
        "    f.countDistinct('Date_confirmation').alias('distinct_Date_confirmation'),\n",
        "    f.count('Symptoms').alias('count_Symptoms'),\n",
        "    f.countDistinct('Symptoms').alias('distinct_Symptoms'),\n",
        "    f.count('Hospitalised (Y/N/NA)').alias('count_Hospitalised'),\n",
        "    f.countDistinct('Hospitalised (Y/N/NA)').alias('distinct_Hospitalised'),\n",
        "    f.count('Date_hospitalisation').alias('count_Date_hospitalisation'),\n",
        "    f.countDistinct('Date_hospitalisation').alias('distinct_Date_hospitalisation'),\n",
        "    f.count('Isolated (Y/N/NA)').alias('count_Isolated'),\n",
        "    f.countDistinct('Isolated (Y/N/NA)').alias('distinct_Isolated'),\n",
        "    f.count('Date_isolation').alias('count_Date_isolation'),\n",
        "    f.countDistinct('Date_isolation').alias('distinct_Date_isolation'),\n",
        "    f.count('Outcome').alias('count_Outcome'),\n",
        "    f.countDistinct('Outcome').alias('distinct_Outcome'),\n",
        "    f.count('Contact_comment').alias('count_Contact_comment'),\n",
        "    f.countDistinct('Contact_comment').alias('distinct_Contact_comment'),\n",
        "    f.count('Contact_ID').alias('count_Contact_ID'),\n",
        "    f.countDistinct('Contact_ID').alias('distinct_Contact_ID'),\n",
        "    f.count('Contact_location').alias('count_Contact_location'),\n",
        "    f.countDistinct('Contact_location').alias('distinct_Contact_location'),\n",
        "    f.count('Travel_history (Y/N/NA)').alias('count_Travel_history'),\n",
        "    f.countDistinct('Travel_history (Y/N/NA)').alias('distinct_Travel_history'),\n",
        "    f.count('Travel_history_entry').alias('count_Travel_history_entry'),\n",
        "    f.countDistinct('Travel_history_entry').alias('distinct_Travel_history_entry'),\n",
        "    f.count('Travel_history_start').alias('count_Travel_history_start'),\n",
        "    f.countDistinct('Travel_history_start').alias('distinct_Travel_history_start'),\n",
        "    f.count('Travel_history_location').alias('count_Travel_history_location'),\n",
        "    f.countDistinct('Travel_history_location').alias('distinct_Travel_history_location'),\n",
        "    f.count('Travel_history_country').alias('count_Travel_history_country'),\n",
        "    f.countDistinct('Travel_history_country').alias('distinct_Travel_history_country'),\n",
        "    f.count('Genomics_Metadata').alias('count_Genomics_Metadata'),\n",
        "    f.countDistinct('Genomics_Metadata').alias('distinct_Genomics_Metadata'),\n",
        "    f.count('Confirmation_method').alias('count_Confirmation_method'),\n",
        "    f.countDistinct('Confirmation_method').alias('distinct_Confirmation_method'),\n",
        "    f.count('Source').alias('count_Source'),\n",
        "    f.countDistinct('Source').alias('distinct_Source'),\n",
        "    f.count('Source_II').alias('count_Source_II'),\n",
        "    f.countDistinct('Source_II').alias('distinct_Source_II'),\n",
        "    f.count('Source_III').alias('count_Source_III'),\n",
        "    f.countDistinct('Source_III').alias('distinct_Source_III'),\n",
        "    f.count('Source_IV').alias('count_Source_IV'),\n",
        "    f.countDistinct('Source_IV').alias('distinct_Source_IV'),\n",
        "    f.count('Source_V').alias('count_Source_V'),\n",
        "    f.countDistinct('Source_V').alias('distinct_Source_V'),\n",
        "    f.count('Source_VI').alias('count_Source_VI'),\n",
        "    f.countDistinct('Source_VI').alias('distinct_Source_VI'),\n",
        "    f.count('Source_VII').alias('count_Source_VII'),\n",
        "    f.countDistinct('Source_VII').alias('distinct_Source_VII'),\n",
        "    f.count('Date_entry').alias('count_Date_entry'),\n",
        "    f.countDistinct('Date_entry').alias('distinct_Date_entry'),\n",
        "    f.count('Date_death').alias('count_Date_death'),\n",
        "    f.countDistinct('Date_death').alias('distinct_Date_death'),\n",
        "    f.count('Date_last_modified').alias('count_Date_last_modified'),\n",
        "    f.countDistinct('Date_last_modified').alias('distinct_Date_last_modified')\n",
        ").show()"
      ],
      "metadata": {
        "colab": {
          "base_uri": "https://localhost:8080/"
        },
        "id": "LwMSePe5ZeHh",
        "outputId": "67305480-8ea6-4d04-c3a8-a2c0ca66736c"
      },
      "execution_count": 16,
      "outputs": [
        {
          "output_type": "stream",
          "name": "stdout",
          "text": [
            "+------------+---------------+--------------+-----------------+----------+-------------+-------------+----------------+------------------+---------------------+---------+------------+------------+---------------+----------+-------------------+-----------------------+--------------------------+--------------+-----------------+------------------+---------------------+--------------------------+-----------------------------+--------------+-----------------+--------------------+-----------------------+-------------+----------------+---------------------+------------------------+----------------+-------------------+----------------------+-------------------------+--------------------+-----------------------+--------------------------+-----------------------------+--------------------------+-----------------------------+-----------------------------+--------------------------------+----------------------------+-------------------------------+-----------------------+--------------------------+-------------------------+----------------------------+------------+---------------+---------------+------------------+----------------+-------------------+---------------+------------------+--------------+-----------------+---------------+------------------+----------------+-------------------+----------------+-------------------+----------------+-------------------+------------------------+---------------------------+\n",
            "|count_Status|distinct_Status|count_Location|distinct_Location|count_City|distinct_City|count_Country|distinct_Country|count_Country_ISO3|distinct_Country_ISO3|count_Age|distinct_Age|count_Gender|distinct_Gender|Date_onset|distinct_Date_onset|count_Date_confirmation|distinct_Date_confirmation|count_Symptoms|distinct_Symptoms|count_Hospitalised|distinct_Hospitalised|count_Date_hospitalisation|distinct_Date_hospitalisation|count_Isolated|distinct_Isolated|count_Date_isolation|distinct_Date_isolation|count_Outcome|distinct_Outcome|count_Contact_comment|distinct_Contact_comment|count_Contact_ID|distinct_Contact_ID|count_Contact_location|distinct_Contact_location|count_Travel_history|distinct_Travel_history|count_Travel_history_entry|distinct_Travel_history_entry|count_Travel_history_start|distinct_Travel_history_start|count_Travel_history_location|distinct_Travel_history_location|count_Travel_history_country|distinct_Travel_history_country|count_Genomics_Metadata|distinct_Genomics_Metadata|count_Confirmation_method|distinct_Confirmation_method|count_Source|distinct_Source|count_Source_II|distinct_Source_II|count_Source_III|distinct_Source_III|count_Source_IV|distinct_Source_IV|count_Source_V|distinct_Source_V|count_Source_VI|distinct_Source_VI|count_Source_VII|distinct_Source_VII|count_Date_entry|distinct_Date_entry|count_Date_death|distinct_Date_death|count_Date_last_modified|distinct_Date_last_modified|\n",
            "+------------+---------------+--------------+-----------------+----------+-------------+-------------+----------------+------------------+---------------------+---------+------------+------------+---------------+----------+-------------------+-----------------------+--------------------------+--------------+-----------------+------------------+---------------------+--------------------------+-----------------------------+--------------+-----------------+--------------------+-----------------------+-------------+----------------+---------------------+------------------------+----------------+-------------------+----------------------+-------------------------+--------------------+-----------------------+--------------------------+-----------------------------+--------------------------+-----------------------------+-----------------------------+--------------------------------+----------------------------+-------------------------------+-----------------------+--------------------------+-------------------------+----------------------------+------------+---------------+---------------+------------------+----------------+-------------------+---------------+------------------+--------------+-----------------+---------------+------------------+----------------+-------------------+----------------+-------------------+----------------+-------------------+------------------------+---------------------------+\n",
            "|       69595|              4|         52387|              815|      1383|          197|        69595|             129|             69595|                  123|     3021|          95|        2475|              6|        77|                 62|                  65546|                       141|           220|              112|               354|                    2|                        35|                           29|           493|                1|                  16|                     11|          101|               2|                   91|                      61|              27|                 22|                     6|                        4|                 365|                      2|                        42|                           37|                        11|                           10|                          114|                              54|                          99|                             39|                     24|                        11|                      100|                          10|       69595|           1117|           8197|               591|             893|                115|             54|                13|             0|                0|              0|                 0|               0|                  0|           69551|                101|              83|                 30|                   69551|                        109|\n",
            "+------------+---------------+--------------+-----------------+----------+-------------+-------------+----------------+------------------+---------------------+---------+------------+------------+---------------+----------+-------------------+-----------------------+--------------------------+--------------+-----------------+------------------+---------------------+--------------------------+-----------------------------+--------------+-----------------+--------------------+-----------------------+-------------+----------------+---------------------+------------------------+----------------+-------------------+----------------------+-------------------------+--------------------+-----------------------+--------------------------+-----------------------------+--------------------------+-----------------------------+-----------------------------+--------------------------------+----------------------------+-------------------------------+-----------------------+--------------------------+-------------------------+----------------------------+------------+---------------+---------------+------------------+----------------+-------------------+---------------+------------------+--------------+-----------------+---------------+------------------+----------------+-------------------+----------------+-------------------+----------------+-------------------+------------------------+---------------------------+\n",
            "\n"
          ]
        }
      ]
    },
    {
      "cell_type": "code",
      "source": [
        "monkeypoxdf.agg(\n",
        "    f.count('Status').alias('Status_count'),\n",
        "    f.countDistinct('Status').alias('Status_distinct'),\n",
        "    f.count('Country').alias('Country_count'),\n",
        "    f.countDistinct('Country').alias('Country_distinct'),\n",
        "    f.count('Age').alias('Age_count'),\n",
        "    f.countDistinct('Age').alias('Age_distinct'), \n",
        "    f.count('Gender').alias('Gender_count'),\n",
        "    f.countDistinct('Gender').alias('Gender_distinct'),\n",
        "    f.count('Symptoms').alias('Symptoms_count'),\n",
        "    f.countDistinct('Symptoms').alias('Symptoms_distinct')\n",
        ").show()"
      ],
      "metadata": {
        "colab": {
          "base_uri": "https://localhost:8080/"
        },
        "id": "Nra4Yg9eYkXO",
        "outputId": "c28619b6-47d3-4f76-dd02-f5fa7081c49c"
      },
      "execution_count": 17,
      "outputs": [
        {
          "output_type": "stream",
          "name": "stdout",
          "text": [
            "+------------+---------------+-------------+----------------+---------+------------+------------+---------------+--------------+-----------------+\n",
            "|Status_count|Status_distinct|Country_count|Country_distinct|Age_count|Age_distinct|Gender_count|Gender_distinct|Symptoms_count|Symptoms_distinct|\n",
            "+------------+---------------+-------------+----------------+---------+------------+------------+---------------+--------------+-----------------+\n",
            "|       69595|              4|        69595|             129|     3021|          95|        2475|              6|           220|              112|\n",
            "+------------+---------------+-------------+----------------+---------+------------+------------+---------------+--------------+-----------------+\n",
            "\n"
          ]
        }
      ]
    },
    {
      "cell_type": "code",
      "source": [
        "monkeypoxdf.groupBy(\"Status\").agg(countDistinct('Country')) \\\n",
        "    .show(truncate=False)"
      ],
      "metadata": {
        "colab": {
          "base_uri": "https://localhost:8080/"
        },
        "id": "0KKFaweXZnWS",
        "outputId": "54487de5-256d-4c17-9a54-7b91a3c6d720"
      },
      "execution_count": 18,
      "outputs": [
        {
          "output_type": "stream",
          "name": "stdout",
          "text": [
            "+----------+-----------------------+\n",
            "|Status    |count(DISTINCT Country)|\n",
            "+----------+-----------------------+\n",
            "|omit_error|15                     |\n",
            "|null      |0                      |\n",
            "|suspected |19                     |\n",
            "|confirmed |112                    |\n",
            "|discarded |33                     |\n",
            "+----------+-----------------------+\n",
            "\n"
          ]
        }
      ]
    },
    {
      "cell_type": "code",
      "source": [
        "monkeypoxdf.groupBy(\"Status\").agg(countDistinct('Age')) \\\n",
        "    .show(truncate=False)"
      ],
      "metadata": {
        "colab": {
          "base_uri": "https://localhost:8080/"
        },
        "id": "P2DDAyM7l3ul",
        "outputId": "f0113cb7-35a3-43be-9f80-2ecbeac2f0a4"
      },
      "execution_count": 19,
      "outputs": [
        {
          "output_type": "stream",
          "name": "stdout",
          "text": [
            "+----------+-------------------+\n",
            "|Status    |count(DISTINCT Age)|\n",
            "+----------+-------------------+\n",
            "|omit_error|2                  |\n",
            "|null      |0                  |\n",
            "|suspected |4                  |\n",
            "|confirmed |92                 |\n",
            "|discarded |15                 |\n",
            "+----------+-------------------+\n",
            "\n"
          ]
        }
      ]
    },
    {
      "cell_type": "code",
      "source": [
        "monkeypoxdf.groupBy(\"Status\").agg(countDistinct('Gender')) \\\n",
        "    .show(truncate=False)"
      ],
      "metadata": {
        "colab": {
          "base_uri": "https://localhost:8080/"
        },
        "id": "2qsQGwDdilYX",
        "outputId": "97ae06d6-3605-45e4-9adf-fe30d64e4579"
      },
      "execution_count": 20,
      "outputs": [
        {
          "output_type": "stream",
          "name": "stdout",
          "text": [
            "+----------+----------------------+\n",
            "|Status    |count(DISTINCT Gender)|\n",
            "+----------+----------------------+\n",
            "|omit_error|1                     |\n",
            "|null      |0                     |\n",
            "|suspected |2                     |\n",
            "|confirmed |5                     |\n",
            "|discarded |3                     |\n",
            "+----------+----------------------+\n",
            "\n"
          ]
        }
      ]
    },
    {
      "cell_type": "markdown",
      "source": [
        "#### Explorando a coluna \"Age\""
      ],
      "metadata": {
        "id": "9Oe7UGSLHs7d"
      }
    },
    {
      "cell_type": "markdown",
      "source": [
        "##### Lista com todas as faixas etárias registradas no Dataframe"
      ],
      "metadata": {
        "id": "xiQ0_CYGuizn"
      }
    },
    {
      "cell_type": "code",
      "source": [
        "monkeypoxdf.select(collect_list(\"Age\")).show(truncate=False)"
      ],
      "metadata": {
        "colab": {
          "base_uri": "https://localhost:8080/"
        },
        "id": "Tf4m9HWOa_Jp",
        "outputId": "f829964f-ac60-450a-be22-5a061856f5f7"
      },
      "execution_count": 21,
      "outputs": [
        {
          "output_type": "stream",
          "name": "stdout",
          "text": [
            "+--------------------------------------------------------------------------------------------------------------------------------------------------------------------------------------------------------------------------------------------------------------------------------------------------------------------------------------------------------------------------------------------------------------------------------------------------------------------------------------------------------------------------------------------------------------------------------------------------------------------------------------------------------------------------------------------------------------------------------------------------------------------------------------------------------------------------------------------------------------------------------------------------------------------------------------------------------------------------------------------------------------------------------------------------------------------------------------------------------------------------------------------------------------------------------------------------------------------------------------------------------------------------------------------------------------------------------------------------------------------------------------------------------------------------------------------------------------------------------------------------------------------------------------------------------------------------------------------------------------------------------------------------------------------------------------------------------------------------------------------------------------------------------------------------------------------------------------------------------------------------------------------------------------------------------------------------------------------------------------------------------------------------------------------------------------------------------------------------------------------------------------------------------------------------------------------------------------------------------------------------------------------------------------------------------------------------------------------------------------------------------------------------------------------------------------------------------------------------------------------------------------------------------------------------------------------------------------------------------------------------------------------------------------------------------------------------------------------------------------------------------------------------------------------------------------------------------------------------------------------------------------------------------------------------------------------------------------------------------------------------------------------------------------------------------------------------------------------------------------------------------------------------------------------------------------------------------------------------------------------------------------------------------------------------------------------------------------------------------------------------------------------------------------------------------------------------------------------------------------------------------------------------------------------------------------------------------------------------------------------------------------------------------------------------------------------------------------------------------------------------------------------------------------------------------------------------------------------------------------------------------------------------------------------------------------------------------------------------------------------------------------------------------------------------------------------------------------------------------------------------------------------------------------------------------------------------------------------------------------------------------------------------------------------------------------------------------------------------------------------------------------------------------------------------------------------------------------------------------------------------------------------------------------------------------------------------------------------------------------------------------------------------------------------------------------------------------------------------------------------------------------------------------------------------------------------------------------------------------------------------------------------------------------------------------------------------------------------------------------------------------------------------------------------------------------------------------------------------------------------------------------------------------------------------------------------------------------------------------------------------------------------------------------------------------------------------------------------------------------------------------------------------------------------------------------------------------------------------------------------------------------------------------------------------------------------------------------------------------------------------------------------------------------------------------------------------------------------------------------------------------------------------------------------------------------------------------------------------------------------------------------------------------------------------------------------------------------------------------------------------------------------------------------------------------------------------------------------------------------------------------------------------------------------------------------------------------------------------------------------------------------------------------------------------------------------------------------------------------------------------------------------------------------------------------------------------------------------------------------------------------------------------------------------------------------------------------------------------------------------------------------------------------------------------------------------------------------------------------------------------------------------------------------------------------------------------------------------------------------------------------------------------------------------------------------------------------------------------------------------------------------------------------------------------------------------------------------------------------------------------------------------------------------------------------------------------------------------------------------------------------------------------------------------------------------------------------------------------------------------------------------------------------------------------------------------------------------------------------------------------------------------------------------------------------------------------------------------------------------------------------------------------------------------------------------------------------------------------------------------------------------------------------------------------------------------------------------------------------------------------------------------------------------------------------------------------------------------------------------------------------------------------------------------------------------------------------------------------------------------------------------------------------------------------------------------------------------------------------------------------------------------------------------------------------------------------------------------------------------------------------------------------------------------------------------------------------------------------------------------------------------------------------------------------------------------------------------------------------------------------------------------------------------------------------------------------------------------------------------------------------------------------------------------------------------------------------------------------------------------------------------------------------------------------------------------------------------------------------------------------------------------------------------------------------------------------------------------------------------------------------------------------------------------------------------------------------------------------------------------------------------------------------------------------------------------------------------------------------------------------------------------------------------------------------------------------------------------------------------------------------------------------------------------------------------------------------------------------------------------------------------------------------------------------------------------------------------------------------------------------------------------------------------------------------------------------------------------------------------------------------------------------------------------------------------------------------------------------------------------------------------------------------------------------------------------------------------------------------------------------------------------------------------------------------------------------------------------------------------------------------------------------------------------------------------------------------------------------------------------------------------------------------------------------------------------------------------------------------------------------------------------------------------------------------------------------------------------------------------------------------------------------------------------------------------------------------------------------------------------------------------------------------------------------------------------------------------------------------------------------------------------------------------------------------------------------------------------------------------------------------------------------------------------------------------------------------------------------------------------------------------------------------------------------------------------------------------------------------------------------------------------------------------------------------------------------------------------------------------------------------------------------------------------------------------------------------------------------------------------------------------------------------------------------------------------------------------------------------------------------------------------------------------------------------------------------------------------------------------------------------------------------------------------------------------------------------------------------------------------------------------------------------------------------------------------------------------------------------------------------------------------------------------------------------------------------------------------------------------------------------------------------------------------------------------------------------------------------------------------------------------------------------------------------------------------------------------------------------------------------------------------------------------------------------------------------------------------------------------------------------------------------------------------------------------------------------------------------------------------------------------------------------------------------------------------------------------------------------------------------------------------------------------------------------------------------------------------------------------------------------------------------------------------------------------------------------------------------------------------------------------------------------------------------------------------------------------------------------------------------------------------------------------------------------------------------------------------------------------------------------------------------------------------------------------------------------------------------------------------------------------------------------------------------------------------------------------------------------------------------------------------------------------------------------------------------------------------------------------------------------------------------------------------------------------------------------------------------------------------------------------------------------------------------------------------------------------------------------------------------------------------------------------------------------------------------------------------------------------------------------------------------------------------------------------------------------------------------------------------------------------------------------------------------------------------------------------------------------------------------------------------------------------------------------------------------------------------------------------------------------------------------------------------------------------------------------------------------------------------------------------------------------------------------------------------------------------------------------------------------------------------------------------------------------------------------------------------------------------------------------------------------------------------------------------------------------------------------------------------------------------------------------------------------------------------------------------------------------------------------------------------------------------------------------------------------------------------------------------------------------------------------------------------------------------------------------------------------------------------------------------------------------------------------------------------------------------------------------------------------------------------------------------------------------------------------------------------------------------------------------------------------------------------------------------------------------------------------------------------------------------------------------------------------------------------------------------------------------------------------------------------------------------------------------------------------------------------------------------------------------------------------------------------------------------------------------------------------------------------------------------------------------------------------------------------------------------------------------------------------------------------------------------------------------------------------------------------------------------------------------------------------------------------------------------------------------------------------------------------------------------------------------------------------------------------------------------------------------------------------------------------------------------------------------------------------------------------------------------------------------------------------------------------------------------------------------------------------------------------------------------------------------------------------------------------------------------------------------------------------------------------------------------------------------------------------------------------------------------------------------------------------------------------------------------------------------------------------------------------------------------------------------------------------------------------------------------------------------------------------------------------------------------------------------------------------------------------------------------------------------------------------------------------------------------------------------------------------------------------------------------------------------------------------------------------------------------------------------------------------------------------------------------------------------------------------------------------------------------------------------------------------------------------------------------------------------------------------------------------------------------------------------------------------------------------------------------------------------------------------------------------------------------------------------------------------------------------------------------------------------------------------------------------------------------------------------------------------------------------------------------------------------------------------------------------------------------------------------------------------------------------------------------------------------------------------------------------------------------------------------------------------------------------------------------------------------------------------------------------------------------------------------------------------------------------------------------------------------------------------------------------------------------------------------------------------------------------------------------------------------------------------------------------------------------------------------------------------------------------------------------------------------------------------------------------------------------------------------------------------------------------------------------------------------------------------------------------------------------------------------------------------------------------------------------------------------------------------------------------------------------------------------------------------------------------------------------------------------------------------------------------------------------------------------------------------------------------------------------------------------------------------------------------------------------------------------------------------------------------------------------------------------------------------------------------------------------------------------------------------------------------------------------------------------------------------------------------------------------------------------------------------------------------------------------------------------------------------------------------------------------------------------------------------------------------------------------------------------------------------------------------------------------------------------------------------------------------------------------------------------------------------------------------------------------------------------------------------------------------------------------------------------------------------------------------------------------------------------------------------------------------------------------------------------------------------------------------------------------------------------------------------------------------------------------------------------------------------------------------------------------------------------------------------------------------------------------------------------------------------------------------------------------------------------------------------------------------------------------------------------------------------------------------------------------------------------------------------------------------------------------------------------------------------------------------------------------------------------------------------------------------------------------------------------------------------------------------------------------------------------------------------------------------------------------------------------------------------------------------------------------------------------------------------------------------------------------------------------------------------------------------------------------------------------------------------------+\n",
            "|collect_list(Age)                                                                                                                                                                                                                                                                                                                                                                                                                                                                                                                                                                                                                                                                                                                                                                                                                                                                                                                                                                                                                                                                                                                                                                                                                                                                                                                                                                                                                                                                                                                                                                                                                                                                                                                                                                                                                                                                                                                                                                                                                                                                                                                                                                                                                                                                                                                                                                                                                                                                                                                                                                                                                                                                                                                                                                                                                                                                                                                                                                                                                                                                                                                                                                                                                                                                                                                                                                                                                                                                                                                                                                                                                                                                                                                                                                                                                                                                                                                                                                                                                                                                                                                                                                                                                                                                                                                                                                                                                                                                                                                                                                                                                                                                                                                                                                                                                                                                                                                                                                                                                                                                                                                                                                                                                                                                                                                                                                                                                                                                                                                                                                                                                                                                                                                                                                                                                                                                                                                                                                                                                                                                                                                                                                                                                                                                                                                                                                                                                                                                                                                                                                                                                                                                                                                                                                                                                                                                                                                                                                                                                                                                                                                                                                                                                                                                                                                                                                                                                                                                                                                                                                                                                                                                                                                                                                                                                                                                                                                                                                                                                                                                                                                                                                                                                                                                                                                                                                                                                                                                                                                                                                                                                                                                                                                                                                                                                                                                                                                                                                                                                                                                                                                                                                                                                                                                                                                                                                                                                                                                                                                                                                                                                                                                                                                                                                                                                                                                                                                                                                                                                                                                                                                                                                                                                                                                                                                                                                                                                                                                                                                                                                                                                                                                                                                                                                                                                                                                                                                                                                                                                                                                                                                                                                                                                                                                                                                                                                                                                                                                                                                                                                                                                                                                                                                                                                                                                                                                                                                                                                                                                                                                                                                                                                                                                                                                                                                                                                                                                                                                                                                                                                                                                                                                                                                                                                                                                                                                                                                                                                                                                                                                                                                                                                                                                                                                                                                                                                                                                                                                                                                                                                                                                                                                                                                                                                                                                                                                                                                                                                                                                                                                                                                                                                                                                                                                                                                                                                                                                                                                                                                                                                                                                                                                                                                                                                                                                                                                                                                                                                                                                                                                                                                                                                                                                                                                                                                                                                                                                                                                                                                                                                                                                                                                                                                                                                                                                                                                                                                                                                                                                                                                                                                                                                                                                                                                                                                                                                                                                                                                                                                                                                                                                                                                                                                                                                                                                                                                                                                                                                                                                                                                                                                                                                                                                                                                                                                                                                                                                                                                                                                                                                                                                                                                                                                                                                                                                                                                                                                                                                                                                                                                                                                                                                                                                                                                                                                                                                                                                                                                                                                                                                                                                                                                                                                                                                                                                                                                                                                                                                                                                                                                                                                                                                                                                                                                                                                                                                                                                                                                                                                                                                                                                                                                                                                                                                                                                                                                                                                                                                                                                                                                                                                                                                                                                                                                                                                                                                                                                                                                                                                                                                                                                                                                                                                                                                                                                                                                                                                                                                                                                                                                                                                                                                                                                                                                                                                                                                                                                                                                                                                                                                                                                                                                                                                                                                                                               |\n",
            "+--------------------------------------------------------------------------------------------------------------------------------------------------------------------------------------------------------------------------------------------------------------------------------------------------------------------------------------------------------------------------------------------------------------------------------------------------------------------------------------------------------------------------------------------------------------------------------------------------------------------------------------------------------------------------------------------------------------------------------------------------------------------------------------------------------------------------------------------------------------------------------------------------------------------------------------------------------------------------------------------------------------------------------------------------------------------------------------------------------------------------------------------------------------------------------------------------------------------------------------------------------------------------------------------------------------------------------------------------------------------------------------------------------------------------------------------------------------------------------------------------------------------------------------------------------------------------------------------------------------------------------------------------------------------------------------------------------------------------------------------------------------------------------------------------------------------------------------------------------------------------------------------------------------------------------------------------------------------------------------------------------------------------------------------------------------------------------------------------------------------------------------------------------------------------------------------------------------------------------------------------------------------------------------------------------------------------------------------------------------------------------------------------------------------------------------------------------------------------------------------------------------------------------------------------------------------------------------------------------------------------------------------------------------------------------------------------------------------------------------------------------------------------------------------------------------------------------------------------------------------------------------------------------------------------------------------------------------------------------------------------------------------------------------------------------------------------------------------------------------------------------------------------------------------------------------------------------------------------------------------------------------------------------------------------------------------------------------------------------------------------------------------------------------------------------------------------------------------------------------------------------------------------------------------------------------------------------------------------------------------------------------------------------------------------------------------------------------------------------------------------------------------------------------------------------------------------------------------------------------------------------------------------------------------------------------------------------------------------------------------------------------------------------------------------------------------------------------------------------------------------------------------------------------------------------------------------------------------------------------------------------------------------------------------------------------------------------------------------------------------------------------------------------------------------------------------------------------------------------------------------------------------------------------------------------------------------------------------------------------------------------------------------------------------------------------------------------------------------------------------------------------------------------------------------------------------------------------------------------------------------------------------------------------------------------------------------------------------------------------------------------------------------------------------------------------------------------------------------------------------------------------------------------------------------------------------------------------------------------------------------------------------------------------------------------------------------------------------------------------------------------------------------------------------------------------------------------------------------------------------------------------------------------------------------------------------------------------------------------------------------------------------------------------------------------------------------------------------------------------------------------------------------------------------------------------------------------------------------------------------------------------------------------------------------------------------------------------------------------------------------------------------------------------------------------------------------------------------------------------------------------------------------------------------------------------------------------------------------------------------------------------------------------------------------------------------------------------------------------------------------------------------------------------------------------------------------------------------------------------------------------------------------------------------------------------------------------------------------------------------------------------------------------------------------------------------------------------------------------------------------------------------------------------------------------------------------------------------------------------------------------------------------------------------------------------------------------------------------------------------------------------------------------------------------------------------------------------------------------------------------------------------------------------------------------------------------------------------------------------------------------------------------------------------------------------------------------------------------------------------------------------------------------------------------------------------------------------------------------------------------------------------------------------------------------------------------------------------------------------------------------------------------------------------------------------------------------------------------------------------------------------------------------------------------------------------------------------------------------------------------------------------------------------------------------------------------------------------------------------------------------------------------------------------------------------------------------------------------------------------------------------------------------------------------------------------------------------------------------------------------------------------------------------------------------------------------------------------------------------------------------------------------------------------------------------------------------------------------------------------------------------------------------------------------------------------------------------------------------------------------------------------------------------------------------------------------------------------------------------------------------------------------------------------------------------------------------------------------------------------------------------------------------------------------------------------------------------------------------------------------------------------------------------------------------------------------------------------------------------------------------------------------------------------------------------------------------------------------------------------------------------------------------------------------------------------------------------------------------------------------------------------------------------------------------------------------------------------------------------------------------------------------------------------------------------------------------------------------------------------------------------------------------------------------------------------------------------------------------------------------------------------------------------------------------------------------------------------------------------------------------------------------------------------------------------------------------------------------------------------------------------------------------------------------------------------------------------------------------------------------------------------------------------------------------------------------------------------------------------------------------------------------------------------------------------------------------------------------------------------------------------------------------------------------------------------------------------------------------------------------------------------------------------------------------------------------------------------------------------------------------------------------------------------------------------------------------------------------------------------------------------------------------------------------------------------------------------------------------------------------------------------------------------------------------------------------------------------------------------------------------------------------------------------------------------------------------------------------------------------------------------------------------------------------------------------------------------------------------------------------------------------------------------------------------------------------------------------------------------------------------------------------------------------------------------------------------------------------------------------------------------------------------------------------------------------------------------------------------------------------------------------------------------------------------------------------------------------------------------------------------------------------------------------------------------------------------------------------------------------------------------------------------------------------------------------------------------------------------------------------------------------------------------------------------------------------------------------------------------------------------------------------------------------------------------------------------------------------------------------------------------------------------------------------------------------------------------------------------------------------------------------------------------------------------------------------------------------------------------------------------------------------------------------------------------------------------------------------------------------------------------------------------------------------------------------------------------------------------------------------------------------------------------------------------------------------------------------------------------------------------------------------------------------------------------------------------------------------------------------------------------------------------------------------------------------------------------------------------------------------------------------------------------------------------------------------------------------------------------------------------------------------------------------------------------------------------------------------------------------------------------------------------------------------------------------------------------------------------------------------------------------------------------------------------------------------------------------------------------------------------------------------------------------------------------------------------------------------------------------------------------------------------------------------------------------------------------------------------------------------------------------------------------------------------------------------------------------------------------------------------------------------------------------------------------------------------------------------------------------------------------------------------------------------------------------------------------------------------------------------------------------------------------------------------------------------------------------------------------------------------------------------------------------------------------------------------------------------------------------------------------------------------------------------------------------------------------------------------------------------------------------------------------------------------------------------------------------------------------------------------------------------------------------------------------------------------------------------------------------------------------------------------------------------------------------------------------------------------------------------------------------------------------------------------------------------------------------------------------------------------------------------------------------------------------------------------------------------------------------------------------------------------------------------------------------------------------------------------------------------------------------------------------------------------------------------------------------------------------------------------------------------------------------------------------------------------------------------------------------------------------------------------------------------------------------------------------------------------------------------------------------------------------------------------------------------------------------------------------------------------------------------------------------------------------------------------------------------------------------------------------------------------------------------------------------------------------------------------------------------------------------------------------------------------------------------------------------------------------------------------------------------------------------------------------------------------------------------------------------------------------------------------------------------------------------------------------------------------------------------------------------------------------------------------------------------------------------------------------------------------------------------------------------------------------------------------------------------------------------------------------------------------------------------------------------------------------------------------------------------------------------------------------------------------------------------------------------------------------------------------------------------------------------------------------------------------------------------------------------------------------------------------------------------------------------------------------------------------------------------------------------------------------------------------------------------------------------------------------------------------------------------------------------------------------------------------------------------------------------------------------------------------------------------------------------------------------------------------------------------------------------------------------------------------------------------------------------------------------------------------------------------------------------------------------------------------------------------------------------------------------------------------------------------------------------------------------------------------------------------------------------------------------------------------------------------------------------------------------------------------------------------------------------------------------------------------------------------------------------------------------------------------------------------------------------------------------------------------------------------------------------------------------------------------------------------------------------------------------------------------------------------------------------------------------------------------------------------------------------------------------------------------------------------------------------------------------------------------------------------------------------------------------------------------------------------------------------------------------------------------------------------------------------------------------------------------------------------------------------------------------------------------------------------------------------------------------------------------------------------------------------------------------------------------------------------------------------------------------------------------------------------------------------------------------------------------------------------------------------------------------------------------------------------------------------------------------------------------------------------------------------------------------------------------------------------------------------------------------------------------------------------------------------------------------------------------------------------------------------------------------------------------------------------------------------------------------------------------------------------------------------------------------------------------------------------------------------------------------------------------------------------------------------------------------------------------------------------------------------------------------------------------------------------------------------------------------------------------------------------------------------------------------------------------------------------------------------------------------------------------------------------------------------------------------------------------------------------------------------------------------------------------------------------------------------------------------------------------------------------------------------------------------------------------------------------------------------------------------------------------------------------------------------------------------------------------------------------------------------------------------------------------------------------------------------------------------------------------------------------------------------------------------------------------------------------------------------------------------------------------------------------------------------------------------------------------------------------------------------------------------------------------------------------------------------------------------------------------------------------------------------------------------------------------------------------------------------------------------------------------------------------------------------------------------------------------------------------------------------------------------------------------------------------------------------------------------------------------------------------------------------------------------------------------------------------------+\n",
            "|[20-44, 20-44, 20-44, 20-44, 20-44, 20-44, 20-44, 20-44, 20-44, 20-44, 20-44, 20-44, 20-44, 20-44, 20-44, 20-44, 20-44, 20-44, 20-44, 20-44, 30-59, 30-59, 30-59, 30-59, 30-59, 30-59, 30-59, 30-59, 30-59, 30-59, 30-59, 30-59, 30-59, 40-44, 30-59, 30-59, 30-59, 30-59, 25-29, 20-44, 20-44, 20-44, 20-44, 20-44, 20-44, 20-44, 20-44, 20-44, 20-44, 20-44, 20-44, 20-44, 20-44, 20-59, 30-34, 20-69, 20-64, 20-64, 20-64, 20-64, 20-64, 40-49, 30-39, 20-59, 25-29, 30-39, 50-59, 40-49, 19-59, 25-29, 35-39, 20-59, 20-49, 30-34, 20-64, 20-64, 20-64, 15-74, 15-74, 15-74, 25-29, 15-19, 30-34, 15-74, 15-39, 15-39, 55-59, 35-39, 45-49, 30-34, 20-59, 20-59, 20-59, 20-59, 20-59, 20-59, 20-64, 20-64, 20-64, 20-64, 20-64, 20-64, 20-64, 20-64, 20-64, 20-64, 20-24, 15-74, 15-74, 20-64, 20-64, 20-64, 20-64, 20-64, 20-64, 20-64, 20-64, 20-64, 20-59, 20-64, 20-64, 20-64, 20-64, 20-64, 20-64, 20-64, 20-64, 20-64, 20-64, 20-64, 20-64, 20-64, 20-64, 20-64, 20-64, 20-64, 20-64, 20-64, 20-64, 20-64, 20-64, 20-64, 20-64, 20-64, 20-64, 20-64, 20-64, 20-64, 20-64, 20-64, 20-64, 20-64, 25-29, 40-44, 35-39, 20-24, 20-49, 20-64, 20-64, 20-64, 20-64, 20-64, 20-64, 20-64, 20-64, 20-64, 20-64, 20-64, 20-64, 20-64, 20-64, 20-64, 20-64, 30-34, 20-69, 25-29, 35-39, 30-50, 30-50, 50-54, 30-34, 20-24, 10-14, 20-59, 15-74, 15-74, 15-74, 15-74, 15-74, 15-74, 15-74, 15-74, 15-74, 20-59, 40-44, 70-74, 50-54, 20-64, 20-64, 20-64, 20-64, 20-64, 20-64, 20-64, 20-64, 20-64, 20-64, 20-64, 20-64, 20-64, 20-64, 20-64, 20-64, 20-64, 20-64, 20-64, 20-64, 20-64, 20-64, 15-74, 25-29, 20-24, 30-34, 30-34, 15-64, 15-64, 15-64, 15-64, 35-39, 20-69, 20-69, 20-59, 20-59, 20-59, 20-59, 20-59, 20-59, 25-29, 40-44, 20-24, 15-64, 15-64, 15-64, 15-64, 15-64, 15-64, 15-64, 15-64, 15-64, 15-64, 15-64, 15-64, 15-64, 15-64, 15-64, 15-64, 15-64, 15-64, 15-64, 15-74, 15-74, 15-74, 15-74, 15-74, 15-74, 15-74, 15-74, 15-74, 15-74, 15-74, 15-74, 15-74, 15-74, 15-74, 15-74, 30-50, 30-50, 50-59, 30-50, 30-50, 15-64, 15-64, 15-64, 15-64, 15-64, 15-64, 15-64, 15-64, 15-64, 15-64, 15-64, 15-64, 15-64, 15-64, 15-64, 15-64, 15-64, 15-64, 15-64, 60-64, 65-69, 25-29, 25-49, 25-49, 30-34, 15-19, 20-69, 20-24, 15-64, 15-64, 15-64, 15-64, 15-64, 25-49, 50-59, 30-39, 20-24, 15-74, 15-74, 15-74, 15-74, 15-74, 15-74, 15-74, 15-74, 15-74, 15-74, 15-74, 15-74, 15-74, 15-74, 15-74, 15-74, 15-74, 15-74, 20-69, 20-69, 20-64, 20-64, 20-64, 20-64, 20-64, 20-64, 20-64, 20-64, 20-64, 20-64, 20-64, 20-64, 20-64, 20-64, 20-64, 20-64, 30-39, 30-39, 65-69, 35-39, 20-59, 20-59, 20-59, 20-59, 20-59, 20-59, 20-59, 20-59, 20-59, 20-59, 20-64, 15-64, 15-64, 15-64, 15-64, 15-64, 15-64, 15-64, 15-64, 15-64, 15-64, 15-74, 30-34, 25-29, 35-39, 40-45, 40-49, 15-74, 15-74, 15-74, 15-74, 15-74, 15-74, 15-74, 15-74, 15-74, 15-74, 15-74, 15-74, 15-74, 15-74, 30-50, 20-64, 20-64, 20-64, 20-64, 20-64, 20-64, 20-64, 20-64, 20-64, 20-64, 20-64, 20-64, 20-64, 20-64, 20-64, 20-64, 20-64, 20-64, 20-64, 25-29, 25-29, 30-34, 20-64, 15-64, 15-64, 15-64, 15-64, 15-64, 15-64, 15-64, 15-64, 15-64, 15-64, 15-64, 15-64, 15-64, 15-64, 15-64, 15-64, 15-64, 15-64, 15-64, 15-64, 15-64, 15-64, 15-64, 15-64, 15-64, 20-59, 26-54, 26-54, 26-54, 26-54, 26-54, 26-54, 26-54, 26-54, 20-69, 19-59, 40-44, 40-44, 5-9, 30-39, 20-64, 20-64, 20-64, 20-64, 20-64, 20-64, 20-64, 20-64, 15-74, 15-74, 15-74, 15-74, 15-74, 15-74, 15-74, 15-74, 15-74, 15-74, 15-74, 15-74, 15-74, 15-74, 15-74, 15-74, 15-74, 15-74, 15-74, 15-74, 15-74, 15-74, 15-74, 15-74, 15-74, 20-69, 20-69, 22-55, 22-55, 35-39, 30-54, 30-54, 20-64, 20-64, 20-59, 35-39, 30-34, 0-5, 10-14, 40-44, 20-24, 25-29, 40-44, 25-29, 30-49, 30-49, 30-49, 40-44, 45-49, 20-69, 20-69, 20-69, 20-69, 15-74, 15-74, 15-74, 15-74, 15-74, 15-74, 15-74, 15-74, 15-74, 15-74, 15-74, 15-74, 15-74, 15-74, 15-74, 15-74, 15-74, 15-74, 15-74, 15-74, 15-74, 15-74, 15-74, 15-74, 15-74, 15-74, 15-74, 15-74, 15-74, 15-74, 15-74, 15-74, 15-74, 15-74, 15-64, 15-64, 15-64, 15-64, 15-64, 15-64, 15-64, 15-64, 15-64, 15-64, 20-59, 20-59, 20-59, 20-59, 20-59, 20-59, 20-59, 20-59, 20-59, 20-59, 20-59, 20-59, 20-59, 20-59, 20-59, 20-59, 20-59, 20-59, 20-59, 20-59, 20-59, 20-59, 20-59, 20-59, 20-59, 20-59, 20-59, 20-29, 20-69, 30-34, 30-34, 19-59, 20-40, 20-40, 40-42, 15-69, 15-69, 15-69, 15-69, 15-69, 15-69, 15-69, 15-69, 15-69, 15-69, 15-69, 15-69, 15-69, 15-69, 15-69, 15-69, 15-69, 15-69, 15-69, 15-69, 15-69, 15-69, 15-69, 15-69, 15-69, 15-69, 15-69, 15-69, 15-69, 15-69, 15-69, 15-69, 15-69, 15-69, 15-69, 15-69, 15-69, 15-69, 15-69, 15-69, 15-69, 15-69, 15-69, 15-69, 15-69, 15-69, 15-69, 15-69, 15-69, 15-69, 15-69, 15-69, 15-69, 15-69, 15-69, 15-69, 15-69, 15-69, 15-69, 15-69, 15-69, 15-69, 15-69, 15-69, 15-69, 15-69, 15-69, 15-69, 15-69, 15-69, 15-69, 15-69, 15-69, 15-69, 15-69, 15-69, 15-69, 15-69, 15-69, 15-69, 15-69, 15-69, 15-69, 15-69, 15-69, 15-69, 15-69, 15-69, 15-69, 15-69, 15-69, 15-69, 15-69, 15-69, 15-69, 15-69, 15-69, 15-69, 15-69, 15-69, 15-69, 15-69, 15-69, 15-69, 15-69, 15-69, 15-69, 15-69, 15-69, 15-69, 15-69, 15-69, 15-69, 15-69, 15-69, 15-69, 15-69, 15-69, 15-69, 15-69, 15-69, 15-69, 15-69, 15-69, 15-69, 15-69, 15-69, 15-69, 15-69, 15-69, 15-69, 15-69, 15-69, 15-69, 15-69, 15-69, 15-69, 15-69, 15-69, 15-69, 15-69, 15-69, 15-69, 15-69, 15-69, 15-69, 15-69, 15-69, 15-69, 15-69, 15-69, 15-69, 15-69, 15-69, 15-69, 15-69, 15-69, 15-69, 15-69, 15-69, 15-69, 15-69, 15-69, 15-69, 15-69, 15-69, 15-69, 15-69, 15-69, 15-69, 15-69, 15-69, 15-69, 15-69, 15-69, 15-69, 15-69, 15-69, 15-69, 15-69, 15-69, 15-69, 15-69, 15-69, 15-74, 15-74, 15-74, 15-74, 15-74, 15-74, 15-74, 15-74, 15-74, 15-74, 15-74, 15-74, 15-74, 15-74, 15-74, 15-74, 15-74, 15-74, 15-74, 15-74, 15-74, 15-74, 15-74, 15-74, 15-74, 15-74, 15-74, 15-74, 15-74, 15-74, 15-74, 15-74, 15-74, 15-74, 15-74, 15-74, 15-74, 15-74, 15-74, 15-74, 15-74, 15-74, 15-74, 15-74, 15-74, 15-74, 15-74, 15-74, 15-74, 15-74, 15-74, 15-74, 15-74, 15-74, 15-74, 15-74, 15-74, 15-74, 15-64, 15-64, 15-64, 15-64, 15-64, 15-64, 15-64, 15-64, 15-64, 15-64, 15-64, 15-64, 15-64, 15-64, 15-64, 15-64, 15-64, 15-64, 15-64, 15-64, 15-64, 15-64, 15-64, 15-64, 15-64, 15-64, 15-64, 15-64, 15-64, 15-64, 15-64, 15-64, 15-64, 15-64, 15-64, 25-29, 35-39, 20-50, 20-50, 20-50, 20-50, 20-50, 20-50, 20-59, 20-59, 20-59, 20-59, 20-59, 20-59, 20-59, 20-59, 20-59, 20-59, 20-59, 20-59, 35-39, 30-34, 25-29, 30-34, 30-49, 30-49, 30-49, 30-49, 20-69, 20-69, 20-69, 20-69, 25-29, 20-44, 31-59, 45-50, 35-40, 50-55, 20-64, 20-69, 20-59, 20-59, 20-59, 20-59, 20-59, 20-59, 20-59, 20-59, 20-59, 20-59, 20-59, 20-59, 20-59, 20-59, 20-59, 20-59, 20-59, 20-59, 20-59, 20-59, 35-39, 30-34, 35-39, 30-34, 40-44, 40-44, 15-64, 15-64, 15-64, 15-64, 15-64, 15-64, 15-64, 15-64, 15-64, 15-64, 15-64, 15-64, 15-64, 15-64, 15-64, 15-64, 15-64, 15-64, 15-64, 15-64, 15-64, 35-39, 30-34, 30-34, 34-46, 34-46, 25-29, 45-49, 30-34, 40-44, 25-29, 35-39, 35-39, 20-59, 20-69, 20-69, 20-69, 20-69, 20-69, 20-69, 20-69, 20-69, 20-69, 20-69, 20-69, 40-44, 20-69, 25-29, 20-24, 45-49, 20-62, 20-62, 20-62, 20-62, 20-62, 20-62, 20-62, 20-62, 20-62, 20-62, 20-62, 20-62, 20-62, 20-62, 20-62, 15-64, 15-64, 15-64, 15-64, 15-64, 15-64, 15-64, 15-64, 15-64, 15-64, 15-64, 15-64, 15-64, 50-54, 30-34, 30-34, 25-34, 25-34, 25-34, 25-34, 25-34, 25-34, 35-44, 35-44, 35-44, 35-44, 35-44, 35-44, 45-54, 55-64, 40-44, 20-29, 40-44, 15-64, 15-64, 15-64, 15-64, 15-64, 15-64, 15-64, 15-64, 15-64, 15-64, 15-64, 20-69, 20-29, 30-54, 19-59, 40-44, 40-44, 20-24, 28-43, 28-43, 28-43, 28-43, 28-43, 28-43, 30-34, 20-59, 20-69, 20-69, 20-69, 20-69, 20-69, 20-69, 20-69, 20-69, 20-69, 20-69, 20-69, 20-69, 20-69, 20-69, 20-69, 20-69, 20-69, 20-69, 20-69, 20-69, 25-29, 60-64, 15-64, 15-64, 15-64, 15-64, 15-64, 15-64, 15-64, 15-64, 15-64, 15-64, 15-64, 15-64, 15-64, 15-64, 15-64, 15-64, 15-64, 5-9, 20-39, 20-39, 20-39, 25-29, 30-34, 45-49, 45-49, 25-29, 25-29, 30-34, 45-49, 40-44, 40-44, 30-34, 20-69, 20-69, 30-39, 30-39, 20-69, 20-69, 20-69, 20-69, 20-69, 20-69, 20-69, 20-69, 20-69, 20-69, 20-69, 20-69, 20-69, 20-69, 20-69, 20-69, 20-69, 20-69, 20-69, 20-69, 20-69, 20-69, 20-69, 20-69, 20-24, 30-34, 35-39, 25-29, 40-44, 20-64, 20-64, 20-64, 20-64, 20-64, 20-64, 20-64, 20-64, 20-64, 20-64, 20-64, 20-64, 20-64, 20-64, 20-64, 20-64, 20-64, 20-64, 20-64, 20-64, 20-64, 20-64, 20-64, 20-64, 20-64, 20-64, 20-64, 20-64, 20-64, 20-64, 20-64, 20-64, 20-64, 20-64, 20-64, 20-64, 20-64, 20-64, 20-64, 20-64, 20-69, 20-69, 20-69, 20-69, 20-69, 20-69, 20-69, 20-69, 30-34, 20-49, 36-50, 35-39, 29-41, 29-41, 29-41, 29-41, 29-41, 29-41, 29-41, 40-44, 20-24, 40-44, 30-34, 25-39, 25-29, 30-34, 25-29, 19-24, 25-34, 25-34, 25-34, 25-34, 35-44, 45-54, 45-54, 55-64, 55-64, 65-69, 20-60, 20-60, 20-60, 20-60, 20-60, 20-60, 20-60, 20-60, 20-60, 20-60, 20-60, 20-60, 20-60, 20-60, 20-60, 15-74, 15-74, 15-74, 15-74, 15-74, 15-74, 15-74, 15-74, 15-74, 15-74, 15-74, 15-74, 15-74, 15-74, 15-74, 15-74, 15-74, 15-74, 15-74, 15-74, 15-74, 15-74, 15-74, 15-74, 15-74, 15-74, 15-74, 15-74, 15-74, 15-74, 15-74, 15-74, 15-74, 15-74, 15-74, 15-74, 15-74, 15-74, 15-74, 15-74, 15-74, 15-74, 15-74, 15-74, 15-74, 15-74, 15-74, 15-74, 15-74, 15-74, 15-74, 15-74, 15-74, 15-74, 15-74, 15-74, 15-74, 15-74, 20-69, 20-69, 30-34, 35-39, 40-44, 35-39, 20-69, 20-69, 20-69, 20-69, 20-69, 20-69, 20-69, 20-69, 20-69, 20-69, 20-69, 20-69, 20-69, 20-69, 20-69, 20-69, 20-69, 20-69, 20-69, 20-69, 20-69, 20-69, 20-69, 20-69, 40-44, 30-34, 20-49, 30-39, 40-49, 20-69, 20-69, 20-69, 20-69, 20-69, 20-69, 20-69, 20-69, 20-69, 20-69, 20-69, 20-69, 20-69, 20-69, 20-69, 20-69, 20-69, 20-69, 20-69, 20-69, 20-69, 20-69, 20-69, 20-69, 20-69, 20-69, 20-69, 20-69, 20-69, 20-69, 20-69, 20-69, 25-29, 45-49, 19-59, 19-59, 19-59, 19-59, 30-34, 20-69, 20-69, 20-69, 20-69, 20-69, 20-69, 20-69, 20-69, 20-69, 20-69, 20-69, 20-69, 20-69, 20-69, 20-69, 20-69, 20-69, 20-69, 20-69, 20-69, 20-69, 20-69, 20-69, 20-69, 20-69, 20-69, 19-59, 19-59, 19-59, 19-59, 23-46, 23-46, 23-46, 23-46, 23-46, 25-39, 35-39, 35-39, 30-34, 30-34, 20-59, 20-69, 20-69, 20-69, 20-69, 20-69, 20-69, 20-69, 20-64, 20-64, 20-64, 20-64, 20-64, 20-64, 20-64, 20-64, 20-64, 20-64, 20-64, 20-64, 20-64, 20-64, 20-64, 35-39, 35-39, 35-39, 30-34, 25-53, 25-53, 25-53, 25-53, 25-53, 30-34, 15-64, 15-64, 15-64, 15-64, 15-64, 15-64, 15-64, 15-64, 15-64, 15-64, 15-64, 15-64, 15-64, 15-64, 15-64, 15-64, 15-64, 15-64, 15-64, 15-64, 15-64, 15-64, 15-64, 15-64, 15-64, 15-64, 15-64, 15-64, 15-64, 15-64, 15-64, 15-64, 15-64, 15-64, 15-64, 15-64, 15-64, 15-64, 15-64, 15-64, 20-69, 20-69, 20-69, 20-69, 20-69, 20-69, 20-69, 20-69, 20-69, 20-69, 20-69, 20-69, 20-69, 20-69, 20-69, 20-69, 20-69, 20-69, 40-44, 30-39, 30-34, 45-49, 20-49, 20-69, 20-69, 20-69, 20-69, 20-69, 20-69, 20-69, 20-69, 20-69, 20-69, 20-69, 20-69, 20-69, 20-69, 20-69, 20-69, 20-69, 20-69, 20-69, 20-69, 20-69, 20-39, 40-44, 20-69, 20-69, 20-69, 30-39, 20-59, 20-59, 20-59, 20-59, 20-59, 20-59, 20-59, 20-59, 20-59, 20-59, 20-59, 20-59, 20-59, 20-59, 20-59, 20-59, 20-59, 20-59, 20-59, 20-59, 20-59, 20-59, 20-59, 20-59, 20-59, 20-59, 20-59, 20-59, 20-59, 20-59, 20-59, 20-59, 20-69, 20-69, 20-69, 20-69, 20-69, 20-69, 20-69, 20-69, 20-69, 20-69, 20-69, 20-69, 20-69, 20-69, 20-69, 20-69, 20-69, 20-69, 20-69, 20-69, 20-69, 20-69, 20-69, 20-69, 20-69, 20-69, 20-69, 20-69, 20-69, 20-69, 20-69, 20-69, 20-69, 20-69, 20-69, 20-69, 20-69, 20-69, 20-69, 20-69, 20-69, 20-69, 20-69, 20-69, 20-69, 20-69, 20-69, 20-69, 20-69, 20-69, 20-69, 20-69, 20-69, 20-69, 20-69, 20-69, 20-69, 20-69, 20-69, 20-69, 20-69, 51-65, 51-65, 20-69, 20-69, 15-84, 15-84, 15-84, 15-84, 15-84, 15-84, 15-84, 15-84, 15-84, 15-84, 15-84, 15-84, 15-84, 15-84, 15-84, 15-84, 15-84, 15-84, 15-84, 15-84, 15-84, 15-84, 15-84, 15-84, 15-84, 15-84, 15-84, 15-84, 15-84, 15-84, 15-84, 15-84, 15-84, 15-84, 15-84, 15-84, 15-84, 15-84, 15-84, 15-84, 15-84, 15-84, 15-84, 15-84, 15-84, 15-84, 15-84, 15-84, 15-84, 15-84, 15-84, 15-84, 15-84, 15-84, 15-84, 15-84, 15-84, 15-84, 15-84, 15-84, 15-84, 15-84, 15-84, 15-84, 15-84, 15-84, 15-84, 15-84, 15-84, 15-84, 15-84, 15-84, 15-84, 15-84, 15-84, 15-84, 15-84, 15-84, 15-84, 15-84, 15-84, 15-84, 15-84, 15-84, 15-84, 15-84, 15-84, 15-84, 15-84, 15-84, 15-84, 15-84, 15-84, 15-84, 15-84, 15-84, 15-84, 15-84, 15-84, 15-84, 15-84, 15-84, 15-84, 15-84, 15-84, 15-84, 15-84, 15-84, 15-84, 15-84, 15-84, 15-84, 15-84, 15-84, 15-84, 15-84, 15-84, 15-84, 15-84, 15-84, 15-84, 15-84, 15-84, 15-84, 15-84, 15-84, 15-84, 15-84, 15-84, 15-84, 15-84, 15-84, 15-84, 15-84, 15-84, 15-84, 15-84, 15-84, 15-84, 15-84, 15-84, 15-84, 15-84, 15-84, 15-84, 15-84, 15-84, 15-84, 15-84, 15-84, 15-84, 15-84, 15-84, 15-84, 15-84, 15-84, 15-84, 15-84, 15-84, 15-84, 15-84, 15-84, 15-84, 15-84, 15-84, 15-84, 15-84, 15-84, 15-84, 15-84, 15-84, 15-84, 15-84, 15-84, 15-84, 15-84, 15-84, 15-84, 15-84, 15-84, 15-84, 15-84, 15-84, 15-84, 15-84, 15-84, 15-84, 30-34, 30-34, 35-39, 25-29, 30-34, 40-44, 20-69, 30-39, 50-59, 30-39, 40-44, 35-39, 45-49, 40-44, 20-69, 20-69, 20-69, 20-69, 20-69, 20-69, 20-69, 20-69, 20-69, 20-69, 20-69, 20-69, 20-69, 20-69, 20-69, 19-59, 19-59, 30-54, 30-54, 35-39, 30-34, 30-34, 15-64, 15-64, 15-64, 15-64, 15-64, 15-64, 15-64, 15-64, 15-64, 15-64, 15-64, 15-64, 15-64, 15-64, 15-64, 15-64, 15-64, 15-64, 15-64, 15-64, 15-64, 15-64, 15-64, 15-64, 15-64, 15-64, 15-64, 15-64, 15-64, 15-64, 15-64, 15-64, 15-64, 15-64, 15-64, 15-64, 15-64, 15-64, 15-64, 15-64, 15-64, 15-64, 20-69, 20-69, 20-69, 20-69, 20-69, 20-69, 20-69, 20-69, 20-69, 20-69, 20-69, 20-69, 20-69, 20-69, 20-69, 20-69, 20-69, 20-69, 20-69, 20-69, 20-69, 20-69, 20-69, 20-69, 20-69, 20-69, 20-69, 20-69, 20-69, 20-69, 20-69, 20-69, 20-69, 20-69, 20-69, 20-69, 20-69, 20-69, 20-69, 20-69, 20-69, 20-69, 20-69, 20-69, 20-69, 20-69, 20-69, 20-69, 20-69, 20-69, 20-69, 20-69, 20-69, 20-69, 20-69, 20-69, 20-69, 20-69, 20-69, 20-69, 20-69, 20-69, 20-69, 20-69, 20-69, 20-69, 20-69, 20-69, 20-69, 20-69, 20-69, 20-69, 20-69, 20-69, 20-69, 20-69, 20-69, 20-69, 20-69, 20-69, 20-69, 20-69, 20-69, 20-69, 20-69, 20-69, 20-69, 20-69, 20-69, 20-69, 20-69, 20-69, 20-69, 20-69, 20-69, 20-69, 20-69, 20-69, 20-69, 20-69, 20-69, 20-69, 20-69, 20-69, 20-69, 20-69, 20-69, 20-69, 20-69, 20-69, 20-69, 20-69, 20-69, 20-69, 20-69, 20-69, 20-69, 20-69, 20-69, 20-69, 20-69, 20-69, 20-69, 20-69, 20-69, 20-69, 20-69, 20-69, 20-69, 20-69, 20-69, 20-69, 20-69, 20-69, 20-69, 20-69, 20-69, 20-69, 20-69, 20-69, 20-69, 20-69, 20-69, 20-69, 20-69, 20-69, 20-69, 20-69, 20-69, 20-69, 20-69, 20-69, 20-69, 20-69, 20-69, 20-69, 20-69, 20-69, 20-69, 20-69, 20-69, 20-69, 20-69, 20-69, 20-69, 20-69, 20-69, 20-69, 20-69, 20-69, 20-69, 20-69, 20-69, 20-69, 20-69, 20-69, 20-69, 20-69, 20-69, 20-69, 20-69, 20-69, 20-69, 20-69, 20-69, 20-69, 20-69, 20-69, 20-69, 20-69, 20-69, 20-69, 20-69, 20-69, 20-69, 20-69, 20-69, 20-69, 20-69, 20-69, 20-69, 20-69, 20-69, 20-69, 20-69, 20-69, 20-69, 20-69, 20-69, 20-69, 20-69, 20-69, 20-69, 20-69, 20-69, 20-69, 20-69, 20-69, 20-69, 20-69, 20-69, 20-69, 20-69, 20-69, 20-69, 30-34, 40-44, 30-34, 35-39, 25-29, 35-39, 30-34, 51-65, 36-50, 20-35, 20-35, 30-39, 30-34, 30-34, 20-24, 20-54, 20-54, 20-54, 20-54, 20-54, 20-54, 30-54, 30-54, 30-54, 20-49, 1-69, 1-69, 1-69, 1-69, 1-69, 1-69, 1-69, 1-69, 1-69, 1-69, 1-69, 1-69, 1-69, 1-69, 1-69, 1-69, 1-69, 1-69, 1-69, 1-69, 1-69, 1-69, 1-69, 1-69, 1-69, 1-69, 1-69, 1-69, 1-69, 1-69, 1-69, 1-69, 1-69, 1-69, 1-69, 1-69, 1-69, 35-39, 30-34, 40-44, 20-24, 35-39, 35-39, 25-29, 50-54, 15-19, 20-59, 20-59, 20-59, 20-59, 20-59, 20-59, 20-59, 30-35, 20-65, 20-65, 20-65, 20-65, 20-65, 20-65, 20-65, 20-65, 20-65, 20-65, 20-65, 20-65, 20-65, 20-65, 20-65, 20-65, 20-65, 20-65, 20-65, 46-50, 20-25, 23-50, 23-50, 30-54, 20-44, 20-44, 20-44, 20-44, 20-99, 20-99, 20-46, 20-46, 20-46, 20-46, 20-46, 20-46, 20-46, 20-46, 20-46, 20-46, 20-46, 20-46, 20-46, 25-39, 45-49, 25-29, 30-39, 35-39, 0-9, 0-9, 20-49, 20-49, 20-49, 20-49, 20-49, 30-35, 24-29, 23-50, 0-59, 0-59, 0-59, 0-59, 0-59, 0-59, 0-59, 0-59, 0-59, 0-59, 0-59, 0-59, 0-59, 0-59, 0-59, 0-59, 0-59, 0-59, 0-59, 0-59, 0-59, 0-59, 0-59, 0-59, 0-59, 0-59, 0-59, 0-59, 0-59, 0-59, 0-59, 0-59, 0-59, 0-59, 20-59, 20-59, 20-59, 20-59, 23-50, 23-50, 23-50, 23-50, 19-59, 19-59, 19-59, 19-59, 19-59, 19-59, 19-59, 19-59, 19-59, 20-24, 25-29, 30-54, 30-54, 30-54, 25-44, 25-44, 25-44, 25-44, 25-44, 20-24, 30-34, 40-44, 25-30, 30-39, 30-34, 45-49, 30-59, 30-59, 30-59, 30-34, 20-59, 20-59, 20-59, 30-34, 20-49, 20-49, 20-49, 15-19, 35-39, 40-44, 50-54, 20-54, 20-54, 20-54, 20-54, 20-54, 20-54, 20-54, 20-54, 20-54, 20-54, 20-59, 20-59, 20-59, 20-59, 20-59, 20-59, 20-59, 20-59, 20-59, 20-59, 20-59, 20-59, 20-59, 20-59, 20-59, 20-59, 20-59, 20-59, 20-59, 20-59, 20-59, 20-59, 20-59, 20-59, 20-59, 20-59, 20-59, 20-59, 20-59, 20-59, 20-59, 20-59, 20-59, 20-59, 20-59, 20-59, 20-59, 20-99, 20-99, 20-99, 20-99, 20-99, 20-99, 20-99, 20-99, 20-99, 20-59, 20-59, 20-59, 15-20, 40-45, 20-24, 40-44, 30-34, 40-44, 40-44, 20-24, 15-20, 35-39, 40-44, 25-29, 35-39, 55-59, 35-39, 23-50, 23-50, 30-34, 30-34, 30-34, 25-29, 40-49, 19-59, 23-50, 23-50, 23-50, 30-34, 20-99, 20-99, 20-99, 20-99, 20-99, 20-99, 20-99, 20-99, 20-99, 20-99, 20-99, 20-99, 20-99, 20-99, 20-99, 20-99, 20-99, 20-99, 20-99, 20-99, 20-99, 20-99, 20-99, 20-99, 20-99, 20-99, 20-99, 20-99, 20-99, 20-99, 20-99, 20-99, 20-99, 20-99, 20-99, 20-99, 20-99, 20-99, 20-99, 20-99, 20-99, 20-99, 20-99, 20-99, 20-99, 20-99, 20-59, 20-59, 20-59, 20-59, 20-59, 20-59, 20-59, 20-65, 20-65, 20-65, 20-65, 20-65, 20-65, 20-65, 20-65, 20-65, 26-30, 40-44, 20-24, 26-30, 25-29, 50-54, 20-25, 20-25, 22-59, 22-59, 22-59, 22-59, 22-59, 22-59, 20-59, 20-59, 20-59, 20-59, 20-59, 20-59, 20-59, 20-59, 20-59, 20-59, 20-59, 20-59, 20-59, 20-59, 20-59, 20-59, 20-59, 20-59, 20-59, 20-69, 20-69, 20-69, 20-69, 20-69, 20-69, 20-69, 20-69, 25-29, 30-34, 25-39, 20-29, 30-39, 25-29, 20-24, 30-34, 23-50, 23-50, 23-50, 23-50, 23-50, 23-50, 20-29, 20-44, 20-44, 20-44, 20-44, 20-44, 20-44, 20-44, 20-44, 20-44, 20-44, 20-44, 20-44, 20-44, 20-49, 20-49, 20-49, 40-49, 20-64, 20-64, 20-64, 20-64, 20-64, 20-64, 20-64, 20-64, 20-64, 20-64, 20-64, 30-34, 20-69, 20-69, 20-69, 20-69, 20-69, 20-69, 20-69, 20-69, 20-69, 20-69, 20-69, 20-69, 20-69, 20-69, 20-69, 20-69, 20-69, 20-69, 20-69, 20-69, 20-69, 20-69, 20-69, 20-69, 20-69, 20-69, 20-69, 19-59, 19-59, 23-50, 23-50, 23-50, 35-39, 20-24, 25-39, 30-39, 15-59, 15-59, 15-59, 15-59, 15-59, 15-59, 15-59, 20-59, 20-59, 35-40, 20-69, 20-69, 20-69, 20-69, 20-69, 20-69, 20-69, 20-69, 20-69, 20-69, 20-69, 20-69, 20-69, 20-69, 20-69, 20-69, 20-69, 20-69, 20-69, 20-69, 20-69, 20-69, 20-69, 20-69, 20-69, 20-69, 0-49, 0-49, 0-69, 0-49, 0-49, 0-49, 0-49, 0-49, 25-29, 0-49, 0-29, 22-43, 22-43, 22-43, 22-43, 20-24, 20-25, 30-34, 0-49, 0-49, 0-49, 0-49, 0-49, 0-49, 0-49, 0-49, 0-49, 0-49, 0-49, 0-69, 0-69, 0-69, 0-69, 0-69, 20-64, 20-64, 20-64, 20-64, 20-64, 20-64, 20-64, 20-64, 20-64, 20-64, 20-64, 20-64, 20-64, 25-29, 25-29, 25-29, 31-44, 23-50, 23-50, 23-50, 23-50, 23-50, 23-50, 23-50, 23-50, 23-50, 23-50, 23-50, 0-14, 19-59, 19-59, 55-59, 30-34, 25-29, 20-44, 20-44, 20-44, 20-44, 20-44, 20-44, 20-44, 20-44, 25-29, 25-29, 55-59, 35-39, 0-69, 0-69, 0-69, 0-69, 0-69, 0-69, 0-69, 0-69, 0-69, 0-69, 0-69, 0-69, 0-69, 0-69, 0-69, 0-69, 0-69, 0-69, 0-69, 0-69, 0-69, 0-69, 0-69, 0-69, 0-69, 0-69, 0-69, 0-69, 0-69, 0-69, 0-69, 0-69, 0-69, 0-69, 0-69, 0-69, 0-69, 0-69, 0-69, 0-69, 0-69, 0-69, 0-69, 35-39, 25-29, 20-24, 50-54, 30-60, 19-59, 19-59, 0-69, 0-69, 0-69, 0-69, 0-69, 30-34, 50-59, 20-24, 40-44, 19-59, 19-59, 45-49, 30-34, 29-43, 29-43, 29-43, 20-24, 35-39, 50-54, 30-34, 19-59, 19-59, 25-29, 25-52, 29-43, 29-43, 29-43, 25-29, 20-69, 20-69, 20-69, 20-69, 20-69, 20-69, 20-69, 20-69, 20-69, 20-69, 20-69, 20-69, 20-69, 20-69, 20-69, 20-69, 20-69, 20-69, 20-69, 20-69, 20-69, 20-69, 20-69, 20-69, 20-69, 20-69, 20-69, 20-69, 20-69, 20-69, 20-69, 45-49, 25-29, 60-64, 19-59, 19-59, 25-29, 30-34, 30-34, 30-34, 30-34, 25-29, 25-52, 25-52, 20-24, 35-39, 35-39, 20-59, 20-59, 20-59, 20-59, 20-59, 20-59, 20-59, 25-52, 25-52, 15-64, 15-64, 15-64, 15-64, 20-24, 40-44, 25-52, 25-52, 25-52, 30-40, 25-29, 25-29, 50-54, 50-54, 30-34, 20-59, 20-59, 20-59, 20-59, 20-59, 20-59, 20-59, 20-59, 20-59, 20-59, 20-59, 20-59, 20-59, 20-59, 20-59, 20-59, 20-59, 20-59, 20-59, 20-59, 20-59, 20-59, 20-59, 20-59, 20-59, 40-44, 36-42, 36-42, 36-42, 36-42, 30-34, 18-61, 18-61, 18-61, 18-61, 18-61, 18-61, 18-61, 18-61, 18-61, 18-61, 18-61, 18-61, 18-61, 18-61, 18-61, 18-61, 18-61, 18-61, 18-61, 18-61, 18-61, 18-61, 18-61, 18-61, 18-61, 18-61, 18-61, 18-61, 18-61, 18-61, 18-61, 18-61, 18-61, 18-61, 18-61, 18-61, 18-61, 18-61, 18-61, 18-61, 18-61, 18-61, 18-61, 18-61, 25-29, 25-29, 20-24, 25-52, 35-39, 40-44, 25-29, 30-34, 65-69, 25-29, 30-34, 25-29, 35-39, 21-54, 21-54, 21-54, 21-54, 21-54, 21-54, 21-54, 21-54, 21-54, 20-59, 20-59, 20-59, 20-59, 20-59, 20-59, 40-49, 0-39, 0-39, 0-39, 0-39, 0-39, 0-39, 0-39, 0-39, 0-39, 0-39, 0-39, 0-39, 0-39, 0-39, 0-39, 0-39, 0-39, 0-39, 0-39, 0-39, 0-39, 0-39, 0-39, 0-39, 0-39, 0-39, 0-39, 0-39, 0-39, 0-39, 0-39, 41-45]|\n",
            "+--------------------------------------------------------------------------------------------------------------------------------------------------------------------------------------------------------------------------------------------------------------------------------------------------------------------------------------------------------------------------------------------------------------------------------------------------------------------------------------------------------------------------------------------------------------------------------------------------------------------------------------------------------------------------------------------------------------------------------------------------------------------------------------------------------------------------------------------------------------------------------------------------------------------------------------------------------------------------------------------------------------------------------------------------------------------------------------------------------------------------------------------------------------------------------------------------------------------------------------------------------------------------------------------------------------------------------------------------------------------------------------------------------------------------------------------------------------------------------------------------------------------------------------------------------------------------------------------------------------------------------------------------------------------------------------------------------------------------------------------------------------------------------------------------------------------------------------------------------------------------------------------------------------------------------------------------------------------------------------------------------------------------------------------------------------------------------------------------------------------------------------------------------------------------------------------------------------------------------------------------------------------------------------------------------------------------------------------------------------------------------------------------------------------------------------------------------------------------------------------------------------------------------------------------------------------------------------------------------------------------------------------------------------------------------------------------------------------------------------------------------------------------------------------------------------------------------------------------------------------------------------------------------------------------------------------------------------------------------------------------------------------------------------------------------------------------------------------------------------------------------------------------------------------------------------------------------------------------------------------------------------------------------------------------------------------------------------------------------------------------------------------------------------------------------------------------------------------------------------------------------------------------------------------------------------------------------------------------------------------------------------------------------------------------------------------------------------------------------------------------------------------------------------------------------------------------------------------------------------------------------------------------------------------------------------------------------------------------------------------------------------------------------------------------------------------------------------------------------------------------------------------------------------------------------------------------------------------------------------------------------------------------------------------------------------------------------------------------------------------------------------------------------------------------------------------------------------------------------------------------------------------------------------------------------------------------------------------------------------------------------------------------------------------------------------------------------------------------------------------------------------------------------------------------------------------------------------------------------------------------------------------------------------------------------------------------------------------------------------------------------------------------------------------------------------------------------------------------------------------------------------------------------------------------------------------------------------------------------------------------------------------------------------------------------------------------------------------------------------------------------------------------------------------------------------------------------------------------------------------------------------------------------------------------------------------------------------------------------------------------------------------------------------------------------------------------------------------------------------------------------------------------------------------------------------------------------------------------------------------------------------------------------------------------------------------------------------------------------------------------------------------------------------------------------------------------------------------------------------------------------------------------------------------------------------------------------------------------------------------------------------------------------------------------------------------------------------------------------------------------------------------------------------------------------------------------------------------------------------------------------------------------------------------------------------------------------------------------------------------------------------------------------------------------------------------------------------------------------------------------------------------------------------------------------------------------------------------------------------------------------------------------------------------------------------------------------------------------------------------------------------------------------------------------------------------------------------------------------------------------------------------------------------------------------------------------------------------------------------------------------------------------------------------------------------------------------------------------------------------------------------------------------------------------------------------------------------------------------------------------------------------------------------------------------------------------------------------------------------------------------------------------------------------------------------------------------------------------------------------------------------------------------------------------------------------------------------------------------------------------------------------------------------------------------------------------------------------------------------------------------------------------------------------------------------------------------------------------------------------------------------------------------------------------------------------------------------------------------------------------------------------------------------------------------------------------------------------------------------------------------------------------------------------------------------------------------------------------------------------------------------------------------------------------------------------------------------------------------------------------------------------------------------------------------------------------------------------------------------------------------------------------------------------------------------------------------------------------------------------------------------------------------------------------------------------------------------------------------------------------------------------------------------------------------------------------------------------------------------------------------------------------------------------------------------------------------------------------------------------------------------------------------------------------------------------------------------------------------------------------------------------------------------------------------------------------------------------------------------------------------------------------------------------------------------------------------------------------------------------------------------------------------------------------------------------------------------------------------------------------------------------------------------------------------------------------------------------------------------------------------------------------------------------------------------------------------------------------------------------------------------------------------------------------------------------------------------------------------------------------------------------------------------------------------------------------------------------------------------------------------------------------------------------------------------------------------------------------------------------------------------------------------------------------------------------------------------------------------------------------------------------------------------------------------------------------------------------------------------------------------------------------------------------------------------------------------------------------------------------------------------------------------------------------------------------------------------------------------------------------------------------------------------------------------------------------------------------------------------------------------------------------------------------------------------------------------------------------------------------------------------------------------------------------------------------------------------------------------------------------------------------------------------------------------------------------------------------------------------------------------------------------------------------------------------------------------------------------------------------------------------------------------------------------------------------------------------------------------------------------------------------------------------------------------------------------------------------------------------------------------------------------------------------------------------------------------------------------------------------------------------------------------------------------------------------------------------------------------------------------------------------------------------------------------------------------------------------------------------------------------------------------------------------------------------------------------------------------------------------------------------------------------------------------------------------------------------------------------------------------------------------------------------------------------------------------------------------------------------------------------------------------------------------------------------------------------------------------------------------------------------------------------------------------------------------------------------------------------------------------------------------------------------------------------------------------------------------------------------------------------------------------------------------------------------------------------------------------------------------------------------------------------------------------------------------------------------------------------------------------------------------------------------------------------------------------------------------------------------------------------------------------------------------------------------------------------------------------------------------------------------------------------------------------------------------------------------------------------------------------------------------------------------------------------------------------------------------------------------------------------------------------------------------------------------------------------------------------------------------------------------------------------------------------------------------------------------------------------------------------------------------------------------------------------------------------------------------------------------------------------------------------------------------------------------------------------------------------------------------------------------------------------------------------------------------------------------------------------------------------------------------------------------------------------------------------------------------------------------------------------------------------------------------------------------------------------------------------------------------------------------------------------------------------------------------------------------------------------------------------------------------------------------------------------------------------------------------------------------------------------------------------------------------------------------------------------------------------------------------------------------------------------------------------------------------------------------------------------------------------------------------------------------------------------------------------------------------------------------------------------------------------------------------------------------------------------------------------------------------------------------------------------------------------------------------------------------------------------------------------------------------------------------------------------------------------------------------------------------------------------------------------------------------------------------------------------------------------------------------------------------------------------------------------------------------------------------------------------------------------------------------------------------------------------------------------------------------------------------------------------------------------------------------------------------------------------------------------------------------------------------------------------------------------------------------------------------------------------------------------------------------------------------------------------------------------------------------------------------------------------------------------------------------------------------------------------------------------------------------------------------------------------------------------------------------------------------------------------------------------------------------------------------------------------------------------------------------------------------------------------------------------------------------------------------------------------------------------------------------------------------------------------------------------------------------------------------------------------------------------------------------------------------------------------------------------------------------------------------------------------------------------------------------------------------------------------------------------------------------------------------------------------------------------------------------------------------------------------------------------------------------------------------------------------------------------------------------------------------------------------------------------------------------------------------------------------------------------------------------------------------------------------------------------------------------------------------------------------------------------------------------------------------------------------------------------------------------------------------------------------------------------------------------------------------------------------------------------------------------------------------------------------------------------------------------------------------------------------------------------------------------------------------------------------------------------------------------------------------------------------------------------------------------------------------------------------------------------------------------------------------------------------------------------------------------------------------------------------------------------------------------------------------------------------------------------------------------------------------------------------------------------------------------------------------------------------------------------------------------------------------------------------------------------------------------------------------------------------------------------------------------------------------------------------------------------------------------------------------------------------------------------------------------------------------------------------------------------------------------------------------------------------------------------------------------------------------------------------------------------------------------------------------------------------------------------------------------------------------------------------------------------------------------------------------------------------------------------------------------------------------------------------------------------------------------------------------------------------------------------------------------------------------------------------------------------------------------------------------------------------------------------------------------------------------------------------------------------------------------------------------------------------------------------------------------------------------------------------------------------------------------------------------------------------------------------------------------------------------------------------------------------------------------------------------------------------------------------------------------------------------------------------------------------------------------------------------------------------------------------------------------------------------------------------------------------------------------------------------------------------------------------------------------------------------------------------------------------------------------------------------------------------------------------------------------------------------------------------------------------------------------------------------------------------------------------------------------------------------------------------------------------------------------------------------------------------------------------------------------------------------------------------------------------------------------------------------------------------------------------------------------------------------------------------------------------------------------------------------------------------------------------------------------------------------------------------------------------------------------------------------------------------------------------------------------------------------------------------------------------------------------------------------------------------------------------------------------------------------------------------------------------------------------------------------------------------------------------------------------------------------------------------------------------------------------------------------------------------------------------------------------------------------------------------------------------------+\n",
            "\n"
          ]
        }
      ]
    },
    {
      "cell_type": "code",
      "source": [
        "monkeypoxdf.groupBy(\"Age\").agg(countDistinct('Country')) \\\n",
        "    .show(96)"
      ],
      "metadata": {
        "colab": {
          "base_uri": "https://localhost:8080/"
        },
        "id": "aSbsZ2otZm9B",
        "outputId": "01005eb5-b89e-4629-a404-30c68ec04c86"
      },
      "execution_count": 22,
      "outputs": [
        {
          "output_type": "stream",
          "name": "stdout",
          "text": [
            "+-----+-----------------------+\n",
            "|  Age|count(DISTINCT Country)|\n",
            "+-----+-----------------------+\n",
            "|  5-9|                      2|\n",
            "|20-40|                      1|\n",
            "|50-55|                      1|\n",
            "|20-24|                     19|\n",
            "|20-59|                      4|\n",
            "|15-69|                      1|\n",
            "|45-54|                      1|\n",
            "|29-43|                      1|\n",
            "|51-65|                      1|\n",
            "|20-69|                      4|\n",
            "|30-50|                      1|\n",
            "|23-46|                      1|\n",
            "|25-39|                      2|\n",
            "|65-69|                      4|\n",
            "|41-45|                      1|\n",
            "|15-39|                      1|\n",
            "|30-39|                     10|\n",
            "|25-44|                      1|\n",
            "|20-39|                      2|\n",
            "| null|                    111|\n",
            "|  0-9|                      1|\n",
            "|40-45|                      2|\n",
            "| 0-49|                      2|\n",
            "|30-49|                      2|\n",
            "|22-59|                      1|\n",
            "| 0-59|                      1|\n",
            "|20-29|                      5|\n",
            "|45-50|                      1|\n",
            "|55-64|                      1|\n",
            "|22-55|                      1|\n",
            "|19-24|                      1|\n",
            "|25-30|                      1|\n",
            "|21-54|                      1|\n",
            "|20-25|                      2|\n",
            "|35-40|                      2|\n",
            "|30-35|                      2|\n",
            "| 0-39|                      1|\n",
            "|20-64|                      5|\n",
            "|20-44|                      2|\n",
            "|30-34|                     26|\n",
            "|30-59|                      2|\n",
            "|30-54|                      2|\n",
            "|46-50|                      1|\n",
            "|24-29|                      1|\n",
            "|36-42|                      1|\n",
            "| 0-29|                      1|\n",
            "|26-54|                      1|\n",
            "|25-52|                      1|\n",
            "|18-61|                      1|\n",
            "|35-44|                      1|\n",
            "|15-20|                      2|\n",
            "| 1-69|                      1|\n",
            "|25-34|                      1|\n",
            "|28-43|                      1|\n",
            "| 0-14|                      1|\n",
            "|20-46|                      1|\n",
            "|20-35|                      1|\n",
            "|25-53|                      1|\n",
            "|15-74|                      1|\n",
            "|  0-5|                      1|\n",
            "|20-62|                      1|\n",
            "|36-50|                      1|\n",
            "|40-49|                      6|\n",
            "|70-74|                      1|\n",
            "|40-42|                      1|\n",
            "|15-19|                      4|\n",
            "|10-14|                      2|\n",
            "|19-59|                      1|\n",
            "|31-59|                      1|\n",
            "|29-41|                      1|\n",
            "|20-54|                      2|\n",
            "|30-40|                      1|\n",
            "|25-49|                      1|\n",
            "|23-50|                      1|\n",
            "| 0-69|                      1|\n",
            "|50-54|                      7|\n",
            "|35-39|                     21|\n",
            "|20-60|                      1|\n",
            "|26-30|                      2|\n",
            "|45-49|                      9|\n",
            "|20-50|                      1|\n",
            "|30-60|                      1|\n",
            "|20-99|                      1|\n",
            "|20-65|                      1|\n",
            "|15-59|                      1|\n",
            "|25-29|                     24|\n",
            "|50-59|                      4|\n",
            "|31-44|                      1|\n",
            "|20-49|                      3|\n",
            "|40-44|                     21|\n",
            "|15-84|                      1|\n",
            "|55-59|                      3|\n",
            "|34-46|                      1|\n",
            "|15-64|                      2|\n",
            "|22-43|                      1|\n",
            "|60-64|                      3|\n",
            "+-----+-----------------------+\n",
            "\n"
          ]
        }
      ]
    },
    {
      "cell_type": "markdown",
      "source": [
        "##### Lista com todos os sintomas registrados no Dataframe"
      ],
      "metadata": {
        "id": "m6W_rcbgvBMi"
      }
    },
    {
      "cell_type": "code",
      "source": [
        "monkeypoxdf.select(collect_list(\"Symptoms\")).show(truncate=False)"
      ],
      "metadata": {
        "colab": {
          "base_uri": "https://localhost:8080/"
        },
        "id": "JC3I5aDyvJkp",
        "outputId": "31a2891e-67d6-476e-868f-f8e4986c2e22"
      },
      "execution_count": 23,
      "outputs": [
        {
          "output_type": "stream",
          "name": "stdout",
          "text": [
            "+--------------------------------------------------------------------------------------------------------------------------------------------------------------------------------------------------------------------------------------------------------------------------------------------------------------------------------------------------------------------------------------------------------------------------------------------------------------------------------------------------------------------------------------------------------------------------------------------------------------------------------------------------------------------------------------------------------------------------------------------------------------------------------------------------------------------------------------------------------------------------------------------------------------------------------------------------------------------------------------------------------------------------------------------------------------------------------------------------------------------------------------------------------------------------------------------------------------------------------------------------------------------------------------------------------------------------------------------------------------------------------------------------------------------------------------------------------------------------------------------------------------------------------------------------------------------------------------------------------------------------------------------------------------------------------------------------------------------------------------------------------------------------------------------------------------------------------------------------------------------------------------------------------------------------------------------------------------------------------------------------------------------------------------------------------------------------------------------------------------------------------------------------------------------------------------------------------------------------------------------------------------------------------------------------------------------------------------------------------------------------------------------------------------------------------------------------------------------------------------------------------------------------------------------------------------------------------------------------------------------------------------------------------------------------------------------------------------------------------------------------------------------------------------------------------------------------------------------------------------------------------------------------------------------------------------------------------------------------------------------------------------------------------------------------------------------------------------------------------------------------------------------------------------------------------------------------------------------------------------------------------------------------------------------------------------------------------------------------------------------------------------------------------------------------------------------------------------------------------------------------------------------------------------------------------------------------------------------------------------------------------------------------------------------------------------------------------------------------------------------------------------------------------------------------------------------------------------------------------------------------------------------------------------------------------------------------------------------------------------------------------------------------------------------------------------------------------------------------------------------------------------------------------------------------------------------------------------------------------------------------------------------------------------------------------------------------------------------------------------------------------------------------------------------------------------------------------------------------------------------------------------------------------------------------------------------------------------------------------------------------------------------------------------------------------------------------------------------------------------------------------------------------------------------------------------------------------------------------------------------------------------------------------------------------------------------------------------------------------------------------------------------------------------------------------------------------------------------------------------------------------------------------------------------------------------------------------------------------------------------------------------------------------------------------------------------------------------------------------------------------------------------------------------------------------------------------------------------------------------------------------------------------------------------------------------------------------------------------------------------------------------------------------------------------------------------------------------------------------------------------------------------------------------------------------------------------------------------------------------------------------------------------------------------------------------------------------------------------------------------------------------------------------------------------------------------------------------------------------------------------------------------+\n",
            "|collect_list(Symptoms)                                                                                                                                                                                                                                                                                                                                                                                                                                                                                                                                                                                                                                                                                                                                                                                                                                                                                                                                                                                                                                                                                                                                                                                                                                                                                                                                                                                                                                                                                                                                                                                                                                                                                                                                                                                                                                                                                                                                                                                                                                                                                                                                                                                                                                                                                                                                                                                                                                                                                                                                                                                                                                                                                                                                                                                                                                                                                                                                                                                                                                                                                                                                                                                                                                                                                                                                                                                                                                                                                                                                                                                                                                                                                                                                                                                                                                                                                                                                                                                                                                                                                                                                                                                                                                                                                                                                                                                                                                                                                                                                                                                                                                                                                                                                                                                                                                                                                                                                                                                                                                                                                                                                                                                                                                                                                                                                                                                                                                                                                                                                                                                                                                                                                                                                                                                                                                                                                                                                                                                                                                                                                                                      |\n",
            "+--------------------------------------------------------------------------------------------------------------------------------------------------------------------------------------------------------------------------------------------------------------------------------------------------------------------------------------------------------------------------------------------------------------------------------------------------------------------------------------------------------------------------------------------------------------------------------------------------------------------------------------------------------------------------------------------------------------------------------------------------------------------------------------------------------------------------------------------------------------------------------------------------------------------------------------------------------------------------------------------------------------------------------------------------------------------------------------------------------------------------------------------------------------------------------------------------------------------------------------------------------------------------------------------------------------------------------------------------------------------------------------------------------------------------------------------------------------------------------------------------------------------------------------------------------------------------------------------------------------------------------------------------------------------------------------------------------------------------------------------------------------------------------------------------------------------------------------------------------------------------------------------------------------------------------------------------------------------------------------------------------------------------------------------------------------------------------------------------------------------------------------------------------------------------------------------------------------------------------------------------------------------------------------------------------------------------------------------------------------------------------------------------------------------------------------------------------------------------------------------------------------------------------------------------------------------------------------------------------------------------------------------------------------------------------------------------------------------------------------------------------------------------------------------------------------------------------------------------------------------------------------------------------------------------------------------------------------------------------------------------------------------------------------------------------------------------------------------------------------------------------------------------------------------------------------------------------------------------------------------------------------------------------------------------------------------------------------------------------------------------------------------------------------------------------------------------------------------------------------------------------------------------------------------------------------------------------------------------------------------------------------------------------------------------------------------------------------------------------------------------------------------------------------------------------------------------------------------------------------------------------------------------------------------------------------------------------------------------------------------------------------------------------------------------------------------------------------------------------------------------------------------------------------------------------------------------------------------------------------------------------------------------------------------------------------------------------------------------------------------------------------------------------------------------------------------------------------------------------------------------------------------------------------------------------------------------------------------------------------------------------------------------------------------------------------------------------------------------------------------------------------------------------------------------------------------------------------------------------------------------------------------------------------------------------------------------------------------------------------------------------------------------------------------------------------------------------------------------------------------------------------------------------------------------------------------------------------------------------------------------------------------------------------------------------------------------------------------------------------------------------------------------------------------------------------------------------------------------------------------------------------------------------------------------------------------------------------------------------------------------------------------------------------------------------------------------------------------------------------------------------------------------------------------------------------------------------------------------------------------------------------------------------------------------------------------------------------------------------------------------------------------------------------------------------------------------------------------------------------------------------------------+\n",
            "|[rash, rash, vesicular rash, vesicular rash, vesicular rash, vesicular rash, vesicular rash, skin lesions, ulcerative lesions, skin lesions, ulcerative lesions, skin lesions, ulcerative lesions, skin lesions, ulcerative lesions, skin lesions, ulcerative lesions, ulcerative lesions, ulcerative lesions, ulcerative lesions, ulcerative lesions, ulcerative lesions, ulcerative lesions, ulcerative lesions, ulcerative lesions, ulcerative lesions, ulcerative lesions, ulcerative lesions, ulcerative lesions, ulcerative lesions, ulcerative lesions, ulcerative lesions, oral and genital ulcers, fever, oral and genital ulcers, fever, oral and genital ulcers, fever, oral and genital ulcers, fever, oral and genital ulcers, fever, oral and genital ulcers, fever, oral and genital ulcers, fever, oral and genital ulcers, fever, oral and genital ulcers, fever, oral and genital ulcers, fever, oral and genital ulcers, fever, oral and genital ulcers, fever, oral and genital ulcers, fever, lesions, oral and genital ulcers, fever, oral and genital ulcers, fever, oral and genital ulcers, fever, oral and genital ulcers, fever, perianal papules; inguinal adenopathy, genital ulcers, genital ulcers, genital ulcers, genital ulcers, genital ulcers, genital rash, Slight swallowing difficulties and an elevated temperature, fever, rash, skin rashes, fever, lesions, pustules, fever, skin lesions, fever, cough, skin lesions, fever, pustules on hands, body pains, fever, pustules on hands, body pains, blisters, high fever, genital ulcer lesions, genital ulcer lesions, genital ulcer lesions, genital ulcer lesions, genital ulcer lesions, genital ulcer lesions, genital ulcer lesions, genital ulcer lesions, genital ulcer lesions, genital ulcer lesions, genital ulcer lesions, genital ulcer lesions, genital ulcer lesions, genital ulcer lesions, genital ulcer lesions, genital ulcer lesions, genital ulcer lesions, genital ulcer lesions, genital ulcer lesions, genital ulcer lesions, genital ulcer lesions, genital ulcer lesions, genital ulcer lesions, genital ulcer lesions, genital ulcer lesions, genital ulcer lesions, genital ulcer lesions, genital ulcer lesions, genital ulcer lesions, genital ulcer lesions, muscle aches, fever, skin lesions, blisters, fever, skin lesions, ulcerative lesions, erythema with vesicles and papules, difficulty breathing, headache, fever, skin lesions, spots on skin, severe anemia, skin lesions, headaches, enlarged lymph nodes, fever, fever, fatigue, headache, muscle pain, skin rashes, dysphagia, muscle pain, fever, decreased physical strength, enlarged lymph nodes, skin lesions, fever, outbreak on the skin, hands, and chest, Fever, skin rashes, fever, skin lesions, skin lesions, skin lesions, Fever, chills, fatigue, headache, skin lesions, fever, muscle pain, rash, headache, muscle pain, skin lesions in the area of the lower and outer extremities, rash, fever, cough, chills, muscle pain, pustule-like lesions, skin lesions, fever, adenomegaly, fever; myalgia, itch; rash, rash on the skin, rash on the skin, headache, skin lesions, headache, skin lesions, fever, skin lesions, fever, headache, muscle pain, back pain, vasicular rashes, papules, itching, papules, itching, fever, muscle and joint pain, skin lesions, skin lesions, Spots on skin, vesicuated lesions, skin scabs, fever, swollen lymph nodes, vesicular rash, Headache, mild fever, chilling, sore throat, skin rash, lesions, headache, fever, skin rashes, fever; rash, fever, adenomegaly, skin rash, fever, skin rash, fever, sore throat, rash, fever, skin lesions, swelling of lymph nodes, isolated skin lesions, fever, headache, malaise, Three lesions typical of monkeypox, lower abdomen skin lesions, fatigue, swollen lymph nodes, fever, general discomfort, vesicles, rashes typical of Monkeypox, rashes in the groin area, fever, Rash, muscle ache, fatigue, fever, headache, myalgia, asthenia, postules and scabs on the skin, mild symptoms, characteristic symptoms of Monkeypox, Swelling, fever, rash, diarrhea, Rashes in the perianal region, fever, Genital rashes, Fatigue, sore throat, skin manifestations, Pain urinating, fever, rash and blisters, Malaise, headache, ulcers, loss of appetite, rash, body pains, fever, Vesicles, Fatigue, headache, fever, Fatigue, headache, fever, Lesions, Rash, Rash, Rash, Rash, Rash, Rash, Rash, Rash, Rash, Rash, Rash, Rash, Rash, Rash, fever, lymphadenopathy, Rash , Rash, fever, Rash, fever, Perianal rash, fever, Perianal rash, fever, headache, myalgia, fever, rash, headache, myalgias, fatigue, fever, lesions, myalgias, postules, fatigue, fever, skin manifestations, fatigue, skin manifestations, skin manifestations, encephalitis, encephalitis, rash, headache, myalgias, fatigue, symptoms compatible with monkeypox, blisters, fever, fever, fever, blisters on limbs and genitals, fever, skin lesions, headache, fatigue, rashes, fatigue, malaise, fever, diarrhea, skin lesions, pustules, Swollen lymph nodes, rash, back pain, rash, general weakness, fever, skin rashes, headache, fever, joint pain, vesicular lesions on face, blisters, Fever, vesicular lesions, Vesicular skin lesions, Skin lesions, Skin lesions, malaise, skin lesions, genital blisters, mild fever, red bumps, blisters on hands, arms, face, private parts, fever, sore throat, skin lesions, fever, general malaise, joint pain, vesicular lesions, headache, fever, general malaise, sore throat and later lesions, severe sore throat, difficulty swallowing, skin rash, lymphadenopathy, papular and vesicular lesions, fever, chills, headache, muscle pain, swollen lymph nodes in neck, vesicle-like lesions, sore throat, high temperature, swollen lymph nodes, muscle soreness, skin pustules, skin lesions, Fever, rash, Fever, sore throat, Skin rash, Fever, rash, fever, chills, headache, fatigue, muscle aches, back pain, loss of appetite, rash, blisters, Skin lesions, fever, sore throat, Fever, rash]|\n",
            "+--------------------------------------------------------------------------------------------------------------------------------------------------------------------------------------------------------------------------------------------------------------------------------------------------------------------------------------------------------------------------------------------------------------------------------------------------------------------------------------------------------------------------------------------------------------------------------------------------------------------------------------------------------------------------------------------------------------------------------------------------------------------------------------------------------------------------------------------------------------------------------------------------------------------------------------------------------------------------------------------------------------------------------------------------------------------------------------------------------------------------------------------------------------------------------------------------------------------------------------------------------------------------------------------------------------------------------------------------------------------------------------------------------------------------------------------------------------------------------------------------------------------------------------------------------------------------------------------------------------------------------------------------------------------------------------------------------------------------------------------------------------------------------------------------------------------------------------------------------------------------------------------------------------------------------------------------------------------------------------------------------------------------------------------------------------------------------------------------------------------------------------------------------------------------------------------------------------------------------------------------------------------------------------------------------------------------------------------------------------------------------------------------------------------------------------------------------------------------------------------------------------------------------------------------------------------------------------------------------------------------------------------------------------------------------------------------------------------------------------------------------------------------------------------------------------------------------------------------------------------------------------------------------------------------------------------------------------------------------------------------------------------------------------------------------------------------------------------------------------------------------------------------------------------------------------------------------------------------------------------------------------------------------------------------------------------------------------------------------------------------------------------------------------------------------------------------------------------------------------------------------------------------------------------------------------------------------------------------------------------------------------------------------------------------------------------------------------------------------------------------------------------------------------------------------------------------------------------------------------------------------------------------------------------------------------------------------------------------------------------------------------------------------------------------------------------------------------------------------------------------------------------------------------------------------------------------------------------------------------------------------------------------------------------------------------------------------------------------------------------------------------------------------------------------------------------------------------------------------------------------------------------------------------------------------------------------------------------------------------------------------------------------------------------------------------------------------------------------------------------------------------------------------------------------------------------------------------------------------------------------------------------------------------------------------------------------------------------------------------------------------------------------------------------------------------------------------------------------------------------------------------------------------------------------------------------------------------------------------------------------------------------------------------------------------------------------------------------------------------------------------------------------------------------------------------------------------------------------------------------------------------------------------------------------------------------------------------------------------------------------------------------------------------------------------------------------------------------------------------------------------------------------------------------------------------------------------------------------------------------------------------------------------------------------------------------------------------------------------------------------------------------------------------------------------------------------------------------------------------------------------------------+\n",
            "\n"
          ]
        }
      ]
    },
    {
      "cell_type": "code",
      "source": [
        "monkeypoxdf.groupBy(\"Symptoms\").agg(countDistinct('Country')) \\\n",
        "    .show(122)"
      ],
      "metadata": {
        "colab": {
          "base_uri": "https://localhost:8080/"
        },
        "id": "KFw-E689vln1",
        "outputId": "aac53519-2059-4dc1-fc5f-73f92a4ce8c7"
      },
      "execution_count": 24,
      "outputs": [
        {
          "output_type": "stream",
          "name": "stdout",
          "text": [
            "+--------------------+-----------------------+\n",
            "|            Symptoms|count(DISTINCT Country)|\n",
            "+--------------------+-----------------------+\n",
            "|headache, skin le...|                      1|\n",
            "|Perianal rash, fever|                      1|\n",
            "|Fever, chills, fa...|                      1|\n",
            "|headache, muscle ...|                      1|\n",
            "|fever, general ma...|                      1|\n",
            "|fever, outbreak o...|                      1|\n",
            "|                rash|                      2|\n",
            "|rash, body pains,...|                      1|\n",
            "|genital ulcer les...|                      1|\n",
            "|             lesions|                      1|\n",
            "|characteristic sy...|                      1|\n",
            "| skin manifestations|                      1|\n",
            "|      fever, lesions|                      2|\n",
            "|symptoms compatib...|                      1|\n",
            "|headache, muscle ...|                      1|\n",
            "|                Rash|                      1|\n",
            "|      fever; myalgia|                      1|\n",
            "|Spots on skin, ve...|                      1|\n",
            "|         skin rashes|                      1|\n",
            "|                null|                    123|\n",
            "|  ulcerative lesions|                      2|\n",
            "|fever, general di...|                      1|\n",
            "|  myalgias, postules|                      1|\n",
            "|fever, chills, he...|                      1|\n",
            "|muscle aches, fev...|                      1|\n",
            "|blisters, high fever|                      1|\n",
            "|Fatigue, headache...|                      1|\n",
            "|    genital blisters|                      1|\n",
            "|skin lesions, ulc...|                      1|\n",
            "|oral and genital ...|                      1|\n",
            "|Malaise, headache...|                      1|\n",
            "| fever, skin lesions|                      4|\n",
            "|headache, fever, ...|                      1|\n",
            "|            Vesicles|                      1|\n",
            "|papular and vesic...|                      1|\n",
            "|fatigue, fever, s...|                      1|\n",
            "|Pain urinating, f...|                      1|\n",
            "|skin lesions, hea...|                      1|\n",
            "|fever, headache, ...|                      1|\n",
            "|fever, cough, ski...|                      1|\n",
            "|mild fever, red b...|                      1|\n",
            "|Perianal rash, fe...|                      1|\n",
            "|         Rash, fever|                      1|\n",
            "|skin lesions, fev...|                      1|\n",
            "|  Fever, sore throat|                      1|\n",
            "|fever, headache, ...|                      1|\n",
            "|fatigue, skin man...|                      1|\n",
            "|Skin lesions, fev...|                      1|\n",
            "|papules, itching,...|                      1|\n",
            "|fever, adenomegal...|                      1|\n",
            "|swelling of lymph...|                      1|\n",
            "|         Fever, rash|                      2|\n",
            "|     blisters, fever|                      1|\n",
            "|fever, chills, he...|                      1|\n",
            "|fatigue, malaise,...|                      1|\n",
            "|    papules, itching|                      1|\n",
            "|skin rashes, dysp...|                      1|\n",
            "|erythema with ves...|                      1|\n",
            "|fever, pustules o...|                      1|\n",
            "|        Skin lesions|                      1|\n",
            "|         fever; rash|                      1|\n",
            "|          itch; rash|                      1|\n",
            "|            blisters|                      2|\n",
            "|lower abdomen ski...|                      1|\n",
            "|headache, fever, ...|                      1|\n",
            "|        genital rash|                      1|\n",
            "|    fever, skin rash|                      1|\n",
            "|skin lesions, spo...|                      1|\n",
            "|      vesicular rash|                      1|\n",
            "|rashes in the gro...|                      1|\n",
            "|headache, myalgia...|                      1|\n",
            "|        encephalitis|                      1|\n",
            "|malaise, skin les...|                      1|\n",
            "|Swelling, fever, ...|                      1|\n",
            "|Swollen lymph nod...|                      1|\n",
            "|      Genital rashes|                      1|\n",
            "|headache, fatigue...|                      1|\n",
            "|    rash on the skin|                      1|\n",
            "|       mild symptoms|                      1|\n",
            "|rashes typical of...|                      1|\n",
            "|fever, sore throa...|                      1|\n",
            "|         fever, rash|                      2|\n",
            "|               fever|                      2|\n",
            "|             Lesions|                      1|\n",
            "|perianal papules;...|                      1|\n",
            "|fever, muscle pai...|                      1|\n",
            "|     pustules, fever|                      1|\n",
            "|Fatigue, sore thr...|                      1|\n",
            "|        skin lesions|                      5|\n",
            "|Fever, vesicular ...|                      1|\n",
            "|           Skin rash|                      1|\n",
            "|fever, sore throa...|                      1|\n",
            "|severe sore throa...|                      1|\n",
            "|Headache, mild fe...|                      1|\n",
            "|fever, swollen ly...|                      1|\n",
            "|Vesicular skin le...|                      1|\n",
            "|         rash, fever|                      1|\n",
            "|rash, headache, m...|                      1|\n",
            "|               Rash |                      1|\n",
            "|Rash, fever, lymp...|                      1|\n",
            "|sore throat, high...|                      1|\n",
            "|fever, blisters o...|                      1|\n",
            "| skin lesions, fever|                      1|\n",
            "|headache, fever, ...|                      1|\n",
            "|Slight swallowing...|                      1|\n",
            "|Rashes in the per...|                      1|\n",
            "|cough, chills, mu...|                      1|\n",
            "|general weakness,...|                      1|\n",
            "|fever, fatigue, h...|                      1|\n",
            "|      genital ulcers|                      1|\n",
            "|  Fever, skin rashes|                      1|\n",
            "|Rash, muscle ache...|                      1|\n",
            "|Three lesions typ...|                      1|\n",
            "+--------------------+-----------------------+\n",
            "\n"
          ]
        }
      ]
    },
    {
      "cell_type": "markdown",
      "source": [
        "#### Rankings presentes nas colunas mais importantes do dataframe"
      ],
      "metadata": {
        "id": "-it0K7u8przG"
      }
    },
    {
      "cell_type": "markdown",
      "source": [
        "##### Ranking dos 20 países com maior número de casos registrados"
      ],
      "metadata": {
        "id": "6q8ZimM4pS9_"
      }
    },
    {
      "cell_type": "code",
      "source": [
        "monkeypoxdf.createOrReplaceTempView(\"MonkeypoxRank1\")\n",
        "spark.sql(\"select Country, count(Status) as count_Status from MonkeypoxRank1 \" +\n",
        "          \"group by Country having count_Status >= 1 \"\n",
        "          \"order by count_Status desc\").show(20)"
      ],
      "metadata": {
        "colab": {
          "base_uri": "https://localhost:8080/"
        },
        "id": "KA4JVeN6Th0-",
        "outputId": "39072f2e-ee72-48fa-9015-aff6b8d70a2b"
      },
      "execution_count": 84,
      "outputs": [
        {
          "output_type": "stream",
          "name": "stdout",
          "text": [
            "+--------------------+------------+\n",
            "|             Country|count_Status|\n",
            "+--------------------+------------+\n",
            "|       United States|       24663|\n",
            "|              Brazil|        7347|\n",
            "|               Spain|        7269|\n",
            "|              France|        3961|\n",
            "|             Germany|        3590|\n",
            "|             England|        3412|\n",
            "|Democratic Republ...|        3048|\n",
            "|                Peru|        2254|\n",
            "|            Colombia|        1653|\n",
            "|              Canada|        1488|\n",
            "|              Mexico|        1369|\n",
            "|         Netherlands|        1221|\n",
            "|            Portugal|         908|\n",
            "|               Italy|         846|\n",
            "|               Chile|         787|\n",
            "|             Belgium|         757|\n",
            "|             Nigeria|         704|\n",
            "|         Switzerland|         503|\n",
            "|               Ghana|         402|\n",
            "|           Argentina|         328|\n",
            "+--------------------+------------+\n",
            "only showing top 20 rows\n",
            "\n"
          ]
        }
      ]
    },
    {
      "cell_type": "markdown",
      "source": [
        "##### Ranking das 20 faixas de idade com mais casos registrados"
      ],
      "metadata": {
        "id": "_lq5MIvLp8ar"
      }
    },
    {
      "cell_type": "markdown",
      "source": [
        "###### Faixa etária adotada seguindo a prática classificaçao etária em estudos científicos com dados de doenças x idade em datasets que apresentam inconsistência na catalogação dos registros da idade de pacientes"
      ],
      "metadata": {
        "id": "kADIO4UEPrTN"
      }
    },
    {
      "cell_type": "code",
      "source": [
        "monkeypoxFaixa = spark.createDataFrame([(\"Crianças\",\"0 a 12 anos\"),(\"Adolescentes\",\"13 a 19 anos\"),(\"Adultos\",\"20 a 95 anos\")],[\"Classificação\",\"Faixa etária\"])\n",
        "monkeypoxFaixa.show()\n",
        "\n",
        "monkeypoxdf.createOrReplaceTempView(\"MonkeypoxAgeRank\")\n",
        "spark.sql(\"select Age, count(Country) as count_Age from MonkeypoxAgeRank \" +\n",
        "          \"group by Age having count_Age >= 1 \" + \n",
        "          \"order by count_Age desc\").show(20)"
      ],
      "metadata": {
        "colab": {
          "base_uri": "https://localhost:8080/"
        },
        "id": "DddgY-HzQPXA",
        "outputId": "0b0de254-ddb9-4782-e3dc-2bd809ef9103"
      },
      "execution_count": 26,
      "outputs": [
        {
          "output_type": "stream",
          "name": "stdout",
          "text": [
            "+-------------+------------+\n",
            "|Classificação|Faixa etária|\n",
            "+-------------+------------+\n",
            "|     Crianças| 0 a 12 anos|\n",
            "| Adolescentes|13 a 19 anos|\n",
            "|      Adultos|20 a 95 anos|\n",
            "+-------------+------------+\n",
            "\n",
            "+-----+---------+\n",
            "|  Age|count_Age|\n",
            "+-----+---------+\n",
            "| null|    66574|\n",
            "|20-69|      616|\n",
            "|15-64|      275|\n",
            "|20-59|      244|\n",
            "|15-74|      240|\n",
            "|20-64|      225|\n",
            "|15-84|      187|\n",
            "|15-69|      184|\n",
            "|30-34|       75|\n",
            "|20-44|       60|\n",
            "|25-29|       58|\n",
            "|20-99|       57|\n",
            "| 0-69|       54|\n",
            "|35-39|       46|\n",
            "|18-61|       44|\n",
            "|40-44|       42|\n",
            "| 1-69|       37|\n",
            "|19-59|       36|\n",
            "| 0-59|       34|\n",
            "|23-50|       32|\n",
            "+-----+---------+\n",
            "only showing top 20 rows\n",
            "\n"
          ]
        }
      ]
    },
    {
      "cell_type": "code",
      "source": [
        "monkeypoxAgedf=spark.createDataFrame([(\"1\",\"null\",\"null\",66574),(\"2\",\"20-69\",\"adulto\",616),(\"3\",\"15-64\",\"indeterminado\",275),(\"4\",\"15-64\",\"indeterminado\",275),(\"5\",\"20-59\",\"adulto\",244),(\"6\",\"15-74\",\"indeterminado\",240),(\"7\",\"20-64\",\"adulto\",225), (\"8\",\"15-84\",\"indeterminado\",187),(\"9\",\"15-69\",\"indeterminado\",184),(\"10\",\"30-34\",\"adulto\",75),(\"11\",\"20-44\",\"adulto\",60),(\"12\",\"25-29\",\"adulto\",58),(\"13\",\"20-99\",\"adulto\",57),(\"14\",\"0-69\",\"indeterminado\",54),(\"15\",\"35-39\",\"adulto\",46),(\"16\",\"18-61\",\"indeterminado\",44),(\"17\",\"40-44\",\"adulto\",42),(\"18\",\"1-69\",\"indeterminado\",37),(\"19\",\"19-59\",\"indeterminado\",36),(\"20\",\"0-59\",\"indeterminado\",34),(\"21\",\"23-50\",\"adulto\",32)],[\"ID\",\"Faixa_etaria\",\"Classificacao\",\"Quantidade\"])\n",
        "monkeypoxAgedf.show(20)"
      ],
      "metadata": {
        "colab": {
          "base_uri": "https://localhost:8080/"
        },
        "id": "dWsgYfnMKQTf",
        "outputId": "52b8e446-6c0a-460b-e096-0a04edf3d67d"
      },
      "execution_count": 27,
      "outputs": [
        {
          "output_type": "stream",
          "name": "stdout",
          "text": [
            "+---+------------+-------------+----------+\n",
            "| ID|Faixa_etaria|Classificacao|Quantidade|\n",
            "+---+------------+-------------+----------+\n",
            "|  1|        null|         null|     66574|\n",
            "|  2|       20-69|       adulto|       616|\n",
            "|  3|       15-64|indeterminado|       275|\n",
            "|  4|       15-64|indeterminado|       275|\n",
            "|  5|       20-59|       adulto|       244|\n",
            "|  6|       15-74|indeterminado|       240|\n",
            "|  7|       20-64|       adulto|       225|\n",
            "|  8|       15-84|indeterminado|       187|\n",
            "|  9|       15-69|indeterminado|       184|\n",
            "| 10|       30-34|       adulto|        75|\n",
            "| 11|       20-44|       adulto|        60|\n",
            "| 12|       25-29|       adulto|        58|\n",
            "| 13|       20-99|       adulto|        57|\n",
            "| 14|        0-69|indeterminado|        54|\n",
            "| 15|       35-39|       adulto|        46|\n",
            "| 16|       18-61|indeterminado|        44|\n",
            "| 17|       40-44|       adulto|        42|\n",
            "| 18|        1-69|indeterminado|        37|\n",
            "| 19|       19-59|indeterminado|        36|\n",
            "| 20|        0-59|indeterminado|        34|\n",
            "+---+------------+-------------+----------+\n",
            "only showing top 20 rows\n",
            "\n"
          ]
        }
      ]
    },
    {
      "cell_type": "code",
      "source": [
        "monkeypoxAgedf1 = [{\"id\":\"1\",\"Faixa_etaria\":\"null\",\"Classificacao\":\"null\",\"Quantidade\":66574},\n",
        "                    {\"id\":\"2\",\"Faixa_etaria\":\"20-69\",\"Classificacao\":\"adulto\",\"Quantidade\":616},\n",
        "                    {\"id\":\"3\",\"Faixa_etaria\":\"15-64\",\"Classificacao\":\"indeterminado\",\"Quantidade\":275},\n",
        "                    {\"id\":\"4\",\"Faixa_etaria\":\"15-64\",\"Classificacao\":\"indeterminado\",\"Quantidade\":275},\n",
        "                    {\"id\":\"5\",\"Faixa_etaria\":\"20-59\",\"Classificacao\":\"adulto\",\"Quantidade\":244},\n",
        "                    {\"id\":\"6\",\"Faixa_etaria\":\"15-74\",\"Classificacao\":\"indeterminado\",\"Quantidade\":240},\n",
        "                    {\"id\":\"7\",\"Faixa_etaria\":\"20-64\",\"Classificacao\":\"adulto\",\"Quantidade\":225},\n",
        "                    {\"id\":\"8\",\"Faixa_etaria\":\"15-84\",\"Classificacao\":\"indeterminado\",\"Quantidade\":187},\n",
        "                    {\"id\":\"9\",\"Faixa_etaria\":\"15-69\",\"Classificacao\":\"indeterminado\",\"Quantidade\":184},\n",
        "                    {\"id\":\"10\",\"Faixa_etaria\":\"30-34\",\"Classificacao\":\"adulto\",\"Quantidade\":75},\n",
        "                    {\"id\":\"11\",\"Faixa_etaria\":\"20-44\",\"Classificacao\":\"adulto\",\"Quantidade\":60},\n",
        "                    {\"id\":\"12\",\"Faixa_etaria\":\"25-29\",\"Classificacao\":\"adulto\",\"Quantidade\":58},\n",
        "                    {\"id\":\"13\",\"Faixa_etaria\":\"20-99\",\"Classificacao\":\"adulto\",\"Quantidade\":57},\n",
        "                    {\"id\":\"14\",\"Faixa_etaria\":\"0-69\",\"Classificacao\":\"indeterminado\",\"Quantidade\":54},\n",
        "                    {\"id\":\"15\",\"Faixa_etaria\":\"35-39\",\"Classificacao\":\"adulto\",\"Quantidade\":46},\n",
        "                    {\"id\":\"16\",\"Faixa_etaria\":\"18-61\",\"Classificacao\":\"indeterminado\",\"Quantidade\":44},\n",
        "                    {\"id\":\"17\",\"Faixa_etaria\":\"40-44\",\"Classificacao\":\"adulto\",\"Quantidade\":42},\n",
        "                    {\"id\":\"18\",\"Faixa_etaria\":\"1-69\",\"Classificacao\":\"indeterminado\",\"Quantidade\":37},\n",
        "                    {\"id\":\"19\",\"Faixa_etaria\":\"19-59\",\"Classificacao\":\"indeterminado\",\"Quantidade\":36},\n",
        "                    {\"id\":\"20\",\"Faixa_etaria\":\"0-59\",\"Classificacao\":\"indeterminado\",\"Quantidade\":34},\n",
        "                    {\"id\":\"21\",\"Faixa_etaria\":\"23-50\",\"Classificacao\":\"adulto\",\"Quantidade\":32}]\n",
        "\n",
        "monkeypoxAgedf1 = spark.createDataFrame(monkeypoxAgedf1)\n",
        "\n",
        "#get the sum of cost column groued by item\n",
        "monkeypoxAgedf1.groupBy('Classificacao').sum('Quantidade').show(20)"
      ],
      "metadata": {
        "colab": {
          "base_uri": "https://localhost:8080/"
        },
        "id": "j7YxLJa-lVvZ",
        "outputId": "e3b2e35b-3434-4ac8-bffd-4be0a57ae604"
      },
      "execution_count": 28,
      "outputs": [
        {
          "output_type": "stream",
          "name": "stderr",
          "text": [
            "spark-2.4.4-bin-hadoop2.7/python/pyspark/sql/session.py:346: UserWarning: inferring schema from dict is deprecated,please use pyspark.sql.Row instead\n",
            "  warnings.warn(\"inferring schema from dict is deprecated,\"\n"
          ]
        },
        {
          "output_type": "stream",
          "name": "stdout",
          "text": [
            "+-------------+---------------+\n",
            "|Classificacao|sum(Quantidade)|\n",
            "+-------------+---------------+\n",
            "|indeterminado|           1366|\n",
            "|       adulto|           1455|\n",
            "|         null|          66574|\n",
            "+-------------+---------------+\n",
            "\n"
          ]
        }
      ]
    },
    {
      "cell_type": "code",
      "source": [
        "import plotly.express as px \n",
        "import numpy \n",
        "random_x = [1366,1455,66574] \n",
        "names = ['indeterminado','adulto','null'] \n",
        "  \n",
        "fig = px.pie(values=random_x, names=names) \n",
        "fig.show()"
      ],
      "metadata": {
        "colab": {
          "base_uri": "https://localhost:8080/",
          "height": 542
        },
        "id": "SPuPogvgsvWD",
        "outputId": "ec2f3167-6948-4725-a5d6-1289e0c8eda4"
      },
      "execution_count": 29,
      "outputs": [
        {
          "output_type": "display_data",
          "data": {
            "text/html": [
              "<html>\n",
              "<head><meta charset=\"utf-8\" /></head>\n",
              "<body>\n",
              "    <div>            <script src=\"https://cdnjs.cloudflare.com/ajax/libs/mathjax/2.7.5/MathJax.js?config=TeX-AMS-MML_SVG\"></script><script type=\"text/javascript\">if (window.MathJax && window.MathJax.Hub && window.MathJax.Hub.Config) {window.MathJax.Hub.Config({SVG: {font: \"STIX-Web\"}});}</script>                <script type=\"text/javascript\">window.PlotlyConfig = {MathJaxConfig: 'local'};</script>\n",
              "        <script src=\"https://cdn.plot.ly/plotly-2.14.0.min.js\"></script>                <div id=\"aeab9ba0-6ffd-4ecc-bdde-818cf33d26c2\" class=\"plotly-graph-div\" style=\"height:525px; width:100%;\"></div>            <script type=\"text/javascript\">                                    window.PLOTLYENV=window.PLOTLYENV || {};                                    if (document.getElementById(\"aeab9ba0-6ffd-4ecc-bdde-818cf33d26c2\")) {                    Plotly.newPlot(                        \"aeab9ba0-6ffd-4ecc-bdde-818cf33d26c2\",                        [{\"domain\":{\"x\":[0.0,1.0],\"y\":[0.0,1.0]},\"hovertemplate\":\"label=%{label}<br>value=%{value}<extra></extra>\",\"labels\":[\"indeterminado\",\"adulto\",\"null\"],\"legendgroup\":\"\",\"name\":\"\",\"showlegend\":true,\"values\":[1366,1455,66574],\"type\":\"pie\"}],                        {\"template\":{\"data\":{\"histogram2dcontour\":[{\"type\":\"histogram2dcontour\",\"colorbar\":{\"outlinewidth\":0,\"ticks\":\"\"},\"colorscale\":[[0.0,\"#0d0887\"],[0.1111111111111111,\"#46039f\"],[0.2222222222222222,\"#7201a8\"],[0.3333333333333333,\"#9c179e\"],[0.4444444444444444,\"#bd3786\"],[0.5555555555555556,\"#d8576b\"],[0.6666666666666666,\"#ed7953\"],[0.7777777777777778,\"#fb9f3a\"],[0.8888888888888888,\"#fdca26\"],[1.0,\"#f0f921\"]]}],\"choropleth\":[{\"type\":\"choropleth\",\"colorbar\":{\"outlinewidth\":0,\"ticks\":\"\"}}],\"histogram2d\":[{\"type\":\"histogram2d\",\"colorbar\":{\"outlinewidth\":0,\"ticks\":\"\"},\"colorscale\":[[0.0,\"#0d0887\"],[0.1111111111111111,\"#46039f\"],[0.2222222222222222,\"#7201a8\"],[0.3333333333333333,\"#9c179e\"],[0.4444444444444444,\"#bd3786\"],[0.5555555555555556,\"#d8576b\"],[0.6666666666666666,\"#ed7953\"],[0.7777777777777778,\"#fb9f3a\"],[0.8888888888888888,\"#fdca26\"],[1.0,\"#f0f921\"]]}],\"heatmap\":[{\"type\":\"heatmap\",\"colorbar\":{\"outlinewidth\":0,\"ticks\":\"\"},\"colorscale\":[[0.0,\"#0d0887\"],[0.1111111111111111,\"#46039f\"],[0.2222222222222222,\"#7201a8\"],[0.3333333333333333,\"#9c179e\"],[0.4444444444444444,\"#bd3786\"],[0.5555555555555556,\"#d8576b\"],[0.6666666666666666,\"#ed7953\"],[0.7777777777777778,\"#fb9f3a\"],[0.8888888888888888,\"#fdca26\"],[1.0,\"#f0f921\"]]}],\"heatmapgl\":[{\"type\":\"heatmapgl\",\"colorbar\":{\"outlinewidth\":0,\"ticks\":\"\"},\"colorscale\":[[0.0,\"#0d0887\"],[0.1111111111111111,\"#46039f\"],[0.2222222222222222,\"#7201a8\"],[0.3333333333333333,\"#9c179e\"],[0.4444444444444444,\"#bd3786\"],[0.5555555555555556,\"#d8576b\"],[0.6666666666666666,\"#ed7953\"],[0.7777777777777778,\"#fb9f3a\"],[0.8888888888888888,\"#fdca26\"],[1.0,\"#f0f921\"]]}],\"contourcarpet\":[{\"type\":\"contourcarpet\",\"colorbar\":{\"outlinewidth\":0,\"ticks\":\"\"}}],\"contour\":[{\"type\":\"contour\",\"colorbar\":{\"outlinewidth\":0,\"ticks\":\"\"},\"colorscale\":[[0.0,\"#0d0887\"],[0.1111111111111111,\"#46039f\"],[0.2222222222222222,\"#7201a8\"],[0.3333333333333333,\"#9c179e\"],[0.4444444444444444,\"#bd3786\"],[0.5555555555555556,\"#d8576b\"],[0.6666666666666666,\"#ed7953\"],[0.7777777777777778,\"#fb9f3a\"],[0.8888888888888888,\"#fdca26\"],[1.0,\"#f0f921\"]]}],\"surface\":[{\"type\":\"surface\",\"colorbar\":{\"outlinewidth\":0,\"ticks\":\"\"},\"colorscale\":[[0.0,\"#0d0887\"],[0.1111111111111111,\"#46039f\"],[0.2222222222222222,\"#7201a8\"],[0.3333333333333333,\"#9c179e\"],[0.4444444444444444,\"#bd3786\"],[0.5555555555555556,\"#d8576b\"],[0.6666666666666666,\"#ed7953\"],[0.7777777777777778,\"#fb9f3a\"],[0.8888888888888888,\"#fdca26\"],[1.0,\"#f0f921\"]]}],\"mesh3d\":[{\"type\":\"mesh3d\",\"colorbar\":{\"outlinewidth\":0,\"ticks\":\"\"}}],\"scatter\":[{\"fillpattern\":{\"fillmode\":\"overlay\",\"size\":10,\"solidity\":0.2},\"type\":\"scatter\"}],\"parcoords\":[{\"type\":\"parcoords\",\"line\":{\"colorbar\":{\"outlinewidth\":0,\"ticks\":\"\"}}}],\"scatterpolargl\":[{\"type\":\"scatterpolargl\",\"marker\":{\"colorbar\":{\"outlinewidth\":0,\"ticks\":\"\"}}}],\"bar\":[{\"error_x\":{\"color\":\"#2a3f5f\"},\"error_y\":{\"color\":\"#2a3f5f\"},\"marker\":{\"line\":{\"color\":\"#E5ECF6\",\"width\":0.5},\"pattern\":{\"fillmode\":\"overlay\",\"size\":10,\"solidity\":0.2}},\"type\":\"bar\"}],\"scattergeo\":[{\"type\":\"scattergeo\",\"marker\":{\"colorbar\":{\"outlinewidth\":0,\"ticks\":\"\"}}}],\"scatterpolar\":[{\"type\":\"scatterpolar\",\"marker\":{\"colorbar\":{\"outlinewidth\":0,\"ticks\":\"\"}}}],\"histogram\":[{\"marker\":{\"pattern\":{\"fillmode\":\"overlay\",\"size\":10,\"solidity\":0.2}},\"type\":\"histogram\"}],\"scattergl\":[{\"type\":\"scattergl\",\"marker\":{\"colorbar\":{\"outlinewidth\":0,\"ticks\":\"\"}}}],\"scatter3d\":[{\"type\":\"scatter3d\",\"line\":{\"colorbar\":{\"outlinewidth\":0,\"ticks\":\"\"}},\"marker\":{\"colorbar\":{\"outlinewidth\":0,\"ticks\":\"\"}}}],\"scattermapbox\":[{\"type\":\"scattermapbox\",\"marker\":{\"colorbar\":{\"outlinewidth\":0,\"ticks\":\"\"}}}],\"scatterternary\":[{\"type\":\"scatterternary\",\"marker\":{\"colorbar\":{\"outlinewidth\":0,\"ticks\":\"\"}}}],\"scattercarpet\":[{\"type\":\"scattercarpet\",\"marker\":{\"colorbar\":{\"outlinewidth\":0,\"ticks\":\"\"}}}],\"carpet\":[{\"aaxis\":{\"endlinecolor\":\"#2a3f5f\",\"gridcolor\":\"white\",\"linecolor\":\"white\",\"minorgridcolor\":\"white\",\"startlinecolor\":\"#2a3f5f\"},\"baxis\":{\"endlinecolor\":\"#2a3f5f\",\"gridcolor\":\"white\",\"linecolor\":\"white\",\"minorgridcolor\":\"white\",\"startlinecolor\":\"#2a3f5f\"},\"type\":\"carpet\"}],\"table\":[{\"cells\":{\"fill\":{\"color\":\"#EBF0F8\"},\"line\":{\"color\":\"white\"}},\"header\":{\"fill\":{\"color\":\"#C8D4E3\"},\"line\":{\"color\":\"white\"}},\"type\":\"table\"}],\"barpolar\":[{\"marker\":{\"line\":{\"color\":\"#E5ECF6\",\"width\":0.5},\"pattern\":{\"fillmode\":\"overlay\",\"size\":10,\"solidity\":0.2}},\"type\":\"barpolar\"}],\"pie\":[{\"automargin\":true,\"type\":\"pie\"}]},\"layout\":{\"autotypenumbers\":\"strict\",\"colorway\":[\"#636efa\",\"#EF553B\",\"#00cc96\",\"#ab63fa\",\"#FFA15A\",\"#19d3f3\",\"#FF6692\",\"#B6E880\",\"#FF97FF\",\"#FECB52\"],\"font\":{\"color\":\"#2a3f5f\"},\"hovermode\":\"closest\",\"hoverlabel\":{\"align\":\"left\"},\"paper_bgcolor\":\"white\",\"plot_bgcolor\":\"#E5ECF6\",\"polar\":{\"bgcolor\":\"#E5ECF6\",\"angularaxis\":{\"gridcolor\":\"white\",\"linecolor\":\"white\",\"ticks\":\"\"},\"radialaxis\":{\"gridcolor\":\"white\",\"linecolor\":\"white\",\"ticks\":\"\"}},\"ternary\":{\"bgcolor\":\"#E5ECF6\",\"aaxis\":{\"gridcolor\":\"white\",\"linecolor\":\"white\",\"ticks\":\"\"},\"baxis\":{\"gridcolor\":\"white\",\"linecolor\":\"white\",\"ticks\":\"\"},\"caxis\":{\"gridcolor\":\"white\",\"linecolor\":\"white\",\"ticks\":\"\"}},\"coloraxis\":{\"colorbar\":{\"outlinewidth\":0,\"ticks\":\"\"}},\"colorscale\":{\"sequential\":[[0.0,\"#0d0887\"],[0.1111111111111111,\"#46039f\"],[0.2222222222222222,\"#7201a8\"],[0.3333333333333333,\"#9c179e\"],[0.4444444444444444,\"#bd3786\"],[0.5555555555555556,\"#d8576b\"],[0.6666666666666666,\"#ed7953\"],[0.7777777777777778,\"#fb9f3a\"],[0.8888888888888888,\"#fdca26\"],[1.0,\"#f0f921\"]],\"sequentialminus\":[[0.0,\"#0d0887\"],[0.1111111111111111,\"#46039f\"],[0.2222222222222222,\"#7201a8\"],[0.3333333333333333,\"#9c179e\"],[0.4444444444444444,\"#bd3786\"],[0.5555555555555556,\"#d8576b\"],[0.6666666666666666,\"#ed7953\"],[0.7777777777777778,\"#fb9f3a\"],[0.8888888888888888,\"#fdca26\"],[1.0,\"#f0f921\"]],\"diverging\":[[0,\"#8e0152\"],[0.1,\"#c51b7d\"],[0.2,\"#de77ae\"],[0.3,\"#f1b6da\"],[0.4,\"#fde0ef\"],[0.5,\"#f7f7f7\"],[0.6,\"#e6f5d0\"],[0.7,\"#b8e186\"],[0.8,\"#7fbc41\"],[0.9,\"#4d9221\"],[1,\"#276419\"]]},\"xaxis\":{\"gridcolor\":\"white\",\"linecolor\":\"white\",\"ticks\":\"\",\"title\":{\"standoff\":15},\"zerolinecolor\":\"white\",\"automargin\":true,\"zerolinewidth\":2},\"yaxis\":{\"gridcolor\":\"white\",\"linecolor\":\"white\",\"ticks\":\"\",\"title\":{\"standoff\":15},\"zerolinecolor\":\"white\",\"automargin\":true,\"zerolinewidth\":2},\"scene\":{\"xaxis\":{\"backgroundcolor\":\"#E5ECF6\",\"gridcolor\":\"white\",\"linecolor\":\"white\",\"showbackground\":true,\"ticks\":\"\",\"zerolinecolor\":\"white\",\"gridwidth\":2},\"yaxis\":{\"backgroundcolor\":\"#E5ECF6\",\"gridcolor\":\"white\",\"linecolor\":\"white\",\"showbackground\":true,\"ticks\":\"\",\"zerolinecolor\":\"white\",\"gridwidth\":2},\"zaxis\":{\"backgroundcolor\":\"#E5ECF6\",\"gridcolor\":\"white\",\"linecolor\":\"white\",\"showbackground\":true,\"ticks\":\"\",\"zerolinecolor\":\"white\",\"gridwidth\":2}},\"shapedefaults\":{\"line\":{\"color\":\"#2a3f5f\"}},\"annotationdefaults\":{\"arrowcolor\":\"#2a3f5f\",\"arrowhead\":0,\"arrowwidth\":1},\"geo\":{\"bgcolor\":\"white\",\"landcolor\":\"#E5ECF6\",\"subunitcolor\":\"white\",\"showland\":true,\"showlakes\":true,\"lakecolor\":\"white\"},\"title\":{\"x\":0.05},\"mapbox\":{\"style\":\"light\"}}},\"legend\":{\"tracegroupgap\":0},\"margin\":{\"t\":60}},                        {\"responsive\": true}                    ).then(function(){\n",
              "                            \n",
              "var gd = document.getElementById('aeab9ba0-6ffd-4ecc-bdde-818cf33d26c2');\n",
              "var x = new MutationObserver(function (mutations, observer) {{\n",
              "        var display = window.getComputedStyle(gd).display;\n",
              "        if (!display || display === 'none') {{\n",
              "            console.log([gd, 'removed!']);\n",
              "            Plotly.purge(gd);\n",
              "            observer.disconnect();\n",
              "        }}\n",
              "}});\n",
              "\n",
              "// Listen for the removal of the full notebook cells\n",
              "var notebookContainer = gd.closest('#notebook-container');\n",
              "if (notebookContainer) {{\n",
              "    x.observe(notebookContainer, {childList: true});\n",
              "}}\n",
              "\n",
              "// Listen for the clearing of the current output cell\n",
              "var outputEl = gd.closest('.output');\n",
              "if (outputEl) {{\n",
              "    x.observe(outputEl, {childList: true});\n",
              "}}\n",
              "\n",
              "                        })                };                            </script>        </div>\n",
              "</body>\n",
              "</html>"
            ]
          },
          "metadata": {}
        }
      ]
    },
    {
      "cell_type": "code",
      "source": [
        "import plotly.express as px \n",
        "import numpy \n",
        "random_x = [1366,1455] \n",
        "names = ['indeterminado','adulto'] \n",
        "  \n",
        "fig = px.pie(values=random_x, names=names) \n",
        "fig.show()"
      ],
      "metadata": {
        "colab": {
          "base_uri": "https://localhost:8080/",
          "height": 542
        },
        "id": "UjusrAt66A2N",
        "outputId": "218e36b2-945a-4e7c-c1e9-1629beedeb90"
      },
      "execution_count": 81,
      "outputs": [
        {
          "output_type": "display_data",
          "data": {
            "text/html": [
              "<html>\n",
              "<head><meta charset=\"utf-8\" /></head>\n",
              "<body>\n",
              "    <div>            <script src=\"https://cdnjs.cloudflare.com/ajax/libs/mathjax/2.7.5/MathJax.js?config=TeX-AMS-MML_SVG\"></script><script type=\"text/javascript\">if (window.MathJax && window.MathJax.Hub && window.MathJax.Hub.Config) {window.MathJax.Hub.Config({SVG: {font: \"STIX-Web\"}});}</script>                <script type=\"text/javascript\">window.PlotlyConfig = {MathJaxConfig: 'local'};</script>\n",
              "        <script src=\"https://cdn.plot.ly/plotly-2.14.0.min.js\"></script>                <div id=\"6ca8d9e4-dfb4-447e-83f0-09bc8939f3dc\" class=\"plotly-graph-div\" style=\"height:525px; width:100%;\"></div>            <script type=\"text/javascript\">                                    window.PLOTLYENV=window.PLOTLYENV || {};                                    if (document.getElementById(\"6ca8d9e4-dfb4-447e-83f0-09bc8939f3dc\")) {                    Plotly.newPlot(                        \"6ca8d9e4-dfb4-447e-83f0-09bc8939f3dc\",                        [{\"domain\":{\"x\":[0.0,1.0],\"y\":[0.0,1.0]},\"hovertemplate\":\"label=%{label}<br>value=%{value}<extra></extra>\",\"labels\":[\"indeterminado\",\"adulto\"],\"legendgroup\":\"\",\"name\":\"\",\"showlegend\":true,\"values\":[1366,1455],\"type\":\"pie\"}],                        {\"template\":{\"data\":{\"histogram2dcontour\":[{\"type\":\"histogram2dcontour\",\"colorbar\":{\"outlinewidth\":0,\"ticks\":\"\"},\"colorscale\":[[0.0,\"#0d0887\"],[0.1111111111111111,\"#46039f\"],[0.2222222222222222,\"#7201a8\"],[0.3333333333333333,\"#9c179e\"],[0.4444444444444444,\"#bd3786\"],[0.5555555555555556,\"#d8576b\"],[0.6666666666666666,\"#ed7953\"],[0.7777777777777778,\"#fb9f3a\"],[0.8888888888888888,\"#fdca26\"],[1.0,\"#f0f921\"]]}],\"choropleth\":[{\"type\":\"choropleth\",\"colorbar\":{\"outlinewidth\":0,\"ticks\":\"\"}}],\"histogram2d\":[{\"type\":\"histogram2d\",\"colorbar\":{\"outlinewidth\":0,\"ticks\":\"\"},\"colorscale\":[[0.0,\"#0d0887\"],[0.1111111111111111,\"#46039f\"],[0.2222222222222222,\"#7201a8\"],[0.3333333333333333,\"#9c179e\"],[0.4444444444444444,\"#bd3786\"],[0.5555555555555556,\"#d8576b\"],[0.6666666666666666,\"#ed7953\"],[0.7777777777777778,\"#fb9f3a\"],[0.8888888888888888,\"#fdca26\"],[1.0,\"#f0f921\"]]}],\"heatmap\":[{\"type\":\"heatmap\",\"colorbar\":{\"outlinewidth\":0,\"ticks\":\"\"},\"colorscale\":[[0.0,\"#0d0887\"],[0.1111111111111111,\"#46039f\"],[0.2222222222222222,\"#7201a8\"],[0.3333333333333333,\"#9c179e\"],[0.4444444444444444,\"#bd3786\"],[0.5555555555555556,\"#d8576b\"],[0.6666666666666666,\"#ed7953\"],[0.7777777777777778,\"#fb9f3a\"],[0.8888888888888888,\"#fdca26\"],[1.0,\"#f0f921\"]]}],\"heatmapgl\":[{\"type\":\"heatmapgl\",\"colorbar\":{\"outlinewidth\":0,\"ticks\":\"\"},\"colorscale\":[[0.0,\"#0d0887\"],[0.1111111111111111,\"#46039f\"],[0.2222222222222222,\"#7201a8\"],[0.3333333333333333,\"#9c179e\"],[0.4444444444444444,\"#bd3786\"],[0.5555555555555556,\"#d8576b\"],[0.6666666666666666,\"#ed7953\"],[0.7777777777777778,\"#fb9f3a\"],[0.8888888888888888,\"#fdca26\"],[1.0,\"#f0f921\"]]}],\"contourcarpet\":[{\"type\":\"contourcarpet\",\"colorbar\":{\"outlinewidth\":0,\"ticks\":\"\"}}],\"contour\":[{\"type\":\"contour\",\"colorbar\":{\"outlinewidth\":0,\"ticks\":\"\"},\"colorscale\":[[0.0,\"#0d0887\"],[0.1111111111111111,\"#46039f\"],[0.2222222222222222,\"#7201a8\"],[0.3333333333333333,\"#9c179e\"],[0.4444444444444444,\"#bd3786\"],[0.5555555555555556,\"#d8576b\"],[0.6666666666666666,\"#ed7953\"],[0.7777777777777778,\"#fb9f3a\"],[0.8888888888888888,\"#fdca26\"],[1.0,\"#f0f921\"]]}],\"surface\":[{\"type\":\"surface\",\"colorbar\":{\"outlinewidth\":0,\"ticks\":\"\"},\"colorscale\":[[0.0,\"#0d0887\"],[0.1111111111111111,\"#46039f\"],[0.2222222222222222,\"#7201a8\"],[0.3333333333333333,\"#9c179e\"],[0.4444444444444444,\"#bd3786\"],[0.5555555555555556,\"#d8576b\"],[0.6666666666666666,\"#ed7953\"],[0.7777777777777778,\"#fb9f3a\"],[0.8888888888888888,\"#fdca26\"],[1.0,\"#f0f921\"]]}],\"mesh3d\":[{\"type\":\"mesh3d\",\"colorbar\":{\"outlinewidth\":0,\"ticks\":\"\"}}],\"scatter\":[{\"fillpattern\":{\"fillmode\":\"overlay\",\"size\":10,\"solidity\":0.2},\"type\":\"scatter\"}],\"parcoords\":[{\"type\":\"parcoords\",\"line\":{\"colorbar\":{\"outlinewidth\":0,\"ticks\":\"\"}}}],\"scatterpolargl\":[{\"type\":\"scatterpolargl\",\"marker\":{\"colorbar\":{\"outlinewidth\":0,\"ticks\":\"\"}}}],\"bar\":[{\"error_x\":{\"color\":\"#2a3f5f\"},\"error_y\":{\"color\":\"#2a3f5f\"},\"marker\":{\"line\":{\"color\":\"#E5ECF6\",\"width\":0.5},\"pattern\":{\"fillmode\":\"overlay\",\"size\":10,\"solidity\":0.2}},\"type\":\"bar\"}],\"scattergeo\":[{\"type\":\"scattergeo\",\"marker\":{\"colorbar\":{\"outlinewidth\":0,\"ticks\":\"\"}}}],\"scatterpolar\":[{\"type\":\"scatterpolar\",\"marker\":{\"colorbar\":{\"outlinewidth\":0,\"ticks\":\"\"}}}],\"histogram\":[{\"marker\":{\"pattern\":{\"fillmode\":\"overlay\",\"size\":10,\"solidity\":0.2}},\"type\":\"histogram\"}],\"scattergl\":[{\"type\":\"scattergl\",\"marker\":{\"colorbar\":{\"outlinewidth\":0,\"ticks\":\"\"}}}],\"scatter3d\":[{\"type\":\"scatter3d\",\"line\":{\"colorbar\":{\"outlinewidth\":0,\"ticks\":\"\"}},\"marker\":{\"colorbar\":{\"outlinewidth\":0,\"ticks\":\"\"}}}],\"scattermapbox\":[{\"type\":\"scattermapbox\",\"marker\":{\"colorbar\":{\"outlinewidth\":0,\"ticks\":\"\"}}}],\"scatterternary\":[{\"type\":\"scatterternary\",\"marker\":{\"colorbar\":{\"outlinewidth\":0,\"ticks\":\"\"}}}],\"scattercarpet\":[{\"type\":\"scattercarpet\",\"marker\":{\"colorbar\":{\"outlinewidth\":0,\"ticks\":\"\"}}}],\"carpet\":[{\"aaxis\":{\"endlinecolor\":\"#2a3f5f\",\"gridcolor\":\"white\",\"linecolor\":\"white\",\"minorgridcolor\":\"white\",\"startlinecolor\":\"#2a3f5f\"},\"baxis\":{\"endlinecolor\":\"#2a3f5f\",\"gridcolor\":\"white\",\"linecolor\":\"white\",\"minorgridcolor\":\"white\",\"startlinecolor\":\"#2a3f5f\"},\"type\":\"carpet\"}],\"table\":[{\"cells\":{\"fill\":{\"color\":\"#EBF0F8\"},\"line\":{\"color\":\"white\"}},\"header\":{\"fill\":{\"color\":\"#C8D4E3\"},\"line\":{\"color\":\"white\"}},\"type\":\"table\"}],\"barpolar\":[{\"marker\":{\"line\":{\"color\":\"#E5ECF6\",\"width\":0.5},\"pattern\":{\"fillmode\":\"overlay\",\"size\":10,\"solidity\":0.2}},\"type\":\"barpolar\"}],\"pie\":[{\"automargin\":true,\"type\":\"pie\"}]},\"layout\":{\"autotypenumbers\":\"strict\",\"colorway\":[\"#636efa\",\"#EF553B\",\"#00cc96\",\"#ab63fa\",\"#FFA15A\",\"#19d3f3\",\"#FF6692\",\"#B6E880\",\"#FF97FF\",\"#FECB52\"],\"font\":{\"color\":\"#2a3f5f\"},\"hovermode\":\"closest\",\"hoverlabel\":{\"align\":\"left\"},\"paper_bgcolor\":\"white\",\"plot_bgcolor\":\"#E5ECF6\",\"polar\":{\"bgcolor\":\"#E5ECF6\",\"angularaxis\":{\"gridcolor\":\"white\",\"linecolor\":\"white\",\"ticks\":\"\"},\"radialaxis\":{\"gridcolor\":\"white\",\"linecolor\":\"white\",\"ticks\":\"\"}},\"ternary\":{\"bgcolor\":\"#E5ECF6\",\"aaxis\":{\"gridcolor\":\"white\",\"linecolor\":\"white\",\"ticks\":\"\"},\"baxis\":{\"gridcolor\":\"white\",\"linecolor\":\"white\",\"ticks\":\"\"},\"caxis\":{\"gridcolor\":\"white\",\"linecolor\":\"white\",\"ticks\":\"\"}},\"coloraxis\":{\"colorbar\":{\"outlinewidth\":0,\"ticks\":\"\"}},\"colorscale\":{\"sequential\":[[0.0,\"#0d0887\"],[0.1111111111111111,\"#46039f\"],[0.2222222222222222,\"#7201a8\"],[0.3333333333333333,\"#9c179e\"],[0.4444444444444444,\"#bd3786\"],[0.5555555555555556,\"#d8576b\"],[0.6666666666666666,\"#ed7953\"],[0.7777777777777778,\"#fb9f3a\"],[0.8888888888888888,\"#fdca26\"],[1.0,\"#f0f921\"]],\"sequentialminus\":[[0.0,\"#0d0887\"],[0.1111111111111111,\"#46039f\"],[0.2222222222222222,\"#7201a8\"],[0.3333333333333333,\"#9c179e\"],[0.4444444444444444,\"#bd3786\"],[0.5555555555555556,\"#d8576b\"],[0.6666666666666666,\"#ed7953\"],[0.7777777777777778,\"#fb9f3a\"],[0.8888888888888888,\"#fdca26\"],[1.0,\"#f0f921\"]],\"diverging\":[[0,\"#8e0152\"],[0.1,\"#c51b7d\"],[0.2,\"#de77ae\"],[0.3,\"#f1b6da\"],[0.4,\"#fde0ef\"],[0.5,\"#f7f7f7\"],[0.6,\"#e6f5d0\"],[0.7,\"#b8e186\"],[0.8,\"#7fbc41\"],[0.9,\"#4d9221\"],[1,\"#276419\"]]},\"xaxis\":{\"gridcolor\":\"white\",\"linecolor\":\"white\",\"ticks\":\"\",\"title\":{\"standoff\":15},\"zerolinecolor\":\"white\",\"automargin\":true,\"zerolinewidth\":2},\"yaxis\":{\"gridcolor\":\"white\",\"linecolor\":\"white\",\"ticks\":\"\",\"title\":{\"standoff\":15},\"zerolinecolor\":\"white\",\"automargin\":true,\"zerolinewidth\":2},\"scene\":{\"xaxis\":{\"backgroundcolor\":\"#E5ECF6\",\"gridcolor\":\"white\",\"linecolor\":\"white\",\"showbackground\":true,\"ticks\":\"\",\"zerolinecolor\":\"white\",\"gridwidth\":2},\"yaxis\":{\"backgroundcolor\":\"#E5ECF6\",\"gridcolor\":\"white\",\"linecolor\":\"white\",\"showbackground\":true,\"ticks\":\"\",\"zerolinecolor\":\"white\",\"gridwidth\":2},\"zaxis\":{\"backgroundcolor\":\"#E5ECF6\",\"gridcolor\":\"white\",\"linecolor\":\"white\",\"showbackground\":true,\"ticks\":\"\",\"zerolinecolor\":\"white\",\"gridwidth\":2}},\"shapedefaults\":{\"line\":{\"color\":\"#2a3f5f\"}},\"annotationdefaults\":{\"arrowcolor\":\"#2a3f5f\",\"arrowhead\":0,\"arrowwidth\":1},\"geo\":{\"bgcolor\":\"white\",\"landcolor\":\"#E5ECF6\",\"subunitcolor\":\"white\",\"showland\":true,\"showlakes\":true,\"lakecolor\":\"white\"},\"title\":{\"x\":0.05},\"mapbox\":{\"style\":\"light\"}}},\"legend\":{\"tracegroupgap\":0},\"margin\":{\"t\":60}},                        {\"responsive\": true}                    ).then(function(){\n",
              "                            \n",
              "var gd = document.getElementById('6ca8d9e4-dfb4-447e-83f0-09bc8939f3dc');\n",
              "var x = new MutationObserver(function (mutations, observer) {{\n",
              "        var display = window.getComputedStyle(gd).display;\n",
              "        if (!display || display === 'none') {{\n",
              "            console.log([gd, 'removed!']);\n",
              "            Plotly.purge(gd);\n",
              "            observer.disconnect();\n",
              "        }}\n",
              "}});\n",
              "\n",
              "// Listen for the removal of the full notebook cells\n",
              "var notebookContainer = gd.closest('#notebook-container');\n",
              "if (notebookContainer) {{\n",
              "    x.observe(notebookContainer, {childList: true});\n",
              "}}\n",
              "\n",
              "// Listen for the clearing of the current output cell\n",
              "var outputEl = gd.closest('.output');\n",
              "if (outputEl) {{\n",
              "    x.observe(outputEl, {childList: true});\n",
              "}}\n",
              "\n",
              "                        })                };                            </script>        </div>\n",
              "</body>\n",
              "</html>"
            ]
          },
          "metadata": {}
        }
      ]
    },
    {
      "cell_type": "markdown",
      "source": [
        "##### Ranking dos sintomas mais registrados"
      ],
      "metadata": {
        "id": "ABeE1jmjrfzS"
      }
    },
    {
      "cell_type": "code",
      "source": [
        "monkeypoxdf.createOrReplaceTempView(\"MonkeypoxRank4\")\n",
        "spark.sql(\"select Symptoms, count(Country) as count_Country from MonkeypoxRank4 \" +\n",
        "          \"group by Symptoms having count_Country >= 1 \" + \n",
        "          \"order by count_Country desc\").show(10)"
      ],
      "metadata": {
        "colab": {
          "base_uri": "https://localhost:8080/"
        },
        "id": "rRG38JlEtuLo",
        "outputId": "da974a50-a2f7-4716-bd40-2723c9d059a9"
      },
      "execution_count": 30,
      "outputs": [
        {
          "output_type": "stream",
          "name": "stdout",
          "text": [
            "+--------------------+-------------+\n",
            "|            Symptoms|count_Country|\n",
            "+--------------------+-------------+\n",
            "|                null|        69375|\n",
            "|genital ulcer les...|           30|\n",
            "|oral and genital ...|           17|\n",
            "|  ulcerative lesions|           16|\n",
            "|                Rash|           13|\n",
            "|        skin lesions|            7|\n",
            "|skin lesions, ulc...|            5|\n",
            "|      vesicular rash|            5|\n",
            "|      genital ulcers|            5|\n",
            "| fever, skin lesions|            4|\n",
            "+--------------------+-------------+\n",
            "only showing top 10 rows\n",
            "\n"
          ]
        }
      ]
    },
    {
      "cell_type": "code",
      "source": [
        "monkeypoxdf.createOrReplaceTempView(\"MonkeypoxRank5\")\n",
        "spark.sql(\"select Symptoms, count(Country) as count_Country from MonkeypoxRank5 \" +\n",
        "          \"group by Symptoms having count_Country >= 1 \" + \n",
        "          \"order by count_Country desc\").limit(10).toPandas()"
      ],
      "metadata": {
        "colab": {
          "base_uri": "https://localhost:8080/",
          "height": 363
        },
        "id": "80NR3tHlrNSd",
        "outputId": "5315001b-b299-4f1d-d2c6-dc47ccad05a8"
      },
      "execution_count": 31,
      "outputs": [
        {
          "output_type": "execute_result",
          "data": {
            "text/plain": [
              "                           Symptoms  count_Country\n",
              "0                              None          69375\n",
              "1             genital ulcer lesions             30\n",
              "2    oral and genital ulcers, fever             17\n",
              "3                ulcerative lesions             16\n",
              "4                              Rash             13\n",
              "5                      skin lesions              7\n",
              "6  skin lesions, ulcerative lesions              5\n",
              "7                    vesicular rash              5\n",
              "8                    genital ulcers              5\n",
              "9               fever, skin lesions              4"
            ],
            "text/html": [
              "\n",
              "  <div id=\"df-285ef722-79be-4cbd-9aa9-8e65ffe3ec44\">\n",
              "    <div class=\"colab-df-container\">\n",
              "      <div>\n",
              "<style scoped>\n",
              "    .dataframe tbody tr th:only-of-type {\n",
              "        vertical-align: middle;\n",
              "    }\n",
              "\n",
              "    .dataframe tbody tr th {\n",
              "        vertical-align: top;\n",
              "    }\n",
              "\n",
              "    .dataframe thead th {\n",
              "        text-align: right;\n",
              "    }\n",
              "</style>\n",
              "<table border=\"1\" class=\"dataframe\">\n",
              "  <thead>\n",
              "    <tr style=\"text-align: right;\">\n",
              "      <th></th>\n",
              "      <th>Symptoms</th>\n",
              "      <th>count_Country</th>\n",
              "    </tr>\n",
              "  </thead>\n",
              "  <tbody>\n",
              "    <tr>\n",
              "      <th>0</th>\n",
              "      <td>None</td>\n",
              "      <td>69375</td>\n",
              "    </tr>\n",
              "    <tr>\n",
              "      <th>1</th>\n",
              "      <td>genital ulcer lesions</td>\n",
              "      <td>30</td>\n",
              "    </tr>\n",
              "    <tr>\n",
              "      <th>2</th>\n",
              "      <td>oral and genital ulcers, fever</td>\n",
              "      <td>17</td>\n",
              "    </tr>\n",
              "    <tr>\n",
              "      <th>3</th>\n",
              "      <td>ulcerative lesions</td>\n",
              "      <td>16</td>\n",
              "    </tr>\n",
              "    <tr>\n",
              "      <th>4</th>\n",
              "      <td>Rash</td>\n",
              "      <td>13</td>\n",
              "    </tr>\n",
              "    <tr>\n",
              "      <th>5</th>\n",
              "      <td>skin lesions</td>\n",
              "      <td>7</td>\n",
              "    </tr>\n",
              "    <tr>\n",
              "      <th>6</th>\n",
              "      <td>skin lesions, ulcerative lesions</td>\n",
              "      <td>5</td>\n",
              "    </tr>\n",
              "    <tr>\n",
              "      <th>7</th>\n",
              "      <td>vesicular rash</td>\n",
              "      <td>5</td>\n",
              "    </tr>\n",
              "    <tr>\n",
              "      <th>8</th>\n",
              "      <td>genital ulcers</td>\n",
              "      <td>5</td>\n",
              "    </tr>\n",
              "    <tr>\n",
              "      <th>9</th>\n",
              "      <td>fever, skin lesions</td>\n",
              "      <td>4</td>\n",
              "    </tr>\n",
              "  </tbody>\n",
              "</table>\n",
              "</div>\n",
              "      <button class=\"colab-df-convert\" onclick=\"convertToInteractive('df-285ef722-79be-4cbd-9aa9-8e65ffe3ec44')\"\n",
              "              title=\"Convert this dataframe to an interactive table.\"\n",
              "              style=\"display:none;\">\n",
              "        \n",
              "  <svg xmlns=\"http://www.w3.org/2000/svg\" height=\"24px\"viewBox=\"0 0 24 24\"\n",
              "       width=\"24px\">\n",
              "    <path d=\"M0 0h24v24H0V0z\" fill=\"none\"/>\n",
              "    <path d=\"M18.56 5.44l.94 2.06.94-2.06 2.06-.94-2.06-.94-.94-2.06-.94 2.06-2.06.94zm-11 1L8.5 8.5l.94-2.06 2.06-.94-2.06-.94L8.5 2.5l-.94 2.06-2.06.94zm10 10l.94 2.06.94-2.06 2.06-.94-2.06-.94-.94-2.06-.94 2.06-2.06.94z\"/><path d=\"M17.41 7.96l-1.37-1.37c-.4-.4-.92-.59-1.43-.59-.52 0-1.04.2-1.43.59L10.3 9.45l-7.72 7.72c-.78.78-.78 2.05 0 2.83L4 21.41c.39.39.9.59 1.41.59.51 0 1.02-.2 1.41-.59l7.78-7.78 2.81-2.81c.8-.78.8-2.07 0-2.86zM5.41 20L4 18.59l7.72-7.72 1.47 1.35L5.41 20z\"/>\n",
              "  </svg>\n",
              "      </button>\n",
              "      \n",
              "  <style>\n",
              "    .colab-df-container {\n",
              "      display:flex;\n",
              "      flex-wrap:wrap;\n",
              "      gap: 12px;\n",
              "    }\n",
              "\n",
              "    .colab-df-convert {\n",
              "      background-color: #E8F0FE;\n",
              "      border: none;\n",
              "      border-radius: 50%;\n",
              "      cursor: pointer;\n",
              "      display: none;\n",
              "      fill: #1967D2;\n",
              "      height: 32px;\n",
              "      padding: 0 0 0 0;\n",
              "      width: 32px;\n",
              "    }\n",
              "\n",
              "    .colab-df-convert:hover {\n",
              "      background-color: #E2EBFA;\n",
              "      box-shadow: 0px 1px 2px rgba(60, 64, 67, 0.3), 0px 1px 3px 1px rgba(60, 64, 67, 0.15);\n",
              "      fill: #174EA6;\n",
              "    }\n",
              "\n",
              "    [theme=dark] .colab-df-convert {\n",
              "      background-color: #3B4455;\n",
              "      fill: #D2E3FC;\n",
              "    }\n",
              "\n",
              "    [theme=dark] .colab-df-convert:hover {\n",
              "      background-color: #434B5C;\n",
              "      box-shadow: 0px 1px 3px 1px rgba(0, 0, 0, 0.15);\n",
              "      filter: drop-shadow(0px 1px 2px rgba(0, 0, 0, 0.3));\n",
              "      fill: #FFFFFF;\n",
              "    }\n",
              "  </style>\n",
              "\n",
              "      <script>\n",
              "        const buttonEl =\n",
              "          document.querySelector('#df-285ef722-79be-4cbd-9aa9-8e65ffe3ec44 button.colab-df-convert');\n",
              "        buttonEl.style.display =\n",
              "          google.colab.kernel.accessAllowed ? 'block' : 'none';\n",
              "\n",
              "        async function convertToInteractive(key) {\n",
              "          const element = document.querySelector('#df-285ef722-79be-4cbd-9aa9-8e65ffe3ec44');\n",
              "          const dataTable =\n",
              "            await google.colab.kernel.invokeFunction('convertToInteractive',\n",
              "                                                     [key], {});\n",
              "          if (!dataTable) return;\n",
              "\n",
              "          const docLinkHtml = 'Like what you see? Visit the ' +\n",
              "            '<a target=\"_blank\" href=https://colab.research.google.com/notebooks/data_table.ipynb>data table notebook</a>'\n",
              "            + ' to learn more about interactive tables.';\n",
              "          element.innerHTML = '';\n",
              "          dataTable['output_type'] = 'display_data';\n",
              "          await google.colab.output.renderOutput(dataTable, element);\n",
              "          const docLink = document.createElement('div');\n",
              "          docLink.innerHTML = docLinkHtml;\n",
              "          element.appendChild(docLink);\n",
              "        }\n",
              "      </script>\n",
              "    </div>\n",
              "  </div>\n",
              "  "
            ]
          },
          "metadata": {},
          "execution_count": 31
        }
      ]
    },
    {
      "cell_type": "code",
      "source": [
        "monkeypoxSymptoms2=spark.createDataFrame([(\"1\",\"None\",\"69375\"),(\"2\",\"genital ulcer lesions\",\"30\"),(\"3\",\"oral and genital ulcers, fever\",\"17\"),(\"4\",\"ulcerative lesions\",\"16\"),(\"5\",\"rash \",\"13\"),(\"6\",\"skin lesions\",\"7\"),(\"7\",\"skin lesions, ulcerative lesions\",\"5\"), (\"8\",\"vesicular rash\",\"5\"),(\"9\",\"genital ulcers\",\"5\"),(\"10\",\"fever, skin lesions\",\"4\")],[\"ID\",\"Sintomas\",\"Total sintomas\"])\n",
        "monkeypoxSymptoms2.show()\n",
        "\n",
        "monkeypoxSymptoms2=spark.createDataFrame([(\"1\",\"None\",\"69375\"),(\"2\",\"genital ulcer lesions\",\"30\"),(\"3\",\"oral and genital ulcers, fever\",\"17\"),(\"4\",\"ulcerative lesions\",\"16\"),(\"5\",\"rash \",\"13\"),(\"6\",\"skin lesions\",\"7\"),(\"7\",\"skin lesions, ulcerative lesions\",\"5\"), (\"8\",\"vesicular rash\",\"5\"),(\"9\",\"genital ulcers\",\"5\"),(\"10\",\"fever, skin lesions\",\"4\")],[\"ID\",\"Sintomas\",\"Total sintomas\"])\n",
        "monkeypoxSymptoms2.limit(10).toPandas()"
      ],
      "metadata": {
        "colab": {
          "base_uri": "https://localhost:8080/",
          "height": 631
        },
        "id": "LdH3RFOpmUsH",
        "outputId": "6e0b9cd0-fefe-4e17-f3ad-e219bd013f59"
      },
      "execution_count": 32,
      "outputs": [
        {
          "output_type": "stream",
          "name": "stdout",
          "text": [
            "+---+--------------------+--------------+\n",
            "| ID|            Sintomas|Total sintomas|\n",
            "+---+--------------------+--------------+\n",
            "|  1|                None|         69375|\n",
            "|  2|genital ulcer les...|            30|\n",
            "|  3|oral and genital ...|            17|\n",
            "|  4|  ulcerative lesions|            16|\n",
            "|  5|               rash |            13|\n",
            "|  6|        skin lesions|             7|\n",
            "|  7|skin lesions, ulc...|             5|\n",
            "|  8|      vesicular rash|             5|\n",
            "|  9|      genital ulcers|             5|\n",
            "| 10| fever, skin lesions|             4|\n",
            "+---+--------------------+--------------+\n",
            "\n"
          ]
        },
        {
          "output_type": "execute_result",
          "data": {
            "text/plain": [
              "   ID                          Sintomas Total sintomas\n",
              "0   1                              None          69375\n",
              "1   2             genital ulcer lesions             30\n",
              "2   3    oral and genital ulcers, fever             17\n",
              "3   4                ulcerative lesions             16\n",
              "4   5                             rash              13\n",
              "5   6                      skin lesions              7\n",
              "6   7  skin lesions, ulcerative lesions              5\n",
              "7   8                    vesicular rash              5\n",
              "8   9                    genital ulcers              5\n",
              "9  10               fever, skin lesions              4"
            ],
            "text/html": [
              "\n",
              "  <div id=\"df-7d454b42-2674-40c3-a3a7-17457a332b1e\">\n",
              "    <div class=\"colab-df-container\">\n",
              "      <div>\n",
              "<style scoped>\n",
              "    .dataframe tbody tr th:only-of-type {\n",
              "        vertical-align: middle;\n",
              "    }\n",
              "\n",
              "    .dataframe tbody tr th {\n",
              "        vertical-align: top;\n",
              "    }\n",
              "\n",
              "    .dataframe thead th {\n",
              "        text-align: right;\n",
              "    }\n",
              "</style>\n",
              "<table border=\"1\" class=\"dataframe\">\n",
              "  <thead>\n",
              "    <tr style=\"text-align: right;\">\n",
              "      <th></th>\n",
              "      <th>ID</th>\n",
              "      <th>Sintomas</th>\n",
              "      <th>Total sintomas</th>\n",
              "    </tr>\n",
              "  </thead>\n",
              "  <tbody>\n",
              "    <tr>\n",
              "      <th>0</th>\n",
              "      <td>1</td>\n",
              "      <td>None</td>\n",
              "      <td>69375</td>\n",
              "    </tr>\n",
              "    <tr>\n",
              "      <th>1</th>\n",
              "      <td>2</td>\n",
              "      <td>genital ulcer lesions</td>\n",
              "      <td>30</td>\n",
              "    </tr>\n",
              "    <tr>\n",
              "      <th>2</th>\n",
              "      <td>3</td>\n",
              "      <td>oral and genital ulcers, fever</td>\n",
              "      <td>17</td>\n",
              "    </tr>\n",
              "    <tr>\n",
              "      <th>3</th>\n",
              "      <td>4</td>\n",
              "      <td>ulcerative lesions</td>\n",
              "      <td>16</td>\n",
              "    </tr>\n",
              "    <tr>\n",
              "      <th>4</th>\n",
              "      <td>5</td>\n",
              "      <td>rash</td>\n",
              "      <td>13</td>\n",
              "    </tr>\n",
              "    <tr>\n",
              "      <th>5</th>\n",
              "      <td>6</td>\n",
              "      <td>skin lesions</td>\n",
              "      <td>7</td>\n",
              "    </tr>\n",
              "    <tr>\n",
              "      <th>6</th>\n",
              "      <td>7</td>\n",
              "      <td>skin lesions, ulcerative lesions</td>\n",
              "      <td>5</td>\n",
              "    </tr>\n",
              "    <tr>\n",
              "      <th>7</th>\n",
              "      <td>8</td>\n",
              "      <td>vesicular rash</td>\n",
              "      <td>5</td>\n",
              "    </tr>\n",
              "    <tr>\n",
              "      <th>8</th>\n",
              "      <td>9</td>\n",
              "      <td>genital ulcers</td>\n",
              "      <td>5</td>\n",
              "    </tr>\n",
              "    <tr>\n",
              "      <th>9</th>\n",
              "      <td>10</td>\n",
              "      <td>fever, skin lesions</td>\n",
              "      <td>4</td>\n",
              "    </tr>\n",
              "  </tbody>\n",
              "</table>\n",
              "</div>\n",
              "      <button class=\"colab-df-convert\" onclick=\"convertToInteractive('df-7d454b42-2674-40c3-a3a7-17457a332b1e')\"\n",
              "              title=\"Convert this dataframe to an interactive table.\"\n",
              "              style=\"display:none;\">\n",
              "        \n",
              "  <svg xmlns=\"http://www.w3.org/2000/svg\" height=\"24px\"viewBox=\"0 0 24 24\"\n",
              "       width=\"24px\">\n",
              "    <path d=\"M0 0h24v24H0V0z\" fill=\"none\"/>\n",
              "    <path d=\"M18.56 5.44l.94 2.06.94-2.06 2.06-.94-2.06-.94-.94-2.06-.94 2.06-2.06.94zm-11 1L8.5 8.5l.94-2.06 2.06-.94-2.06-.94L8.5 2.5l-.94 2.06-2.06.94zm10 10l.94 2.06.94-2.06 2.06-.94-2.06-.94-.94-2.06-.94 2.06-2.06.94z\"/><path d=\"M17.41 7.96l-1.37-1.37c-.4-.4-.92-.59-1.43-.59-.52 0-1.04.2-1.43.59L10.3 9.45l-7.72 7.72c-.78.78-.78 2.05 0 2.83L4 21.41c.39.39.9.59 1.41.59.51 0 1.02-.2 1.41-.59l7.78-7.78 2.81-2.81c.8-.78.8-2.07 0-2.86zM5.41 20L4 18.59l7.72-7.72 1.47 1.35L5.41 20z\"/>\n",
              "  </svg>\n",
              "      </button>\n",
              "      \n",
              "  <style>\n",
              "    .colab-df-container {\n",
              "      display:flex;\n",
              "      flex-wrap:wrap;\n",
              "      gap: 12px;\n",
              "    }\n",
              "\n",
              "    .colab-df-convert {\n",
              "      background-color: #E8F0FE;\n",
              "      border: none;\n",
              "      border-radius: 50%;\n",
              "      cursor: pointer;\n",
              "      display: none;\n",
              "      fill: #1967D2;\n",
              "      height: 32px;\n",
              "      padding: 0 0 0 0;\n",
              "      width: 32px;\n",
              "    }\n",
              "\n",
              "    .colab-df-convert:hover {\n",
              "      background-color: #E2EBFA;\n",
              "      box-shadow: 0px 1px 2px rgba(60, 64, 67, 0.3), 0px 1px 3px 1px rgba(60, 64, 67, 0.15);\n",
              "      fill: #174EA6;\n",
              "    }\n",
              "\n",
              "    [theme=dark] .colab-df-convert {\n",
              "      background-color: #3B4455;\n",
              "      fill: #D2E3FC;\n",
              "    }\n",
              "\n",
              "    [theme=dark] .colab-df-convert:hover {\n",
              "      background-color: #434B5C;\n",
              "      box-shadow: 0px 1px 3px 1px rgba(0, 0, 0, 0.15);\n",
              "      filter: drop-shadow(0px 1px 2px rgba(0, 0, 0, 0.3));\n",
              "      fill: #FFFFFF;\n",
              "    }\n",
              "  </style>\n",
              "\n",
              "      <script>\n",
              "        const buttonEl =\n",
              "          document.querySelector('#df-7d454b42-2674-40c3-a3a7-17457a332b1e button.colab-df-convert');\n",
              "        buttonEl.style.display =\n",
              "          google.colab.kernel.accessAllowed ? 'block' : 'none';\n",
              "\n",
              "        async function convertToInteractive(key) {\n",
              "          const element = document.querySelector('#df-7d454b42-2674-40c3-a3a7-17457a332b1e');\n",
              "          const dataTable =\n",
              "            await google.colab.kernel.invokeFunction('convertToInteractive',\n",
              "                                                     [key], {});\n",
              "          if (!dataTable) return;\n",
              "\n",
              "          const docLinkHtml = 'Like what you see? Visit the ' +\n",
              "            '<a target=\"_blank\" href=https://colab.research.google.com/notebooks/data_table.ipynb>data table notebook</a>'\n",
              "            + ' to learn more about interactive tables.';\n",
              "          element.innerHTML = '';\n",
              "          dataTable['output_type'] = 'display_data';\n",
              "          await google.colab.output.renderOutput(dataTable, element);\n",
              "          const docLink = document.createElement('div');\n",
              "          docLink.innerHTML = docLinkHtml;\n",
              "          element.appendChild(docLink);\n",
              "        }\n",
              "      </script>\n",
              "    </div>\n",
              "  </div>\n",
              "  "
            ]
          },
          "metadata": {},
          "execution_count": 32
        }
      ]
    },
    {
      "cell_type": "code",
      "source": [
        "#[\"ID\",\"Sintoma\",\"Grupo_Sintoma\",\"Total_Grupo_Sintoma\"]\n",
        "monkeypoxSymptoms3=spark.createDataFrame([(\"1\",\"None\",\"None\",\"69375\"),(\"2\",\"genital ulcer lesions\",\"Genitália\",\"30\"),(\"3\",\"oral ulcer\",\"Boca\",\"17\"),(\"4\",\"genital ulcers\",\"Genitália\",\"17\"),(\"5\",\"fever\",\"Febre\",\"17\"),(\"6\",\"ulcerative lesions\",\"Pele\",\"16\"),(\"7\",\"rash\",\"Pele\",\"13\"),(\"8\",\"skin lesions\",\"Pele\",\"7\"),(\"9\",\"skin lesions\",\"Pele\",\"5\"),(\"10\",\"ulcerative lesions\",\"Pele\",\"5\"),(\"11\",\"vesicular rash\",\"Pele\",\"5\"),(\"12\",\"genital ulcers\", \"Genitália\",\"5\"),(\"13\",\"fever\",\"Febre\",\"4\"),(\"14\",\"skin lesions\",\"Pele\",\"4\")],[\"ID\",\"Sintoma\",\"Grupo_Sintoma\",\"Total_Grupo_Sintoma\"])\n",
        "monkeypoxSymptoms3.show()\n",
        "\n",
        "monkeypoxSymptoms4=spark.createDataFrame([(\"1\",\"None\",\"None\",\"69375\"),(\"2\",\"genital ulcer lesions\",\"Genitália\",\"30\"),(\"3\",\"oral ulcer\",\"Boca\",\"17\"),(\"4\",\"genital ulcers\",\"Genitália\",\"17\"),(\"5\",\"fever\",\"Febre\",\"17\"),(\"6\",\"ulcerative lesions\",\"Pele\",\"16\"),(\"7\",\"rash\",\"Pele\",\"13\"),(\"8\",\"skin lesions\",\"Pele\",\"7\"),(\"9\",\"skin lesions\",\"Pele\",\"5\"),(\"10\",\"ulcerative lesions\",\"Pele\",\"5\"),(\"11\",\"vesicular rash\",\"Pele\",\"5\"),(\"12\",\"genital ulcers\", \"Genitália\",\"5\"),(\"13\",\"fever\",\"Febre\",\"4\"),(\"14\",\"skin lesions\",\"Pele\",\"4\")],[\"ID\",\"Sintoma\",\"Grupo_Sintoma\",\"Total_Grupo_Sintoma\"])\n",
        "monkeypoxSymptoms4.limit(14).toPandas()\n",
        "#monkeypoxGender4=spark.createDataFrame([(\"67120\",\"2422\",\"5\",\"15\",\"31\",\"1\",\"1\")],[\"Null\",\"male\",\"male \",\"Male\",\"female\",\"female \",\"Female\"])\n",
        "#monkeypoxGender4.show()"
      ],
      "metadata": {
        "colab": {
          "base_uri": "https://localhost:8080/",
          "height": 828
        },
        "id": "xiKv68F4rrT-",
        "outputId": "96072632-3165-4000-9fa7-a2053b239f6a"
      },
      "execution_count": 33,
      "outputs": [
        {
          "output_type": "stream",
          "name": "stdout",
          "text": [
            "+---+--------------------+-------------+-------------------+\n",
            "| ID|             Sintoma|Grupo_Sintoma|Total_Grupo_Sintoma|\n",
            "+---+--------------------+-------------+-------------------+\n",
            "|  1|                None|         None|              69375|\n",
            "|  2|genital ulcer les...|    Genitália|                 30|\n",
            "|  3|          oral ulcer|         Boca|                 17|\n",
            "|  4|      genital ulcers|    Genitália|                 17|\n",
            "|  5|               fever|        Febre|                 17|\n",
            "|  6|  ulcerative lesions|         Pele|                 16|\n",
            "|  7|                rash|         Pele|                 13|\n",
            "|  8|        skin lesions|         Pele|                  7|\n",
            "|  9|        skin lesions|         Pele|                  5|\n",
            "| 10|  ulcerative lesions|         Pele|                  5|\n",
            "| 11|      vesicular rash|         Pele|                  5|\n",
            "| 12|      genital ulcers|    Genitália|                  5|\n",
            "| 13|               fever|        Febre|                  4|\n",
            "| 14|        skin lesions|         Pele|                  4|\n",
            "+---+--------------------+-------------+-------------------+\n",
            "\n"
          ]
        },
        {
          "output_type": "execute_result",
          "data": {
            "text/plain": [
              "    ID                Sintoma Grupo_Sintoma Total_Grupo_Sintoma\n",
              "0    1                   None          None               69375\n",
              "1    2  genital ulcer lesions     Genitália                  30\n",
              "2    3             oral ulcer          Boca                  17\n",
              "3    4         genital ulcers     Genitália                  17\n",
              "4    5                  fever         Febre                  17\n",
              "5    6     ulcerative lesions          Pele                  16\n",
              "6    7                   rash          Pele                  13\n",
              "7    8           skin lesions          Pele                   7\n",
              "8    9           skin lesions          Pele                   5\n",
              "9   10     ulcerative lesions          Pele                   5\n",
              "10  11         vesicular rash          Pele                   5\n",
              "11  12         genital ulcers     Genitália                   5\n",
              "12  13                  fever         Febre                   4\n",
              "13  14           skin lesions          Pele                   4"
            ],
            "text/html": [
              "\n",
              "  <div id=\"df-5fa16d8f-98c6-499f-8665-f787b0ba6db7\">\n",
              "    <div class=\"colab-df-container\">\n",
              "      <div>\n",
              "<style scoped>\n",
              "    .dataframe tbody tr th:only-of-type {\n",
              "        vertical-align: middle;\n",
              "    }\n",
              "\n",
              "    .dataframe tbody tr th {\n",
              "        vertical-align: top;\n",
              "    }\n",
              "\n",
              "    .dataframe thead th {\n",
              "        text-align: right;\n",
              "    }\n",
              "</style>\n",
              "<table border=\"1\" class=\"dataframe\">\n",
              "  <thead>\n",
              "    <tr style=\"text-align: right;\">\n",
              "      <th></th>\n",
              "      <th>ID</th>\n",
              "      <th>Sintoma</th>\n",
              "      <th>Grupo_Sintoma</th>\n",
              "      <th>Total_Grupo_Sintoma</th>\n",
              "    </tr>\n",
              "  </thead>\n",
              "  <tbody>\n",
              "    <tr>\n",
              "      <th>0</th>\n",
              "      <td>1</td>\n",
              "      <td>None</td>\n",
              "      <td>None</td>\n",
              "      <td>69375</td>\n",
              "    </tr>\n",
              "    <tr>\n",
              "      <th>1</th>\n",
              "      <td>2</td>\n",
              "      <td>genital ulcer lesions</td>\n",
              "      <td>Genitália</td>\n",
              "      <td>30</td>\n",
              "    </tr>\n",
              "    <tr>\n",
              "      <th>2</th>\n",
              "      <td>3</td>\n",
              "      <td>oral ulcer</td>\n",
              "      <td>Boca</td>\n",
              "      <td>17</td>\n",
              "    </tr>\n",
              "    <tr>\n",
              "      <th>3</th>\n",
              "      <td>4</td>\n",
              "      <td>genital ulcers</td>\n",
              "      <td>Genitália</td>\n",
              "      <td>17</td>\n",
              "    </tr>\n",
              "    <tr>\n",
              "      <th>4</th>\n",
              "      <td>5</td>\n",
              "      <td>fever</td>\n",
              "      <td>Febre</td>\n",
              "      <td>17</td>\n",
              "    </tr>\n",
              "    <tr>\n",
              "      <th>5</th>\n",
              "      <td>6</td>\n",
              "      <td>ulcerative lesions</td>\n",
              "      <td>Pele</td>\n",
              "      <td>16</td>\n",
              "    </tr>\n",
              "    <tr>\n",
              "      <th>6</th>\n",
              "      <td>7</td>\n",
              "      <td>rash</td>\n",
              "      <td>Pele</td>\n",
              "      <td>13</td>\n",
              "    </tr>\n",
              "    <tr>\n",
              "      <th>7</th>\n",
              "      <td>8</td>\n",
              "      <td>skin lesions</td>\n",
              "      <td>Pele</td>\n",
              "      <td>7</td>\n",
              "    </tr>\n",
              "    <tr>\n",
              "      <th>8</th>\n",
              "      <td>9</td>\n",
              "      <td>skin lesions</td>\n",
              "      <td>Pele</td>\n",
              "      <td>5</td>\n",
              "    </tr>\n",
              "    <tr>\n",
              "      <th>9</th>\n",
              "      <td>10</td>\n",
              "      <td>ulcerative lesions</td>\n",
              "      <td>Pele</td>\n",
              "      <td>5</td>\n",
              "    </tr>\n",
              "    <tr>\n",
              "      <th>10</th>\n",
              "      <td>11</td>\n",
              "      <td>vesicular rash</td>\n",
              "      <td>Pele</td>\n",
              "      <td>5</td>\n",
              "    </tr>\n",
              "    <tr>\n",
              "      <th>11</th>\n",
              "      <td>12</td>\n",
              "      <td>genital ulcers</td>\n",
              "      <td>Genitália</td>\n",
              "      <td>5</td>\n",
              "    </tr>\n",
              "    <tr>\n",
              "      <th>12</th>\n",
              "      <td>13</td>\n",
              "      <td>fever</td>\n",
              "      <td>Febre</td>\n",
              "      <td>4</td>\n",
              "    </tr>\n",
              "    <tr>\n",
              "      <th>13</th>\n",
              "      <td>14</td>\n",
              "      <td>skin lesions</td>\n",
              "      <td>Pele</td>\n",
              "      <td>4</td>\n",
              "    </tr>\n",
              "  </tbody>\n",
              "</table>\n",
              "</div>\n",
              "      <button class=\"colab-df-convert\" onclick=\"convertToInteractive('df-5fa16d8f-98c6-499f-8665-f787b0ba6db7')\"\n",
              "              title=\"Convert this dataframe to an interactive table.\"\n",
              "              style=\"display:none;\">\n",
              "        \n",
              "  <svg xmlns=\"http://www.w3.org/2000/svg\" height=\"24px\"viewBox=\"0 0 24 24\"\n",
              "       width=\"24px\">\n",
              "    <path d=\"M0 0h24v24H0V0z\" fill=\"none\"/>\n",
              "    <path d=\"M18.56 5.44l.94 2.06.94-2.06 2.06-.94-2.06-.94-.94-2.06-.94 2.06-2.06.94zm-11 1L8.5 8.5l.94-2.06 2.06-.94-2.06-.94L8.5 2.5l-.94 2.06-2.06.94zm10 10l.94 2.06.94-2.06 2.06-.94-2.06-.94-.94-2.06-.94 2.06-2.06.94z\"/><path d=\"M17.41 7.96l-1.37-1.37c-.4-.4-.92-.59-1.43-.59-.52 0-1.04.2-1.43.59L10.3 9.45l-7.72 7.72c-.78.78-.78 2.05 0 2.83L4 21.41c.39.39.9.59 1.41.59.51 0 1.02-.2 1.41-.59l7.78-7.78 2.81-2.81c.8-.78.8-2.07 0-2.86zM5.41 20L4 18.59l7.72-7.72 1.47 1.35L5.41 20z\"/>\n",
              "  </svg>\n",
              "      </button>\n",
              "      \n",
              "  <style>\n",
              "    .colab-df-container {\n",
              "      display:flex;\n",
              "      flex-wrap:wrap;\n",
              "      gap: 12px;\n",
              "    }\n",
              "\n",
              "    .colab-df-convert {\n",
              "      background-color: #E8F0FE;\n",
              "      border: none;\n",
              "      border-radius: 50%;\n",
              "      cursor: pointer;\n",
              "      display: none;\n",
              "      fill: #1967D2;\n",
              "      height: 32px;\n",
              "      padding: 0 0 0 0;\n",
              "      width: 32px;\n",
              "    }\n",
              "\n",
              "    .colab-df-convert:hover {\n",
              "      background-color: #E2EBFA;\n",
              "      box-shadow: 0px 1px 2px rgba(60, 64, 67, 0.3), 0px 1px 3px 1px rgba(60, 64, 67, 0.15);\n",
              "      fill: #174EA6;\n",
              "    }\n",
              "\n",
              "    [theme=dark] .colab-df-convert {\n",
              "      background-color: #3B4455;\n",
              "      fill: #D2E3FC;\n",
              "    }\n",
              "\n",
              "    [theme=dark] .colab-df-convert:hover {\n",
              "      background-color: #434B5C;\n",
              "      box-shadow: 0px 1px 3px 1px rgba(0, 0, 0, 0.15);\n",
              "      filter: drop-shadow(0px 1px 2px rgba(0, 0, 0, 0.3));\n",
              "      fill: #FFFFFF;\n",
              "    }\n",
              "  </style>\n",
              "\n",
              "      <script>\n",
              "        const buttonEl =\n",
              "          document.querySelector('#df-5fa16d8f-98c6-499f-8665-f787b0ba6db7 button.colab-df-convert');\n",
              "        buttonEl.style.display =\n",
              "          google.colab.kernel.accessAllowed ? 'block' : 'none';\n",
              "\n",
              "        async function convertToInteractive(key) {\n",
              "          const element = document.querySelector('#df-5fa16d8f-98c6-499f-8665-f787b0ba6db7');\n",
              "          const dataTable =\n",
              "            await google.colab.kernel.invokeFunction('convertToInteractive',\n",
              "                                                     [key], {});\n",
              "          if (!dataTable) return;\n",
              "\n",
              "          const docLinkHtml = 'Like what you see? Visit the ' +\n",
              "            '<a target=\"_blank\" href=https://colab.research.google.com/notebooks/data_table.ipynb>data table notebook</a>'\n",
              "            + ' to learn more about interactive tables.';\n",
              "          element.innerHTML = '';\n",
              "          dataTable['output_type'] = 'display_data';\n",
              "          await google.colab.output.renderOutput(dataTable, element);\n",
              "          const docLink = document.createElement('div');\n",
              "          docLink.innerHTML = docLinkHtml;\n",
              "          element.appendChild(docLink);\n",
              "        }\n",
              "      </script>\n",
              "    </div>\n",
              "  </div>\n",
              "  "
            ]
          },
          "metadata": {},
          "execution_count": 33
        }
      ]
    },
    {
      "cell_type": "code",
      "source": [
        "import plotly.express as px \n",
        "import numpy \n",
        "random_x = [69375, 30, 17, 16, 13, 7, 5, 5, 5, 4] \n",
        "names = ['Null', 'Genital ulcer lesions', 'oral and genital ulcers + fever', 'ulcerative lesions', 'rash', 'skins lesions', 'skins lesions + ulcerative lesions', 'vesicular rash', 'genital ulcers', 'fever + skin lesions'] \n",
        "  \n",
        "fig = px.pie(values=random_x, names=names) \n",
        "fig.show()"
      ],
      "metadata": {
        "colab": {
          "base_uri": "https://localhost:8080/",
          "height": 542
        },
        "id": "H8WGr9qUlJZC",
        "outputId": "4c4d3cc8-912b-4dd6-8447-8cc6c1b5370f"
      },
      "execution_count": 34,
      "outputs": [
        {
          "output_type": "display_data",
          "data": {
            "text/html": [
              "<html>\n",
              "<head><meta charset=\"utf-8\" /></head>\n",
              "<body>\n",
              "    <div>            <script src=\"https://cdnjs.cloudflare.com/ajax/libs/mathjax/2.7.5/MathJax.js?config=TeX-AMS-MML_SVG\"></script><script type=\"text/javascript\">if (window.MathJax && window.MathJax.Hub && window.MathJax.Hub.Config) {window.MathJax.Hub.Config({SVG: {font: \"STIX-Web\"}});}</script>                <script type=\"text/javascript\">window.PlotlyConfig = {MathJaxConfig: 'local'};</script>\n",
              "        <script src=\"https://cdn.plot.ly/plotly-2.14.0.min.js\"></script>                <div id=\"972cc5f8-99f8-4da5-a051-7eaeb580f541\" class=\"plotly-graph-div\" style=\"height:525px; width:100%;\"></div>            <script type=\"text/javascript\">                                    window.PLOTLYENV=window.PLOTLYENV || {};                                    if (document.getElementById(\"972cc5f8-99f8-4da5-a051-7eaeb580f541\")) {                    Plotly.newPlot(                        \"972cc5f8-99f8-4da5-a051-7eaeb580f541\",                        [{\"domain\":{\"x\":[0.0,1.0],\"y\":[0.0,1.0]},\"hovertemplate\":\"label=%{label}<br>value=%{value}<extra></extra>\",\"labels\":[\"Null\",\"Genital ulcer lesions\",\"oral and genital ulcers + fever\",\"ulcerative lesions\",\"rash\",\"skins lesions\",\"skins lesions + ulcerative lesions\",\"vesicular rash\",\"genital ulcers\",\"fever + skin lesions\"],\"legendgroup\":\"\",\"name\":\"\",\"showlegend\":true,\"values\":[69375,30,17,16,13,7,5,5,5,4],\"type\":\"pie\"}],                        {\"template\":{\"data\":{\"histogram2dcontour\":[{\"type\":\"histogram2dcontour\",\"colorbar\":{\"outlinewidth\":0,\"ticks\":\"\"},\"colorscale\":[[0.0,\"#0d0887\"],[0.1111111111111111,\"#46039f\"],[0.2222222222222222,\"#7201a8\"],[0.3333333333333333,\"#9c179e\"],[0.4444444444444444,\"#bd3786\"],[0.5555555555555556,\"#d8576b\"],[0.6666666666666666,\"#ed7953\"],[0.7777777777777778,\"#fb9f3a\"],[0.8888888888888888,\"#fdca26\"],[1.0,\"#f0f921\"]]}],\"choropleth\":[{\"type\":\"choropleth\",\"colorbar\":{\"outlinewidth\":0,\"ticks\":\"\"}}],\"histogram2d\":[{\"type\":\"histogram2d\",\"colorbar\":{\"outlinewidth\":0,\"ticks\":\"\"},\"colorscale\":[[0.0,\"#0d0887\"],[0.1111111111111111,\"#46039f\"],[0.2222222222222222,\"#7201a8\"],[0.3333333333333333,\"#9c179e\"],[0.4444444444444444,\"#bd3786\"],[0.5555555555555556,\"#d8576b\"],[0.6666666666666666,\"#ed7953\"],[0.7777777777777778,\"#fb9f3a\"],[0.8888888888888888,\"#fdca26\"],[1.0,\"#f0f921\"]]}],\"heatmap\":[{\"type\":\"heatmap\",\"colorbar\":{\"outlinewidth\":0,\"ticks\":\"\"},\"colorscale\":[[0.0,\"#0d0887\"],[0.1111111111111111,\"#46039f\"],[0.2222222222222222,\"#7201a8\"],[0.3333333333333333,\"#9c179e\"],[0.4444444444444444,\"#bd3786\"],[0.5555555555555556,\"#d8576b\"],[0.6666666666666666,\"#ed7953\"],[0.7777777777777778,\"#fb9f3a\"],[0.8888888888888888,\"#fdca26\"],[1.0,\"#f0f921\"]]}],\"heatmapgl\":[{\"type\":\"heatmapgl\",\"colorbar\":{\"outlinewidth\":0,\"ticks\":\"\"},\"colorscale\":[[0.0,\"#0d0887\"],[0.1111111111111111,\"#46039f\"],[0.2222222222222222,\"#7201a8\"],[0.3333333333333333,\"#9c179e\"],[0.4444444444444444,\"#bd3786\"],[0.5555555555555556,\"#d8576b\"],[0.6666666666666666,\"#ed7953\"],[0.7777777777777778,\"#fb9f3a\"],[0.8888888888888888,\"#fdca26\"],[1.0,\"#f0f921\"]]}],\"contourcarpet\":[{\"type\":\"contourcarpet\",\"colorbar\":{\"outlinewidth\":0,\"ticks\":\"\"}}],\"contour\":[{\"type\":\"contour\",\"colorbar\":{\"outlinewidth\":0,\"ticks\":\"\"},\"colorscale\":[[0.0,\"#0d0887\"],[0.1111111111111111,\"#46039f\"],[0.2222222222222222,\"#7201a8\"],[0.3333333333333333,\"#9c179e\"],[0.4444444444444444,\"#bd3786\"],[0.5555555555555556,\"#d8576b\"],[0.6666666666666666,\"#ed7953\"],[0.7777777777777778,\"#fb9f3a\"],[0.8888888888888888,\"#fdca26\"],[1.0,\"#f0f921\"]]}],\"surface\":[{\"type\":\"surface\",\"colorbar\":{\"outlinewidth\":0,\"ticks\":\"\"},\"colorscale\":[[0.0,\"#0d0887\"],[0.1111111111111111,\"#46039f\"],[0.2222222222222222,\"#7201a8\"],[0.3333333333333333,\"#9c179e\"],[0.4444444444444444,\"#bd3786\"],[0.5555555555555556,\"#d8576b\"],[0.6666666666666666,\"#ed7953\"],[0.7777777777777778,\"#fb9f3a\"],[0.8888888888888888,\"#fdca26\"],[1.0,\"#f0f921\"]]}],\"mesh3d\":[{\"type\":\"mesh3d\",\"colorbar\":{\"outlinewidth\":0,\"ticks\":\"\"}}],\"scatter\":[{\"fillpattern\":{\"fillmode\":\"overlay\",\"size\":10,\"solidity\":0.2},\"type\":\"scatter\"}],\"parcoords\":[{\"type\":\"parcoords\",\"line\":{\"colorbar\":{\"outlinewidth\":0,\"ticks\":\"\"}}}],\"scatterpolargl\":[{\"type\":\"scatterpolargl\",\"marker\":{\"colorbar\":{\"outlinewidth\":0,\"ticks\":\"\"}}}],\"bar\":[{\"error_x\":{\"color\":\"#2a3f5f\"},\"error_y\":{\"color\":\"#2a3f5f\"},\"marker\":{\"line\":{\"color\":\"#E5ECF6\",\"width\":0.5},\"pattern\":{\"fillmode\":\"overlay\",\"size\":10,\"solidity\":0.2}},\"type\":\"bar\"}],\"scattergeo\":[{\"type\":\"scattergeo\",\"marker\":{\"colorbar\":{\"outlinewidth\":0,\"ticks\":\"\"}}}],\"scatterpolar\":[{\"type\":\"scatterpolar\",\"marker\":{\"colorbar\":{\"outlinewidth\":0,\"ticks\":\"\"}}}],\"histogram\":[{\"marker\":{\"pattern\":{\"fillmode\":\"overlay\",\"size\":10,\"solidity\":0.2}},\"type\":\"histogram\"}],\"scattergl\":[{\"type\":\"scattergl\",\"marker\":{\"colorbar\":{\"outlinewidth\":0,\"ticks\":\"\"}}}],\"scatter3d\":[{\"type\":\"scatter3d\",\"line\":{\"colorbar\":{\"outlinewidth\":0,\"ticks\":\"\"}},\"marker\":{\"colorbar\":{\"outlinewidth\":0,\"ticks\":\"\"}}}],\"scattermapbox\":[{\"type\":\"scattermapbox\",\"marker\":{\"colorbar\":{\"outlinewidth\":0,\"ticks\":\"\"}}}],\"scatterternary\":[{\"type\":\"scatterternary\",\"marker\":{\"colorbar\":{\"outlinewidth\":0,\"ticks\":\"\"}}}],\"scattercarpet\":[{\"type\":\"scattercarpet\",\"marker\":{\"colorbar\":{\"outlinewidth\":0,\"ticks\":\"\"}}}],\"carpet\":[{\"aaxis\":{\"endlinecolor\":\"#2a3f5f\",\"gridcolor\":\"white\",\"linecolor\":\"white\",\"minorgridcolor\":\"white\",\"startlinecolor\":\"#2a3f5f\"},\"baxis\":{\"endlinecolor\":\"#2a3f5f\",\"gridcolor\":\"white\",\"linecolor\":\"white\",\"minorgridcolor\":\"white\",\"startlinecolor\":\"#2a3f5f\"},\"type\":\"carpet\"}],\"table\":[{\"cells\":{\"fill\":{\"color\":\"#EBF0F8\"},\"line\":{\"color\":\"white\"}},\"header\":{\"fill\":{\"color\":\"#C8D4E3\"},\"line\":{\"color\":\"white\"}},\"type\":\"table\"}],\"barpolar\":[{\"marker\":{\"line\":{\"color\":\"#E5ECF6\",\"width\":0.5},\"pattern\":{\"fillmode\":\"overlay\",\"size\":10,\"solidity\":0.2}},\"type\":\"barpolar\"}],\"pie\":[{\"automargin\":true,\"type\":\"pie\"}]},\"layout\":{\"autotypenumbers\":\"strict\",\"colorway\":[\"#636efa\",\"#EF553B\",\"#00cc96\",\"#ab63fa\",\"#FFA15A\",\"#19d3f3\",\"#FF6692\",\"#B6E880\",\"#FF97FF\",\"#FECB52\"],\"font\":{\"color\":\"#2a3f5f\"},\"hovermode\":\"closest\",\"hoverlabel\":{\"align\":\"left\"},\"paper_bgcolor\":\"white\",\"plot_bgcolor\":\"#E5ECF6\",\"polar\":{\"bgcolor\":\"#E5ECF6\",\"angularaxis\":{\"gridcolor\":\"white\",\"linecolor\":\"white\",\"ticks\":\"\"},\"radialaxis\":{\"gridcolor\":\"white\",\"linecolor\":\"white\",\"ticks\":\"\"}},\"ternary\":{\"bgcolor\":\"#E5ECF6\",\"aaxis\":{\"gridcolor\":\"white\",\"linecolor\":\"white\",\"ticks\":\"\"},\"baxis\":{\"gridcolor\":\"white\",\"linecolor\":\"white\",\"ticks\":\"\"},\"caxis\":{\"gridcolor\":\"white\",\"linecolor\":\"white\",\"ticks\":\"\"}},\"coloraxis\":{\"colorbar\":{\"outlinewidth\":0,\"ticks\":\"\"}},\"colorscale\":{\"sequential\":[[0.0,\"#0d0887\"],[0.1111111111111111,\"#46039f\"],[0.2222222222222222,\"#7201a8\"],[0.3333333333333333,\"#9c179e\"],[0.4444444444444444,\"#bd3786\"],[0.5555555555555556,\"#d8576b\"],[0.6666666666666666,\"#ed7953\"],[0.7777777777777778,\"#fb9f3a\"],[0.8888888888888888,\"#fdca26\"],[1.0,\"#f0f921\"]],\"sequentialminus\":[[0.0,\"#0d0887\"],[0.1111111111111111,\"#46039f\"],[0.2222222222222222,\"#7201a8\"],[0.3333333333333333,\"#9c179e\"],[0.4444444444444444,\"#bd3786\"],[0.5555555555555556,\"#d8576b\"],[0.6666666666666666,\"#ed7953\"],[0.7777777777777778,\"#fb9f3a\"],[0.8888888888888888,\"#fdca26\"],[1.0,\"#f0f921\"]],\"diverging\":[[0,\"#8e0152\"],[0.1,\"#c51b7d\"],[0.2,\"#de77ae\"],[0.3,\"#f1b6da\"],[0.4,\"#fde0ef\"],[0.5,\"#f7f7f7\"],[0.6,\"#e6f5d0\"],[0.7,\"#b8e186\"],[0.8,\"#7fbc41\"],[0.9,\"#4d9221\"],[1,\"#276419\"]]},\"xaxis\":{\"gridcolor\":\"white\",\"linecolor\":\"white\",\"ticks\":\"\",\"title\":{\"standoff\":15},\"zerolinecolor\":\"white\",\"automargin\":true,\"zerolinewidth\":2},\"yaxis\":{\"gridcolor\":\"white\",\"linecolor\":\"white\",\"ticks\":\"\",\"title\":{\"standoff\":15},\"zerolinecolor\":\"white\",\"automargin\":true,\"zerolinewidth\":2},\"scene\":{\"xaxis\":{\"backgroundcolor\":\"#E5ECF6\",\"gridcolor\":\"white\",\"linecolor\":\"white\",\"showbackground\":true,\"ticks\":\"\",\"zerolinecolor\":\"white\",\"gridwidth\":2},\"yaxis\":{\"backgroundcolor\":\"#E5ECF6\",\"gridcolor\":\"white\",\"linecolor\":\"white\",\"showbackground\":true,\"ticks\":\"\",\"zerolinecolor\":\"white\",\"gridwidth\":2},\"zaxis\":{\"backgroundcolor\":\"#E5ECF6\",\"gridcolor\":\"white\",\"linecolor\":\"white\",\"showbackground\":true,\"ticks\":\"\",\"zerolinecolor\":\"white\",\"gridwidth\":2}},\"shapedefaults\":{\"line\":{\"color\":\"#2a3f5f\"}},\"annotationdefaults\":{\"arrowcolor\":\"#2a3f5f\",\"arrowhead\":0,\"arrowwidth\":1},\"geo\":{\"bgcolor\":\"white\",\"landcolor\":\"#E5ECF6\",\"subunitcolor\":\"white\",\"showland\":true,\"showlakes\":true,\"lakecolor\":\"white\"},\"title\":{\"x\":0.05},\"mapbox\":{\"style\":\"light\"}}},\"legend\":{\"tracegroupgap\":0},\"margin\":{\"t\":60}},                        {\"responsive\": true}                    ).then(function(){\n",
              "                            \n",
              "var gd = document.getElementById('972cc5f8-99f8-4da5-a051-7eaeb580f541');\n",
              "var x = new MutationObserver(function (mutations, observer) {{\n",
              "        var display = window.getComputedStyle(gd).display;\n",
              "        if (!display || display === 'none') {{\n",
              "            console.log([gd, 'removed!']);\n",
              "            Plotly.purge(gd);\n",
              "            observer.disconnect();\n",
              "        }}\n",
              "}});\n",
              "\n",
              "// Listen for the removal of the full notebook cells\n",
              "var notebookContainer = gd.closest('#notebook-container');\n",
              "if (notebookContainer) {{\n",
              "    x.observe(notebookContainer, {childList: true});\n",
              "}}\n",
              "\n",
              "// Listen for the clearing of the current output cell\n",
              "var outputEl = gd.closest('.output');\n",
              "if (outputEl) {{\n",
              "    x.observe(outputEl, {childList: true});\n",
              "}}\n",
              "\n",
              "                        })                };                            </script>        </div>\n",
              "</body>\n",
              "</html>"
            ]
          },
          "metadata": {}
        }
      ]
    },
    {
      "cell_type": "code",
      "source": [
        "import plotly.express as px \n",
        "import numpy \n",
        "random_x = [30, 17, 16, 13, 7, 5, 5, 5, 4] \n",
        "names = ['Genital ulcer lesions', 'oral and genital ulcers + fever', 'ulcerative lesions', 'rash', 'skins lesions', 'skins lesions + ulcerative lesions', 'vesicular rash', 'genital ulcers', 'fever + skin lesions'] \n",
        "  \n",
        "fig = px.pie(values=random_x, names=names) \n",
        "fig.show()"
      ],
      "metadata": {
        "colab": {
          "base_uri": "https://localhost:8080/",
          "height": 542
        },
        "id": "G420ITUfGusM",
        "outputId": "b3c89c74-d1f3-4c4a-d7c4-8ef7405c7c52"
      },
      "execution_count": 35,
      "outputs": [
        {
          "output_type": "display_data",
          "data": {
            "text/html": [
              "<html>\n",
              "<head><meta charset=\"utf-8\" /></head>\n",
              "<body>\n",
              "    <div>            <script src=\"https://cdnjs.cloudflare.com/ajax/libs/mathjax/2.7.5/MathJax.js?config=TeX-AMS-MML_SVG\"></script><script type=\"text/javascript\">if (window.MathJax && window.MathJax.Hub && window.MathJax.Hub.Config) {window.MathJax.Hub.Config({SVG: {font: \"STIX-Web\"}});}</script>                <script type=\"text/javascript\">window.PlotlyConfig = {MathJaxConfig: 'local'};</script>\n",
              "        <script src=\"https://cdn.plot.ly/plotly-2.14.0.min.js\"></script>                <div id=\"a39984a4-a11e-42e7-ac1e-d6835aa6fdc3\" class=\"plotly-graph-div\" style=\"height:525px; width:100%;\"></div>            <script type=\"text/javascript\">                                    window.PLOTLYENV=window.PLOTLYENV || {};                                    if (document.getElementById(\"a39984a4-a11e-42e7-ac1e-d6835aa6fdc3\")) {                    Plotly.newPlot(                        \"a39984a4-a11e-42e7-ac1e-d6835aa6fdc3\",                        [{\"domain\":{\"x\":[0.0,1.0],\"y\":[0.0,1.0]},\"hovertemplate\":\"label=%{label}<br>value=%{value}<extra></extra>\",\"labels\":[\"Genital ulcer lesions\",\"oral and genital ulcers + fever\",\"ulcerative lesions\",\"rash\",\"skins lesions\",\"skins lesions + ulcerative lesions\",\"vesicular rash\",\"genital ulcers\",\"fever + skin lesions\"],\"legendgroup\":\"\",\"name\":\"\",\"showlegend\":true,\"values\":[30,17,16,13,7,5,5,5,4],\"type\":\"pie\"}],                        {\"template\":{\"data\":{\"histogram2dcontour\":[{\"type\":\"histogram2dcontour\",\"colorbar\":{\"outlinewidth\":0,\"ticks\":\"\"},\"colorscale\":[[0.0,\"#0d0887\"],[0.1111111111111111,\"#46039f\"],[0.2222222222222222,\"#7201a8\"],[0.3333333333333333,\"#9c179e\"],[0.4444444444444444,\"#bd3786\"],[0.5555555555555556,\"#d8576b\"],[0.6666666666666666,\"#ed7953\"],[0.7777777777777778,\"#fb9f3a\"],[0.8888888888888888,\"#fdca26\"],[1.0,\"#f0f921\"]]}],\"choropleth\":[{\"type\":\"choropleth\",\"colorbar\":{\"outlinewidth\":0,\"ticks\":\"\"}}],\"histogram2d\":[{\"type\":\"histogram2d\",\"colorbar\":{\"outlinewidth\":0,\"ticks\":\"\"},\"colorscale\":[[0.0,\"#0d0887\"],[0.1111111111111111,\"#46039f\"],[0.2222222222222222,\"#7201a8\"],[0.3333333333333333,\"#9c179e\"],[0.4444444444444444,\"#bd3786\"],[0.5555555555555556,\"#d8576b\"],[0.6666666666666666,\"#ed7953\"],[0.7777777777777778,\"#fb9f3a\"],[0.8888888888888888,\"#fdca26\"],[1.0,\"#f0f921\"]]}],\"heatmap\":[{\"type\":\"heatmap\",\"colorbar\":{\"outlinewidth\":0,\"ticks\":\"\"},\"colorscale\":[[0.0,\"#0d0887\"],[0.1111111111111111,\"#46039f\"],[0.2222222222222222,\"#7201a8\"],[0.3333333333333333,\"#9c179e\"],[0.4444444444444444,\"#bd3786\"],[0.5555555555555556,\"#d8576b\"],[0.6666666666666666,\"#ed7953\"],[0.7777777777777778,\"#fb9f3a\"],[0.8888888888888888,\"#fdca26\"],[1.0,\"#f0f921\"]]}],\"heatmapgl\":[{\"type\":\"heatmapgl\",\"colorbar\":{\"outlinewidth\":0,\"ticks\":\"\"},\"colorscale\":[[0.0,\"#0d0887\"],[0.1111111111111111,\"#46039f\"],[0.2222222222222222,\"#7201a8\"],[0.3333333333333333,\"#9c179e\"],[0.4444444444444444,\"#bd3786\"],[0.5555555555555556,\"#d8576b\"],[0.6666666666666666,\"#ed7953\"],[0.7777777777777778,\"#fb9f3a\"],[0.8888888888888888,\"#fdca26\"],[1.0,\"#f0f921\"]]}],\"contourcarpet\":[{\"type\":\"contourcarpet\",\"colorbar\":{\"outlinewidth\":0,\"ticks\":\"\"}}],\"contour\":[{\"type\":\"contour\",\"colorbar\":{\"outlinewidth\":0,\"ticks\":\"\"},\"colorscale\":[[0.0,\"#0d0887\"],[0.1111111111111111,\"#46039f\"],[0.2222222222222222,\"#7201a8\"],[0.3333333333333333,\"#9c179e\"],[0.4444444444444444,\"#bd3786\"],[0.5555555555555556,\"#d8576b\"],[0.6666666666666666,\"#ed7953\"],[0.7777777777777778,\"#fb9f3a\"],[0.8888888888888888,\"#fdca26\"],[1.0,\"#f0f921\"]]}],\"surface\":[{\"type\":\"surface\",\"colorbar\":{\"outlinewidth\":0,\"ticks\":\"\"},\"colorscale\":[[0.0,\"#0d0887\"],[0.1111111111111111,\"#46039f\"],[0.2222222222222222,\"#7201a8\"],[0.3333333333333333,\"#9c179e\"],[0.4444444444444444,\"#bd3786\"],[0.5555555555555556,\"#d8576b\"],[0.6666666666666666,\"#ed7953\"],[0.7777777777777778,\"#fb9f3a\"],[0.8888888888888888,\"#fdca26\"],[1.0,\"#f0f921\"]]}],\"mesh3d\":[{\"type\":\"mesh3d\",\"colorbar\":{\"outlinewidth\":0,\"ticks\":\"\"}}],\"scatter\":[{\"fillpattern\":{\"fillmode\":\"overlay\",\"size\":10,\"solidity\":0.2},\"type\":\"scatter\"}],\"parcoords\":[{\"type\":\"parcoords\",\"line\":{\"colorbar\":{\"outlinewidth\":0,\"ticks\":\"\"}}}],\"scatterpolargl\":[{\"type\":\"scatterpolargl\",\"marker\":{\"colorbar\":{\"outlinewidth\":0,\"ticks\":\"\"}}}],\"bar\":[{\"error_x\":{\"color\":\"#2a3f5f\"},\"error_y\":{\"color\":\"#2a3f5f\"},\"marker\":{\"line\":{\"color\":\"#E5ECF6\",\"width\":0.5},\"pattern\":{\"fillmode\":\"overlay\",\"size\":10,\"solidity\":0.2}},\"type\":\"bar\"}],\"scattergeo\":[{\"type\":\"scattergeo\",\"marker\":{\"colorbar\":{\"outlinewidth\":0,\"ticks\":\"\"}}}],\"scatterpolar\":[{\"type\":\"scatterpolar\",\"marker\":{\"colorbar\":{\"outlinewidth\":0,\"ticks\":\"\"}}}],\"histogram\":[{\"marker\":{\"pattern\":{\"fillmode\":\"overlay\",\"size\":10,\"solidity\":0.2}},\"type\":\"histogram\"}],\"scattergl\":[{\"type\":\"scattergl\",\"marker\":{\"colorbar\":{\"outlinewidth\":0,\"ticks\":\"\"}}}],\"scatter3d\":[{\"type\":\"scatter3d\",\"line\":{\"colorbar\":{\"outlinewidth\":0,\"ticks\":\"\"}},\"marker\":{\"colorbar\":{\"outlinewidth\":0,\"ticks\":\"\"}}}],\"scattermapbox\":[{\"type\":\"scattermapbox\",\"marker\":{\"colorbar\":{\"outlinewidth\":0,\"ticks\":\"\"}}}],\"scatterternary\":[{\"type\":\"scatterternary\",\"marker\":{\"colorbar\":{\"outlinewidth\":0,\"ticks\":\"\"}}}],\"scattercarpet\":[{\"type\":\"scattercarpet\",\"marker\":{\"colorbar\":{\"outlinewidth\":0,\"ticks\":\"\"}}}],\"carpet\":[{\"aaxis\":{\"endlinecolor\":\"#2a3f5f\",\"gridcolor\":\"white\",\"linecolor\":\"white\",\"minorgridcolor\":\"white\",\"startlinecolor\":\"#2a3f5f\"},\"baxis\":{\"endlinecolor\":\"#2a3f5f\",\"gridcolor\":\"white\",\"linecolor\":\"white\",\"minorgridcolor\":\"white\",\"startlinecolor\":\"#2a3f5f\"},\"type\":\"carpet\"}],\"table\":[{\"cells\":{\"fill\":{\"color\":\"#EBF0F8\"},\"line\":{\"color\":\"white\"}},\"header\":{\"fill\":{\"color\":\"#C8D4E3\"},\"line\":{\"color\":\"white\"}},\"type\":\"table\"}],\"barpolar\":[{\"marker\":{\"line\":{\"color\":\"#E5ECF6\",\"width\":0.5},\"pattern\":{\"fillmode\":\"overlay\",\"size\":10,\"solidity\":0.2}},\"type\":\"barpolar\"}],\"pie\":[{\"automargin\":true,\"type\":\"pie\"}]},\"layout\":{\"autotypenumbers\":\"strict\",\"colorway\":[\"#636efa\",\"#EF553B\",\"#00cc96\",\"#ab63fa\",\"#FFA15A\",\"#19d3f3\",\"#FF6692\",\"#B6E880\",\"#FF97FF\",\"#FECB52\"],\"font\":{\"color\":\"#2a3f5f\"},\"hovermode\":\"closest\",\"hoverlabel\":{\"align\":\"left\"},\"paper_bgcolor\":\"white\",\"plot_bgcolor\":\"#E5ECF6\",\"polar\":{\"bgcolor\":\"#E5ECF6\",\"angularaxis\":{\"gridcolor\":\"white\",\"linecolor\":\"white\",\"ticks\":\"\"},\"radialaxis\":{\"gridcolor\":\"white\",\"linecolor\":\"white\",\"ticks\":\"\"}},\"ternary\":{\"bgcolor\":\"#E5ECF6\",\"aaxis\":{\"gridcolor\":\"white\",\"linecolor\":\"white\",\"ticks\":\"\"},\"baxis\":{\"gridcolor\":\"white\",\"linecolor\":\"white\",\"ticks\":\"\"},\"caxis\":{\"gridcolor\":\"white\",\"linecolor\":\"white\",\"ticks\":\"\"}},\"coloraxis\":{\"colorbar\":{\"outlinewidth\":0,\"ticks\":\"\"}},\"colorscale\":{\"sequential\":[[0.0,\"#0d0887\"],[0.1111111111111111,\"#46039f\"],[0.2222222222222222,\"#7201a8\"],[0.3333333333333333,\"#9c179e\"],[0.4444444444444444,\"#bd3786\"],[0.5555555555555556,\"#d8576b\"],[0.6666666666666666,\"#ed7953\"],[0.7777777777777778,\"#fb9f3a\"],[0.8888888888888888,\"#fdca26\"],[1.0,\"#f0f921\"]],\"sequentialminus\":[[0.0,\"#0d0887\"],[0.1111111111111111,\"#46039f\"],[0.2222222222222222,\"#7201a8\"],[0.3333333333333333,\"#9c179e\"],[0.4444444444444444,\"#bd3786\"],[0.5555555555555556,\"#d8576b\"],[0.6666666666666666,\"#ed7953\"],[0.7777777777777778,\"#fb9f3a\"],[0.8888888888888888,\"#fdca26\"],[1.0,\"#f0f921\"]],\"diverging\":[[0,\"#8e0152\"],[0.1,\"#c51b7d\"],[0.2,\"#de77ae\"],[0.3,\"#f1b6da\"],[0.4,\"#fde0ef\"],[0.5,\"#f7f7f7\"],[0.6,\"#e6f5d0\"],[0.7,\"#b8e186\"],[0.8,\"#7fbc41\"],[0.9,\"#4d9221\"],[1,\"#276419\"]]},\"xaxis\":{\"gridcolor\":\"white\",\"linecolor\":\"white\",\"ticks\":\"\",\"title\":{\"standoff\":15},\"zerolinecolor\":\"white\",\"automargin\":true,\"zerolinewidth\":2},\"yaxis\":{\"gridcolor\":\"white\",\"linecolor\":\"white\",\"ticks\":\"\",\"title\":{\"standoff\":15},\"zerolinecolor\":\"white\",\"automargin\":true,\"zerolinewidth\":2},\"scene\":{\"xaxis\":{\"backgroundcolor\":\"#E5ECF6\",\"gridcolor\":\"white\",\"linecolor\":\"white\",\"showbackground\":true,\"ticks\":\"\",\"zerolinecolor\":\"white\",\"gridwidth\":2},\"yaxis\":{\"backgroundcolor\":\"#E5ECF6\",\"gridcolor\":\"white\",\"linecolor\":\"white\",\"showbackground\":true,\"ticks\":\"\",\"zerolinecolor\":\"white\",\"gridwidth\":2},\"zaxis\":{\"backgroundcolor\":\"#E5ECF6\",\"gridcolor\":\"white\",\"linecolor\":\"white\",\"showbackground\":true,\"ticks\":\"\",\"zerolinecolor\":\"white\",\"gridwidth\":2}},\"shapedefaults\":{\"line\":{\"color\":\"#2a3f5f\"}},\"annotationdefaults\":{\"arrowcolor\":\"#2a3f5f\",\"arrowhead\":0,\"arrowwidth\":1},\"geo\":{\"bgcolor\":\"white\",\"landcolor\":\"#E5ECF6\",\"subunitcolor\":\"white\",\"showland\":true,\"showlakes\":true,\"lakecolor\":\"white\"},\"title\":{\"x\":0.05},\"mapbox\":{\"style\":\"light\"}}},\"legend\":{\"tracegroupgap\":0},\"margin\":{\"t\":60}},                        {\"responsive\": true}                    ).then(function(){\n",
              "                            \n",
              "var gd = document.getElementById('a39984a4-a11e-42e7-ac1e-d6835aa6fdc3');\n",
              "var x = new MutationObserver(function (mutations, observer) {{\n",
              "        var display = window.getComputedStyle(gd).display;\n",
              "        if (!display || display === 'none') {{\n",
              "            console.log([gd, 'removed!']);\n",
              "            Plotly.purge(gd);\n",
              "            observer.disconnect();\n",
              "        }}\n",
              "}});\n",
              "\n",
              "// Listen for the removal of the full notebook cells\n",
              "var notebookContainer = gd.closest('#notebook-container');\n",
              "if (notebookContainer) {{\n",
              "    x.observe(notebookContainer, {childList: true});\n",
              "}}\n",
              "\n",
              "// Listen for the clearing of the current output cell\n",
              "var outputEl = gd.closest('.output');\n",
              "if (outputEl) {{\n",
              "    x.observe(outputEl, {childList: true});\n",
              "}}\n",
              "\n",
              "                        })                };                            </script>        </div>\n",
              "</body>\n",
              "</html>"
            ]
          },
          "metadata": {}
        }
      ]
    },
    {
      "cell_type": "code",
      "source": [
        "monkeypoxSymptomsdf =[{'id':1,'Sintoma':'None','Grupo_Sintoma':'None','Quantidade':\t69375},\n",
        "                    {'id':2,'Sintoma':'genital ulcer lesions','Grupo_Sintoma':'Genitália','Quantidade': 30},\n",
        "                    {'id':3,'Sintoma':'oral ulcer','Grupo_Sintoma':'Boca','Quantidade':17},\n",
        "                    {'id':4,'Sintoma':'genital ulcers','Grupo_Sintoma':'Genitália','Quantidade':17},\n",
        "                    {'id':5,'Sintoma':'fever','Grupo_Sintoma':'Febre','Quantidade':17},\n",
        "                    {'id':6,'Sintoma':'ulcerative lesions','Grupo_Sintoma':'Pele','Quantidade':16},\n",
        "                    {'id':7,'Sintoma':'rash','Grupo_Sintoma':'Pele','Quantidade':13},\n",
        "                    {'id':8,'Sintoma':'skin lesions','Grupo_Sintoma':'Pele','Quantidade':7},\n",
        "                    {'id':9,'Sintoma':'skin lesions','Grupo_Sintoma':'Pele','Quantidade':5},\n",
        "                    {'id':10,'Sintoma':'ulcerative lesions','Grupo_Sintoma':'Pele','Quantidade':5},\n",
        "                    {'id':11,'Sintoma':'vesicular rash','Grupo_Sintoma':'Pele','Quantidade':5},\n",
        "                    {'id':12,'Sintoma':'genital ulcers','Grupo_Sintoma':'Genitália','Quantidade':5},\n",
        "                    {'id':13,'Sintoma':'fever','Grupo_Sintoma':'Febre','Quantidade':4},\n",
        "                    {'id':14,'Sintoma':'skin lesions','Grupo_Sintoma':'Pele','Quantidade':4}]\n",
        "\n",
        "\n",
        "monkeypoxSymptomsdf = spark.createDataFrame(monkeypoxSymptomsdf)\n",
        "\n",
        "#get the sum of cost column groued by item\n",
        "monkeypoxSymptomsdf.groupBy('Grupo_Sintoma').sum('Quantidade').show()"
      ],
      "metadata": {
        "colab": {
          "base_uri": "https://localhost:8080/"
        },
        "id": "IEsmMv-E2csE",
        "outputId": "9c16dd39-1f9d-4d55-8974-a88f6fa28359"
      },
      "execution_count": 36,
      "outputs": [
        {
          "output_type": "stream",
          "name": "stderr",
          "text": [
            "spark-2.4.4-bin-hadoop2.7/python/pyspark/sql/session.py:346: UserWarning:\n",
            "\n",
            "inferring schema from dict is deprecated,please use pyspark.sql.Row instead\n",
            "\n"
          ]
        },
        {
          "output_type": "stream",
          "name": "stdout",
          "text": [
            "+-------------+---------------+\n",
            "|Grupo_Sintoma|sum(Quantidade)|\n",
            "+-------------+---------------+\n",
            "|         None|          69375|\n",
            "|    Genitália|             52|\n",
            "|         Pele|             55|\n",
            "|        Febre|             21|\n",
            "|         Boca|             17|\n",
            "+-------------+---------------+\n",
            "\n"
          ]
        }
      ]
    },
    {
      "cell_type": "code",
      "source": [
        "import plotly.express as px \n",
        "import numpy \n",
        "random_x = [69375, 52,55,21,17] \n",
        "names = ['None','Genitália','Pele','Febre','Boca'] \n",
        "  \n",
        "fig = px.pie(values=random_x, names=names) \n",
        "fig.show()"
      ],
      "metadata": {
        "colab": {
          "base_uri": "https://localhost:8080/",
          "height": 542
        },
        "id": "Uspaw_8uGLOR",
        "outputId": "8e1022ac-1650-44d6-f4d3-727999bbbad1"
      },
      "execution_count": 37,
      "outputs": [
        {
          "output_type": "display_data",
          "data": {
            "text/html": [
              "<html>\n",
              "<head><meta charset=\"utf-8\" /></head>\n",
              "<body>\n",
              "    <div>            <script src=\"https://cdnjs.cloudflare.com/ajax/libs/mathjax/2.7.5/MathJax.js?config=TeX-AMS-MML_SVG\"></script><script type=\"text/javascript\">if (window.MathJax && window.MathJax.Hub && window.MathJax.Hub.Config) {window.MathJax.Hub.Config({SVG: {font: \"STIX-Web\"}});}</script>                <script type=\"text/javascript\">window.PlotlyConfig = {MathJaxConfig: 'local'};</script>\n",
              "        <script src=\"https://cdn.plot.ly/plotly-2.14.0.min.js\"></script>                <div id=\"84cd04e5-9a59-4fd1-882d-7ee81dae53b5\" class=\"plotly-graph-div\" style=\"height:525px; width:100%;\"></div>            <script type=\"text/javascript\">                                    window.PLOTLYENV=window.PLOTLYENV || {};                                    if (document.getElementById(\"84cd04e5-9a59-4fd1-882d-7ee81dae53b5\")) {                    Plotly.newPlot(                        \"84cd04e5-9a59-4fd1-882d-7ee81dae53b5\",                        [{\"domain\":{\"x\":[0.0,1.0],\"y\":[0.0,1.0]},\"hovertemplate\":\"label=%{label}<br>value=%{value}<extra></extra>\",\"labels\":[\"None\",\"Genit\\u00e1lia\",\"Pele\",\"Febre\",\"Boca\"],\"legendgroup\":\"\",\"name\":\"\",\"showlegend\":true,\"values\":[69375,52,55,21,17],\"type\":\"pie\"}],                        {\"template\":{\"data\":{\"histogram2dcontour\":[{\"type\":\"histogram2dcontour\",\"colorbar\":{\"outlinewidth\":0,\"ticks\":\"\"},\"colorscale\":[[0.0,\"#0d0887\"],[0.1111111111111111,\"#46039f\"],[0.2222222222222222,\"#7201a8\"],[0.3333333333333333,\"#9c179e\"],[0.4444444444444444,\"#bd3786\"],[0.5555555555555556,\"#d8576b\"],[0.6666666666666666,\"#ed7953\"],[0.7777777777777778,\"#fb9f3a\"],[0.8888888888888888,\"#fdca26\"],[1.0,\"#f0f921\"]]}],\"choropleth\":[{\"type\":\"choropleth\",\"colorbar\":{\"outlinewidth\":0,\"ticks\":\"\"}}],\"histogram2d\":[{\"type\":\"histogram2d\",\"colorbar\":{\"outlinewidth\":0,\"ticks\":\"\"},\"colorscale\":[[0.0,\"#0d0887\"],[0.1111111111111111,\"#46039f\"],[0.2222222222222222,\"#7201a8\"],[0.3333333333333333,\"#9c179e\"],[0.4444444444444444,\"#bd3786\"],[0.5555555555555556,\"#d8576b\"],[0.6666666666666666,\"#ed7953\"],[0.7777777777777778,\"#fb9f3a\"],[0.8888888888888888,\"#fdca26\"],[1.0,\"#f0f921\"]]}],\"heatmap\":[{\"type\":\"heatmap\",\"colorbar\":{\"outlinewidth\":0,\"ticks\":\"\"},\"colorscale\":[[0.0,\"#0d0887\"],[0.1111111111111111,\"#46039f\"],[0.2222222222222222,\"#7201a8\"],[0.3333333333333333,\"#9c179e\"],[0.4444444444444444,\"#bd3786\"],[0.5555555555555556,\"#d8576b\"],[0.6666666666666666,\"#ed7953\"],[0.7777777777777778,\"#fb9f3a\"],[0.8888888888888888,\"#fdca26\"],[1.0,\"#f0f921\"]]}],\"heatmapgl\":[{\"type\":\"heatmapgl\",\"colorbar\":{\"outlinewidth\":0,\"ticks\":\"\"},\"colorscale\":[[0.0,\"#0d0887\"],[0.1111111111111111,\"#46039f\"],[0.2222222222222222,\"#7201a8\"],[0.3333333333333333,\"#9c179e\"],[0.4444444444444444,\"#bd3786\"],[0.5555555555555556,\"#d8576b\"],[0.6666666666666666,\"#ed7953\"],[0.7777777777777778,\"#fb9f3a\"],[0.8888888888888888,\"#fdca26\"],[1.0,\"#f0f921\"]]}],\"contourcarpet\":[{\"type\":\"contourcarpet\",\"colorbar\":{\"outlinewidth\":0,\"ticks\":\"\"}}],\"contour\":[{\"type\":\"contour\",\"colorbar\":{\"outlinewidth\":0,\"ticks\":\"\"},\"colorscale\":[[0.0,\"#0d0887\"],[0.1111111111111111,\"#46039f\"],[0.2222222222222222,\"#7201a8\"],[0.3333333333333333,\"#9c179e\"],[0.4444444444444444,\"#bd3786\"],[0.5555555555555556,\"#d8576b\"],[0.6666666666666666,\"#ed7953\"],[0.7777777777777778,\"#fb9f3a\"],[0.8888888888888888,\"#fdca26\"],[1.0,\"#f0f921\"]]}],\"surface\":[{\"type\":\"surface\",\"colorbar\":{\"outlinewidth\":0,\"ticks\":\"\"},\"colorscale\":[[0.0,\"#0d0887\"],[0.1111111111111111,\"#46039f\"],[0.2222222222222222,\"#7201a8\"],[0.3333333333333333,\"#9c179e\"],[0.4444444444444444,\"#bd3786\"],[0.5555555555555556,\"#d8576b\"],[0.6666666666666666,\"#ed7953\"],[0.7777777777777778,\"#fb9f3a\"],[0.8888888888888888,\"#fdca26\"],[1.0,\"#f0f921\"]]}],\"mesh3d\":[{\"type\":\"mesh3d\",\"colorbar\":{\"outlinewidth\":0,\"ticks\":\"\"}}],\"scatter\":[{\"fillpattern\":{\"fillmode\":\"overlay\",\"size\":10,\"solidity\":0.2},\"type\":\"scatter\"}],\"parcoords\":[{\"type\":\"parcoords\",\"line\":{\"colorbar\":{\"outlinewidth\":0,\"ticks\":\"\"}}}],\"scatterpolargl\":[{\"type\":\"scatterpolargl\",\"marker\":{\"colorbar\":{\"outlinewidth\":0,\"ticks\":\"\"}}}],\"bar\":[{\"error_x\":{\"color\":\"#2a3f5f\"},\"error_y\":{\"color\":\"#2a3f5f\"},\"marker\":{\"line\":{\"color\":\"#E5ECF6\",\"width\":0.5},\"pattern\":{\"fillmode\":\"overlay\",\"size\":10,\"solidity\":0.2}},\"type\":\"bar\"}],\"scattergeo\":[{\"type\":\"scattergeo\",\"marker\":{\"colorbar\":{\"outlinewidth\":0,\"ticks\":\"\"}}}],\"scatterpolar\":[{\"type\":\"scatterpolar\",\"marker\":{\"colorbar\":{\"outlinewidth\":0,\"ticks\":\"\"}}}],\"histogram\":[{\"marker\":{\"pattern\":{\"fillmode\":\"overlay\",\"size\":10,\"solidity\":0.2}},\"type\":\"histogram\"}],\"scattergl\":[{\"type\":\"scattergl\",\"marker\":{\"colorbar\":{\"outlinewidth\":0,\"ticks\":\"\"}}}],\"scatter3d\":[{\"type\":\"scatter3d\",\"line\":{\"colorbar\":{\"outlinewidth\":0,\"ticks\":\"\"}},\"marker\":{\"colorbar\":{\"outlinewidth\":0,\"ticks\":\"\"}}}],\"scattermapbox\":[{\"type\":\"scattermapbox\",\"marker\":{\"colorbar\":{\"outlinewidth\":0,\"ticks\":\"\"}}}],\"scatterternary\":[{\"type\":\"scatterternary\",\"marker\":{\"colorbar\":{\"outlinewidth\":0,\"ticks\":\"\"}}}],\"scattercarpet\":[{\"type\":\"scattercarpet\",\"marker\":{\"colorbar\":{\"outlinewidth\":0,\"ticks\":\"\"}}}],\"carpet\":[{\"aaxis\":{\"endlinecolor\":\"#2a3f5f\",\"gridcolor\":\"white\",\"linecolor\":\"white\",\"minorgridcolor\":\"white\",\"startlinecolor\":\"#2a3f5f\"},\"baxis\":{\"endlinecolor\":\"#2a3f5f\",\"gridcolor\":\"white\",\"linecolor\":\"white\",\"minorgridcolor\":\"white\",\"startlinecolor\":\"#2a3f5f\"},\"type\":\"carpet\"}],\"table\":[{\"cells\":{\"fill\":{\"color\":\"#EBF0F8\"},\"line\":{\"color\":\"white\"}},\"header\":{\"fill\":{\"color\":\"#C8D4E3\"},\"line\":{\"color\":\"white\"}},\"type\":\"table\"}],\"barpolar\":[{\"marker\":{\"line\":{\"color\":\"#E5ECF6\",\"width\":0.5},\"pattern\":{\"fillmode\":\"overlay\",\"size\":10,\"solidity\":0.2}},\"type\":\"barpolar\"}],\"pie\":[{\"automargin\":true,\"type\":\"pie\"}]},\"layout\":{\"autotypenumbers\":\"strict\",\"colorway\":[\"#636efa\",\"#EF553B\",\"#00cc96\",\"#ab63fa\",\"#FFA15A\",\"#19d3f3\",\"#FF6692\",\"#B6E880\",\"#FF97FF\",\"#FECB52\"],\"font\":{\"color\":\"#2a3f5f\"},\"hovermode\":\"closest\",\"hoverlabel\":{\"align\":\"left\"},\"paper_bgcolor\":\"white\",\"plot_bgcolor\":\"#E5ECF6\",\"polar\":{\"bgcolor\":\"#E5ECF6\",\"angularaxis\":{\"gridcolor\":\"white\",\"linecolor\":\"white\",\"ticks\":\"\"},\"radialaxis\":{\"gridcolor\":\"white\",\"linecolor\":\"white\",\"ticks\":\"\"}},\"ternary\":{\"bgcolor\":\"#E5ECF6\",\"aaxis\":{\"gridcolor\":\"white\",\"linecolor\":\"white\",\"ticks\":\"\"},\"baxis\":{\"gridcolor\":\"white\",\"linecolor\":\"white\",\"ticks\":\"\"},\"caxis\":{\"gridcolor\":\"white\",\"linecolor\":\"white\",\"ticks\":\"\"}},\"coloraxis\":{\"colorbar\":{\"outlinewidth\":0,\"ticks\":\"\"}},\"colorscale\":{\"sequential\":[[0.0,\"#0d0887\"],[0.1111111111111111,\"#46039f\"],[0.2222222222222222,\"#7201a8\"],[0.3333333333333333,\"#9c179e\"],[0.4444444444444444,\"#bd3786\"],[0.5555555555555556,\"#d8576b\"],[0.6666666666666666,\"#ed7953\"],[0.7777777777777778,\"#fb9f3a\"],[0.8888888888888888,\"#fdca26\"],[1.0,\"#f0f921\"]],\"sequentialminus\":[[0.0,\"#0d0887\"],[0.1111111111111111,\"#46039f\"],[0.2222222222222222,\"#7201a8\"],[0.3333333333333333,\"#9c179e\"],[0.4444444444444444,\"#bd3786\"],[0.5555555555555556,\"#d8576b\"],[0.6666666666666666,\"#ed7953\"],[0.7777777777777778,\"#fb9f3a\"],[0.8888888888888888,\"#fdca26\"],[1.0,\"#f0f921\"]],\"diverging\":[[0,\"#8e0152\"],[0.1,\"#c51b7d\"],[0.2,\"#de77ae\"],[0.3,\"#f1b6da\"],[0.4,\"#fde0ef\"],[0.5,\"#f7f7f7\"],[0.6,\"#e6f5d0\"],[0.7,\"#b8e186\"],[0.8,\"#7fbc41\"],[0.9,\"#4d9221\"],[1,\"#276419\"]]},\"xaxis\":{\"gridcolor\":\"white\",\"linecolor\":\"white\",\"ticks\":\"\",\"title\":{\"standoff\":15},\"zerolinecolor\":\"white\",\"automargin\":true,\"zerolinewidth\":2},\"yaxis\":{\"gridcolor\":\"white\",\"linecolor\":\"white\",\"ticks\":\"\",\"title\":{\"standoff\":15},\"zerolinecolor\":\"white\",\"automargin\":true,\"zerolinewidth\":2},\"scene\":{\"xaxis\":{\"backgroundcolor\":\"#E5ECF6\",\"gridcolor\":\"white\",\"linecolor\":\"white\",\"showbackground\":true,\"ticks\":\"\",\"zerolinecolor\":\"white\",\"gridwidth\":2},\"yaxis\":{\"backgroundcolor\":\"#E5ECF6\",\"gridcolor\":\"white\",\"linecolor\":\"white\",\"showbackground\":true,\"ticks\":\"\",\"zerolinecolor\":\"white\",\"gridwidth\":2},\"zaxis\":{\"backgroundcolor\":\"#E5ECF6\",\"gridcolor\":\"white\",\"linecolor\":\"white\",\"showbackground\":true,\"ticks\":\"\",\"zerolinecolor\":\"white\",\"gridwidth\":2}},\"shapedefaults\":{\"line\":{\"color\":\"#2a3f5f\"}},\"annotationdefaults\":{\"arrowcolor\":\"#2a3f5f\",\"arrowhead\":0,\"arrowwidth\":1},\"geo\":{\"bgcolor\":\"white\",\"landcolor\":\"#E5ECF6\",\"subunitcolor\":\"white\",\"showland\":true,\"showlakes\":true,\"lakecolor\":\"white\"},\"title\":{\"x\":0.05},\"mapbox\":{\"style\":\"light\"}}},\"legend\":{\"tracegroupgap\":0},\"margin\":{\"t\":60}},                        {\"responsive\": true}                    ).then(function(){\n",
              "                            \n",
              "var gd = document.getElementById('84cd04e5-9a59-4fd1-882d-7ee81dae53b5');\n",
              "var x = new MutationObserver(function (mutations, observer) {{\n",
              "        var display = window.getComputedStyle(gd).display;\n",
              "        if (!display || display === 'none') {{\n",
              "            console.log([gd, 'removed!']);\n",
              "            Plotly.purge(gd);\n",
              "            observer.disconnect();\n",
              "        }}\n",
              "}});\n",
              "\n",
              "// Listen for the removal of the full notebook cells\n",
              "var notebookContainer = gd.closest('#notebook-container');\n",
              "if (notebookContainer) {{\n",
              "    x.observe(notebookContainer, {childList: true});\n",
              "}}\n",
              "\n",
              "// Listen for the clearing of the current output cell\n",
              "var outputEl = gd.closest('.output');\n",
              "if (outputEl) {{\n",
              "    x.observe(outputEl, {childList: true});\n",
              "}}\n",
              "\n",
              "                        })                };                            </script>        </div>\n",
              "</body>\n",
              "</html>"
            ]
          },
          "metadata": {}
        }
      ]
    },
    {
      "cell_type": "code",
      "source": [
        "import plotly.express as px \n",
        "import numpy \n",
        "random_x = [52,55,21,17] \n",
        "names = ['Genitália','Pele','Febre','Boca'] \n",
        "  \n",
        "fig = px.pie(values=random_x, names=names) \n",
        "fig.show()"
      ],
      "metadata": {
        "colab": {
          "base_uri": "https://localhost:8080/",
          "height": 542
        },
        "id": "bpuuWcJEGkN_",
        "outputId": "00bbaf8a-d3c1-49b7-cf04-a02fa64474f2"
      },
      "execution_count": 38,
      "outputs": [
        {
          "output_type": "display_data",
          "data": {
            "text/html": [
              "<html>\n",
              "<head><meta charset=\"utf-8\" /></head>\n",
              "<body>\n",
              "    <div>            <script src=\"https://cdnjs.cloudflare.com/ajax/libs/mathjax/2.7.5/MathJax.js?config=TeX-AMS-MML_SVG\"></script><script type=\"text/javascript\">if (window.MathJax && window.MathJax.Hub && window.MathJax.Hub.Config) {window.MathJax.Hub.Config({SVG: {font: \"STIX-Web\"}});}</script>                <script type=\"text/javascript\">window.PlotlyConfig = {MathJaxConfig: 'local'};</script>\n",
              "        <script src=\"https://cdn.plot.ly/plotly-2.14.0.min.js\"></script>                <div id=\"31fc32fc-2e05-44ed-91b7-e2eb36792339\" class=\"plotly-graph-div\" style=\"height:525px; width:100%;\"></div>            <script type=\"text/javascript\">                                    window.PLOTLYENV=window.PLOTLYENV || {};                                    if (document.getElementById(\"31fc32fc-2e05-44ed-91b7-e2eb36792339\")) {                    Plotly.newPlot(                        \"31fc32fc-2e05-44ed-91b7-e2eb36792339\",                        [{\"domain\":{\"x\":[0.0,1.0],\"y\":[0.0,1.0]},\"hovertemplate\":\"label=%{label}<br>value=%{value}<extra></extra>\",\"labels\":[\"Genit\\u00e1lia\",\"Pele\",\"Febre\",\"Boca\"],\"legendgroup\":\"\",\"name\":\"\",\"showlegend\":true,\"values\":[52,55,21,17],\"type\":\"pie\"}],                        {\"template\":{\"data\":{\"histogram2dcontour\":[{\"type\":\"histogram2dcontour\",\"colorbar\":{\"outlinewidth\":0,\"ticks\":\"\"},\"colorscale\":[[0.0,\"#0d0887\"],[0.1111111111111111,\"#46039f\"],[0.2222222222222222,\"#7201a8\"],[0.3333333333333333,\"#9c179e\"],[0.4444444444444444,\"#bd3786\"],[0.5555555555555556,\"#d8576b\"],[0.6666666666666666,\"#ed7953\"],[0.7777777777777778,\"#fb9f3a\"],[0.8888888888888888,\"#fdca26\"],[1.0,\"#f0f921\"]]}],\"choropleth\":[{\"type\":\"choropleth\",\"colorbar\":{\"outlinewidth\":0,\"ticks\":\"\"}}],\"histogram2d\":[{\"type\":\"histogram2d\",\"colorbar\":{\"outlinewidth\":0,\"ticks\":\"\"},\"colorscale\":[[0.0,\"#0d0887\"],[0.1111111111111111,\"#46039f\"],[0.2222222222222222,\"#7201a8\"],[0.3333333333333333,\"#9c179e\"],[0.4444444444444444,\"#bd3786\"],[0.5555555555555556,\"#d8576b\"],[0.6666666666666666,\"#ed7953\"],[0.7777777777777778,\"#fb9f3a\"],[0.8888888888888888,\"#fdca26\"],[1.0,\"#f0f921\"]]}],\"heatmap\":[{\"type\":\"heatmap\",\"colorbar\":{\"outlinewidth\":0,\"ticks\":\"\"},\"colorscale\":[[0.0,\"#0d0887\"],[0.1111111111111111,\"#46039f\"],[0.2222222222222222,\"#7201a8\"],[0.3333333333333333,\"#9c179e\"],[0.4444444444444444,\"#bd3786\"],[0.5555555555555556,\"#d8576b\"],[0.6666666666666666,\"#ed7953\"],[0.7777777777777778,\"#fb9f3a\"],[0.8888888888888888,\"#fdca26\"],[1.0,\"#f0f921\"]]}],\"heatmapgl\":[{\"type\":\"heatmapgl\",\"colorbar\":{\"outlinewidth\":0,\"ticks\":\"\"},\"colorscale\":[[0.0,\"#0d0887\"],[0.1111111111111111,\"#46039f\"],[0.2222222222222222,\"#7201a8\"],[0.3333333333333333,\"#9c179e\"],[0.4444444444444444,\"#bd3786\"],[0.5555555555555556,\"#d8576b\"],[0.6666666666666666,\"#ed7953\"],[0.7777777777777778,\"#fb9f3a\"],[0.8888888888888888,\"#fdca26\"],[1.0,\"#f0f921\"]]}],\"contourcarpet\":[{\"type\":\"contourcarpet\",\"colorbar\":{\"outlinewidth\":0,\"ticks\":\"\"}}],\"contour\":[{\"type\":\"contour\",\"colorbar\":{\"outlinewidth\":0,\"ticks\":\"\"},\"colorscale\":[[0.0,\"#0d0887\"],[0.1111111111111111,\"#46039f\"],[0.2222222222222222,\"#7201a8\"],[0.3333333333333333,\"#9c179e\"],[0.4444444444444444,\"#bd3786\"],[0.5555555555555556,\"#d8576b\"],[0.6666666666666666,\"#ed7953\"],[0.7777777777777778,\"#fb9f3a\"],[0.8888888888888888,\"#fdca26\"],[1.0,\"#f0f921\"]]}],\"surface\":[{\"type\":\"surface\",\"colorbar\":{\"outlinewidth\":0,\"ticks\":\"\"},\"colorscale\":[[0.0,\"#0d0887\"],[0.1111111111111111,\"#46039f\"],[0.2222222222222222,\"#7201a8\"],[0.3333333333333333,\"#9c179e\"],[0.4444444444444444,\"#bd3786\"],[0.5555555555555556,\"#d8576b\"],[0.6666666666666666,\"#ed7953\"],[0.7777777777777778,\"#fb9f3a\"],[0.8888888888888888,\"#fdca26\"],[1.0,\"#f0f921\"]]}],\"mesh3d\":[{\"type\":\"mesh3d\",\"colorbar\":{\"outlinewidth\":0,\"ticks\":\"\"}}],\"scatter\":[{\"fillpattern\":{\"fillmode\":\"overlay\",\"size\":10,\"solidity\":0.2},\"type\":\"scatter\"}],\"parcoords\":[{\"type\":\"parcoords\",\"line\":{\"colorbar\":{\"outlinewidth\":0,\"ticks\":\"\"}}}],\"scatterpolargl\":[{\"type\":\"scatterpolargl\",\"marker\":{\"colorbar\":{\"outlinewidth\":0,\"ticks\":\"\"}}}],\"bar\":[{\"error_x\":{\"color\":\"#2a3f5f\"},\"error_y\":{\"color\":\"#2a3f5f\"},\"marker\":{\"line\":{\"color\":\"#E5ECF6\",\"width\":0.5},\"pattern\":{\"fillmode\":\"overlay\",\"size\":10,\"solidity\":0.2}},\"type\":\"bar\"}],\"scattergeo\":[{\"type\":\"scattergeo\",\"marker\":{\"colorbar\":{\"outlinewidth\":0,\"ticks\":\"\"}}}],\"scatterpolar\":[{\"type\":\"scatterpolar\",\"marker\":{\"colorbar\":{\"outlinewidth\":0,\"ticks\":\"\"}}}],\"histogram\":[{\"marker\":{\"pattern\":{\"fillmode\":\"overlay\",\"size\":10,\"solidity\":0.2}},\"type\":\"histogram\"}],\"scattergl\":[{\"type\":\"scattergl\",\"marker\":{\"colorbar\":{\"outlinewidth\":0,\"ticks\":\"\"}}}],\"scatter3d\":[{\"type\":\"scatter3d\",\"line\":{\"colorbar\":{\"outlinewidth\":0,\"ticks\":\"\"}},\"marker\":{\"colorbar\":{\"outlinewidth\":0,\"ticks\":\"\"}}}],\"scattermapbox\":[{\"type\":\"scattermapbox\",\"marker\":{\"colorbar\":{\"outlinewidth\":0,\"ticks\":\"\"}}}],\"scatterternary\":[{\"type\":\"scatterternary\",\"marker\":{\"colorbar\":{\"outlinewidth\":0,\"ticks\":\"\"}}}],\"scattercarpet\":[{\"type\":\"scattercarpet\",\"marker\":{\"colorbar\":{\"outlinewidth\":0,\"ticks\":\"\"}}}],\"carpet\":[{\"aaxis\":{\"endlinecolor\":\"#2a3f5f\",\"gridcolor\":\"white\",\"linecolor\":\"white\",\"minorgridcolor\":\"white\",\"startlinecolor\":\"#2a3f5f\"},\"baxis\":{\"endlinecolor\":\"#2a3f5f\",\"gridcolor\":\"white\",\"linecolor\":\"white\",\"minorgridcolor\":\"white\",\"startlinecolor\":\"#2a3f5f\"},\"type\":\"carpet\"}],\"table\":[{\"cells\":{\"fill\":{\"color\":\"#EBF0F8\"},\"line\":{\"color\":\"white\"}},\"header\":{\"fill\":{\"color\":\"#C8D4E3\"},\"line\":{\"color\":\"white\"}},\"type\":\"table\"}],\"barpolar\":[{\"marker\":{\"line\":{\"color\":\"#E5ECF6\",\"width\":0.5},\"pattern\":{\"fillmode\":\"overlay\",\"size\":10,\"solidity\":0.2}},\"type\":\"barpolar\"}],\"pie\":[{\"automargin\":true,\"type\":\"pie\"}]},\"layout\":{\"autotypenumbers\":\"strict\",\"colorway\":[\"#636efa\",\"#EF553B\",\"#00cc96\",\"#ab63fa\",\"#FFA15A\",\"#19d3f3\",\"#FF6692\",\"#B6E880\",\"#FF97FF\",\"#FECB52\"],\"font\":{\"color\":\"#2a3f5f\"},\"hovermode\":\"closest\",\"hoverlabel\":{\"align\":\"left\"},\"paper_bgcolor\":\"white\",\"plot_bgcolor\":\"#E5ECF6\",\"polar\":{\"bgcolor\":\"#E5ECF6\",\"angularaxis\":{\"gridcolor\":\"white\",\"linecolor\":\"white\",\"ticks\":\"\"},\"radialaxis\":{\"gridcolor\":\"white\",\"linecolor\":\"white\",\"ticks\":\"\"}},\"ternary\":{\"bgcolor\":\"#E5ECF6\",\"aaxis\":{\"gridcolor\":\"white\",\"linecolor\":\"white\",\"ticks\":\"\"},\"baxis\":{\"gridcolor\":\"white\",\"linecolor\":\"white\",\"ticks\":\"\"},\"caxis\":{\"gridcolor\":\"white\",\"linecolor\":\"white\",\"ticks\":\"\"}},\"coloraxis\":{\"colorbar\":{\"outlinewidth\":0,\"ticks\":\"\"}},\"colorscale\":{\"sequential\":[[0.0,\"#0d0887\"],[0.1111111111111111,\"#46039f\"],[0.2222222222222222,\"#7201a8\"],[0.3333333333333333,\"#9c179e\"],[0.4444444444444444,\"#bd3786\"],[0.5555555555555556,\"#d8576b\"],[0.6666666666666666,\"#ed7953\"],[0.7777777777777778,\"#fb9f3a\"],[0.8888888888888888,\"#fdca26\"],[1.0,\"#f0f921\"]],\"sequentialminus\":[[0.0,\"#0d0887\"],[0.1111111111111111,\"#46039f\"],[0.2222222222222222,\"#7201a8\"],[0.3333333333333333,\"#9c179e\"],[0.4444444444444444,\"#bd3786\"],[0.5555555555555556,\"#d8576b\"],[0.6666666666666666,\"#ed7953\"],[0.7777777777777778,\"#fb9f3a\"],[0.8888888888888888,\"#fdca26\"],[1.0,\"#f0f921\"]],\"diverging\":[[0,\"#8e0152\"],[0.1,\"#c51b7d\"],[0.2,\"#de77ae\"],[0.3,\"#f1b6da\"],[0.4,\"#fde0ef\"],[0.5,\"#f7f7f7\"],[0.6,\"#e6f5d0\"],[0.7,\"#b8e186\"],[0.8,\"#7fbc41\"],[0.9,\"#4d9221\"],[1,\"#276419\"]]},\"xaxis\":{\"gridcolor\":\"white\",\"linecolor\":\"white\",\"ticks\":\"\",\"title\":{\"standoff\":15},\"zerolinecolor\":\"white\",\"automargin\":true,\"zerolinewidth\":2},\"yaxis\":{\"gridcolor\":\"white\",\"linecolor\":\"white\",\"ticks\":\"\",\"title\":{\"standoff\":15},\"zerolinecolor\":\"white\",\"automargin\":true,\"zerolinewidth\":2},\"scene\":{\"xaxis\":{\"backgroundcolor\":\"#E5ECF6\",\"gridcolor\":\"white\",\"linecolor\":\"white\",\"showbackground\":true,\"ticks\":\"\",\"zerolinecolor\":\"white\",\"gridwidth\":2},\"yaxis\":{\"backgroundcolor\":\"#E5ECF6\",\"gridcolor\":\"white\",\"linecolor\":\"white\",\"showbackground\":true,\"ticks\":\"\",\"zerolinecolor\":\"white\",\"gridwidth\":2},\"zaxis\":{\"backgroundcolor\":\"#E5ECF6\",\"gridcolor\":\"white\",\"linecolor\":\"white\",\"showbackground\":true,\"ticks\":\"\",\"zerolinecolor\":\"white\",\"gridwidth\":2}},\"shapedefaults\":{\"line\":{\"color\":\"#2a3f5f\"}},\"annotationdefaults\":{\"arrowcolor\":\"#2a3f5f\",\"arrowhead\":0,\"arrowwidth\":1},\"geo\":{\"bgcolor\":\"white\",\"landcolor\":\"#E5ECF6\",\"subunitcolor\":\"white\",\"showland\":true,\"showlakes\":true,\"lakecolor\":\"white\"},\"title\":{\"x\":0.05},\"mapbox\":{\"style\":\"light\"}}},\"legend\":{\"tracegroupgap\":0},\"margin\":{\"t\":60}},                        {\"responsive\": true}                    ).then(function(){\n",
              "                            \n",
              "var gd = document.getElementById('31fc32fc-2e05-44ed-91b7-e2eb36792339');\n",
              "var x = new MutationObserver(function (mutations, observer) {{\n",
              "        var display = window.getComputedStyle(gd).display;\n",
              "        if (!display || display === 'none') {{\n",
              "            console.log([gd, 'removed!']);\n",
              "            Plotly.purge(gd);\n",
              "            observer.disconnect();\n",
              "        }}\n",
              "}});\n",
              "\n",
              "// Listen for the removal of the full notebook cells\n",
              "var notebookContainer = gd.closest('#notebook-container');\n",
              "if (notebookContainer) {{\n",
              "    x.observe(notebookContainer, {childList: true});\n",
              "}}\n",
              "\n",
              "// Listen for the clearing of the current output cell\n",
              "var outputEl = gd.closest('.output');\n",
              "if (outputEl) {{\n",
              "    x.observe(outputEl, {childList: true});\n",
              "}}\n",
              "\n",
              "                        })                };                            </script>        </div>\n",
              "</body>\n",
              "</html>"
            ]
          },
          "metadata": {}
        }
      ]
    },
    {
      "cell_type": "markdown",
      "source": [
        "##### Ranking do Sexo de pacientes com casos registrados (no estado da arte em que se encontra o dataframe)"
      ],
      "metadata": {
        "id": "g0LE_Aivt8BE"
      }
    },
    {
      "cell_type": "code",
      "source": [
        "monkeypoxdf.groupby('Gender').count().show()"
      ],
      "metadata": {
        "colab": {
          "base_uri": "https://localhost:8080/"
        },
        "id": "dUOyy20AZnfr",
        "outputId": "22372edf-d8a6-4577-d8de-f41b5fd0914b"
      },
      "execution_count": 39,
      "outputs": [
        {
          "output_type": "stream",
          "name": "stdout",
          "text": [
            "+-------+-----+\n",
            "| Gender|count|\n",
            "+-------+-----+\n",
            "|   null|67164|\n",
            "| Female|    1|\n",
            "| female|   31|\n",
            "|  male |    5|\n",
            "|   male| 2422|\n",
            "|   Male|   15|\n",
            "|female |    1|\n",
            "+-------+-----+\n",
            "\n"
          ]
        }
      ]
    },
    {
      "cell_type": "code",
      "source": [
        "monkeypoxdf.createOrReplaceTempView(\"MonkeypoxRank3\")\n",
        "spark.sql(\"select Gender, count(Country) as count_Country from MonkeypoxRank3 \" +\n",
        "          \"group by Gender having count_Country >= 1 \" + \n",
        "          \"order by count_Country desc\").show()"
      ],
      "metadata": {
        "colab": {
          "base_uri": "https://localhost:8080/"
        },
        "id": "rAuA9CM6UPv4",
        "outputId": "feec76c1-53f0-48ca-ac70-cd864d5c7856"
      },
      "execution_count": 40,
      "outputs": [
        {
          "output_type": "stream",
          "name": "stdout",
          "text": [
            "+-------+-------------+\n",
            "| Gender|count_Country|\n",
            "+-------+-------------+\n",
            "|   null|        67120|\n",
            "|   male|         2422|\n",
            "| female|           31|\n",
            "|   Male|           15|\n",
            "|  male |            5|\n",
            "| Female|            1|\n",
            "|female |            1|\n",
            "+-------+-------------+\n",
            "\n"
          ]
        }
      ]
    },
    {
      "cell_type": "code",
      "source": [
        "monkeypoxdf.groupBy(\"Gender\").agg(countDistinct('Country')) \\\n",
        "    .show(truncate=False)"
      ],
      "metadata": {
        "colab": {
          "base_uri": "https://localhost:8080/"
        },
        "id": "zx3whP9QZnM2",
        "outputId": "3bdab7b0-b8da-4bcc-86ce-6f8f0f66c8d5"
      },
      "execution_count": 41,
      "outputs": [
        {
          "output_type": "stream",
          "name": "stdout",
          "text": [
            "+-------+-----------------------+\n",
            "|Gender |count(DISTINCT Country)|\n",
            "+-------+-----------------------+\n",
            "|null   |111                    |\n",
            "|Female |1                      |\n",
            "|female |19                     |\n",
            "|male   |4                      |\n",
            "|male   |78                     |\n",
            "|Male   |3                      |\n",
            "|female |1                      |\n",
            "+-------+-----------------------+\n",
            "\n"
          ]
        }
      ]
    },
    {
      "cell_type": "code",
      "source": [
        "from pandas.core.sorting import get_indexer_dict\n",
        "#Tranformando em TempView com correção de duplicidade + soma dos Sexos registrados no Dataframe\n",
        "monkeypoxdf.createOrReplaceTempView(\"MonkeypoxRank3\")\n",
        "#spark.sql(\n",
        "#    \"\"\"select Gender, count(Country) as count_Country from MonkeypoxRank3 \"\"\" +\n",
        "#    \"\"\"group by Gender having count_Country >= 1 \"\"\" + \n",
        "#    \"\"\"order by count_Country desc\"\"\"    \n",
        "#    ).show()\n",
        "spark.sql(\n",
        "\"\"\"SELECT Gender,\n",
        "    Count(Country) AS total_Sexo\n",
        "  FROM MonkeypoxRank3\n",
        "  GROUP BY Gender\n",
        "  ORDER BY Count(Country) DESC\"\"\"\n",
        ").show()\n",
        "\n",
        "#df.groupBy(\"state\") \\\n",
        "#  .agg(sum(\"salary\").alias(\"sum_salary\")) \\\n",
        "#  .filter(col(\"sum_salary\") > 100000)  \\\n",
        "#  .sort(desc(\"sum_salary\")) \\\n",
        "#  .show()\n",
        "\n",
        "\n"
      ],
      "metadata": {
        "colab": {
          "base_uri": "https://localhost:8080/"
        },
        "id": "8CkwbTJ7HLCh",
        "outputId": "32bc8402-3225-4eaa-d240-819b5217f0e2"
      },
      "execution_count": 42,
      "outputs": [
        {
          "output_type": "stream",
          "name": "stdout",
          "text": [
            "+-------+----------+\n",
            "| Gender|total_Sexo|\n",
            "+-------+----------+\n",
            "|   null|     67120|\n",
            "|   male|      2422|\n",
            "| female|        31|\n",
            "|   Male|        15|\n",
            "|  male |         5|\n",
            "| Female|         1|\n",
            "|female |         1|\n",
            "+-------+----------+\n",
            "\n"
          ]
        }
      ]
    },
    {
      "cell_type": "code",
      "source": [
        "monkeypoxGender1=spark.createDataFrame([(\"1\",\"null\",\"67120\"),(\"2\",\"male\",\"2422\"),(\"3\",\"female\",\"31\"),(\"4\",\"Male\",\"15\"),(\"5\",\"male \",\"5\"),(\"6\",\"Female\",\"1\"),(\"7\",\"female\",\"1\")],[\"ID\",\"Sexo\",\"Parcial\"])\n",
        "monkeypoxGender1.show()\n",
        "\n",
        "monkeypoxGender2=spark.createDataFrame([(\"1\",\"null\",\"67120\"),(\"2\",\"male\",\"2422\"),(\"3\",\"female\",\"31\"),(\"4\",\"Male\",\"15\"),(\"5\",\"male \",\"5\"),(\"6\",\"Female\",\"1\"),(\"7\",\"female\",\"1\")],[\"ID\",\"Sexo\",\"Parcial\"])\n",
        "monkeypoxGender2.show()\n",
        "\n",
        "monkeypoxGender3=spark.createDataFrame([(\"1\",\"67120\",\"null\",\"null\"),(\"2\",\"null\",\"2422\",\"null\"),(\"3\",\"null\",\"null\",\"31\"),(\"4\",\"null\",\"15\",\"null\"),(\"5\",\"null\",\"5\",\"null\"),(\"6\",\"null\",\"null\",\"1\"),(\"7\",\"null\",\"null\",\"1\")],[\"ID\",\"Null\",\"Masculino\",\"Feminino\"])\n",
        "monkeypoxGender3.show()\n",
        "\n",
        "monkeypoxGender4=spark.createDataFrame([(\"67120\",\"2422\",\"5\",\"15\",\"31\",\"1\",\"1\")],[\"Null\",\"male\",\"male \",\"Male\",\"female\",\"female \",\"Female\"])\n",
        "monkeypoxGender4.show()\n",
        "\n",
        "#df1.join(df2,df1.col1 == df2.col1,'inner').select(df1.col1,df2.col2,df1.col3,df1.col2,df2.col4).withColumn(\"col3\",(df1.col3 / df2.col2).cast(\"double\")).withColumn(\"col2\",(df1.col2 + df2.col2).cast(\"int\")).show()"
      ],
      "metadata": {
        "colab": {
          "base_uri": "https://localhost:8080/"
        },
        "id": "CjHhZqadVFvj",
        "outputId": "7578a8dd-eb60-4816-8c5b-065216fd8c01"
      },
      "execution_count": 43,
      "outputs": [
        {
          "output_type": "stream",
          "name": "stdout",
          "text": [
            "+---+------+-------+\n",
            "| ID|  Sexo|Parcial|\n",
            "+---+------+-------+\n",
            "|  1|  null|  67120|\n",
            "|  2|  male|   2422|\n",
            "|  3|female|     31|\n",
            "|  4|  Male|     15|\n",
            "|  5| male |      5|\n",
            "|  6|Female|      1|\n",
            "|  7|female|      1|\n",
            "+---+------+-------+\n",
            "\n",
            "+---+------+-------+\n",
            "| ID|  Sexo|Parcial|\n",
            "+---+------+-------+\n",
            "|  1|  null|  67120|\n",
            "|  2|  male|   2422|\n",
            "|  3|female|     31|\n",
            "|  4|  Male|     15|\n",
            "|  5| male |      5|\n",
            "|  6|Female|      1|\n",
            "|  7|female|      1|\n",
            "+---+------+-------+\n",
            "\n",
            "+---+-----+---------+--------+\n",
            "| ID| Null|Masculino|Feminino|\n",
            "+---+-----+---------+--------+\n",
            "|  1|67120|     null|    null|\n",
            "|  2| null|     2422|    null|\n",
            "|  3| null|     null|      31|\n",
            "|  4| null|       15|    null|\n",
            "|  5| null|        5|    null|\n",
            "|  6| null|     null|       1|\n",
            "|  7| null|     null|       1|\n",
            "+---+-----+---------+--------+\n",
            "\n",
            "+-----+----+-----+----+------+-------+------+\n",
            "| Null|male|male |Male|female|female |Female|\n",
            "+-----+----+-----+----+------+-------+------+\n",
            "|67120|2422|    5|  15|    31|      1|     1|\n",
            "+-----+----+-----+----+------+-------+------+\n",
            "\n"
          ]
        }
      ]
    },
    {
      "cell_type": "code",
      "source": [
        "monkeypoxGender5=spark.createDataFrame([(\"67120\",\"2442\",\"33\")],[\"Null\",\"male\",\"female\"])\n",
        "monkeypoxGender5.show()"
      ],
      "metadata": {
        "colab": {
          "base_uri": "https://localhost:8080/"
        },
        "id": "xHF9WfH-jXUy",
        "outputId": "2ee114e2-c129-4539-fffe-0cb0ccb36091"
      },
      "execution_count": 44,
      "outputs": [
        {
          "output_type": "stream",
          "name": "stdout",
          "text": [
            "+-----+----+------+\n",
            "| Null|male|female|\n",
            "+-----+----+------+\n",
            "|67120|2442|    33|\n",
            "+-----+----+------+\n",
            "\n"
          ]
        }
      ]
    },
    {
      "cell_type": "code",
      "source": [
        "import plotly.express as px \n",
        "import numpy \n",
        "random_x = [67120, 2442, 33] \n",
        "names = ['Null', 'male', 'female'] \n",
        "  \n",
        "fig = px.pie(values=random_x, names=names) \n",
        "fig.show()"
      ],
      "metadata": {
        "colab": {
          "base_uri": "https://localhost:8080/",
          "height": 542
        },
        "id": "zJ7cZOg8kpip",
        "outputId": "3bda195e-3c5d-4dac-ba62-86f0844c683a"
      },
      "execution_count": 45,
      "outputs": [
        {
          "output_type": "display_data",
          "data": {
            "text/html": [
              "<html>\n",
              "<head><meta charset=\"utf-8\" /></head>\n",
              "<body>\n",
              "    <div>            <script src=\"https://cdnjs.cloudflare.com/ajax/libs/mathjax/2.7.5/MathJax.js?config=TeX-AMS-MML_SVG\"></script><script type=\"text/javascript\">if (window.MathJax && window.MathJax.Hub && window.MathJax.Hub.Config) {window.MathJax.Hub.Config({SVG: {font: \"STIX-Web\"}});}</script>                <script type=\"text/javascript\">window.PlotlyConfig = {MathJaxConfig: 'local'};</script>\n",
              "        <script src=\"https://cdn.plot.ly/plotly-2.14.0.min.js\"></script>                <div id=\"d4ac5343-5cab-4233-8a2a-d36df3a29364\" class=\"plotly-graph-div\" style=\"height:525px; width:100%;\"></div>            <script type=\"text/javascript\">                                    window.PLOTLYENV=window.PLOTLYENV || {};                                    if (document.getElementById(\"d4ac5343-5cab-4233-8a2a-d36df3a29364\")) {                    Plotly.newPlot(                        \"d4ac5343-5cab-4233-8a2a-d36df3a29364\",                        [{\"domain\":{\"x\":[0.0,1.0],\"y\":[0.0,1.0]},\"hovertemplate\":\"label=%{label}<br>value=%{value}<extra></extra>\",\"labels\":[\"Null\",\"male\",\"female\"],\"legendgroup\":\"\",\"name\":\"\",\"showlegend\":true,\"values\":[67120,2442,33],\"type\":\"pie\"}],                        {\"template\":{\"data\":{\"histogram2dcontour\":[{\"type\":\"histogram2dcontour\",\"colorbar\":{\"outlinewidth\":0,\"ticks\":\"\"},\"colorscale\":[[0.0,\"#0d0887\"],[0.1111111111111111,\"#46039f\"],[0.2222222222222222,\"#7201a8\"],[0.3333333333333333,\"#9c179e\"],[0.4444444444444444,\"#bd3786\"],[0.5555555555555556,\"#d8576b\"],[0.6666666666666666,\"#ed7953\"],[0.7777777777777778,\"#fb9f3a\"],[0.8888888888888888,\"#fdca26\"],[1.0,\"#f0f921\"]]}],\"choropleth\":[{\"type\":\"choropleth\",\"colorbar\":{\"outlinewidth\":0,\"ticks\":\"\"}}],\"histogram2d\":[{\"type\":\"histogram2d\",\"colorbar\":{\"outlinewidth\":0,\"ticks\":\"\"},\"colorscale\":[[0.0,\"#0d0887\"],[0.1111111111111111,\"#46039f\"],[0.2222222222222222,\"#7201a8\"],[0.3333333333333333,\"#9c179e\"],[0.4444444444444444,\"#bd3786\"],[0.5555555555555556,\"#d8576b\"],[0.6666666666666666,\"#ed7953\"],[0.7777777777777778,\"#fb9f3a\"],[0.8888888888888888,\"#fdca26\"],[1.0,\"#f0f921\"]]}],\"heatmap\":[{\"type\":\"heatmap\",\"colorbar\":{\"outlinewidth\":0,\"ticks\":\"\"},\"colorscale\":[[0.0,\"#0d0887\"],[0.1111111111111111,\"#46039f\"],[0.2222222222222222,\"#7201a8\"],[0.3333333333333333,\"#9c179e\"],[0.4444444444444444,\"#bd3786\"],[0.5555555555555556,\"#d8576b\"],[0.6666666666666666,\"#ed7953\"],[0.7777777777777778,\"#fb9f3a\"],[0.8888888888888888,\"#fdca26\"],[1.0,\"#f0f921\"]]}],\"heatmapgl\":[{\"type\":\"heatmapgl\",\"colorbar\":{\"outlinewidth\":0,\"ticks\":\"\"},\"colorscale\":[[0.0,\"#0d0887\"],[0.1111111111111111,\"#46039f\"],[0.2222222222222222,\"#7201a8\"],[0.3333333333333333,\"#9c179e\"],[0.4444444444444444,\"#bd3786\"],[0.5555555555555556,\"#d8576b\"],[0.6666666666666666,\"#ed7953\"],[0.7777777777777778,\"#fb9f3a\"],[0.8888888888888888,\"#fdca26\"],[1.0,\"#f0f921\"]]}],\"contourcarpet\":[{\"type\":\"contourcarpet\",\"colorbar\":{\"outlinewidth\":0,\"ticks\":\"\"}}],\"contour\":[{\"type\":\"contour\",\"colorbar\":{\"outlinewidth\":0,\"ticks\":\"\"},\"colorscale\":[[0.0,\"#0d0887\"],[0.1111111111111111,\"#46039f\"],[0.2222222222222222,\"#7201a8\"],[0.3333333333333333,\"#9c179e\"],[0.4444444444444444,\"#bd3786\"],[0.5555555555555556,\"#d8576b\"],[0.6666666666666666,\"#ed7953\"],[0.7777777777777778,\"#fb9f3a\"],[0.8888888888888888,\"#fdca26\"],[1.0,\"#f0f921\"]]}],\"surface\":[{\"type\":\"surface\",\"colorbar\":{\"outlinewidth\":0,\"ticks\":\"\"},\"colorscale\":[[0.0,\"#0d0887\"],[0.1111111111111111,\"#46039f\"],[0.2222222222222222,\"#7201a8\"],[0.3333333333333333,\"#9c179e\"],[0.4444444444444444,\"#bd3786\"],[0.5555555555555556,\"#d8576b\"],[0.6666666666666666,\"#ed7953\"],[0.7777777777777778,\"#fb9f3a\"],[0.8888888888888888,\"#fdca26\"],[1.0,\"#f0f921\"]]}],\"mesh3d\":[{\"type\":\"mesh3d\",\"colorbar\":{\"outlinewidth\":0,\"ticks\":\"\"}}],\"scatter\":[{\"fillpattern\":{\"fillmode\":\"overlay\",\"size\":10,\"solidity\":0.2},\"type\":\"scatter\"}],\"parcoords\":[{\"type\":\"parcoords\",\"line\":{\"colorbar\":{\"outlinewidth\":0,\"ticks\":\"\"}}}],\"scatterpolargl\":[{\"type\":\"scatterpolargl\",\"marker\":{\"colorbar\":{\"outlinewidth\":0,\"ticks\":\"\"}}}],\"bar\":[{\"error_x\":{\"color\":\"#2a3f5f\"},\"error_y\":{\"color\":\"#2a3f5f\"},\"marker\":{\"line\":{\"color\":\"#E5ECF6\",\"width\":0.5},\"pattern\":{\"fillmode\":\"overlay\",\"size\":10,\"solidity\":0.2}},\"type\":\"bar\"}],\"scattergeo\":[{\"type\":\"scattergeo\",\"marker\":{\"colorbar\":{\"outlinewidth\":0,\"ticks\":\"\"}}}],\"scatterpolar\":[{\"type\":\"scatterpolar\",\"marker\":{\"colorbar\":{\"outlinewidth\":0,\"ticks\":\"\"}}}],\"histogram\":[{\"marker\":{\"pattern\":{\"fillmode\":\"overlay\",\"size\":10,\"solidity\":0.2}},\"type\":\"histogram\"}],\"scattergl\":[{\"type\":\"scattergl\",\"marker\":{\"colorbar\":{\"outlinewidth\":0,\"ticks\":\"\"}}}],\"scatter3d\":[{\"type\":\"scatter3d\",\"line\":{\"colorbar\":{\"outlinewidth\":0,\"ticks\":\"\"}},\"marker\":{\"colorbar\":{\"outlinewidth\":0,\"ticks\":\"\"}}}],\"scattermapbox\":[{\"type\":\"scattermapbox\",\"marker\":{\"colorbar\":{\"outlinewidth\":0,\"ticks\":\"\"}}}],\"scatterternary\":[{\"type\":\"scatterternary\",\"marker\":{\"colorbar\":{\"outlinewidth\":0,\"ticks\":\"\"}}}],\"scattercarpet\":[{\"type\":\"scattercarpet\",\"marker\":{\"colorbar\":{\"outlinewidth\":0,\"ticks\":\"\"}}}],\"carpet\":[{\"aaxis\":{\"endlinecolor\":\"#2a3f5f\",\"gridcolor\":\"white\",\"linecolor\":\"white\",\"minorgridcolor\":\"white\",\"startlinecolor\":\"#2a3f5f\"},\"baxis\":{\"endlinecolor\":\"#2a3f5f\",\"gridcolor\":\"white\",\"linecolor\":\"white\",\"minorgridcolor\":\"white\",\"startlinecolor\":\"#2a3f5f\"},\"type\":\"carpet\"}],\"table\":[{\"cells\":{\"fill\":{\"color\":\"#EBF0F8\"},\"line\":{\"color\":\"white\"}},\"header\":{\"fill\":{\"color\":\"#C8D4E3\"},\"line\":{\"color\":\"white\"}},\"type\":\"table\"}],\"barpolar\":[{\"marker\":{\"line\":{\"color\":\"#E5ECF6\",\"width\":0.5},\"pattern\":{\"fillmode\":\"overlay\",\"size\":10,\"solidity\":0.2}},\"type\":\"barpolar\"}],\"pie\":[{\"automargin\":true,\"type\":\"pie\"}]},\"layout\":{\"autotypenumbers\":\"strict\",\"colorway\":[\"#636efa\",\"#EF553B\",\"#00cc96\",\"#ab63fa\",\"#FFA15A\",\"#19d3f3\",\"#FF6692\",\"#B6E880\",\"#FF97FF\",\"#FECB52\"],\"font\":{\"color\":\"#2a3f5f\"},\"hovermode\":\"closest\",\"hoverlabel\":{\"align\":\"left\"},\"paper_bgcolor\":\"white\",\"plot_bgcolor\":\"#E5ECF6\",\"polar\":{\"bgcolor\":\"#E5ECF6\",\"angularaxis\":{\"gridcolor\":\"white\",\"linecolor\":\"white\",\"ticks\":\"\"},\"radialaxis\":{\"gridcolor\":\"white\",\"linecolor\":\"white\",\"ticks\":\"\"}},\"ternary\":{\"bgcolor\":\"#E5ECF6\",\"aaxis\":{\"gridcolor\":\"white\",\"linecolor\":\"white\",\"ticks\":\"\"},\"baxis\":{\"gridcolor\":\"white\",\"linecolor\":\"white\",\"ticks\":\"\"},\"caxis\":{\"gridcolor\":\"white\",\"linecolor\":\"white\",\"ticks\":\"\"}},\"coloraxis\":{\"colorbar\":{\"outlinewidth\":0,\"ticks\":\"\"}},\"colorscale\":{\"sequential\":[[0.0,\"#0d0887\"],[0.1111111111111111,\"#46039f\"],[0.2222222222222222,\"#7201a8\"],[0.3333333333333333,\"#9c179e\"],[0.4444444444444444,\"#bd3786\"],[0.5555555555555556,\"#d8576b\"],[0.6666666666666666,\"#ed7953\"],[0.7777777777777778,\"#fb9f3a\"],[0.8888888888888888,\"#fdca26\"],[1.0,\"#f0f921\"]],\"sequentialminus\":[[0.0,\"#0d0887\"],[0.1111111111111111,\"#46039f\"],[0.2222222222222222,\"#7201a8\"],[0.3333333333333333,\"#9c179e\"],[0.4444444444444444,\"#bd3786\"],[0.5555555555555556,\"#d8576b\"],[0.6666666666666666,\"#ed7953\"],[0.7777777777777778,\"#fb9f3a\"],[0.8888888888888888,\"#fdca26\"],[1.0,\"#f0f921\"]],\"diverging\":[[0,\"#8e0152\"],[0.1,\"#c51b7d\"],[0.2,\"#de77ae\"],[0.3,\"#f1b6da\"],[0.4,\"#fde0ef\"],[0.5,\"#f7f7f7\"],[0.6,\"#e6f5d0\"],[0.7,\"#b8e186\"],[0.8,\"#7fbc41\"],[0.9,\"#4d9221\"],[1,\"#276419\"]]},\"xaxis\":{\"gridcolor\":\"white\",\"linecolor\":\"white\",\"ticks\":\"\",\"title\":{\"standoff\":15},\"zerolinecolor\":\"white\",\"automargin\":true,\"zerolinewidth\":2},\"yaxis\":{\"gridcolor\":\"white\",\"linecolor\":\"white\",\"ticks\":\"\",\"title\":{\"standoff\":15},\"zerolinecolor\":\"white\",\"automargin\":true,\"zerolinewidth\":2},\"scene\":{\"xaxis\":{\"backgroundcolor\":\"#E5ECF6\",\"gridcolor\":\"white\",\"linecolor\":\"white\",\"showbackground\":true,\"ticks\":\"\",\"zerolinecolor\":\"white\",\"gridwidth\":2},\"yaxis\":{\"backgroundcolor\":\"#E5ECF6\",\"gridcolor\":\"white\",\"linecolor\":\"white\",\"showbackground\":true,\"ticks\":\"\",\"zerolinecolor\":\"white\",\"gridwidth\":2},\"zaxis\":{\"backgroundcolor\":\"#E5ECF6\",\"gridcolor\":\"white\",\"linecolor\":\"white\",\"showbackground\":true,\"ticks\":\"\",\"zerolinecolor\":\"white\",\"gridwidth\":2}},\"shapedefaults\":{\"line\":{\"color\":\"#2a3f5f\"}},\"annotationdefaults\":{\"arrowcolor\":\"#2a3f5f\",\"arrowhead\":0,\"arrowwidth\":1},\"geo\":{\"bgcolor\":\"white\",\"landcolor\":\"#E5ECF6\",\"subunitcolor\":\"white\",\"showland\":true,\"showlakes\":true,\"lakecolor\":\"white\"},\"title\":{\"x\":0.05},\"mapbox\":{\"style\":\"light\"}}},\"legend\":{\"tracegroupgap\":0},\"margin\":{\"t\":60}},                        {\"responsive\": true}                    ).then(function(){\n",
              "                            \n",
              "var gd = document.getElementById('d4ac5343-5cab-4233-8a2a-d36df3a29364');\n",
              "var x = new MutationObserver(function (mutations, observer) {{\n",
              "        var display = window.getComputedStyle(gd).display;\n",
              "        if (!display || display === 'none') {{\n",
              "            console.log([gd, 'removed!']);\n",
              "            Plotly.purge(gd);\n",
              "            observer.disconnect();\n",
              "        }}\n",
              "}});\n",
              "\n",
              "// Listen for the removal of the full notebook cells\n",
              "var notebookContainer = gd.closest('#notebook-container');\n",
              "if (notebookContainer) {{\n",
              "    x.observe(notebookContainer, {childList: true});\n",
              "}}\n",
              "\n",
              "// Listen for the clearing of the current output cell\n",
              "var outputEl = gd.closest('.output');\n",
              "if (outputEl) {{\n",
              "    x.observe(outputEl, {childList: true});\n",
              "}}\n",
              "\n",
              "                        })                };                            </script>        </div>\n",
              "</body>\n",
              "</html>"
            ]
          },
          "metadata": {}
        }
      ]
    },
    {
      "cell_type": "code",
      "source": [
        "import plotly.express as px \n",
        "import numpy \n",
        "random_x = [2442, 33] \n",
        "names = ['male', 'female'] \n",
        "  \n",
        "fig = px.pie(values=random_x, names=names) \n",
        "fig.show()"
      ],
      "metadata": {
        "colab": {
          "base_uri": "https://localhost:8080/",
          "height": 542
        },
        "id": "2ViqIR7VHrJg",
        "outputId": "4056af65-5714-4b05-dc26-870dab814cd2"
      },
      "execution_count": 46,
      "outputs": [
        {
          "output_type": "display_data",
          "data": {
            "text/html": [
              "<html>\n",
              "<head><meta charset=\"utf-8\" /></head>\n",
              "<body>\n",
              "    <div>            <script src=\"https://cdnjs.cloudflare.com/ajax/libs/mathjax/2.7.5/MathJax.js?config=TeX-AMS-MML_SVG\"></script><script type=\"text/javascript\">if (window.MathJax && window.MathJax.Hub && window.MathJax.Hub.Config) {window.MathJax.Hub.Config({SVG: {font: \"STIX-Web\"}});}</script>                <script type=\"text/javascript\">window.PlotlyConfig = {MathJaxConfig: 'local'};</script>\n",
              "        <script src=\"https://cdn.plot.ly/plotly-2.14.0.min.js\"></script>                <div id=\"3a6b260f-0eed-4f10-8dbd-bfc65d9bb8e6\" class=\"plotly-graph-div\" style=\"height:525px; width:100%;\"></div>            <script type=\"text/javascript\">                                    window.PLOTLYENV=window.PLOTLYENV || {};                                    if (document.getElementById(\"3a6b260f-0eed-4f10-8dbd-bfc65d9bb8e6\")) {                    Plotly.newPlot(                        \"3a6b260f-0eed-4f10-8dbd-bfc65d9bb8e6\",                        [{\"domain\":{\"x\":[0.0,1.0],\"y\":[0.0,1.0]},\"hovertemplate\":\"label=%{label}<br>value=%{value}<extra></extra>\",\"labels\":[\"male\",\"female\"],\"legendgroup\":\"\",\"name\":\"\",\"showlegend\":true,\"values\":[2442,33],\"type\":\"pie\"}],                        {\"template\":{\"data\":{\"histogram2dcontour\":[{\"type\":\"histogram2dcontour\",\"colorbar\":{\"outlinewidth\":0,\"ticks\":\"\"},\"colorscale\":[[0.0,\"#0d0887\"],[0.1111111111111111,\"#46039f\"],[0.2222222222222222,\"#7201a8\"],[0.3333333333333333,\"#9c179e\"],[0.4444444444444444,\"#bd3786\"],[0.5555555555555556,\"#d8576b\"],[0.6666666666666666,\"#ed7953\"],[0.7777777777777778,\"#fb9f3a\"],[0.8888888888888888,\"#fdca26\"],[1.0,\"#f0f921\"]]}],\"choropleth\":[{\"type\":\"choropleth\",\"colorbar\":{\"outlinewidth\":0,\"ticks\":\"\"}}],\"histogram2d\":[{\"type\":\"histogram2d\",\"colorbar\":{\"outlinewidth\":0,\"ticks\":\"\"},\"colorscale\":[[0.0,\"#0d0887\"],[0.1111111111111111,\"#46039f\"],[0.2222222222222222,\"#7201a8\"],[0.3333333333333333,\"#9c179e\"],[0.4444444444444444,\"#bd3786\"],[0.5555555555555556,\"#d8576b\"],[0.6666666666666666,\"#ed7953\"],[0.7777777777777778,\"#fb9f3a\"],[0.8888888888888888,\"#fdca26\"],[1.0,\"#f0f921\"]]}],\"heatmap\":[{\"type\":\"heatmap\",\"colorbar\":{\"outlinewidth\":0,\"ticks\":\"\"},\"colorscale\":[[0.0,\"#0d0887\"],[0.1111111111111111,\"#46039f\"],[0.2222222222222222,\"#7201a8\"],[0.3333333333333333,\"#9c179e\"],[0.4444444444444444,\"#bd3786\"],[0.5555555555555556,\"#d8576b\"],[0.6666666666666666,\"#ed7953\"],[0.7777777777777778,\"#fb9f3a\"],[0.8888888888888888,\"#fdca26\"],[1.0,\"#f0f921\"]]}],\"heatmapgl\":[{\"type\":\"heatmapgl\",\"colorbar\":{\"outlinewidth\":0,\"ticks\":\"\"},\"colorscale\":[[0.0,\"#0d0887\"],[0.1111111111111111,\"#46039f\"],[0.2222222222222222,\"#7201a8\"],[0.3333333333333333,\"#9c179e\"],[0.4444444444444444,\"#bd3786\"],[0.5555555555555556,\"#d8576b\"],[0.6666666666666666,\"#ed7953\"],[0.7777777777777778,\"#fb9f3a\"],[0.8888888888888888,\"#fdca26\"],[1.0,\"#f0f921\"]]}],\"contourcarpet\":[{\"type\":\"contourcarpet\",\"colorbar\":{\"outlinewidth\":0,\"ticks\":\"\"}}],\"contour\":[{\"type\":\"contour\",\"colorbar\":{\"outlinewidth\":0,\"ticks\":\"\"},\"colorscale\":[[0.0,\"#0d0887\"],[0.1111111111111111,\"#46039f\"],[0.2222222222222222,\"#7201a8\"],[0.3333333333333333,\"#9c179e\"],[0.4444444444444444,\"#bd3786\"],[0.5555555555555556,\"#d8576b\"],[0.6666666666666666,\"#ed7953\"],[0.7777777777777778,\"#fb9f3a\"],[0.8888888888888888,\"#fdca26\"],[1.0,\"#f0f921\"]]}],\"surface\":[{\"type\":\"surface\",\"colorbar\":{\"outlinewidth\":0,\"ticks\":\"\"},\"colorscale\":[[0.0,\"#0d0887\"],[0.1111111111111111,\"#46039f\"],[0.2222222222222222,\"#7201a8\"],[0.3333333333333333,\"#9c179e\"],[0.4444444444444444,\"#bd3786\"],[0.5555555555555556,\"#d8576b\"],[0.6666666666666666,\"#ed7953\"],[0.7777777777777778,\"#fb9f3a\"],[0.8888888888888888,\"#fdca26\"],[1.0,\"#f0f921\"]]}],\"mesh3d\":[{\"type\":\"mesh3d\",\"colorbar\":{\"outlinewidth\":0,\"ticks\":\"\"}}],\"scatter\":[{\"fillpattern\":{\"fillmode\":\"overlay\",\"size\":10,\"solidity\":0.2},\"type\":\"scatter\"}],\"parcoords\":[{\"type\":\"parcoords\",\"line\":{\"colorbar\":{\"outlinewidth\":0,\"ticks\":\"\"}}}],\"scatterpolargl\":[{\"type\":\"scatterpolargl\",\"marker\":{\"colorbar\":{\"outlinewidth\":0,\"ticks\":\"\"}}}],\"bar\":[{\"error_x\":{\"color\":\"#2a3f5f\"},\"error_y\":{\"color\":\"#2a3f5f\"},\"marker\":{\"line\":{\"color\":\"#E5ECF6\",\"width\":0.5},\"pattern\":{\"fillmode\":\"overlay\",\"size\":10,\"solidity\":0.2}},\"type\":\"bar\"}],\"scattergeo\":[{\"type\":\"scattergeo\",\"marker\":{\"colorbar\":{\"outlinewidth\":0,\"ticks\":\"\"}}}],\"scatterpolar\":[{\"type\":\"scatterpolar\",\"marker\":{\"colorbar\":{\"outlinewidth\":0,\"ticks\":\"\"}}}],\"histogram\":[{\"marker\":{\"pattern\":{\"fillmode\":\"overlay\",\"size\":10,\"solidity\":0.2}},\"type\":\"histogram\"}],\"scattergl\":[{\"type\":\"scattergl\",\"marker\":{\"colorbar\":{\"outlinewidth\":0,\"ticks\":\"\"}}}],\"scatter3d\":[{\"type\":\"scatter3d\",\"line\":{\"colorbar\":{\"outlinewidth\":0,\"ticks\":\"\"}},\"marker\":{\"colorbar\":{\"outlinewidth\":0,\"ticks\":\"\"}}}],\"scattermapbox\":[{\"type\":\"scattermapbox\",\"marker\":{\"colorbar\":{\"outlinewidth\":0,\"ticks\":\"\"}}}],\"scatterternary\":[{\"type\":\"scatterternary\",\"marker\":{\"colorbar\":{\"outlinewidth\":0,\"ticks\":\"\"}}}],\"scattercarpet\":[{\"type\":\"scattercarpet\",\"marker\":{\"colorbar\":{\"outlinewidth\":0,\"ticks\":\"\"}}}],\"carpet\":[{\"aaxis\":{\"endlinecolor\":\"#2a3f5f\",\"gridcolor\":\"white\",\"linecolor\":\"white\",\"minorgridcolor\":\"white\",\"startlinecolor\":\"#2a3f5f\"},\"baxis\":{\"endlinecolor\":\"#2a3f5f\",\"gridcolor\":\"white\",\"linecolor\":\"white\",\"minorgridcolor\":\"white\",\"startlinecolor\":\"#2a3f5f\"},\"type\":\"carpet\"}],\"table\":[{\"cells\":{\"fill\":{\"color\":\"#EBF0F8\"},\"line\":{\"color\":\"white\"}},\"header\":{\"fill\":{\"color\":\"#C8D4E3\"},\"line\":{\"color\":\"white\"}},\"type\":\"table\"}],\"barpolar\":[{\"marker\":{\"line\":{\"color\":\"#E5ECF6\",\"width\":0.5},\"pattern\":{\"fillmode\":\"overlay\",\"size\":10,\"solidity\":0.2}},\"type\":\"barpolar\"}],\"pie\":[{\"automargin\":true,\"type\":\"pie\"}]},\"layout\":{\"autotypenumbers\":\"strict\",\"colorway\":[\"#636efa\",\"#EF553B\",\"#00cc96\",\"#ab63fa\",\"#FFA15A\",\"#19d3f3\",\"#FF6692\",\"#B6E880\",\"#FF97FF\",\"#FECB52\"],\"font\":{\"color\":\"#2a3f5f\"},\"hovermode\":\"closest\",\"hoverlabel\":{\"align\":\"left\"},\"paper_bgcolor\":\"white\",\"plot_bgcolor\":\"#E5ECF6\",\"polar\":{\"bgcolor\":\"#E5ECF6\",\"angularaxis\":{\"gridcolor\":\"white\",\"linecolor\":\"white\",\"ticks\":\"\"},\"radialaxis\":{\"gridcolor\":\"white\",\"linecolor\":\"white\",\"ticks\":\"\"}},\"ternary\":{\"bgcolor\":\"#E5ECF6\",\"aaxis\":{\"gridcolor\":\"white\",\"linecolor\":\"white\",\"ticks\":\"\"},\"baxis\":{\"gridcolor\":\"white\",\"linecolor\":\"white\",\"ticks\":\"\"},\"caxis\":{\"gridcolor\":\"white\",\"linecolor\":\"white\",\"ticks\":\"\"}},\"coloraxis\":{\"colorbar\":{\"outlinewidth\":0,\"ticks\":\"\"}},\"colorscale\":{\"sequential\":[[0.0,\"#0d0887\"],[0.1111111111111111,\"#46039f\"],[0.2222222222222222,\"#7201a8\"],[0.3333333333333333,\"#9c179e\"],[0.4444444444444444,\"#bd3786\"],[0.5555555555555556,\"#d8576b\"],[0.6666666666666666,\"#ed7953\"],[0.7777777777777778,\"#fb9f3a\"],[0.8888888888888888,\"#fdca26\"],[1.0,\"#f0f921\"]],\"sequentialminus\":[[0.0,\"#0d0887\"],[0.1111111111111111,\"#46039f\"],[0.2222222222222222,\"#7201a8\"],[0.3333333333333333,\"#9c179e\"],[0.4444444444444444,\"#bd3786\"],[0.5555555555555556,\"#d8576b\"],[0.6666666666666666,\"#ed7953\"],[0.7777777777777778,\"#fb9f3a\"],[0.8888888888888888,\"#fdca26\"],[1.0,\"#f0f921\"]],\"diverging\":[[0,\"#8e0152\"],[0.1,\"#c51b7d\"],[0.2,\"#de77ae\"],[0.3,\"#f1b6da\"],[0.4,\"#fde0ef\"],[0.5,\"#f7f7f7\"],[0.6,\"#e6f5d0\"],[0.7,\"#b8e186\"],[0.8,\"#7fbc41\"],[0.9,\"#4d9221\"],[1,\"#276419\"]]},\"xaxis\":{\"gridcolor\":\"white\",\"linecolor\":\"white\",\"ticks\":\"\",\"title\":{\"standoff\":15},\"zerolinecolor\":\"white\",\"automargin\":true,\"zerolinewidth\":2},\"yaxis\":{\"gridcolor\":\"white\",\"linecolor\":\"white\",\"ticks\":\"\",\"title\":{\"standoff\":15},\"zerolinecolor\":\"white\",\"automargin\":true,\"zerolinewidth\":2},\"scene\":{\"xaxis\":{\"backgroundcolor\":\"#E5ECF6\",\"gridcolor\":\"white\",\"linecolor\":\"white\",\"showbackground\":true,\"ticks\":\"\",\"zerolinecolor\":\"white\",\"gridwidth\":2},\"yaxis\":{\"backgroundcolor\":\"#E5ECF6\",\"gridcolor\":\"white\",\"linecolor\":\"white\",\"showbackground\":true,\"ticks\":\"\",\"zerolinecolor\":\"white\",\"gridwidth\":2},\"zaxis\":{\"backgroundcolor\":\"#E5ECF6\",\"gridcolor\":\"white\",\"linecolor\":\"white\",\"showbackground\":true,\"ticks\":\"\",\"zerolinecolor\":\"white\",\"gridwidth\":2}},\"shapedefaults\":{\"line\":{\"color\":\"#2a3f5f\"}},\"annotationdefaults\":{\"arrowcolor\":\"#2a3f5f\",\"arrowhead\":0,\"arrowwidth\":1},\"geo\":{\"bgcolor\":\"white\",\"landcolor\":\"#E5ECF6\",\"subunitcolor\":\"white\",\"showland\":true,\"showlakes\":true,\"lakecolor\":\"white\"},\"title\":{\"x\":0.05},\"mapbox\":{\"style\":\"light\"}}},\"legend\":{\"tracegroupgap\":0},\"margin\":{\"t\":60}},                        {\"responsive\": true}                    ).then(function(){\n",
              "                            \n",
              "var gd = document.getElementById('3a6b260f-0eed-4f10-8dbd-bfc65d9bb8e6');\n",
              "var x = new MutationObserver(function (mutations, observer) {{\n",
              "        var display = window.getComputedStyle(gd).display;\n",
              "        if (!display || display === 'none') {{\n",
              "            console.log([gd, 'removed!']);\n",
              "            Plotly.purge(gd);\n",
              "            observer.disconnect();\n",
              "        }}\n",
              "}});\n",
              "\n",
              "// Listen for the removal of the full notebook cells\n",
              "var notebookContainer = gd.closest('#notebook-container');\n",
              "if (notebookContainer) {{\n",
              "    x.observe(notebookContainer, {childList: true});\n",
              "}}\n",
              "\n",
              "// Listen for the clearing of the current output cell\n",
              "var outputEl = gd.closest('.output');\n",
              "if (outputEl) {{\n",
              "    x.observe(outputEl, {childList: true});\n",
              "}}\n",
              "\n",
              "                        })                };                            </script>        </div>\n",
              "</body>\n",
              "</html>"
            ]
          },
          "metadata": {}
        }
      ]
    },
    {
      "cell_type": "markdown",
      "source": [
        "#### Explorando possíveis storytellings"
      ],
      "metadata": {
        "id": "xiJXyK5kcvoc"
      }
    },
    {
      "cell_type": "code",
      "source": [
        "from pyspark.sql.functions import datediff,col\n",
        " \n",
        "monkeypoxDatedif = monkeypoxdf.withColumn(\"Diferenca_em_dias\", datediff(col(\"Date_confirmation\"),col(\"Date_onset\"))) \\\n",
        "    .drop(\"Symptoms\",\"Hospitalised (Y/N/NA)\",\"Isolated (Y/N/NA)\",\"Travel_history (Y/N/NA)\",\"Travel_history_location\", \\\n",
        "          \"Travel_history_country\",\"Date_hospitalisation\",\"Date_isolation\",\"Outcome\",\"Contact_comment\", \\\n",
        "          \"Contact_ID\",\"Contact_location\",\"Travel_history_entry\",\"Travel_history_start\", \\\n",
        "          \"Genomics_Metadata\",\"Confirmation_method\",\"Source\",\"Source_II\",\"Source_III\", \\\n",
        "          \"Source_IV\",\"Source_V\",\"Source_VI\",\"Source_VII\",\"Date_entry\",\"Date_death\",\"Date_last_modified\").show(truncate=False)\n",
        "monkeypoxDatedif\n",
        "\n",
        "#monkeypoxDatedif.na.drop(subset=[\"Diferenca_em_dias\"]) \\\n",
        "#   .show(truncate=False)"
      ],
      "metadata": {
        "colab": {
          "base_uri": "https://localhost:8080/"
        },
        "id": "zqtd2Vi9T8lp",
        "outputId": "d7c02850-662c-4952-a47b-c6e5a3d65336"
      },
      "execution_count": 47,
      "outputs": [
        {
          "output_type": "stream",
          "name": "stdout",
          "text": [
            "+---+---------+-----------------------------------+---------+--------+------------+-----+------+-------------------+-------------------+-----------------+\n",
            "|ID |Status   |Location                           |City     |Country |Country_ISO3|Age  |Gender|Date_onset         |Date_confirmation  |Diferenca_em_dias|\n",
            "+---+---------+-----------------------------------+---------+--------+------------+-----+------+-------------------+-------------------+-----------------+\n",
            "|N1 |confirmed|Guy's and St Thomas Hospital London|London   |England |GBR         |null |null  |2022-04-29 00:00:00|2022-05-06 00:00:00|7                |\n",
            "|N2 |confirmed|Guy's and St Thomas Hospital London|London   |England |GBR         |null |null  |2022-05-05 00:00:00|2022-05-12 00:00:00|7                |\n",
            "|N3 |confirmed|London                             |London   |England |GBR         |null |null  |2022-04-30 00:00:00|2022-05-13 00:00:00|13               |\n",
            "|N4 |confirmed|London                             |London   |England |GBR         |null |male  |null               |2022-05-15 00:00:00|null             |\n",
            "|N5 |confirmed|London                             |London   |England |GBR         |null |male  |null               |2022-05-15 00:00:00|null             |\n",
            "|N6 |confirmed|London                             |London   |England |GBR         |null |male  |null               |2022-05-15 00:00:00|null             |\n",
            "|N7 |confirmed|Newcastle                          |Newcastle|England |GBR         |null |male  |null               |2022-05-15 00:00:00|null             |\n",
            "|N8 |confirmed|Lisbon                             |Lisbon   |Portugal|PRT         |20-44|male  |null               |2022-05-17 00:00:00|null             |\n",
            "|N9 |confirmed|Lisbon                             |Lisbon   |Portugal|PRT         |20-44|male  |null               |2022-05-17 00:00:00|null             |\n",
            "|N10|confirmed|Lisbon                             |Lisbon   |Portugal|PRT         |20-44|male  |null               |2022-05-17 00:00:00|null             |\n",
            "|N11|confirmed|Lisbon                             |Lisbon   |Portugal|PRT         |20-44|male  |null               |2022-05-18 00:00:00|null             |\n",
            "|N12|confirmed|Lisbon                             |Lisbon   |Portugal|PRT         |20-44|male  |null               |2022-05-18 00:00:00|null             |\n",
            "|N13|confirmed|Lisbon and Tagus Valley            |Lisbon   |Portugal|PRT         |20-44|male  |null               |2022-05-18 00:00:00|null             |\n",
            "|N14|confirmed|Lisbon and Tagus Valley            |Lisbon   |Portugal|PRT         |20-44|male  |null               |2022-05-18 00:00:00|null             |\n",
            "|N15|confirmed|Lisbon and Tagus Valley            |Lisbon   |Portugal|PRT         |20-44|male  |null               |2022-05-18 00:00:00|null             |\n",
            "|N16|confirmed|Lisbon and Tagus Valley            |Lisbon   |Portugal|PRT         |20-44|male  |null               |2022-05-18 00:00:00|null             |\n",
            "|N17|confirmed|Lisbon and Tagus Valley            |Lisbon   |Portugal|PRT         |20-44|male  |null               |2022-05-18 00:00:00|null             |\n",
            "|N18|confirmed|Lisbon and Tagus Valley            |Lisbon   |Portugal|PRT         |20-44|male  |null               |2022-05-18 00:00:00|null             |\n",
            "|N19|confirmed|Lisbon and Tagus Valley            |Lisbon   |Portugal|PRT         |20-44|male  |null               |2022-05-18 00:00:00|null             |\n",
            "|N20|confirmed|Lisbon and Tagus Valley            |Lisbon   |Portugal|PRT         |20-44|male  |null               |2022-05-18 00:00:00|null             |\n",
            "+---+---------+-----------------------------------+---------+--------+------------+-----+------+-------------------+-------------------+-----------------+\n",
            "only showing top 20 rows\n",
            "\n"
          ]
        }
      ]
    },
    {
      "cell_type": "code",
      "source": [
        "newmonkeypoxdf1 = monkeypoxdf.withColumnRenamed(\"Location\", \"Localizacao\") \\\n",
        "              .withColumnRenamed(\"City\", \"Cidade\") \\\n",
        "              .withColumnRenamed(\"Country\", \"Pais\") \\\n",
        "              .withColumnRenamed(\"Country_ISO3\", \"Cod_ISO3\") \\\n",
        "              .withColumnRenamed(\"Age\", \"Idade\") \\\n",
        "              .withColumnRenamed(\"Gender\", \"Sexo\") \\\n",
        "              .withColumnRenamed(\"Date_onset\", \"Data_entrada_sistema\") \\\n",
        "              .withColumnRenamed(\"Date_confirmation\", \"Data_confirmacao\") \\\n",
        "              .withColumnRenamed(\"Symptoms\", \"Sintomas\") \\\n",
        "              .withColumnRenamed(\"Hospitalised (Y/N/NA)\", \"Hospitalizado\") \\\n",
        "              .withColumnRenamed(\"Date_hospitalisation\", \"Data_internacao\") \\\n",
        "              .withColumnRenamed(\"Isolated (Y/N/NA)\", \"Em_isolamento\") \\\n",
        "              .withColumnRenamed(\"Date_isolation\", \"Data_isolamento\") \\\n",
        "              .withColumnRenamed(\"Outcome\", \"Detectado\") \\\n",
        "              .withColumnRenamed(\"Contact_comment\", \"Comentarios_contato\") \\\n",
        "              .withColumnRenamed(\"Contact_ID\", \"Identidade_Contato\") \\\n",
        "              .withColumnRenamed(\"Contact_location\", \"Cidade_contato\") \\\n",
        "              .withColumnRenamed(\"Travel_history (Y/N/NA)\", \"Viajou\") \\\n",
        "              .withColumnRenamed(\"Travel_history_entry\", \"Data_viagem\") \\\n",
        "              .withColumnRenamed(\"Travel_history_start\", \"Data_inicio_viagem\") \\\n",
        "              .withColumnRenamed(\"Travel_history_location\", \"Localidade_visitada\") \\\n",
        "              .withColumnRenamed(\"Travel_history_country\", \"Pais_visitado\") \\\n",
        "              .withColumnRenamed(\"Genomics_Metadata\", \"Genoma_virus\") \\\n",
        "              .withColumnRenamed(\"Confirmation_method\", \"Metodo_confirmacao\") \\\n",
        "              .withColumnRenamed(\"Source\", \"Fonte\") \\\n",
        "              .withColumnRenamed(\"Source_II\", \"Fonte_II\") \\\n",
        "              .withColumnRenamed(\"Source_III\", \"Fonte_III\") \\\n",
        "              .withColumnRenamed(\"Source_IV\", \"Fonte_IV\") \\\n",
        "              .withColumnRenamed(\"Source_V\", \"Fonte_V\") \\\n",
        "              .withColumnRenamed(\"Source_VI\", \"Fonte_VI\") \\\n",
        "              .withColumnRenamed(\"Source_VII\", \"Fonte_VII\") \\\n",
        "              .withColumnRenamed(\"Date_entry\", \"Data_registro\") \\\n",
        "              .withColumnRenamed(\"Date_death\", \"Data_obito\") \\\n",
        "              .withColumnRenamed(\"Date_last_modified\", \"Data_ultima_atualizacao\")\n",
        "newmonkeypoxdf1.printSchema() \n",
        "newmonkeypoxdf1.show()"
      ],
      "metadata": {
        "colab": {
          "base_uri": "https://localhost:8080/"
        },
        "id": "SoEkTLkecr8f",
        "outputId": "c9866000-d29c-4c31-9439-baa0022652a7"
      },
      "execution_count": 48,
      "outputs": [
        {
          "output_type": "stream",
          "name": "stdout",
          "text": [
            "root\n",
            " |-- ID: string (nullable = true)\n",
            " |-- Status: string (nullable = true)\n",
            " |-- Localizacao: string (nullable = true)\n",
            " |-- Cidade: string (nullable = true)\n",
            " |-- Pais: string (nullable = true)\n",
            " |-- Cod_ISO3: string (nullable = true)\n",
            " |-- Idade: string (nullable = true)\n",
            " |-- Sexo: string (nullable = true)\n",
            " |-- Data_entrada_sistema: timestamp (nullable = true)\n",
            " |-- Data_confirmacao: timestamp (nullable = true)\n",
            " |-- Sintomas: string (nullable = true)\n",
            " |-- Hospitalizado: string (nullable = true)\n",
            " |-- Data_internacao: timestamp (nullable = true)\n",
            " |-- Em_isolamento: string (nullable = true)\n",
            " |-- Data_isolamento: timestamp (nullable = true)\n",
            " |-- Detectado: string (nullable = true)\n",
            " |-- Comentarios_contato: string (nullable = true)\n",
            " |-- Identidade_Contato: integer (nullable = true)\n",
            " |-- Cidade_contato: string (nullable = true)\n",
            " |-- Viajou: string (nullable = true)\n",
            " |-- Data_viagem: string (nullable = true)\n",
            " |-- Data_inicio_viagem: string (nullable = true)\n",
            " |-- Localidade_visitada: string (nullable = true)\n",
            " |-- Pais_visitado: string (nullable = true)\n",
            " |-- Genoma_virus: string (nullable = true)\n",
            " |-- Metodo_confirmacao: string (nullable = true)\n",
            " |-- Fonte: string (nullable = true)\n",
            " |-- Fonte_II: string (nullable = true)\n",
            " |-- Fonte_III: string (nullable = true)\n",
            " |-- Fonte_IV: string (nullable = true)\n",
            " |-- Fonte_V: string (nullable = true)\n",
            " |-- Fonte_VI: string (nullable = true)\n",
            " |-- Fonte_VII: string (nullable = true)\n",
            " |-- Data_registro: timestamp (nullable = true)\n",
            " |-- Data_obito: timestamp (nullable = true)\n",
            " |-- Data_ultima_atualizacao: timestamp (nullable = true)\n",
            "\n",
            "+---+---------+--------------------+---------+--------+--------+-----+----+--------------------+-------------------+--------------------+-------------+-------------------+-------------+-------------------+---------+--------------------+------------------+--------------+------+-----------+------------------+--------------------+-------------+------------------+------------------+--------------------+--------------------+---------+--------+-------+--------+---------+-------------------+----------+-----------------------+\n",
            "| ID|   Status|         Localizacao|   Cidade|    Pais|Cod_ISO3|Idade|Sexo|Data_entrada_sistema|   Data_confirmacao|            Sintomas|Hospitalizado|    Data_internacao|Em_isolamento|    Data_isolamento|Detectado| Comentarios_contato|Identidade_Contato|Cidade_contato|Viajou|Data_viagem|Data_inicio_viagem| Localidade_visitada|Pais_visitado|      Genoma_virus|Metodo_confirmacao|               Fonte|            Fonte_II|Fonte_III|Fonte_IV|Fonte_V|Fonte_VI|Fonte_VII|      Data_registro|Data_obito|Data_ultima_atualizacao|\n",
            "+---+---------+--------------------+---------+--------+--------+-----+----+--------------------+-------------------+--------------------+-------------+-------------------+-------------+-------------------+---------+--------------------+------------------+--------------+------+-----------+------------------+--------------------+-------------+------------------+------------------+--------------------+--------------------+---------+--------+-------+--------+---------+-------------------+----------+-----------------------+\n",
            "| N1|confirmed|Guy's and St Thom...|   London| England|     GBR| null|null| 2022-04-29 00:00:00|2022-05-06 00:00:00|                rash|            Y|2022-05-04 00:00:00|            Y|2022-05-04 00:00:00|     null|                null|              null|          null|     Y| 2022-05-04|        late April|Lagos and Delta S...|      Nigeria|West African Clade|            RT-PCR|https://www.gov.u...|https://www.who.i...|     null|    null|   null|    null|     null|2022-05-18 00:00:00|      null|    2022-05-18 00:00:00|\n",
            "| N2|confirmed|Guy's and St Thom...|   London| England|     GBR| null|null| 2022-05-05 00:00:00|2022-05-12 00:00:00|                rash|            Y|2022-05-06 00:00:00|            Y|2022-05-09 00:00:00|     null|Index Case of hou...|                 3|     Household|     N|       null|              null|                null|         null|West African Clade|            RT-PCR|https://www.gov.u...|                null|     null|    null|   null|    null|     null|2022-05-18 00:00:00|      null|    2022-05-18 00:00:00|\n",
            "| N3|confirmed|              London|   London| England|     GBR| null|null| 2022-04-30 00:00:00|2022-05-13 00:00:00|      vesicular rash|            N|               null|            Y|               null|     null|                null|                 2|     Household|     N|       null|              null|                null|         null|West African Clade|            RT-PCR|https://www.gov.u...|                null|     null|    null|   null|    null|     null|2022-05-18 00:00:00|      null|    2022-05-18 00:00:00|\n",
            "| N4|confirmed|              London|   London| England|     GBR| null|male|                null|2022-05-15 00:00:00|      vesicular rash|            Y|               null|            Y|               null|     null| Under investigation|              null|          null|     N|       null|              null|                null|         null|West African Clade|              null|https://www.gov.u...|                null|     null|    null|   null|    null|     null|2022-05-18 00:00:00|      null|    2022-05-18 00:00:00|\n",
            "| N5|confirmed|              London|   London| England|     GBR| null|male|                null|2022-05-15 00:00:00|      vesicular rash|            Y|               null|            Y|               null|     null| Under investigation|              null|          null|     N|       null|              null|                null|         null|West African Clade|              null|https://www.gov.u...|                null|     null|    null|   null|    null|     null|2022-05-18 00:00:00|      null|    2022-05-18 00:00:00|\n",
            "| N6|confirmed|              London|   London| England|     GBR| null|male|                null|2022-05-15 00:00:00|      vesicular rash|         null|               null|            Y|               null|     null| Under investigation|              null|          null|     N|       null|              null|                null|         null|West African Clade|              null|https://www.gov.u...|                null|     null|    null|   null|    null|     null|2022-05-18 00:00:00|      null|    2022-05-18 00:00:00|\n",
            "| N7|confirmed|           Newcastle|Newcastle| England|     GBR| null|male|                null|2022-05-15 00:00:00|      vesicular rash|            Y|               null|            Y|               null|     null| Under investigation|              null|          null|     Y|       null|              null|              London|      England|West African Clade|              null|https://www.gov.u...|                null|     null|    null|   null|    null|     null|2022-05-18 00:00:00|      null|    2022-05-18 00:00:00|\n",
            "| N8|confirmed|              Lisbon|   Lisbon|Portugal|     PRT|20-44|male|                null|2022-05-17 00:00:00|skin lesions, ulc...|            N|               null|         null|               null|     null| Under investigation|              null|          null|     N|       null|              null|                null|         null|West African Clade|              null|https://cnnportug...|                null|     null|    null|   null|    null|     null|2022-05-18 00:00:00|      null|    2022-05-20 00:00:00|\n",
            "| N9|confirmed|              Lisbon|   Lisbon|Portugal|     PRT|20-44|male|                null|2022-05-17 00:00:00|skin lesions, ulc...|            N|               null|         null|               null|     null| Under investigation|              null|          null|     N|       null|              null|                null|         null|              null|              null|https://cnnportug...|                null|     null|    null|   null|    null|     null|2022-05-18 00:00:00|      null|    2022-05-18 00:00:00|\n",
            "|N10|confirmed|              Lisbon|   Lisbon|Portugal|     PRT|20-44|male|                null|2022-05-17 00:00:00|skin lesions, ulc...|            N|               null|         null|               null|     null| Under investigation|              null|          null|     N|       null|              null|                null|         null|              null|              null|https://cnnportug...|                null|     null|    null|   null|    null|     null|2022-05-18 00:00:00|      null|    2022-05-18 00:00:00|\n",
            "|N11|confirmed|              Lisbon|   Lisbon|Portugal|     PRT|20-44|male|                null|2022-05-18 00:00:00|skin lesions, ulc...|            N|               null|         null|               null|     null| Under investigation|              null|          null|     N|       null|              null|                null|         null|              null|              null|https://cnnportug...|                null|     null|    null|   null|    null|     null|2022-05-18 00:00:00|      null|    2022-05-18 00:00:00|\n",
            "|N12|confirmed|              Lisbon|   Lisbon|Portugal|     PRT|20-44|male|                null|2022-05-18 00:00:00|skin lesions, ulc...|            N|               null|         null|               null|     null| Under investigation|              null|          null|     N|       null|              null|                null|         null|              null|              null|https://cnnportug...|                null|     null|    null|   null|    null|     null|2022-05-18 00:00:00|      null|    2022-05-18 00:00:00|\n",
            "|N13|confirmed|Lisbon and Tagus ...|   Lisbon|Portugal|     PRT|20-44|male|                null|2022-05-18 00:00:00|  ulcerative lesions|            N|               null|         null|               null|     null|                null|              null|          null|     N|       null|              null|                null|         null|              null|              null|https://cnnportug...|https://web.archi...|     null|    null|   null|    null|     null|2022-05-18 00:00:00|      null|    2022-05-18 00:00:00|\n",
            "|N14|confirmed|Lisbon and Tagus ...|   Lisbon|Portugal|     PRT|20-44|male|                null|2022-05-18 00:00:00|  ulcerative lesions|            N|               null|         null|               null|     null|                null|              null|          null|     N|       null|              null|                null|         null|              null|              null|https://cnnportug...|https://web.archi...|     null|    null|   null|    null|     null|2022-05-18 00:00:00|      null|    2022-05-18 00:00:00|\n",
            "|N15|confirmed|Lisbon and Tagus ...|   Lisbon|Portugal|     PRT|20-44|male|                null|2022-05-18 00:00:00|  ulcerative lesions|            N|               null|         null|               null|     null|                null|              null|          null|     N|       null|              null|                null|         null|              null|              null|https://cnnportug...|https://web.archi...|     null|    null|   null|    null|     null|2022-05-18 00:00:00|      null|    2022-05-18 00:00:00|\n",
            "|N16|confirmed|Lisbon and Tagus ...|   Lisbon|Portugal|     PRT|20-44|male|                null|2022-05-18 00:00:00|  ulcerative lesions|            N|               null|         null|               null|     null|                null|              null|          null|     N|       null|              null|                null|         null|              null|              null|https://cnnportug...|https://web.archi...|     null|    null|   null|    null|     null|2022-05-18 00:00:00|      null|    2022-05-18 00:00:00|\n",
            "|N17|confirmed|Lisbon and Tagus ...|   Lisbon|Portugal|     PRT|20-44|male|                null|2022-05-18 00:00:00|  ulcerative lesions|            N|               null|         null|               null|     null|                null|              null|          null|     N|       null|              null|                null|         null|              null|              null|https://cnnportug...|https://web.archi...|     null|    null|   null|    null|     null|2022-05-18 00:00:00|      null|    2022-05-18 00:00:00|\n",
            "|N18|confirmed|Lisbon and Tagus ...|   Lisbon|Portugal|     PRT|20-44|male|                null|2022-05-18 00:00:00|  ulcerative lesions|            N|               null|         null|               null|     null|                null|              null|          null|     N|       null|              null|                null|         null|              null|              null|https://cnnportug...|https://web.archi...|     null|    null|   null|    null|     null|2022-05-18 00:00:00|      null|    2022-05-18 00:00:00|\n",
            "|N19|confirmed|Lisbon and Tagus ...|   Lisbon|Portugal|     PRT|20-44|male|                null|2022-05-18 00:00:00|  ulcerative lesions|            N|               null|         null|               null|     null|                null|              null|          null|     N|       null|              null|                null|         null|              null|              null|https://cnnportug...|https://web.archi...|     null|    null|   null|    null|     null|2022-05-18 00:00:00|      null|    2022-05-18 00:00:00|\n",
            "|N20|confirmed|Lisbon and Tagus ...|   Lisbon|Portugal|     PRT|20-44|male|                null|2022-05-18 00:00:00|  ulcerative lesions|            N|               null|         null|               null|     null|                null|              null|          null|     N|       null|              null|                null|         null|              null|              null|https://cnnportug...|https://web.archi...|     null|    null|   null|    null|     null|2022-05-18 00:00:00|      null|    2022-05-18 00:00:00|\n",
            "+---+---------+--------------------+---------+--------+--------+-----+----+--------------------+-------------------+--------------------+-------------+-------------------+-------------+-------------------+---------+--------------------+------------------+--------------+------+-----------+------------------+--------------------+-------------+------------------+------------------+--------------------+--------------------+---------+--------+-------+--------+---------+-------------------+----------+-----------------------+\n",
            "only showing top 20 rows\n",
            "\n"
          ]
        }
      ]
    },
    {
      "cell_type": "markdown",
      "source": [
        "Explorando a coluna \"Gender\"\""
      ],
      "metadata": {
        "id": "_FPvG4GcEfO0"
      }
    },
    {
      "cell_type": "code",
      "source": [
        "monkeypoxdf4 = monkeypoxdf.select(countDistinct(\"Gender\"))\n",
        "monkeypoxdf4.show(truncate=False)\n",
        "print(\"Distinct Count of Gender: \"+str(monkeypoxdf4.collect()[0][0]))"
      ],
      "metadata": {
        "colab": {
          "base_uri": "https://localhost:8080/"
        },
        "id": "GcRktqedHiKM",
        "outputId": "21534afb-c7ee-492c-c545-a6c133cddbfa"
      },
      "execution_count": 49,
      "outputs": [
        {
          "output_type": "stream",
          "name": "stdout",
          "text": [
            "+----------------------+\n",
            "|count(DISTINCT Gender)|\n",
            "+----------------------+\n",
            "|6                     |\n",
            "+----------------------+\n",
            "\n",
            "Distinct Count of Gender: 6\n"
          ]
        }
      ]
    },
    {
      "cell_type": "code",
      "source": [
        "NewMonkeyPox1 = newmonkeypoxdf1.createOrReplaceTempView(\"NewMonkeyPox1\")\n",
        "spark.sql(\"select Status, Pais, CASE WHEN Sexo = 'Female' THEN 'female' \" +\n",
        "          \"WHEN Sexo = 'female ' THEN 'female' \" + \n",
        "          \"WHEN Sexo = 'Male' THEN 'male' \" +\n",
        "          \"WHEN Sexo = 'male ' THEN 'male' WHEN Sexo IS NULL THEN '' \" +\n",
        "          \"ELSE Sexo END as novo_sexo from NewMonkeyPox1\").distinct().count()\n",
        "NewMonkeyPox1"
      ],
      "metadata": {
        "id": "ncAUHo0KQem-"
      },
      "execution_count": 50,
      "outputs": []
    },
    {
      "cell_type": "code",
      "source": [
        "from pyspark.sql.functions import when\n",
        "monkeypoxdfGender = monkeypoxdf.withColumn('Sexo', \n",
        "    when(monkeypoxdf.Gender.endswith('male '),regexp_replace(monkeypoxdf.Gender,'male ','male')) \\\n",
        "   .when(monkeypoxdf.Gender.endswith('Male'),regexp_replace(monkeypoxdf.Gender,'Male','male')) \\\n",
        "   .when(monkeypoxdf.Gender.endswith('female '),regexp_replace(monkeypoxdf.Gender,'female ','female')) \\\n",
        "   .when(monkeypoxdf.Gender.endswith('Female'),regexp_replace(monkeypoxdf.Gender,'Female','female')) \\\n",
        "   .otherwise(monkeypoxdf.Gender)) \\\n",
        "   .show(truncate=False)\n",
        "monkeypoxdfGender"
      ],
      "metadata": {
        "colab": {
          "base_uri": "https://localhost:8080/"
        },
        "id": "yuUiHJwSIVyL",
        "outputId": "341811d4-1738-43f9-bb6b-87dbc7425152"
      },
      "execution_count": 51,
      "outputs": [
        {
          "output_type": "stream",
          "name": "stdout",
          "text": [
            "+---+---------+-----------------------------------+---------+--------+------------+-----+------+-------------------+-------------------+--------------------------------+---------------------+--------------------+-----------------+-------------------+-------+-------------------------------+----------+----------------+-----------------------+--------------------+--------------------+-----------------------+----------------------+------------------+-------------------+------------------------------------------------------------------------------------------------------------------------------------------------------+-------------------------------------------------------------------------------------------------------------------------------+----------+---------+--------+---------+----------+-------------------+----------+-------------------+----+\n",
            "|ID |Status   |Location                           |City     |Country |Country_ISO3|Age  |Gender|Date_onset         |Date_confirmation  |Symptoms                        |Hospitalised (Y/N/NA)|Date_hospitalisation|Isolated (Y/N/NA)|Date_isolation     |Outcome|Contact_comment                |Contact_ID|Contact_location|Travel_history (Y/N/NA)|Travel_history_entry|Travel_history_start|Travel_history_location|Travel_history_country|Genomics_Metadata |Confirmation_method|Source                                                                                                                                                |Source_II                                                                                                                      |Source_III|Source_IV|Source_V|Source_VI|Source_VII|Date_entry         |Date_death|Date_last_modified |Sexo|\n",
            "+---+---------+-----------------------------------+---------+--------+------------+-----+------+-------------------+-------------------+--------------------------------+---------------------+--------------------+-----------------+-------------------+-------+-------------------------------+----------+----------------+-----------------------+--------------------+--------------------+-----------------------+----------------------+------------------+-------------------+------------------------------------------------------------------------------------------------------------------------------------------------------+-------------------------------------------------------------------------------------------------------------------------------+----------+---------+--------+---------+----------+-------------------+----------+-------------------+----+\n",
            "|N1 |confirmed|Guy's and St Thomas Hospital London|London   |England |GBR         |null |null  |2022-04-29 00:00:00|2022-05-06 00:00:00|rash                            |Y                    |2022-05-04 00:00:00 |Y                |2022-05-04 00:00:00|null   |null                           |null      |null            |Y                      |2022-05-04          |late April          |Lagos and Delta States |Nigeria               |West African Clade|RT-PCR             |https://www.gov.uk/government/news/monkeypox-cases-confirmed-in-england-latest-updates                                                                |https://www.who.int/emergencies/disease-outbreak-news/item/2022-DON381                                                         |null      |null     |null    |null     |null      |2022-05-18 00:00:00|null      |2022-05-18 00:00:00|null|\n",
            "|N2 |confirmed|Guy's and St Thomas Hospital London|London   |England |GBR         |null |null  |2022-05-05 00:00:00|2022-05-12 00:00:00|rash                            |Y                    |2022-05-06 00:00:00 |Y                |2022-05-09 00:00:00|null   |Index Case of household cluster|3         |Household       |N                      |null                |null                |null                   |null                  |West African Clade|RT-PCR             |https://www.gov.uk/government/news/monkeypox-cases-confirmed-in-england-latest-updates                                                                |null                                                                                                                           |null      |null     |null    |null     |null      |2022-05-18 00:00:00|null      |2022-05-18 00:00:00|null|\n",
            "|N3 |confirmed|London                             |London   |England |GBR         |null |null  |2022-04-30 00:00:00|2022-05-13 00:00:00|vesicular rash                  |N                    |null                |Y                |null               |null   |null                           |2         |Household       |N                      |null                |null                |null                   |null                  |West African Clade|RT-PCR             |https://www.gov.uk/government/news/monkeypox-cases-confirmed-in-england-latest-updates                                                                |null                                                                                                                           |null      |null     |null    |null     |null      |2022-05-18 00:00:00|null      |2022-05-18 00:00:00|null|\n",
            "|N4 |confirmed|London                             |London   |England |GBR         |null |male  |null               |2022-05-15 00:00:00|vesicular rash                  |Y                    |null                |Y                |null               |null   |Under investigation            |null      |null            |N                      |null                |null                |null                   |null                  |West African Clade|null               |https://www.gov.uk/government/news/monkeypox-cases-confirmed-in-england-latest-updates                                                                |null                                                                                                                           |null      |null     |null    |null     |null      |2022-05-18 00:00:00|null      |2022-05-18 00:00:00|male|\n",
            "|N5 |confirmed|London                             |London   |England |GBR         |null |male  |null               |2022-05-15 00:00:00|vesicular rash                  |Y                    |null                |Y                |null               |null   |Under investigation            |null      |null            |N                      |null                |null                |null                   |null                  |West African Clade|null               |https://www.gov.uk/government/news/monkeypox-cases-confirmed-in-england-latest-updates                                                                |null                                                                                                                           |null      |null     |null    |null     |null      |2022-05-18 00:00:00|null      |2022-05-18 00:00:00|male|\n",
            "|N6 |confirmed|London                             |London   |England |GBR         |null |male  |null               |2022-05-15 00:00:00|vesicular rash                  |null                 |null                |Y                |null               |null   |Under investigation            |null      |null            |N                      |null                |null                |null                   |null                  |West African Clade|null               |https://www.gov.uk/government/news/monkeypox-cases-confirmed-in-england-latest-updates                                                                |null                                                                                                                           |null      |null     |null    |null     |null      |2022-05-18 00:00:00|null      |2022-05-18 00:00:00|male|\n",
            "|N7 |confirmed|Newcastle                          |Newcastle|England |GBR         |null |male  |null               |2022-05-15 00:00:00|vesicular rash                  |Y                    |null                |Y                |null               |null   |Under investigation            |null      |null            |Y                      |null                |null                |London                 |England               |West African Clade|null               |https://www.gov.uk/government/news/monkeypox-cases-confirmed-in-england-latest-updates                                                                |null                                                                                                                           |null      |null     |null    |null     |null      |2022-05-18 00:00:00|null      |2022-05-18 00:00:00|male|\n",
            "|N8 |confirmed|Lisbon                             |Lisbon   |Portugal|PRT         |20-44|male  |null               |2022-05-17 00:00:00|skin lesions, ulcerative lesions|N                    |null                |null             |null               |null   |Under investigation            |null      |null            |N                      |null                |null                |null                   |null                  |West African Clade|null               |https://cnnportugal.iol.pt/geral/portugal-tem-cinco-casos-de-variola-dos-macacos-ja-confirmados-mais-de-20-suspeitos/20220518/6284bd950cf26256cd249b0b|null                                                                                                                           |null      |null     |null    |null     |null      |2022-05-18 00:00:00|null      |2022-05-20 00:00:00|male|\n",
            "|N9 |confirmed|Lisbon                             |Lisbon   |Portugal|PRT         |20-44|male  |null               |2022-05-17 00:00:00|skin lesions, ulcerative lesions|N                    |null                |null             |null               |null   |Under investigation            |null      |null            |N                      |null                |null                |null                   |null                  |null              |null               |https://cnnportugal.iol.pt/geral/portugal-tem-cinco-casos-de-variola-dos-macacos-ja-confirmados-mais-de-20-suspeitos/20220518/6284bd950cf26256cd249b0b|null                                                                                                                           |null      |null     |null    |null     |null      |2022-05-18 00:00:00|null      |2022-05-18 00:00:00|male|\n",
            "|N10|confirmed|Lisbon                             |Lisbon   |Portugal|PRT         |20-44|male  |null               |2022-05-17 00:00:00|skin lesions, ulcerative lesions|N                    |null                |null             |null               |null   |Under investigation            |null      |null            |N                      |null                |null                |null                   |null                  |null              |null               |https://cnnportugal.iol.pt/geral/portugal-tem-cinco-casos-de-variola-dos-macacos-ja-confirmados-mais-de-20-suspeitos/20220518/6284bd950cf26256cd249b0b|null                                                                                                                           |null      |null     |null    |null     |null      |2022-05-18 00:00:00|null      |2022-05-18 00:00:00|male|\n",
            "|N11|confirmed|Lisbon                             |Lisbon   |Portugal|PRT         |20-44|male  |null               |2022-05-18 00:00:00|skin lesions, ulcerative lesions|N                    |null                |null             |null               |null   |Under investigation            |null      |null            |N                      |null                |null                |null                   |null                  |null              |null               |https://cnnportugal.iol.pt/geral/portugal-tem-cinco-casos-de-variola-dos-macacos-ja-confirmados-mais-de-20-suspeitos/20220518/6284bd950cf26256cd249b0b|null                                                                                                                           |null      |null     |null    |null     |null      |2022-05-18 00:00:00|null      |2022-05-18 00:00:00|male|\n",
            "|N12|confirmed|Lisbon                             |Lisbon   |Portugal|PRT         |20-44|male  |null               |2022-05-18 00:00:00|skin lesions, ulcerative lesions|N                    |null                |null             |null               |null   |Under investigation            |null      |null            |N                      |null                |null                |null                   |null                  |null              |null               |https://cnnportugal.iol.pt/geral/portugal-tem-cinco-casos-de-variola-dos-macacos-ja-confirmados-mais-de-20-suspeitos/20220518/6284bd950cf26256cd249b0b|null                                                                                                                           |null      |null     |null    |null     |null      |2022-05-18 00:00:00|null      |2022-05-18 00:00:00|male|\n",
            "|N13|confirmed|Lisbon and Tagus Valley            |Lisbon   |Portugal|PRT         |20-44|male  |null               |2022-05-18 00:00:00|ulcerative lesions              |N                    |null                |null             |null               |null   |null                           |null      |null            |N                      |null                |null                |null                   |null                  |null              |null               |https://cnnportugal.iol.pt/geral/portugal-tem-cinco-casos-de-variola-dos-macacos-ja-confirmados-mais-de-20-suspeitos/20220518/6284bd950cf26256cd249b0b|https://web.archive.org/web/20220518163102/https://www.dgs.pt/em-destaque/casos-de-infecao-por-virus-monkeypox-em-portugal.aspx|null      |null     |null    |null     |null      |2022-05-18 00:00:00|null      |2022-05-18 00:00:00|male|\n",
            "|N14|confirmed|Lisbon and Tagus Valley            |Lisbon   |Portugal|PRT         |20-44|male  |null               |2022-05-18 00:00:00|ulcerative lesions              |N                    |null                |null             |null               |null   |null                           |null      |null            |N                      |null                |null                |null                   |null                  |null              |null               |https://cnnportugal.iol.pt/geral/portugal-tem-cinco-casos-de-variola-dos-macacos-ja-confirmados-mais-de-20-suspeitos/20220518/6284bd950cf26256cd249b0b|https://web.archive.org/web/20220518163102/https://www.dgs.pt/em-destaque/casos-de-infecao-por-virus-monkeypox-em-portugal.aspx|null      |null     |null    |null     |null      |2022-05-18 00:00:00|null      |2022-05-18 00:00:00|male|\n",
            "|N15|confirmed|Lisbon and Tagus Valley            |Lisbon   |Portugal|PRT         |20-44|male  |null               |2022-05-18 00:00:00|ulcerative lesions              |N                    |null                |null             |null               |null   |null                           |null      |null            |N                      |null                |null                |null                   |null                  |null              |null               |https://cnnportugal.iol.pt/geral/portugal-tem-cinco-casos-de-variola-dos-macacos-ja-confirmados-mais-de-20-suspeitos/20220518/6284bd950cf26256cd249b0b|https://web.archive.org/web/20220518163102/https://www.dgs.pt/em-destaque/casos-de-infecao-por-virus-monkeypox-em-portugal.aspx|null      |null     |null    |null     |null      |2022-05-18 00:00:00|null      |2022-05-18 00:00:00|male|\n",
            "|N16|confirmed|Lisbon and Tagus Valley            |Lisbon   |Portugal|PRT         |20-44|male  |null               |2022-05-18 00:00:00|ulcerative lesions              |N                    |null                |null             |null               |null   |null                           |null      |null            |N                      |null                |null                |null                   |null                  |null              |null               |https://cnnportugal.iol.pt/geral/portugal-tem-cinco-casos-de-variola-dos-macacos-ja-confirmados-mais-de-20-suspeitos/20220518/6284bd950cf26256cd249b0b|https://web.archive.org/web/20220518163102/https://www.dgs.pt/em-destaque/casos-de-infecao-por-virus-monkeypox-em-portugal.aspx|null      |null     |null    |null     |null      |2022-05-18 00:00:00|null      |2022-05-18 00:00:00|male|\n",
            "|N17|confirmed|Lisbon and Tagus Valley            |Lisbon   |Portugal|PRT         |20-44|male  |null               |2022-05-18 00:00:00|ulcerative lesions              |N                    |null                |null             |null               |null   |null                           |null      |null            |N                      |null                |null                |null                   |null                  |null              |null               |https://cnnportugal.iol.pt/geral/portugal-tem-cinco-casos-de-variola-dos-macacos-ja-confirmados-mais-de-20-suspeitos/20220518/6284bd950cf26256cd249b0b|https://web.archive.org/web/20220518163102/https://www.dgs.pt/em-destaque/casos-de-infecao-por-virus-monkeypox-em-portugal.aspx|null      |null     |null    |null     |null      |2022-05-18 00:00:00|null      |2022-05-18 00:00:00|male|\n",
            "|N18|confirmed|Lisbon and Tagus Valley            |Lisbon   |Portugal|PRT         |20-44|male  |null               |2022-05-18 00:00:00|ulcerative lesions              |N                    |null                |null             |null               |null   |null                           |null      |null            |N                      |null                |null                |null                   |null                  |null              |null               |https://cnnportugal.iol.pt/geral/portugal-tem-cinco-casos-de-variola-dos-macacos-ja-confirmados-mais-de-20-suspeitos/20220518/6284bd950cf26256cd249b0b|https://web.archive.org/web/20220518163102/https://www.dgs.pt/em-destaque/casos-de-infecao-por-virus-monkeypox-em-portugal.aspx|null      |null     |null    |null     |null      |2022-05-18 00:00:00|null      |2022-05-18 00:00:00|male|\n",
            "|N19|confirmed|Lisbon and Tagus Valley            |Lisbon   |Portugal|PRT         |20-44|male  |null               |2022-05-18 00:00:00|ulcerative lesions              |N                    |null                |null             |null               |null   |null                           |null      |null            |N                      |null                |null                |null                   |null                  |null              |null               |https://cnnportugal.iol.pt/geral/portugal-tem-cinco-casos-de-variola-dos-macacos-ja-confirmados-mais-de-20-suspeitos/20220518/6284bd950cf26256cd249b0b|https://web.archive.org/web/20220518163102/https://www.dgs.pt/em-destaque/casos-de-infecao-por-virus-monkeypox-em-portugal.aspx|null      |null     |null    |null     |null      |2022-05-18 00:00:00|null      |2022-05-18 00:00:00|male|\n",
            "|N20|confirmed|Lisbon and Tagus Valley            |Lisbon   |Portugal|PRT         |20-44|male  |null               |2022-05-18 00:00:00|ulcerative lesions              |N                    |null                |null             |null               |null   |null                           |null      |null            |N                      |null                |null                |null                   |null                  |null              |null               |https://cnnportugal.iol.pt/geral/portugal-tem-cinco-casos-de-variola-dos-macacos-ja-confirmados-mais-de-20-suspeitos/20220518/6284bd950cf26256cd249b0b|https://web.archive.org/web/20220518163102/https://www.dgs.pt/em-destaque/casos-de-infecao-por-virus-monkeypox-em-portugal.aspx|null      |null     |null    |null     |null      |2022-05-18 00:00:00|null      |2022-05-18 00:00:00|male|\n",
            "+---+---------+-----------------------------------+---------+--------+------------+-----+------+-------------------+-------------------+--------------------------------+---------------------+--------------------+-----------------+-------------------+-------+-------------------------------+----------+----------------+-----------------------+--------------------+--------------------+-----------------------+----------------------+------------------+-------------------+------------------------------------------------------------------------------------------------------------------------------------------------------+-------------------------------------------------------------------------------------------------------------------------------+----------+---------+--------+---------+----------+-------------------+----------+-------------------+----+\n",
            "only showing top 20 rows\n",
            "\n"
          ]
        }
      ]
    },
    {
      "cell_type": "code",
      "source": [
        "spark.sql(\"select DISTINCT Pais, CASE WHEN Sexo = 'Female' THEN 'female' \" +\n",
        "          \"WHEN Sexo = 'female ' THEN 'female' \" + \n",
        "          \"WHEN Sexo = 'Male' THEN 'male' \" +\n",
        "          \"WHEN Sexo = 'male ' THEN 'male' WHEN Sexo IS NULL THEN '' \" +\n",
        "          \"ELSE Sexo END as novo_sexo from NewMonkeyPox1\").show()"
      ],
      "metadata": {
        "colab": {
          "base_uri": "https://localhost:8080/"
        },
        "id": "7UNNXfH_ElS4",
        "outputId": "305609b2-6e28-4f1b-fc55-3ce3f8d0f451"
      },
      "execution_count": 52,
      "outputs": [
        {
          "output_type": "stream",
          "name": "stdout",
          "text": [
            "+------------------+---------+\n",
            "|              Pais|novo_sexo|\n",
            "+------------------+---------+\n",
            "|           Bahamas|     male|\n",
            "|            Monaco|         |\n",
            "|           Bahamas|         |\n",
            "|            Guyana|     male|\n",
            "|       New Zealand|         |\n",
            "|            Taiwan|         |\n",
            "|           Ukraine|     male|\n",
            "|            Guyana|         |\n",
            "|            Belize|         |\n",
            "|           England|         |\n",
            "|            Greece|     male|\n",
            "|            Israel|     male|\n",
            "|           Morocco|         |\n",
            "|         Greenland|         |\n",
            "|             Spain|         |\n",
            "|          Thailand|         |\n",
            "|Dominican Republic|     male|\n",
            "|           Lebanon|         |\n",
            "|           Romania|         |\n",
            "|           Liberia|     male|\n",
            "+------------------+---------+\n",
            "only showing top 20 rows\n",
            "\n"
          ]
        }
      ]
    },
    {
      "cell_type": "code",
      "source": [
        "from pyspark.sql.functions import expr\n",
        "monkeypoxdf2=monkeypoxdf.withColumn(\"Gender\", expr(\"CASE WHEN Gender = 'Male' THEN 'male' \" +\n",
        "           \"WHEN Gender = 'male ' THEN 'male'\" +\n",
        "           \"WHEN Gender = 'Female' THEN 'female'\" +\n",
        "           \"WHEN Gender = 'female ' THEN 'female' END\"))\n",
        "monkeypoxdf2.show()"
      ],
      "metadata": {
        "colab": {
          "base_uri": "https://localhost:8080/"
        },
        "id": "9OMc_8kCHYlc",
        "outputId": "63b9f463-4869-43e2-a401-4db6691e1693"
      },
      "execution_count": 53,
      "outputs": [
        {
          "output_type": "stream",
          "name": "stdout",
          "text": [
            "+---+---------+--------------------+---------+--------+------------+-----+------+-------------------+-------------------+--------------------+---------------------+--------------------+-----------------+-------------------+-------+--------------------+----------+----------------+-----------------------+--------------------+--------------------+-----------------------+----------------------+------------------+-------------------+--------------------+--------------------+----------+---------+--------+---------+----------+-------------------+----------+-------------------+\n",
            "| ID|   Status|            Location|     City| Country|Country_ISO3|  Age|Gender|         Date_onset|  Date_confirmation|            Symptoms|Hospitalised (Y/N/NA)|Date_hospitalisation|Isolated (Y/N/NA)|     Date_isolation|Outcome|     Contact_comment|Contact_ID|Contact_location|Travel_history (Y/N/NA)|Travel_history_entry|Travel_history_start|Travel_history_location|Travel_history_country| Genomics_Metadata|Confirmation_method|              Source|           Source_II|Source_III|Source_IV|Source_V|Source_VI|Source_VII|         Date_entry|Date_death| Date_last_modified|\n",
            "+---+---------+--------------------+---------+--------+------------+-----+------+-------------------+-------------------+--------------------+---------------------+--------------------+-----------------+-------------------+-------+--------------------+----------+----------------+-----------------------+--------------------+--------------------+-----------------------+----------------------+------------------+-------------------+--------------------+--------------------+----------+---------+--------+---------+----------+-------------------+----------+-------------------+\n",
            "| N1|confirmed|Guy's and St Thom...|   London| England|         GBR| null|  null|2022-04-29 00:00:00|2022-05-06 00:00:00|                rash|                    Y| 2022-05-04 00:00:00|                Y|2022-05-04 00:00:00|   null|                null|      null|            null|                      Y|          2022-05-04|          late April|   Lagos and Delta S...|               Nigeria|West African Clade|             RT-PCR|https://www.gov.u...|https://www.who.i...|      null|     null|    null|     null|      null|2022-05-18 00:00:00|      null|2022-05-18 00:00:00|\n",
            "| N2|confirmed|Guy's and St Thom...|   London| England|         GBR| null|  null|2022-05-05 00:00:00|2022-05-12 00:00:00|                rash|                    Y| 2022-05-06 00:00:00|                Y|2022-05-09 00:00:00|   null|Index Case of hou...|         3|       Household|                      N|                null|                null|                   null|                  null|West African Clade|             RT-PCR|https://www.gov.u...|                null|      null|     null|    null|     null|      null|2022-05-18 00:00:00|      null|2022-05-18 00:00:00|\n",
            "| N3|confirmed|              London|   London| England|         GBR| null|  null|2022-04-30 00:00:00|2022-05-13 00:00:00|      vesicular rash|                    N|                null|                Y|               null|   null|                null|         2|       Household|                      N|                null|                null|                   null|                  null|West African Clade|             RT-PCR|https://www.gov.u...|                null|      null|     null|    null|     null|      null|2022-05-18 00:00:00|      null|2022-05-18 00:00:00|\n",
            "| N4|confirmed|              London|   London| England|         GBR| null|  null|               null|2022-05-15 00:00:00|      vesicular rash|                    Y|                null|                Y|               null|   null| Under investigation|      null|            null|                      N|                null|                null|                   null|                  null|West African Clade|               null|https://www.gov.u...|                null|      null|     null|    null|     null|      null|2022-05-18 00:00:00|      null|2022-05-18 00:00:00|\n",
            "| N5|confirmed|              London|   London| England|         GBR| null|  null|               null|2022-05-15 00:00:00|      vesicular rash|                    Y|                null|                Y|               null|   null| Under investigation|      null|            null|                      N|                null|                null|                   null|                  null|West African Clade|               null|https://www.gov.u...|                null|      null|     null|    null|     null|      null|2022-05-18 00:00:00|      null|2022-05-18 00:00:00|\n",
            "| N6|confirmed|              London|   London| England|         GBR| null|  null|               null|2022-05-15 00:00:00|      vesicular rash|                 null|                null|                Y|               null|   null| Under investigation|      null|            null|                      N|                null|                null|                   null|                  null|West African Clade|               null|https://www.gov.u...|                null|      null|     null|    null|     null|      null|2022-05-18 00:00:00|      null|2022-05-18 00:00:00|\n",
            "| N7|confirmed|           Newcastle|Newcastle| England|         GBR| null|  null|               null|2022-05-15 00:00:00|      vesicular rash|                    Y|                null|                Y|               null|   null| Under investigation|      null|            null|                      Y|                null|                null|                 London|               England|West African Clade|               null|https://www.gov.u...|                null|      null|     null|    null|     null|      null|2022-05-18 00:00:00|      null|2022-05-18 00:00:00|\n",
            "| N8|confirmed|              Lisbon|   Lisbon|Portugal|         PRT|20-44|  null|               null|2022-05-17 00:00:00|skin lesions, ulc...|                    N|                null|             null|               null|   null| Under investigation|      null|            null|                      N|                null|                null|                   null|                  null|West African Clade|               null|https://cnnportug...|                null|      null|     null|    null|     null|      null|2022-05-18 00:00:00|      null|2022-05-20 00:00:00|\n",
            "| N9|confirmed|              Lisbon|   Lisbon|Portugal|         PRT|20-44|  null|               null|2022-05-17 00:00:00|skin lesions, ulc...|                    N|                null|             null|               null|   null| Under investigation|      null|            null|                      N|                null|                null|                   null|                  null|              null|               null|https://cnnportug...|                null|      null|     null|    null|     null|      null|2022-05-18 00:00:00|      null|2022-05-18 00:00:00|\n",
            "|N10|confirmed|              Lisbon|   Lisbon|Portugal|         PRT|20-44|  null|               null|2022-05-17 00:00:00|skin lesions, ulc...|                    N|                null|             null|               null|   null| Under investigation|      null|            null|                      N|                null|                null|                   null|                  null|              null|               null|https://cnnportug...|                null|      null|     null|    null|     null|      null|2022-05-18 00:00:00|      null|2022-05-18 00:00:00|\n",
            "|N11|confirmed|              Lisbon|   Lisbon|Portugal|         PRT|20-44|  null|               null|2022-05-18 00:00:00|skin lesions, ulc...|                    N|                null|             null|               null|   null| Under investigation|      null|            null|                      N|                null|                null|                   null|                  null|              null|               null|https://cnnportug...|                null|      null|     null|    null|     null|      null|2022-05-18 00:00:00|      null|2022-05-18 00:00:00|\n",
            "|N12|confirmed|              Lisbon|   Lisbon|Portugal|         PRT|20-44|  null|               null|2022-05-18 00:00:00|skin lesions, ulc...|                    N|                null|             null|               null|   null| Under investigation|      null|            null|                      N|                null|                null|                   null|                  null|              null|               null|https://cnnportug...|                null|      null|     null|    null|     null|      null|2022-05-18 00:00:00|      null|2022-05-18 00:00:00|\n",
            "|N13|confirmed|Lisbon and Tagus ...|   Lisbon|Portugal|         PRT|20-44|  null|               null|2022-05-18 00:00:00|  ulcerative lesions|                    N|                null|             null|               null|   null|                null|      null|            null|                      N|                null|                null|                   null|                  null|              null|               null|https://cnnportug...|https://web.archi...|      null|     null|    null|     null|      null|2022-05-18 00:00:00|      null|2022-05-18 00:00:00|\n",
            "|N14|confirmed|Lisbon and Tagus ...|   Lisbon|Portugal|         PRT|20-44|  null|               null|2022-05-18 00:00:00|  ulcerative lesions|                    N|                null|             null|               null|   null|                null|      null|            null|                      N|                null|                null|                   null|                  null|              null|               null|https://cnnportug...|https://web.archi...|      null|     null|    null|     null|      null|2022-05-18 00:00:00|      null|2022-05-18 00:00:00|\n",
            "|N15|confirmed|Lisbon and Tagus ...|   Lisbon|Portugal|         PRT|20-44|  null|               null|2022-05-18 00:00:00|  ulcerative lesions|                    N|                null|             null|               null|   null|                null|      null|            null|                      N|                null|                null|                   null|                  null|              null|               null|https://cnnportug...|https://web.archi...|      null|     null|    null|     null|      null|2022-05-18 00:00:00|      null|2022-05-18 00:00:00|\n",
            "|N16|confirmed|Lisbon and Tagus ...|   Lisbon|Portugal|         PRT|20-44|  null|               null|2022-05-18 00:00:00|  ulcerative lesions|                    N|                null|             null|               null|   null|                null|      null|            null|                      N|                null|                null|                   null|                  null|              null|               null|https://cnnportug...|https://web.archi...|      null|     null|    null|     null|      null|2022-05-18 00:00:00|      null|2022-05-18 00:00:00|\n",
            "|N17|confirmed|Lisbon and Tagus ...|   Lisbon|Portugal|         PRT|20-44|  null|               null|2022-05-18 00:00:00|  ulcerative lesions|                    N|                null|             null|               null|   null|                null|      null|            null|                      N|                null|                null|                   null|                  null|              null|               null|https://cnnportug...|https://web.archi...|      null|     null|    null|     null|      null|2022-05-18 00:00:00|      null|2022-05-18 00:00:00|\n",
            "|N18|confirmed|Lisbon and Tagus ...|   Lisbon|Portugal|         PRT|20-44|  null|               null|2022-05-18 00:00:00|  ulcerative lesions|                    N|                null|             null|               null|   null|                null|      null|            null|                      N|                null|                null|                   null|                  null|              null|               null|https://cnnportug...|https://web.archi...|      null|     null|    null|     null|      null|2022-05-18 00:00:00|      null|2022-05-18 00:00:00|\n",
            "|N19|confirmed|Lisbon and Tagus ...|   Lisbon|Portugal|         PRT|20-44|  null|               null|2022-05-18 00:00:00|  ulcerative lesions|                    N|                null|             null|               null|   null|                null|      null|            null|                      N|                null|                null|                   null|                  null|              null|               null|https://cnnportug...|https://web.archi...|      null|     null|    null|     null|      null|2022-05-18 00:00:00|      null|2022-05-18 00:00:00|\n",
            "|N20|confirmed|Lisbon and Tagus ...|   Lisbon|Portugal|         PRT|20-44|  null|               null|2022-05-18 00:00:00|  ulcerative lesions|                    N|                null|             null|               null|   null|                null|      null|            null|                      N|                null|                null|                   null|                  null|              null|               null|https://cnnportug...|https://web.archi...|      null|     null|    null|     null|      null|2022-05-18 00:00:00|      null|2022-05-18 00:00:00|\n",
            "+---+---------+--------------------+---------+--------+------------+-----+------+-------------------+-------------------+--------------------+---------------------+--------------------+-----------------+-------------------+-------+--------------------+----------+----------------+-----------------------+--------------------+--------------------+-----------------------+----------------------+------------------+-------------------+--------------------+--------------------+----------+---------+--------+---------+----------+-------------------+----------+-------------------+\n",
            "only showing top 20 rows\n",
            "\n"
          ]
        }
      ]
    },
    {
      "cell_type": "code",
      "source": [
        "from pyspark.sql.functions import approx_count_distinct\n",
        "\n",
        "print(\"Total de faixa etárias distintas: \" + \\\n",
        "     str(monkeypoxdf.select(approx_count_distinct(\"Age\")).collect()[0][0]))"
      ],
      "metadata": {
        "id": "bEdHs3QcHp28",
        "colab": {
          "base_uri": "https://localhost:8080/"
        },
        "outputId": "274bebed-73ae-45a1-b043-42a0d4a87e74"
      },
      "execution_count": 54,
      "outputs": [
        {
          "output_type": "stream",
          "name": "stdout",
          "text": [
            "Total de faixa etárias distintas: 95\n"
          ]
        }
      ]
    },
    {
      "cell_type": "code",
      "source": [
        "monkeypoxdf.select(collect_list(\"Age\")).show(truncate=False)"
      ],
      "metadata": {
        "id": "L6cj_xbeH0Ur",
        "colab": {
          "base_uri": "https://localhost:8080/"
        },
        "outputId": "e21b6921-b42b-4bf3-860c-a929ded04d41"
      },
      "execution_count": 55,
      "outputs": [
        {
          "output_type": "stream",
          "name": "stdout",
          "text": [
            "+--------------------------------------------------------------------------------------------------------------------------------------------------------------------------------------------------------------------------------------------------------------------------------------------------------------------------------------------------------------------------------------------------------------------------------------------------------------------------------------------------------------------------------------------------------------------------------------------------------------------------------------------------------------------------------------------------------------------------------------------------------------------------------------------------------------------------------------------------------------------------------------------------------------------------------------------------------------------------------------------------------------------------------------------------------------------------------------------------------------------------------------------------------------------------------------------------------------------------------------------------------------------------------------------------------------------------------------------------------------------------------------------------------------------------------------------------------------------------------------------------------------------------------------------------------------------------------------------------------------------------------------------------------------------------------------------------------------------------------------------------------------------------------------------------------------------------------------------------------------------------------------------------------------------------------------------------------------------------------------------------------------------------------------------------------------------------------------------------------------------------------------------------------------------------------------------------------------------------------------------------------------------------------------------------------------------------------------------------------------------------------------------------------------------------------------------------------------------------------------------------------------------------------------------------------------------------------------------------------------------------------------------------------------------------------------------------------------------------------------------------------------------------------------------------------------------------------------------------------------------------------------------------------------------------------------------------------------------------------------------------------------------------------------------------------------------------------------------------------------------------------------------------------------------------------------------------------------------------------------------------------------------------------------------------------------------------------------------------------------------------------------------------------------------------------------------------------------------------------------------------------------------------------------------------------------------------------------------------------------------------------------------------------------------------------------------------------------------------------------------------------------------------------------------------------------------------------------------------------------------------------------------------------------------------------------------------------------------------------------------------------------------------------------------------------------------------------------------------------------------------------------------------------------------------------------------------------------------------------------------------------------------------------------------------------------------------------------------------------------------------------------------------------------------------------------------------------------------------------------------------------------------------------------------------------------------------------------------------------------------------------------------------------------------------------------------------------------------------------------------------------------------------------------------------------------------------------------------------------------------------------------------------------------------------------------------------------------------------------------------------------------------------------------------------------------------------------------------------------------------------------------------------------------------------------------------------------------------------------------------------------------------------------------------------------------------------------------------------------------------------------------------------------------------------------------------------------------------------------------------------------------------------------------------------------------------------------------------------------------------------------------------------------------------------------------------------------------------------------------------------------------------------------------------------------------------------------------------------------------------------------------------------------------------------------------------------------------------------------------------------------------------------------------------------------------------------------------------------------------------------------------------------------------------------------------------------------------------------------------------------------------------------------------------------------------------------------------------------------------------------------------------------------------------------------------------------------------------------------------------------------------------------------------------------------------------------------------------------------------------------------------------------------------------------------------------------------------------------------------------------------------------------------------------------------------------------------------------------------------------------------------------------------------------------------------------------------------------------------------------------------------------------------------------------------------------------------------------------------------------------------------------------------------------------------------------------------------------------------------------------------------------------------------------------------------------------------------------------------------------------------------------------------------------------------------------------------------------------------------------------------------------------------------------------------------------------------------------------------------------------------------------------------------------------------------------------------------------------------------------------------------------------------------------------------------------------------------------------------------------------------------------------------------------------------------------------------------------------------------------------------------------------------------------------------------------------------------------------------------------------------------------------------------------------------------------------------------------------------------------------------------------------------------------------------------------------------------------------------------------------------------------------------------------------------------------------------------------------------------------------------------------------------------------------------------------------------------------------------------------------------------------------------------------------------------------------------------------------------------------------------------------------------------------------------------------------------------------------------------------------------------------------------------------------------------------------------------------------------------------------------------------------------------------------------------------------------------------------------------------------------------------------------------------------------------------------------------------------------------------------------------------------------------------------------------------------------------------------------------------------------------------------------------------------------------------------------------------------------------------------------------------------------------------------------------------------------------------------------------------------------------------------------------------------------------------------------------------------------------------------------------------------------------------------------------------------------------------------------------------------------------------------------------------------------------------------------------------------------------------------------------------------------------------------------------------------------------------------------------------------------------------------------------------------------------------------------------------------------------------------------------------------------------------------------------------------------------------------------------------------------------------------------------------------------------------------------------------------------------------------------------------------------------------------------------------------------------------------------------------------------------------------------------------------------------------------------------------------------------------------------------------------------------------------------------------------------------------------------------------------------------------------------------------------------------------------------------------------------------------------------------------------------------------------------------------------------------------------------------------------------------------------------------------------------------------------------------------------------------------------------------------------------------------------------------------------------------------------------------------------------------------------------------------------------------------------------------------------------------------------------------------------------------------------------------------------------------------------------------------------------------------------------------------------------------------------------------------------------------------------------------------------------------------------------------------------------------------------------------------------------------------------------------------------------------------------------------------------------------------------------------------------------------------------------------------------------------------------------------------------------------------------------------------------------------------------------------------------------------------------------------------------------------------------------------------------------------------------------------------------------------------------------------------------------------------------------------------------------------------------------------------------------------------------------------------------------------------------------------------------------------------------------------------------------------------------------------------------------------------------------------------------------------------------------------------------------------------------------------------------------------------------------------------------------------------------------------------------------------------------------------------------------------------------------------------------------------------------------------------------------------------------------------------------------------------------------------------------------------------------------------------------------------------------------------------------------------------------------------------------------------------------------------------------------------------------------------------------------------------------------------------------------------------------------------------------------------------------------------------------------------------------------------------------------------------------------------------------------------------------------------------------------------------------------------------------------------------------------------------------------------------------------------------------------------------------------------------------------------------------------------------------------------------------------------------------------------------------------------------------------------------------------------------------------------------------------------------------------------------------------------------------------------------------------------------------------------------------------------------------------------------------------------------------------------------------------------------------------------------------------------------------------------------------------------------------------------------------------------------------------------------------------------------------------------------------------------------------------------------------------------------------------------------------------------------------------------------------------------------------------------------------------------------------------------------------------------------------------------------------------------------------------------------------------------------------------------------------------------------------------------------------------------------------------------------------------------------------------------------------------------------------------------------------------------------------------------------------------------------------------------------------------------------------------------------------------------------------------------------------------------------------------------------------------------------------------------------------------------------------------------------------------------------------------------------------------------------------------------------------------------------------------------------------------------------------------------------------------------------------------------------------------------------------------------------------------------------------------------------------------------------------------------------------------------------------------------------------------------------------------------------------------------------------------------------------------------------------------------------------------------------------------------------------------------------------------------------------------------------------------------------------------------------------------------------------------------------------------------------------------------------------------------------------------------------------------------------------------------------------------------------------------------------------------------------------------------------------------------------------------------------------------------------------------------------------------------------------------------------------------------------------------------------------------------------------------------------------------------------------------------------------------------------------------------------------------------------------------------------------------------------------------------------------------------------------------------------------------------------------------------------------------------------------------------------------------------------------------------------------------------------------------------------------------------------------------------------------------------------------------------------------------------------------------------------------------------------------------------------------------------------------------------------------------------------------------------------------------------------------------------------------------------------------------------------------------------------------------------------------------------------------------------------------------------------------------------------------------------------------------------------------------------------------------------------------------------------------------------------------------------------------------------------------------------------------------------------------------------------------------------------------------------------------------------------------------------------------------------------------------------------------------------------------------------------------------------------------------------------------------------------------------------------------------------------------------------------------------------------------------------------------------------------------------------------------------------------------------------------------------------------------------------------------------------------------------------------------------------------------------------------------------------------------------------------------------------------------------------------------------------------------------------------------------------------------------------------------------------------------------------------------------------------------------------------------------------------------------------------------------------------------------------------------------------------------------------------------------------------------------------------------------------------------------------------------------------------------------------------------------------------------------------------------------------------------------------------------------------------------------------------------------------------------------------------------------------------------------------------------------------------------------------------------------------------------------------------------------------------------------------------------------------------------------------------------------------------------------------------------------------------------------------------------------------------------------------------------------------------------------------------------------------------------------------------------------------------------------------------------------------------------------------------------------------------------------------------------------------------------------------------------------------------------------------------------------------------------------------------------------------------------------------------------------------------------------------------------------------------------------------------------------------------------------------------------------------------------------------------------------------------------------------------------------------------------------------------------------------------------------------------------------------------------------------------------------------------------------------------------------------------------------------------------------------------------------------------------------------------------------------------------------------------------------------------------------------------------------------------------------------------------------------------------------------------------------------------------------------------------------------------------------------------------------------------------------------------------------------------------------------------------------------------------------------------------------------------------------------------------------------------------------------------------------------------------------------------------------------------------------------------------------------------------------------------------------+\n",
            "|collect_list(Age)                                                                                                                                                                                                                                                                                                                                                                                                                                                                                                                                                                                                                                                                                                                                                                                                                                                                                                                                                                                                                                                                                                                                                                                                                                                                                                                                                                                                                                                                                                                                                                                                                                                                                                                                                                                                                                                                                                                                                                                                                                                                                                                                                                                                                                                                                                                                                                                                                                                                                                                                                                                                                                                                                                                                                                                                                                                                                                                                                                                                                                                                                                                                                                                                                                                                                                                                                                                                                                                                                                                                                                                                                                                                                                                                                                                                                                                                                                                                                                                                                                                                                                                                                                                                                                                                                                                                                                                                                                                                                                                                                                                                                                                                                                                                                                                                                                                                                                                                                                                                                                                                                                                                                                                                                                                                                                                                                                                                                                                                                                                                                                                                                                                                                                                                                                                                                                                                                                                                                                                                                                                                                                                                                                                                                                                                                                                                                                                                                                                                                                                                                                                                                                                                                                                                                                                                                                                                                                                                                                                                                                                                                                                                                                                                                                                                                                                                                                                                                                                                                                                                                                                                                                                                                                                                                                                                                                                                                                                                                                                                                                                                                                                                                                                                                                                                                                                                                                                                                                                                                                                                                                                                                                                                                                                                                                                                                                                                                                                                                                                                                                                                                                                                                                                                                                                                                                                                                                                                                                                                                                                                                                                                                                                                                                                                                                                                                                                                                                                                                                                                                                                                                                                                                                                                                                                                                                                                                                                                                                                                                                                                                                                                                                                                                                                                                                                                                                                                                                                                                                                                                                                                                                                                                                                                                                                                                                                                                                                                                                                                                                                                                                                                                                                                                                                                                                                                                                                                                                                                                                                                                                                                                                                                                                                                                                                                                                                                                                                                                                                                                                                                                                                                                                                                                                                                                                                                                                                                                                                                                                                                                                                                                                                                                                                                                                                                                                                                                                                                                                                                                                                                                                                                                                                                                                                                                                                                                                                                                                                                                                                                                                                                                                                                                                                                                                                                                                                                                                                                                                                                                                                                                                                                                                                                                                                                                                                                                                                                                                                                                                                                                                                                                                                                                                                                                                                                                                                                                                                                                                                                                                                                                                                                                                                                                                                                                                                                                                                                                                                                                                                                                                                                                                                                                                                                                                                                                                                                                                                                                                                                                                                                                                                                                                                                                                                                                                                                                                                                                                                                                                                                                                                                                                                                                                                                                                                                                                                                                                                                                                                                                                                                                                                                                                                                                                                                                                                                                                                                                                                                                                                                                                                                                                                                                                                                                                                                                                                                                                                                                                                                                                                                                                                                                                                                                                                                                                                                                                                                                                                                                                                                                                                                                                                                                                                                                                                                                                                                                                                                                                                                                                                                                                                                                                                                                                                                                                                                                                                                                                                                                                                                                                                                                                                                                                                                                                                                                                                                                                                                                                                                                                                                                                                                                                                                                                                                                                                                                                                                                                                                                                                                                                                                                                                                                                                                                                                                                                                                                                                                                                                                                                                                                                                                                                                                                                                                                                                                               |\n",
            "+--------------------------------------------------------------------------------------------------------------------------------------------------------------------------------------------------------------------------------------------------------------------------------------------------------------------------------------------------------------------------------------------------------------------------------------------------------------------------------------------------------------------------------------------------------------------------------------------------------------------------------------------------------------------------------------------------------------------------------------------------------------------------------------------------------------------------------------------------------------------------------------------------------------------------------------------------------------------------------------------------------------------------------------------------------------------------------------------------------------------------------------------------------------------------------------------------------------------------------------------------------------------------------------------------------------------------------------------------------------------------------------------------------------------------------------------------------------------------------------------------------------------------------------------------------------------------------------------------------------------------------------------------------------------------------------------------------------------------------------------------------------------------------------------------------------------------------------------------------------------------------------------------------------------------------------------------------------------------------------------------------------------------------------------------------------------------------------------------------------------------------------------------------------------------------------------------------------------------------------------------------------------------------------------------------------------------------------------------------------------------------------------------------------------------------------------------------------------------------------------------------------------------------------------------------------------------------------------------------------------------------------------------------------------------------------------------------------------------------------------------------------------------------------------------------------------------------------------------------------------------------------------------------------------------------------------------------------------------------------------------------------------------------------------------------------------------------------------------------------------------------------------------------------------------------------------------------------------------------------------------------------------------------------------------------------------------------------------------------------------------------------------------------------------------------------------------------------------------------------------------------------------------------------------------------------------------------------------------------------------------------------------------------------------------------------------------------------------------------------------------------------------------------------------------------------------------------------------------------------------------------------------------------------------------------------------------------------------------------------------------------------------------------------------------------------------------------------------------------------------------------------------------------------------------------------------------------------------------------------------------------------------------------------------------------------------------------------------------------------------------------------------------------------------------------------------------------------------------------------------------------------------------------------------------------------------------------------------------------------------------------------------------------------------------------------------------------------------------------------------------------------------------------------------------------------------------------------------------------------------------------------------------------------------------------------------------------------------------------------------------------------------------------------------------------------------------------------------------------------------------------------------------------------------------------------------------------------------------------------------------------------------------------------------------------------------------------------------------------------------------------------------------------------------------------------------------------------------------------------------------------------------------------------------------------------------------------------------------------------------------------------------------------------------------------------------------------------------------------------------------------------------------------------------------------------------------------------------------------------------------------------------------------------------------------------------------------------------------------------------------------------------------------------------------------------------------------------------------------------------------------------------------------------------------------------------------------------------------------------------------------------------------------------------------------------------------------------------------------------------------------------------------------------------------------------------------------------------------------------------------------------------------------------------------------------------------------------------------------------------------------------------------------------------------------------------------------------------------------------------------------------------------------------------------------------------------------------------------------------------------------------------------------------------------------------------------------------------------------------------------------------------------------------------------------------------------------------------------------------------------------------------------------------------------------------------------------------------------------------------------------------------------------------------------------------------------------------------------------------------------------------------------------------------------------------------------------------------------------------------------------------------------------------------------------------------------------------------------------------------------------------------------------------------------------------------------------------------------------------------------------------------------------------------------------------------------------------------------------------------------------------------------------------------------------------------------------------------------------------------------------------------------------------------------------------------------------------------------------------------------------------------------------------------------------------------------------------------------------------------------------------------------------------------------------------------------------------------------------------------------------------------------------------------------------------------------------------------------------------------------------------------------------------------------------------------------------------------------------------------------------------------------------------------------------------------------------------------------------------------------------------------------------------------------------------------------------------------------------------------------------------------------------------------------------------------------------------------------------------------------------------------------------------------------------------------------------------------------------------------------------------------------------------------------------------------------------------------------------------------------------------------------------------------------------------------------------------------------------------------------------------------------------------------------------------------------------------------------------------------------------------------------------------------------------------------------------------------------------------------------------------------------------------------------------------------------------------------------------------------------------------------------------------------------------------------------------------------------------------------------------------------------------------------------------------------------------------------------------------------------------------------------------------------------------------------------------------------------------------------------------------------------------------------------------------------------------------------------------------------------------------------------------------------------------------------------------------------------------------------------------------------------------------------------------------------------------------------------------------------------------------------------------------------------------------------------------------------------------------------------------------------------------------------------------------------------------------------------------------------------------------------------------------------------------------------------------------------------------------------------------------------------------------------------------------------------------------------------------------------------------------------------------------------------------------------------------------------------------------------------------------------------------------------------------------------------------------------------------------------------------------------------------------------------------------------------------------------------------------------------------------------------------------------------------------------------------------------------------------------------------------------------------------------------------------------------------------------------------------------------------------------------------------------------------------------------------------------------------------------------------------------------------------------------------------------------------------------------------------------------------------------------------------------------------------------------------------------------------------------------------------------------------------------------------------------------------------------------------------------------------------------------------------------------------------------------------------------------------------------------------------------------------------------------------------------------------------------------------------------------------------------------------------------------------------------------------------------------------------------------------------------------------------------------------------------------------------------------------------------------------------------------------------------------------------------------------------------------------------------------------------------------------------------------------------------------------------------------------------------------------------------------------------------------------------------------------------------------------------------------------------------------------------------------------------------------------------------------------------------------------------------------------------------------------------------------------------------------------------------------------------------------------------------------------------------------------------------------------------------------------------------------------------------------------------------------------------------------------------------------------------------------------------------------------------------------------------------------------------------------------------------------------------------------------------------------------------------------------------------------------------------------------------------------------------------------------------------------------------------------------------------------------------------------------------------------------------------------------------------------------------------------------------------------------------------------------------------------------------------------------------------------------------------------------------------------------------------------------------------------------------------------------------------------------------------------------------------------------------------------------------------------------------------------------------------------------------------------------------------------------------------------------------------------------------------------------------------------------------------------------------------------------------------------------------------------------------------------------------------------------------------------------------------------------------------------------------------------------------------------------------------------------------------------------------------------------------------------------------------------------------------------------------------------------------------------------------------------------------------------------------------------------------------------------------------------------------------------------------------------------------------------------------------------------------------------------------------------------------------------------------------------------------------------------------------------------------------------------------------------------------------------------------------------------------------------------------------------------------------------------------------------------------------------------------------------------------------------------------------------------------------------------------------------------------------------------------------------------------------------------------------------------------------------------------------------------------------------------------------------------------------------------------------------------------------------------------------------------------------------------------------------------------------------------------------------------------------------------------------------------------------------------------------------------------------------------------------------------------------------------------------------------------------------------------------------------------------------------------------------------------------------------------------------------------------------------------------------------------------------------------------------------------------------------------------------------------------------------------------------------------------------------------------------------------------------------------------------------------------------------------------------------------------------------------------------------------------------------------------------------------------------------------------------------------------------------------------------------------------------------------------------------------------------------------------------------------------------------------------------------------------------------------------------------------------------------------------------------------------------------------------------------------------------------------------------------------------------------------------------------------------------------------------------------------------------------------------------------------------------------------------------------------------------------------------------------------------------------------------------------------------------------------------------------------------------------------------------------------------------------------------------------------------------------------------------------------------------------------------------------------------------------------------------------------------------------------------------------------------------------------------------------------------------------------------------------------------------------------------------------------------------------------------------------------------------------------------------------------------------------------------------------------------------------------------------------------------------------------------------------------------------------------------------------------------------------------------------------------------------------------------------------------------------------------------------------------------------------------------------------------------------------------------------------------------------------------------------------------------------------------------------------------------------------------------------------------------------------------------------------------------------------------------------------------------------------------------------------------------------------------------------------------------------------------------------------------------------------------------------------------------------------------------------------------------------------------------------------------------------------------------------------------------------------------------------------------------------------------------------------------------------------------------------------------------------------------------------------------------------------------------------------------------------------------------------------------------------------------------------------------------------------------------------------------------------------------------------------------------------------------------------------------------------------------------------------------------------------------------------------------------------------------------------------------------------------------------------------------------------------------------------------------------------------------------------------------------------------------------------------------------------------------------------------------------------------------------------------------------------------------------------------------------------------------------------------------------------------------------------------------------------------------------------------------------------------------------------------------------------------------------------------------------------------------------------------------------------------------------------------------------------------------------------------------------------------------------------------------------------------------------------------------------------------------------------------------------------------------------------------------------------------------------------------------------------------------------------------------------------------------------------------------------------------------------------------------------------------------------------------------------------------------------------------------------------------------------------------------------------------------------------------------------------------------------------------------------------------------------------------------------------------------------------------------------------------------------------------------------------------------------------------------------------------------------------------------------------------------------------------------------------------------------------------------------------------+\n",
            "|[20-44, 20-44, 20-44, 20-44, 20-44, 20-44, 20-44, 20-44, 20-44, 20-44, 20-44, 20-44, 20-44, 20-44, 20-44, 20-44, 20-44, 20-44, 20-44, 20-44, 30-59, 30-59, 30-59, 30-59, 30-59, 30-59, 30-59, 30-59, 30-59, 30-59, 30-59, 30-59, 30-59, 40-44, 30-59, 30-59, 30-59, 30-59, 25-29, 20-44, 20-44, 20-44, 20-44, 20-44, 20-44, 20-44, 20-44, 20-44, 20-44, 20-44, 20-44, 20-44, 20-44, 20-59, 30-34, 20-69, 20-64, 20-64, 20-64, 20-64, 20-64, 40-49, 30-39, 20-59, 25-29, 30-39, 50-59, 40-49, 19-59, 25-29, 35-39, 20-59, 20-49, 30-34, 20-64, 20-64, 20-64, 15-74, 15-74, 15-74, 25-29, 15-19, 30-34, 15-74, 15-39, 15-39, 55-59, 35-39, 45-49, 30-34, 20-59, 20-59, 20-59, 20-59, 20-59, 20-59, 20-64, 20-64, 20-64, 20-64, 20-64, 20-64, 20-64, 20-64, 20-64, 20-64, 20-24, 15-74, 15-74, 20-64, 20-64, 20-64, 20-64, 20-64, 20-64, 20-64, 20-64, 20-64, 20-59, 20-64, 20-64, 20-64, 20-64, 20-64, 20-64, 20-64, 20-64, 20-64, 20-64, 20-64, 20-64, 20-64, 20-64, 20-64, 20-64, 20-64, 20-64, 20-64, 20-64, 20-64, 20-64, 20-64, 20-64, 20-64, 20-64, 20-64, 20-64, 20-64, 20-64, 20-64, 20-64, 20-64, 25-29, 40-44, 35-39, 20-24, 20-49, 20-64, 20-64, 20-64, 20-64, 20-64, 20-64, 20-64, 20-64, 20-64, 20-64, 20-64, 20-64, 20-64, 20-64, 20-64, 20-64, 30-34, 20-69, 25-29, 35-39, 30-50, 30-50, 50-54, 30-34, 20-24, 10-14, 20-59, 15-74, 15-74, 15-74, 15-74, 15-74, 15-74, 15-74, 15-74, 15-74, 20-59, 40-44, 70-74, 50-54, 20-64, 20-64, 20-64, 20-64, 20-64, 20-64, 20-64, 20-64, 20-64, 20-64, 20-64, 20-64, 20-64, 20-64, 20-64, 20-64, 20-64, 20-64, 20-64, 20-64, 20-64, 20-64, 15-74, 25-29, 20-24, 30-34, 30-34, 15-64, 15-64, 15-64, 15-64, 35-39, 20-69, 20-69, 20-59, 20-59, 20-59, 20-59, 20-59, 20-59, 25-29, 40-44, 20-24, 15-64, 15-64, 15-64, 15-64, 15-64, 15-64, 15-64, 15-64, 15-64, 15-64, 15-64, 15-64, 15-64, 15-64, 15-64, 15-64, 15-64, 15-64, 15-64, 15-74, 15-74, 15-74, 15-74, 15-74, 15-74, 15-74, 15-74, 15-74, 15-74, 15-74, 15-74, 15-74, 15-74, 15-74, 15-74, 30-50, 30-50, 50-59, 30-50, 30-50, 15-64, 15-64, 15-64, 15-64, 15-64, 15-64, 15-64, 15-64, 15-64, 15-64, 15-64, 15-64, 15-64, 15-64, 15-64, 15-64, 15-64, 15-64, 15-64, 60-64, 65-69, 25-29, 25-49, 25-49, 30-34, 15-19, 20-69, 20-24, 15-64, 15-64, 15-64, 15-64, 15-64, 25-49, 50-59, 30-39, 20-24, 15-74, 15-74, 15-74, 15-74, 15-74, 15-74, 15-74, 15-74, 15-74, 15-74, 15-74, 15-74, 15-74, 15-74, 15-74, 15-74, 15-74, 15-74, 20-69, 20-69, 20-64, 20-64, 20-64, 20-64, 20-64, 20-64, 20-64, 20-64, 20-64, 20-64, 20-64, 20-64, 20-64, 20-64, 20-64, 20-64, 30-39, 30-39, 65-69, 35-39, 20-59, 20-59, 20-59, 20-59, 20-59, 20-59, 20-59, 20-59, 20-59, 20-59, 20-64, 15-64, 15-64, 15-64, 15-64, 15-64, 15-64, 15-64, 15-64, 15-64, 15-64, 15-74, 30-34, 25-29, 35-39, 40-45, 40-49, 15-74, 15-74, 15-74, 15-74, 15-74, 15-74, 15-74, 15-74, 15-74, 15-74, 15-74, 15-74, 15-74, 15-74, 30-50, 20-64, 20-64, 20-64, 20-64, 20-64, 20-64, 20-64, 20-64, 20-64, 20-64, 20-64, 20-64, 20-64, 20-64, 20-64, 20-64, 20-64, 20-64, 20-64, 25-29, 25-29, 30-34, 20-64, 15-64, 15-64, 15-64, 15-64, 15-64, 15-64, 15-64, 15-64, 15-64, 15-64, 15-64, 15-64, 15-64, 15-64, 15-64, 15-64, 15-64, 15-64, 15-64, 15-64, 15-64, 15-64, 15-64, 15-64, 15-64, 20-59, 26-54, 26-54, 26-54, 26-54, 26-54, 26-54, 26-54, 26-54, 20-69, 19-59, 40-44, 40-44, 5-9, 30-39, 20-64, 20-64, 20-64, 20-64, 20-64, 20-64, 20-64, 20-64, 15-74, 15-74, 15-74, 15-74, 15-74, 15-74, 15-74, 15-74, 15-74, 15-74, 15-74, 15-74, 15-74, 15-74, 15-74, 15-74, 15-74, 15-74, 15-74, 15-74, 15-74, 15-74, 15-74, 15-74, 15-74, 20-69, 20-69, 22-55, 22-55, 35-39, 30-54, 30-54, 20-64, 20-64, 20-59, 35-39, 30-34, 0-5, 10-14, 40-44, 20-24, 25-29, 40-44, 25-29, 30-49, 30-49, 30-49, 40-44, 45-49, 20-69, 20-69, 20-69, 20-69, 15-74, 15-74, 15-74, 15-74, 15-74, 15-74, 15-74, 15-74, 15-74, 15-74, 15-74, 15-74, 15-74, 15-74, 15-74, 15-74, 15-74, 15-74, 15-74, 15-74, 15-74, 15-74, 15-74, 15-74, 15-74, 15-74, 15-74, 15-74, 15-74, 15-74, 15-74, 15-74, 15-74, 15-74, 15-64, 15-64, 15-64, 15-64, 15-64, 15-64, 15-64, 15-64, 15-64, 15-64, 20-59, 20-59, 20-59, 20-59, 20-59, 20-59, 20-59, 20-59, 20-59, 20-59, 20-59, 20-59, 20-59, 20-59, 20-59, 20-59, 20-59, 20-59, 20-59, 20-59, 20-59, 20-59, 20-59, 20-59, 20-59, 20-59, 20-59, 20-29, 20-69, 30-34, 30-34, 19-59, 20-40, 20-40, 40-42, 15-69, 15-69, 15-69, 15-69, 15-69, 15-69, 15-69, 15-69, 15-69, 15-69, 15-69, 15-69, 15-69, 15-69, 15-69, 15-69, 15-69, 15-69, 15-69, 15-69, 15-69, 15-69, 15-69, 15-69, 15-69, 15-69, 15-69, 15-69, 15-69, 15-69, 15-69, 15-69, 15-69, 15-69, 15-69, 15-69, 15-69, 15-69, 15-69, 15-69, 15-69, 15-69, 15-69, 15-69, 15-69, 15-69, 15-69, 15-69, 15-69, 15-69, 15-69, 15-69, 15-69, 15-69, 15-69, 15-69, 15-69, 15-69, 15-69, 15-69, 15-69, 15-69, 15-69, 15-69, 15-69, 15-69, 15-69, 15-69, 15-69, 15-69, 15-69, 15-69, 15-69, 15-69, 15-69, 15-69, 15-69, 15-69, 15-69, 15-69, 15-69, 15-69, 15-69, 15-69, 15-69, 15-69, 15-69, 15-69, 15-69, 15-69, 15-69, 15-69, 15-69, 15-69, 15-69, 15-69, 15-69, 15-69, 15-69, 15-69, 15-69, 15-69, 15-69, 15-69, 15-69, 15-69, 15-69, 15-69, 15-69, 15-69, 15-69, 15-69, 15-69, 15-69, 15-69, 15-69, 15-69, 15-69, 15-69, 15-69, 15-69, 15-69, 15-69, 15-69, 15-69, 15-69, 15-69, 15-69, 15-69, 15-69, 15-69, 15-69, 15-69, 15-69, 15-69, 15-69, 15-69, 15-69, 15-69, 15-69, 15-69, 15-69, 15-69, 15-69, 15-69, 15-69, 15-69, 15-69, 15-69, 15-69, 15-69, 15-69, 15-69, 15-69, 15-69, 15-69, 15-69, 15-69, 15-69, 15-69, 15-69, 15-69, 15-69, 15-69, 15-69, 15-69, 15-69, 15-69, 15-69, 15-69, 15-69, 15-69, 15-69, 15-69, 15-69, 15-69, 15-69, 15-69, 15-69, 15-69, 15-69, 15-69, 15-69, 15-69, 15-74, 15-74, 15-74, 15-74, 15-74, 15-74, 15-74, 15-74, 15-74, 15-74, 15-74, 15-74, 15-74, 15-74, 15-74, 15-74, 15-74, 15-74, 15-74, 15-74, 15-74, 15-74, 15-74, 15-74, 15-74, 15-74, 15-74, 15-74, 15-74, 15-74, 15-74, 15-74, 15-74, 15-74, 15-74, 15-74, 15-74, 15-74, 15-74, 15-74, 15-74, 15-74, 15-74, 15-74, 15-74, 15-74, 15-74, 15-74, 15-74, 15-74, 15-74, 15-74, 15-74, 15-74, 15-74, 15-74, 15-74, 15-74, 15-64, 15-64, 15-64, 15-64, 15-64, 15-64, 15-64, 15-64, 15-64, 15-64, 15-64, 15-64, 15-64, 15-64, 15-64, 15-64, 15-64, 15-64, 15-64, 15-64, 15-64, 15-64, 15-64, 15-64, 15-64, 15-64, 15-64, 15-64, 15-64, 15-64, 15-64, 15-64, 15-64, 15-64, 15-64, 25-29, 35-39, 20-50, 20-50, 20-50, 20-50, 20-50, 20-50, 20-59, 20-59, 20-59, 20-59, 20-59, 20-59, 20-59, 20-59, 20-59, 20-59, 20-59, 20-59, 35-39, 30-34, 25-29, 30-34, 30-49, 30-49, 30-49, 30-49, 20-69, 20-69, 20-69, 20-69, 25-29, 20-44, 31-59, 45-50, 35-40, 50-55, 20-64, 20-69, 20-59, 20-59, 20-59, 20-59, 20-59, 20-59, 20-59, 20-59, 20-59, 20-59, 20-59, 20-59, 20-59, 20-59, 20-59, 20-59, 20-59, 20-59, 20-59, 20-59, 35-39, 30-34, 35-39, 30-34, 40-44, 40-44, 15-64, 15-64, 15-64, 15-64, 15-64, 15-64, 15-64, 15-64, 15-64, 15-64, 15-64, 15-64, 15-64, 15-64, 15-64, 15-64, 15-64, 15-64, 15-64, 15-64, 15-64, 35-39, 30-34, 30-34, 34-46, 34-46, 25-29, 45-49, 30-34, 40-44, 25-29, 35-39, 35-39, 20-59, 20-69, 20-69, 20-69, 20-69, 20-69, 20-69, 20-69, 20-69, 20-69, 20-69, 20-69, 40-44, 20-69, 25-29, 20-24, 45-49, 20-62, 20-62, 20-62, 20-62, 20-62, 20-62, 20-62, 20-62, 20-62, 20-62, 20-62, 20-62, 20-62, 20-62, 20-62, 15-64, 15-64, 15-64, 15-64, 15-64, 15-64, 15-64, 15-64, 15-64, 15-64, 15-64, 15-64, 15-64, 50-54, 30-34, 30-34, 25-34, 25-34, 25-34, 25-34, 25-34, 25-34, 35-44, 35-44, 35-44, 35-44, 35-44, 35-44, 45-54, 55-64, 40-44, 20-29, 40-44, 15-64, 15-64, 15-64, 15-64, 15-64, 15-64, 15-64, 15-64, 15-64, 15-64, 15-64, 20-69, 20-29, 30-54, 19-59, 40-44, 40-44, 20-24, 28-43, 28-43, 28-43, 28-43, 28-43, 28-43, 30-34, 20-59, 20-69, 20-69, 20-69, 20-69, 20-69, 20-69, 20-69, 20-69, 20-69, 20-69, 20-69, 20-69, 20-69, 20-69, 20-69, 20-69, 20-69, 20-69, 20-69, 20-69, 25-29, 60-64, 15-64, 15-64, 15-64, 15-64, 15-64, 15-64, 15-64, 15-64, 15-64, 15-64, 15-64, 15-64, 15-64, 15-64, 15-64, 15-64, 15-64, 5-9, 20-39, 20-39, 20-39, 25-29, 30-34, 45-49, 45-49, 25-29, 25-29, 30-34, 45-49, 40-44, 40-44, 30-34, 20-69, 20-69, 30-39, 30-39, 20-69, 20-69, 20-69, 20-69, 20-69, 20-69, 20-69, 20-69, 20-69, 20-69, 20-69, 20-69, 20-69, 20-69, 20-69, 20-69, 20-69, 20-69, 20-69, 20-69, 20-69, 20-69, 20-69, 20-69, 20-24, 30-34, 35-39, 25-29, 40-44, 20-64, 20-64, 20-64, 20-64, 20-64, 20-64, 20-64, 20-64, 20-64, 20-64, 20-64, 20-64, 20-64, 20-64, 20-64, 20-64, 20-64, 20-64, 20-64, 20-64, 20-64, 20-64, 20-64, 20-64, 20-64, 20-64, 20-64, 20-64, 20-64, 20-64, 20-64, 20-64, 20-64, 20-64, 20-64, 20-64, 20-64, 20-64, 20-64, 20-64, 20-69, 20-69, 20-69, 20-69, 20-69, 20-69, 20-69, 20-69, 30-34, 20-49, 36-50, 35-39, 29-41, 29-41, 29-41, 29-41, 29-41, 29-41, 29-41, 40-44, 20-24, 40-44, 30-34, 25-39, 25-29, 30-34, 25-29, 19-24, 25-34, 25-34, 25-34, 25-34, 35-44, 45-54, 45-54, 55-64, 55-64, 65-69, 20-60, 20-60, 20-60, 20-60, 20-60, 20-60, 20-60, 20-60, 20-60, 20-60, 20-60, 20-60, 20-60, 20-60, 20-60, 15-74, 15-74, 15-74, 15-74, 15-74, 15-74, 15-74, 15-74, 15-74, 15-74, 15-74, 15-74, 15-74, 15-74, 15-74, 15-74, 15-74, 15-74, 15-74, 15-74, 15-74, 15-74, 15-74, 15-74, 15-74, 15-74, 15-74, 15-74, 15-74, 15-74, 15-74, 15-74, 15-74, 15-74, 15-74, 15-74, 15-74, 15-74, 15-74, 15-74, 15-74, 15-74, 15-74, 15-74, 15-74, 15-74, 15-74, 15-74, 15-74, 15-74, 15-74, 15-74, 15-74, 15-74, 15-74, 15-74, 15-74, 15-74, 20-69, 20-69, 30-34, 35-39, 40-44, 35-39, 20-69, 20-69, 20-69, 20-69, 20-69, 20-69, 20-69, 20-69, 20-69, 20-69, 20-69, 20-69, 20-69, 20-69, 20-69, 20-69, 20-69, 20-69, 20-69, 20-69, 20-69, 20-69, 20-69, 20-69, 40-44, 30-34, 20-49, 30-39, 40-49, 20-69, 20-69, 20-69, 20-69, 20-69, 20-69, 20-69, 20-69, 20-69, 20-69, 20-69, 20-69, 20-69, 20-69, 20-69, 20-69, 20-69, 20-69, 20-69, 20-69, 20-69, 20-69, 20-69, 20-69, 20-69, 20-69, 20-69, 20-69, 20-69, 20-69, 20-69, 20-69, 25-29, 45-49, 19-59, 19-59, 19-59, 19-59, 30-34, 20-69, 20-69, 20-69, 20-69, 20-69, 20-69, 20-69, 20-69, 20-69, 20-69, 20-69, 20-69, 20-69, 20-69, 20-69, 20-69, 20-69, 20-69, 20-69, 20-69, 20-69, 20-69, 20-69, 20-69, 20-69, 20-69, 19-59, 19-59, 19-59, 19-59, 23-46, 23-46, 23-46, 23-46, 23-46, 25-39, 35-39, 35-39, 30-34, 30-34, 20-59, 20-69, 20-69, 20-69, 20-69, 20-69, 20-69, 20-69, 20-64, 20-64, 20-64, 20-64, 20-64, 20-64, 20-64, 20-64, 20-64, 20-64, 20-64, 20-64, 20-64, 20-64, 20-64, 35-39, 35-39, 35-39, 30-34, 25-53, 25-53, 25-53, 25-53, 25-53, 30-34, 15-64, 15-64, 15-64, 15-64, 15-64, 15-64, 15-64, 15-64, 15-64, 15-64, 15-64, 15-64, 15-64, 15-64, 15-64, 15-64, 15-64, 15-64, 15-64, 15-64, 15-64, 15-64, 15-64, 15-64, 15-64, 15-64, 15-64, 15-64, 15-64, 15-64, 15-64, 15-64, 15-64, 15-64, 15-64, 15-64, 15-64, 15-64, 15-64, 15-64, 20-69, 20-69, 20-69, 20-69, 20-69, 20-69, 20-69, 20-69, 20-69, 20-69, 20-69, 20-69, 20-69, 20-69, 20-69, 20-69, 20-69, 20-69, 40-44, 30-39, 30-34, 45-49, 20-49, 20-69, 20-69, 20-69, 20-69, 20-69, 20-69, 20-69, 20-69, 20-69, 20-69, 20-69, 20-69, 20-69, 20-69, 20-69, 20-69, 20-69, 20-69, 20-69, 20-69, 20-69, 20-39, 40-44, 20-69, 20-69, 20-69, 30-39, 20-59, 20-59, 20-59, 20-59, 20-59, 20-59, 20-59, 20-59, 20-59, 20-59, 20-59, 20-59, 20-59, 20-59, 20-59, 20-59, 20-59, 20-59, 20-59, 20-59, 20-59, 20-59, 20-59, 20-59, 20-59, 20-59, 20-59, 20-59, 20-59, 20-59, 20-59, 20-59, 20-69, 20-69, 20-69, 20-69, 20-69, 20-69, 20-69, 20-69, 20-69, 20-69, 20-69, 20-69, 20-69, 20-69, 20-69, 20-69, 20-69, 20-69, 20-69, 20-69, 20-69, 20-69, 20-69, 20-69, 20-69, 20-69, 20-69, 20-69, 20-69, 20-69, 20-69, 20-69, 20-69, 20-69, 20-69, 20-69, 20-69, 20-69, 20-69, 20-69, 20-69, 20-69, 20-69, 20-69, 20-69, 20-69, 20-69, 20-69, 20-69, 20-69, 20-69, 20-69, 20-69, 20-69, 20-69, 20-69, 20-69, 20-69, 20-69, 20-69, 20-69, 51-65, 51-65, 20-69, 20-69, 15-84, 15-84, 15-84, 15-84, 15-84, 15-84, 15-84, 15-84, 15-84, 15-84, 15-84, 15-84, 15-84, 15-84, 15-84, 15-84, 15-84, 15-84, 15-84, 15-84, 15-84, 15-84, 15-84, 15-84, 15-84, 15-84, 15-84, 15-84, 15-84, 15-84, 15-84, 15-84, 15-84, 15-84, 15-84, 15-84, 15-84, 15-84, 15-84, 15-84, 15-84, 15-84, 15-84, 15-84, 15-84, 15-84, 15-84, 15-84, 15-84, 15-84, 15-84, 15-84, 15-84, 15-84, 15-84, 15-84, 15-84, 15-84, 15-84, 15-84, 15-84, 15-84, 15-84, 15-84, 15-84, 15-84, 15-84, 15-84, 15-84, 15-84, 15-84, 15-84, 15-84, 15-84, 15-84, 15-84, 15-84, 15-84, 15-84, 15-84, 15-84, 15-84, 15-84, 15-84, 15-84, 15-84, 15-84, 15-84, 15-84, 15-84, 15-84, 15-84, 15-84, 15-84, 15-84, 15-84, 15-84, 15-84, 15-84, 15-84, 15-84, 15-84, 15-84, 15-84, 15-84, 15-84, 15-84, 15-84, 15-84, 15-84, 15-84, 15-84, 15-84, 15-84, 15-84, 15-84, 15-84, 15-84, 15-84, 15-84, 15-84, 15-84, 15-84, 15-84, 15-84, 15-84, 15-84, 15-84, 15-84, 15-84, 15-84, 15-84, 15-84, 15-84, 15-84, 15-84, 15-84, 15-84, 15-84, 15-84, 15-84, 15-84, 15-84, 15-84, 15-84, 15-84, 15-84, 15-84, 15-84, 15-84, 15-84, 15-84, 15-84, 15-84, 15-84, 15-84, 15-84, 15-84, 15-84, 15-84, 15-84, 15-84, 15-84, 15-84, 15-84, 15-84, 15-84, 15-84, 15-84, 15-84, 15-84, 15-84, 15-84, 15-84, 15-84, 15-84, 15-84, 15-84, 15-84, 15-84, 15-84, 15-84, 15-84, 15-84, 15-84, 15-84, 15-84, 30-34, 30-34, 35-39, 25-29, 30-34, 40-44, 20-69, 30-39, 50-59, 30-39, 40-44, 35-39, 45-49, 40-44, 20-69, 20-69, 20-69, 20-69, 20-69, 20-69, 20-69, 20-69, 20-69, 20-69, 20-69, 20-69, 20-69, 20-69, 20-69, 19-59, 19-59, 30-54, 30-54, 35-39, 30-34, 30-34, 15-64, 15-64, 15-64, 15-64, 15-64, 15-64, 15-64, 15-64, 15-64, 15-64, 15-64, 15-64, 15-64, 15-64, 15-64, 15-64, 15-64, 15-64, 15-64, 15-64, 15-64, 15-64, 15-64, 15-64, 15-64, 15-64, 15-64, 15-64, 15-64, 15-64, 15-64, 15-64, 15-64, 15-64, 15-64, 15-64, 15-64, 15-64, 15-64, 15-64, 15-64, 15-64, 20-69, 20-69, 20-69, 20-69, 20-69, 20-69, 20-69, 20-69, 20-69, 20-69, 20-69, 20-69, 20-69, 20-69, 20-69, 20-69, 20-69, 20-69, 20-69, 20-69, 20-69, 20-69, 20-69, 20-69, 20-69, 20-69, 20-69, 20-69, 20-69, 20-69, 20-69, 20-69, 20-69, 20-69, 20-69, 20-69, 20-69, 20-69, 20-69, 20-69, 20-69, 20-69, 20-69, 20-69, 20-69, 20-69, 20-69, 20-69, 20-69, 20-69, 20-69, 20-69, 20-69, 20-69, 20-69, 20-69, 20-69, 20-69, 20-69, 20-69, 20-69, 20-69, 20-69, 20-69, 20-69, 20-69, 20-69, 20-69, 20-69, 20-69, 20-69, 20-69, 20-69, 20-69, 20-69, 20-69, 20-69, 20-69, 20-69, 20-69, 20-69, 20-69, 20-69, 20-69, 20-69, 20-69, 20-69, 20-69, 20-69, 20-69, 20-69, 20-69, 20-69, 20-69, 20-69, 20-69, 20-69, 20-69, 20-69, 20-69, 20-69, 20-69, 20-69, 20-69, 20-69, 20-69, 20-69, 20-69, 20-69, 20-69, 20-69, 20-69, 20-69, 20-69, 20-69, 20-69, 20-69, 20-69, 20-69, 20-69, 20-69, 20-69, 20-69, 20-69, 20-69, 20-69, 20-69, 20-69, 20-69, 20-69, 20-69, 20-69, 20-69, 20-69, 20-69, 20-69, 20-69, 20-69, 20-69, 20-69, 20-69, 20-69, 20-69, 20-69, 20-69, 20-69, 20-69, 20-69, 20-69, 20-69, 20-69, 20-69, 20-69, 20-69, 20-69, 20-69, 20-69, 20-69, 20-69, 20-69, 20-69, 20-69, 20-69, 20-69, 20-69, 20-69, 20-69, 20-69, 20-69, 20-69, 20-69, 20-69, 20-69, 20-69, 20-69, 20-69, 20-69, 20-69, 20-69, 20-69, 20-69, 20-69, 20-69, 20-69, 20-69, 20-69, 20-69, 20-69, 20-69, 20-69, 20-69, 20-69, 20-69, 20-69, 20-69, 20-69, 20-69, 20-69, 20-69, 20-69, 20-69, 20-69, 20-69, 20-69, 20-69, 20-69, 20-69, 20-69, 20-69, 20-69, 20-69, 20-69, 20-69, 20-69, 20-69, 20-69, 20-69, 20-69, 20-69, 20-69, 20-69, 20-69, 20-69, 20-69, 20-69, 30-34, 40-44, 30-34, 35-39, 25-29, 35-39, 30-34, 51-65, 36-50, 20-35, 20-35, 30-39, 30-34, 30-34, 20-24, 20-54, 20-54, 20-54, 20-54, 20-54, 20-54, 30-54, 30-54, 30-54, 20-49, 1-69, 1-69, 1-69, 1-69, 1-69, 1-69, 1-69, 1-69, 1-69, 1-69, 1-69, 1-69, 1-69, 1-69, 1-69, 1-69, 1-69, 1-69, 1-69, 1-69, 1-69, 1-69, 1-69, 1-69, 1-69, 1-69, 1-69, 1-69, 1-69, 1-69, 1-69, 1-69, 1-69, 1-69, 1-69, 1-69, 1-69, 35-39, 30-34, 40-44, 20-24, 35-39, 35-39, 25-29, 50-54, 15-19, 20-59, 20-59, 20-59, 20-59, 20-59, 20-59, 20-59, 30-35, 20-65, 20-65, 20-65, 20-65, 20-65, 20-65, 20-65, 20-65, 20-65, 20-65, 20-65, 20-65, 20-65, 20-65, 20-65, 20-65, 20-65, 20-65, 20-65, 46-50, 20-25, 23-50, 23-50, 30-54, 20-44, 20-44, 20-44, 20-44, 20-99, 20-99, 20-46, 20-46, 20-46, 20-46, 20-46, 20-46, 20-46, 20-46, 20-46, 20-46, 20-46, 20-46, 20-46, 25-39, 45-49, 25-29, 30-39, 35-39, 0-9, 0-9, 20-49, 20-49, 20-49, 20-49, 20-49, 30-35, 24-29, 23-50, 0-59, 0-59, 0-59, 0-59, 0-59, 0-59, 0-59, 0-59, 0-59, 0-59, 0-59, 0-59, 0-59, 0-59, 0-59, 0-59, 0-59, 0-59, 0-59, 0-59, 0-59, 0-59, 0-59, 0-59, 0-59, 0-59, 0-59, 0-59, 0-59, 0-59, 0-59, 0-59, 0-59, 0-59, 20-59, 20-59, 20-59, 20-59, 23-50, 23-50, 23-50, 23-50, 19-59, 19-59, 19-59, 19-59, 19-59, 19-59, 19-59, 19-59, 19-59, 20-24, 25-29, 30-54, 30-54, 30-54, 25-44, 25-44, 25-44, 25-44, 25-44, 20-24, 30-34, 40-44, 25-30, 30-39, 30-34, 45-49, 30-59, 30-59, 30-59, 30-34, 20-59, 20-59, 20-59, 30-34, 20-49, 20-49, 20-49, 15-19, 35-39, 40-44, 50-54, 20-54, 20-54, 20-54, 20-54, 20-54, 20-54, 20-54, 20-54, 20-54, 20-54, 20-59, 20-59, 20-59, 20-59, 20-59, 20-59, 20-59, 20-59, 20-59, 20-59, 20-59, 20-59, 20-59, 20-59, 20-59, 20-59, 20-59, 20-59, 20-59, 20-59, 20-59, 20-59, 20-59, 20-59, 20-59, 20-59, 20-59, 20-59, 20-59, 20-59, 20-59, 20-59, 20-59, 20-59, 20-59, 20-59, 20-59, 20-99, 20-99, 20-99, 20-99, 20-99, 20-99, 20-99, 20-99, 20-99, 20-59, 20-59, 20-59, 15-20, 40-45, 20-24, 40-44, 30-34, 40-44, 40-44, 20-24, 15-20, 35-39, 40-44, 25-29, 35-39, 55-59, 35-39, 23-50, 23-50, 30-34, 30-34, 30-34, 25-29, 40-49, 19-59, 23-50, 23-50, 23-50, 30-34, 20-99, 20-99, 20-99, 20-99, 20-99, 20-99, 20-99, 20-99, 20-99, 20-99, 20-99, 20-99, 20-99, 20-99, 20-99, 20-99, 20-99, 20-99, 20-99, 20-99, 20-99, 20-99, 20-99, 20-99, 20-99, 20-99, 20-99, 20-99, 20-99, 20-99, 20-99, 20-99, 20-99, 20-99, 20-99, 20-99, 20-99, 20-99, 20-99, 20-99, 20-99, 20-99, 20-99, 20-99, 20-99, 20-99, 20-59, 20-59, 20-59, 20-59, 20-59, 20-59, 20-59, 20-65, 20-65, 20-65, 20-65, 20-65, 20-65, 20-65, 20-65, 20-65, 26-30, 40-44, 20-24, 26-30, 25-29, 50-54, 20-25, 20-25, 22-59, 22-59, 22-59, 22-59, 22-59, 22-59, 20-59, 20-59, 20-59, 20-59, 20-59, 20-59, 20-59, 20-59, 20-59, 20-59, 20-59, 20-59, 20-59, 20-59, 20-59, 20-59, 20-59, 20-59, 20-59, 20-69, 20-69, 20-69, 20-69, 20-69, 20-69, 20-69, 20-69, 25-29, 30-34, 25-39, 20-29, 30-39, 25-29, 20-24, 30-34, 23-50, 23-50, 23-50, 23-50, 23-50, 23-50, 20-29, 20-44, 20-44, 20-44, 20-44, 20-44, 20-44, 20-44, 20-44, 20-44, 20-44, 20-44, 20-44, 20-44, 20-49, 20-49, 20-49, 40-49, 20-64, 20-64, 20-64, 20-64, 20-64, 20-64, 20-64, 20-64, 20-64, 20-64, 20-64, 30-34, 20-69, 20-69, 20-69, 20-69, 20-69, 20-69, 20-69, 20-69, 20-69, 20-69, 20-69, 20-69, 20-69, 20-69, 20-69, 20-69, 20-69, 20-69, 20-69, 20-69, 20-69, 20-69, 20-69, 20-69, 20-69, 20-69, 20-69, 19-59, 19-59, 23-50, 23-50, 23-50, 35-39, 20-24, 25-39, 30-39, 15-59, 15-59, 15-59, 15-59, 15-59, 15-59, 15-59, 20-59, 20-59, 35-40, 20-69, 20-69, 20-69, 20-69, 20-69, 20-69, 20-69, 20-69, 20-69, 20-69, 20-69, 20-69, 20-69, 20-69, 20-69, 20-69, 20-69, 20-69, 20-69, 20-69, 20-69, 20-69, 20-69, 20-69, 20-69, 20-69, 0-49, 0-49, 0-69, 0-49, 0-49, 0-49, 0-49, 0-49, 25-29, 0-49, 0-29, 22-43, 22-43, 22-43, 22-43, 20-24, 20-25, 30-34, 0-49, 0-49, 0-49, 0-49, 0-49, 0-49, 0-49, 0-49, 0-49, 0-49, 0-49, 0-69, 0-69, 0-69, 0-69, 0-69, 20-64, 20-64, 20-64, 20-64, 20-64, 20-64, 20-64, 20-64, 20-64, 20-64, 20-64, 20-64, 20-64, 25-29, 25-29, 25-29, 31-44, 23-50, 23-50, 23-50, 23-50, 23-50, 23-50, 23-50, 23-50, 23-50, 23-50, 23-50, 0-14, 19-59, 19-59, 55-59, 30-34, 25-29, 20-44, 20-44, 20-44, 20-44, 20-44, 20-44, 20-44, 20-44, 25-29, 25-29, 55-59, 35-39, 0-69, 0-69, 0-69, 0-69, 0-69, 0-69, 0-69, 0-69, 0-69, 0-69, 0-69, 0-69, 0-69, 0-69, 0-69, 0-69, 0-69, 0-69, 0-69, 0-69, 0-69, 0-69, 0-69, 0-69, 0-69, 0-69, 0-69, 0-69, 0-69, 0-69, 0-69, 0-69, 0-69, 0-69, 0-69, 0-69, 0-69, 0-69, 0-69, 0-69, 0-69, 0-69, 0-69, 35-39, 25-29, 20-24, 50-54, 30-60, 19-59, 19-59, 0-69, 0-69, 0-69, 0-69, 0-69, 30-34, 50-59, 20-24, 40-44, 19-59, 19-59, 45-49, 30-34, 29-43, 29-43, 29-43, 20-24, 35-39, 50-54, 30-34, 19-59, 19-59, 25-29, 25-52, 29-43, 29-43, 29-43, 25-29, 20-69, 20-69, 20-69, 20-69, 20-69, 20-69, 20-69, 20-69, 20-69, 20-69, 20-69, 20-69, 20-69, 20-69, 20-69, 20-69, 20-69, 20-69, 20-69, 20-69, 20-69, 20-69, 20-69, 20-69, 20-69, 20-69, 20-69, 20-69, 20-69, 20-69, 20-69, 45-49, 25-29, 60-64, 19-59, 19-59, 25-29, 30-34, 30-34, 30-34, 30-34, 25-29, 25-52, 25-52, 20-24, 35-39, 35-39, 20-59, 20-59, 20-59, 20-59, 20-59, 20-59, 20-59, 25-52, 25-52, 15-64, 15-64, 15-64, 15-64, 20-24, 40-44, 25-52, 25-52, 25-52, 30-40, 25-29, 25-29, 50-54, 50-54, 30-34, 20-59, 20-59, 20-59, 20-59, 20-59, 20-59, 20-59, 20-59, 20-59, 20-59, 20-59, 20-59, 20-59, 20-59, 20-59, 20-59, 20-59, 20-59, 20-59, 20-59, 20-59, 20-59, 20-59, 20-59, 20-59, 40-44, 36-42, 36-42, 36-42, 36-42, 30-34, 18-61, 18-61, 18-61, 18-61, 18-61, 18-61, 18-61, 18-61, 18-61, 18-61, 18-61, 18-61, 18-61, 18-61, 18-61, 18-61, 18-61, 18-61, 18-61, 18-61, 18-61, 18-61, 18-61, 18-61, 18-61, 18-61, 18-61, 18-61, 18-61, 18-61, 18-61, 18-61, 18-61, 18-61, 18-61, 18-61, 18-61, 18-61, 18-61, 18-61, 18-61, 18-61, 18-61, 18-61, 25-29, 25-29, 20-24, 25-52, 35-39, 40-44, 25-29, 30-34, 65-69, 25-29, 30-34, 25-29, 35-39, 21-54, 21-54, 21-54, 21-54, 21-54, 21-54, 21-54, 21-54, 21-54, 20-59, 20-59, 20-59, 20-59, 20-59, 20-59, 40-49, 0-39, 0-39, 0-39, 0-39, 0-39, 0-39, 0-39, 0-39, 0-39, 0-39, 0-39, 0-39, 0-39, 0-39, 0-39, 0-39, 0-39, 0-39, 0-39, 0-39, 0-39, 0-39, 0-39, 0-39, 0-39, 0-39, 0-39, 0-39, 0-39, 0-39, 0-39, 41-45]|\n",
            "+--------------------------------------------------------------------------------------------------------------------------------------------------------------------------------------------------------------------------------------------------------------------------------------------------------------------------------------------------------------------------------------------------------------------------------------------------------------------------------------------------------------------------------------------------------------------------------------------------------------------------------------------------------------------------------------------------------------------------------------------------------------------------------------------------------------------------------------------------------------------------------------------------------------------------------------------------------------------------------------------------------------------------------------------------------------------------------------------------------------------------------------------------------------------------------------------------------------------------------------------------------------------------------------------------------------------------------------------------------------------------------------------------------------------------------------------------------------------------------------------------------------------------------------------------------------------------------------------------------------------------------------------------------------------------------------------------------------------------------------------------------------------------------------------------------------------------------------------------------------------------------------------------------------------------------------------------------------------------------------------------------------------------------------------------------------------------------------------------------------------------------------------------------------------------------------------------------------------------------------------------------------------------------------------------------------------------------------------------------------------------------------------------------------------------------------------------------------------------------------------------------------------------------------------------------------------------------------------------------------------------------------------------------------------------------------------------------------------------------------------------------------------------------------------------------------------------------------------------------------------------------------------------------------------------------------------------------------------------------------------------------------------------------------------------------------------------------------------------------------------------------------------------------------------------------------------------------------------------------------------------------------------------------------------------------------------------------------------------------------------------------------------------------------------------------------------------------------------------------------------------------------------------------------------------------------------------------------------------------------------------------------------------------------------------------------------------------------------------------------------------------------------------------------------------------------------------------------------------------------------------------------------------------------------------------------------------------------------------------------------------------------------------------------------------------------------------------------------------------------------------------------------------------------------------------------------------------------------------------------------------------------------------------------------------------------------------------------------------------------------------------------------------------------------------------------------------------------------------------------------------------------------------------------------------------------------------------------------------------------------------------------------------------------------------------------------------------------------------------------------------------------------------------------------------------------------------------------------------------------------------------------------------------------------------------------------------------------------------------------------------------------------------------------------------------------------------------------------------------------------------------------------------------------------------------------------------------------------------------------------------------------------------------------------------------------------------------------------------------------------------------------------------------------------------------------------------------------------------------------------------------------------------------------------------------------------------------------------------------------------------------------------------------------------------------------------------------------------------------------------------------------------------------------------------------------------------------------------------------------------------------------------------------------------------------------------------------------------------------------------------------------------------------------------------------------------------------------------------------------------------------------------------------------------------------------------------------------------------------------------------------------------------------------------------------------------------------------------------------------------------------------------------------------------------------------------------------------------------------------------------------------------------------------------------------------------------------------------------------------------------------------------------------------------------------------------------------------------------------------------------------------------------------------------------------------------------------------------------------------------------------------------------------------------------------------------------------------------------------------------------------------------------------------------------------------------------------------------------------------------------------------------------------------------------------------------------------------------------------------------------------------------------------------------------------------------------------------------------------------------------------------------------------------------------------------------------------------------------------------------------------------------------------------------------------------------------------------------------------------------------------------------------------------------------------------------------------------------------------------------------------------------------------------------------------------------------------------------------------------------------------------------------------------------------------------------------------------------------------------------------------------------------------------------------------------------------------------------------------------------------------------------------------------------------------------------------------------------------------------------------------------------------------------------------------------------------------------------------------------------------------------------------------------------------------------------------------------------------------------------------------------------------------------------------------------------------------------------------------------------------------------------------------------------------------------------------------------------------------------------------------------------------------------------------------------------------------------------------------------------------------------------------------------------------------------------------------------------------------------------------------------------------------------------------------------------------------------------------------------------------------------------------------------------------------------------------------------------------------------------------------------------------------------------------------------------------------------------------------------------------------------------------------------------------------------------------------------------------------------------------------------------------------------------------------------------------------------------------------------------------------------------------------------------------------------------------------------------------------------------------------------------------------------------------------------------------------------------------------------------------------------------------------------------------------------------------------------------------------------------------------------------------------------------------------------------------------------------------------------------------------------------------------------------------------------------------------------------------------------------------------------------------------------------------------------------------------------------------------------------------------------------------------------------------------------------------------------------------------------------------------------------------------------------------------------------------------------------------------------------------------------------------------------------------------------------------------------------------------------------------------------------------------------------------------------------------------------------------------------------------------------------------------------------------------------------------------------------------------------------------------------------------------------------------------------------------------------------------------------------------------------------------------------------------------------------------------------------------------------------------------------------------------------------------------------------------------------------------------------------------------------------------------------------------------------------------------------------------------------------------------------------------------------------------------------------------------------------------------------------------------------------------------------------------------------------------------------------------------------------------------------------------------------------------------------------------------------------------------------------------------------------------------------------------------------------------------------------------------------------------------------------------------------------------------------------------------------------------------------------------------------------------------------------------------------------------------------------------------------------------------------------------------------------------------------------------------------------------------------------------------------------------------------------------------------------------------------------------------------------------------------------------------------------------------------------------------------------------------------------------------------------------------------------------------------------------------------------------------------------------------------------------------------------------------------------------------------------------------------------------------------------------------------------------------------------------------------------------------------------------------------------------------------------------------------------------------------------------------------------------------------------------------------------------------------------------------------------------------------------------------------------------------------------------------------------------------------------------------------------------------------------------------------------------------------------------------------------------------------------------------------------------------------------------------------------------------------------------------------------------------------------------------------------------------------------------------------------------------------------------------------------------------------------------------------------------------------------------------------------------------------------------------------------------------------------------------------------------------------------------------------------------------------------------------------------------------------------------------------------------------------------------------------------------------------------------------------------------------------------------------------------------------------------------------------------------------------------------------------------------------------------------------------------------------------------------------------------------------------------------------------------------------------------------------------------------------------------------------------------------------------------------------------------------------------------------------------------------------------------------------------------------------------------------------------------------------------------------------------------------------------------------------------------------------------------------------------------------------------------------------------------------------------------------------------------------------------------------------------------------------------------------------------------------------------------------------------------------------------------------------------------------------------------------------------------------------------------------------------------------------------------------------------------------------------------------------------------------------------------------------------------------------------------------------------------------------------------------------------------------------------------------------------------------------------------------------------------------------------------------------------------------------------------------------------------------------------------------------------------------------------------------------------------------------------------------------------------------------------------------------------------------------------------------------------------------------------------------------------------------------------------------------------------------------------------------------------------------------------------------------------------------------------------------------------------------------------------------------------------------------------------------------------------------------------------------------------------------------------------------------------------------------------------------------------------------------------------------------------------------------------------------------------------------------------------------------------------------------------------------------------------------------------------------------------------------------------------------------------------------------------------------------------------------------------------------------------------------------------------------------------------------------------------------------------------------------------------------------------------------------------------------------------------------------------------------------------------------------------------------------------------------------------------------------------------------------------------------------------------------------------------------------------------------------------------------------------------------------------------------------------------------------------------------------------------------------------------------------------------------------------------------------------------------------------------------------------------------------------------------------------------------------------------------------------------------------------------------------------------------------------------------------------------------------------------------------------------------------------------------------------------------------------------------------------------------------------------------------------------------------------------------------------------------------------------------------------------------------------------------------------------------------------------------------------------------------------------------------------------------------------------------------------------------------------------------------------------------------------------------------------------------------------------------------------------------------------------------------------------------------------------------------------------------------------------------------------------------------------------------------------------------------------------------------------------------------------------------------------------------------------------------------------------------------------------------------------------------------------------------------------------------------------------------------------------------------------------------------------------------------------------------------------------------------------------------------------------------------------------------------------------------------------------------------------------------------------------------------------------------------------------------------------------------------------------------------------------------------------------------------------------------------------------------------------------------------------------------------------------------------------------------------------------------------------------------------------------------------------------------------------------------------------------------------------------------------------------------------------------------------------------------------------------------------------------------------------------------------------------------------------------------------------------------------------------------------------------------------------------------------------------------------------------------------------------------------------------------------------------------------------------------------------------------------------------------------------------------------------------------------------------------------------------------------------------------------------------------------------------------------------------------------------------------------------------------------------------------------------------------------------------------------------------------------------------------------------------------------------------------------------------------------------------------------------------------------------------------------------------------------------------------------------------------------------------------------------------------------------------------------------------------------------------------------------------------------------------------------------------------------------------------------------------------------------------------------------------------------------------------------------------------------------------------------------------------------------------------------------------------------------------------------------------------------------------------------------------------------------------------------------------------------------------------------------------------------------------------------------------------------------------------------------------------------------------------------------------------------------------------------------------------------------------------------------------------------+\n",
            "\n"
          ]
        }
      ]
    },
    {
      "cell_type": "markdown",
      "source": [
        "##### Contagem de valores vazios em cada coluna do dataframe"
      ],
      "metadata": {
        "id": "A5dJlUrKEACQ"
      }
    },
    {
      "cell_type": "code",
      "source": [
        "from pyspark.sql.functions import isnan, when, count, col\n",
        "newmonkeypoxdf_Null=[\"Status\", \"Localizacao\", \"Cidade\", \"Pais\", \"Cod_ISO3\",\"Idade\", \"Sexo\", \"Sintomas\",\"Hospitalizado\",\"Em_isolamento\",\"Detectado\",\"Comentarios_contato\",\"Identidade_Contato\",\"Cidade_contato\", \"Viajou\", \"Data_viagem\",\"Data_inicio_viagem\",\"Localidade_visitada\",\"Pais_visitado\",\"Genoma_virus\", \"Metodo_confirmacao\", \"Fonte\", \"Fonte_II\", \"Fonte_III\", \"Fonte_IV\", \"Fonte_V\", \"Fonte_VI\", \"Fonte_VII\"]\n",
        "newmonkeypoxdf1.select([count(when(isnan(c) | col(c).isNull(), c)).alias(c) for c in newmonkeypoxdf_Null]).show()"
      ],
      "metadata": {
        "id": "KkzW6dXaD6j8",
        "colab": {
          "base_uri": "https://localhost:8080/"
        },
        "outputId": "4e50a8c5-41fd-40b4-bc79-1aca60be89ac"
      },
      "execution_count": 56,
      "outputs": [
        {
          "output_type": "stream",
          "name": "stdout",
          "text": [
            "+------+-----------+------+----+--------+-----+-----+--------+-------------+-------------+---------+-------------------+------------------+--------------+------+-----------+------------------+-------------------+-------------+------------+------------------+-----+--------+---------+--------+-------+--------+---------+\n",
            "|Status|Localizacao|Cidade|Pais|Cod_ISO3|Idade| Sexo|Sintomas|Hospitalizado|Em_isolamento|Detectado|Comentarios_contato|Identidade_Contato|Cidade_contato|Viajou|Data_viagem|Data_inicio_viagem|Localidade_visitada|Pais_visitado|Genoma_virus|Metodo_confirmacao|Fonte|Fonte_II|Fonte_III|Fonte_IV|Fonte_V|Fonte_VI|Fonte_VII|\n",
            "+------+-----------+------+----+--------+-----+-----+--------+-------------+-------------+---------+-------------------+------------------+--------------+------+-----------+------------------+-------------------+-------------+------------+------------------+-----+--------+---------+--------+-------+--------+---------+\n",
            "|    44|      17252| 68256|  44|      44|66618|67164|   69419|        69285|        69146|    69538|              69548|             69612|         69633| 69274|      69597|             69628|              69525|        69540|       69615|             69539|   44|   61442|    68746|   69585|  69639|   69639|    69639|\n",
            "+------+-----------+------+----+--------+-----+-----+--------+-------------+-------------+---------+-------------------+------------------+--------------+------+-----------+------------------+-------------------+-------------+------------+------------------+-----+--------+---------+--------+-------+--------+---------+\n",
            "\n"
          ]
        }
      ]
    },
    {
      "cell_type": "code",
      "source": [
        "spark.sql('select * from NewMonkeyPox1 where isNULL(Sexo)').count()"
      ],
      "metadata": {
        "id": "R3fDMt-KE0ni",
        "colab": {
          "base_uri": "https://localhost:8080/"
        },
        "outputId": "023799b9-b9e0-4665-f44e-adf45618dec4"
      },
      "execution_count": 57,
      "outputs": [
        {
          "output_type": "execute_result",
          "data": {
            "text/plain": [
              "67164"
            ]
          },
          "metadata": {},
          "execution_count": 57
        }
      ]
    },
    {
      "cell_type": "code",
      "source": [
        "monkeypoxdf.createOrReplaceTempView(\"monkeypoxnulldf\")\n",
        "monkeypoxnull = spark.sql('select Status, Age, Gender,  Symptoms from monkeypoxnulldf where isNull(Age) and isNull(Gender) and isNull(Symptoms)')\n",
        "monkeypoxnull.count()\n",
        "monkeypoxnull.show()"
      ],
      "metadata": {
        "colab": {
          "base_uri": "https://localhost:8080/"
        },
        "id": "kk5hG1X2rypy",
        "outputId": "d89d2ddd-08d5-49f5-88ed-f68f8277246a"
      },
      "execution_count": 58,
      "outputs": [
        {
          "output_type": "stream",
          "name": "stdout",
          "text": [
            "+---------+----+------+--------+\n",
            "|   Status| Age|Gender|Symptoms|\n",
            "+---------+----+------+--------+\n",
            "|confirmed|null|  null|    null|\n",
            "|confirmed|null|  null|    null|\n",
            "|confirmed|null|  null|    null|\n",
            "|confirmed|null|  null|    null|\n",
            "|discarded|null|  null|    null|\n",
            "|confirmed|null|  null|    null|\n",
            "|confirmed|null|  null|    null|\n",
            "|confirmed|null|  null|    null|\n",
            "|confirmed|null|  null|    null|\n",
            "|confirmed|null|  null|    null|\n",
            "|confirmed|null|  null|    null|\n",
            "|confirmed|null|  null|    null|\n",
            "|confirmed|null|  null|    null|\n",
            "|confirmed|null|  null|    null|\n",
            "|confirmed|null|  null|    null|\n",
            "|confirmed|null|  null|    null|\n",
            "|confirmed|null|  null|    null|\n",
            "|confirmed|null|  null|    null|\n",
            "|confirmed|null|  null|    null|\n",
            "|confirmed|null|  null|    null|\n",
            "+---------+----+------+--------+\n",
            "only showing top 20 rows\n",
            "\n"
          ]
        }
      ]
    },
    {
      "cell_type": "code",
      "source": [
        "#spark.sql(\n",
        "#\"\"\"SELECT Status, Age, Gender, Symptoms from monkeypoxnulldf where isNull(Age) and isNull(Gender)\n",
        "#    Count(Country) AS total_Sexo\n",
        "#  FROM MonkeypoxRank3\n",
        "#  GROUP BY Gender\n",
        "#  ORDER BY Count(Country) DESC\"\"\"\n",
        "#).show()"
      ],
      "metadata": {
        "id": "IIHDYHnou2Y3"
      },
      "execution_count": null,
      "outputs": []
    },
    {
      "cell_type": "code",
      "source": [
        "from pyspark.sql.functions import count\n",
        "monkeypoxdf.groupBy(\"Status\") \\\n",
        "  .agg(count(\"Country\").alias(\"Avg_Country\")) \\\n",
        "  .sort(col(\"Avg_Country\").desc()) \\\n",
        "  .show()"
      ],
      "metadata": {
        "id": "XFWZF3QyE19d",
        "colab": {
          "base_uri": "https://localhost:8080/"
        },
        "outputId": "39b40913-7666-43d6-e7c5-ec356e29ec80"
      },
      "execution_count": 59,
      "outputs": [
        {
          "output_type": "stream",
          "name": "stdout",
          "text": [
            "+----------+-----------+\n",
            "|    Status|Avg_Country|\n",
            "+----------+-----------+\n",
            "| confirmed|      65215|\n",
            "| suspected|       3673|\n",
            "| discarded|        375|\n",
            "|omit_error|        332|\n",
            "|      null|          0|\n",
            "+----------+-----------+\n",
            "\n"
          ]
        }
      ]
    },
    {
      "cell_type": "code",
      "source": [
        "monkeypoxnullnumber = monkeypoxnull.filter(monkeypoxnull.Status == \"confirmed\")\n",
        "monkeypoxnullnumber.count()"
      ],
      "metadata": {
        "id": "Cs4X899PFBRA",
        "colab": {
          "base_uri": "https://localhost:8080/"
        },
        "outputId": "9301ca7f-8256-4c8c-f11c-5700f617b5ce"
      },
      "execution_count": 60,
      "outputs": [
        {
          "output_type": "execute_result",
          "data": {
            "text/plain": [
              "61636"
            ]
          },
          "metadata": {},
          "execution_count": 60
        }
      ]
    },
    {
      "cell_type": "code",
      "source": [
        "monkeypoxdf.createOrReplaceTempView(\"mpnullBrazil\")\n",
        "mpnullBrazildf = spark.sql('select Status, Country, Age, Gender, Symptoms from mpnullBrazil where isNull(Age) and isNull(Gender) and isNull(Symptoms) and Country ==\"Brazil\" and Status ==\"confirmed\"')\n",
        "mpnullBrazildf.show()"
      ],
      "metadata": {
        "id": "l8ReCSViFD1E",
        "colab": {
          "base_uri": "https://localhost:8080/"
        },
        "outputId": "b25a2968-daf5-4066-b13e-216f48e3c79c"
      },
      "execution_count": 61,
      "outputs": [
        {
          "output_type": "stream",
          "name": "stdout",
          "text": [
            "+---------+-------+----+------+--------+\n",
            "|   Status|Country| Age|Gender|Symptoms|\n",
            "+---------+-------+----+------+--------+\n",
            "|confirmed| Brazil|null|  null|    null|\n",
            "|confirmed| Brazil|null|  null|    null|\n",
            "|confirmed| Brazil|null|  null|    null|\n",
            "|confirmed| Brazil|null|  null|    null|\n",
            "|confirmed| Brazil|null|  null|    null|\n",
            "|confirmed| Brazil|null|  null|    null|\n",
            "|confirmed| Brazil|null|  null|    null|\n",
            "|confirmed| Brazil|null|  null|    null|\n",
            "|confirmed| Brazil|null|  null|    null|\n",
            "|confirmed| Brazil|null|  null|    null|\n",
            "|confirmed| Brazil|null|  null|    null|\n",
            "|confirmed| Brazil|null|  null|    null|\n",
            "|confirmed| Brazil|null|  null|    null|\n",
            "|confirmed| Brazil|null|  null|    null|\n",
            "|confirmed| Brazil|null|  null|    null|\n",
            "|confirmed| Brazil|null|  null|    null|\n",
            "|confirmed| Brazil|null|  null|    null|\n",
            "|confirmed| Brazil|null|  null|    null|\n",
            "|confirmed| Brazil|null|  null|    null|\n",
            "|confirmed| Brazil|null|  null|    null|\n",
            "+---------+-------+----+------+--------+\n",
            "only showing top 20 rows\n",
            "\n"
          ]
        }
      ]
    },
    {
      "cell_type": "markdown",
      "source": [
        "##### Dados da MonkeyPox no Brasil"
      ],
      "metadata": {
        "id": "NU8JcZ6kFlvP"
      }
    },
    {
      "cell_type": "code",
      "source": [
        "mpnullBrazildf.show()"
      ],
      "metadata": {
        "id": "doYealUXFNJB",
        "colab": {
          "base_uri": "https://localhost:8080/"
        },
        "outputId": "9f39012d-63b6-43c5-a420-89838e012229"
      },
      "execution_count": 63,
      "outputs": [
        {
          "output_type": "stream",
          "name": "stdout",
          "text": [
            "+---------+-------+----+------+--------+\n",
            "|   Status|Country| Age|Gender|Symptoms|\n",
            "+---------+-------+----+------+--------+\n",
            "|confirmed| Brazil|null|  null|    null|\n",
            "|confirmed| Brazil|null|  null|    null|\n",
            "|confirmed| Brazil|null|  null|    null|\n",
            "|confirmed| Brazil|null|  null|    null|\n",
            "|confirmed| Brazil|null|  null|    null|\n",
            "|confirmed| Brazil|null|  null|    null|\n",
            "|confirmed| Brazil|null|  null|    null|\n",
            "|confirmed| Brazil|null|  null|    null|\n",
            "|confirmed| Brazil|null|  null|    null|\n",
            "|confirmed| Brazil|null|  null|    null|\n",
            "|confirmed| Brazil|null|  null|    null|\n",
            "|confirmed| Brazil|null|  null|    null|\n",
            "|confirmed| Brazil|null|  null|    null|\n",
            "|confirmed| Brazil|null|  null|    null|\n",
            "|confirmed| Brazil|null|  null|    null|\n",
            "|confirmed| Brazil|null|  null|    null|\n",
            "|confirmed| Brazil|null|  null|    null|\n",
            "|confirmed| Brazil|null|  null|    null|\n",
            "|confirmed| Brazil|null|  null|    null|\n",
            "|confirmed| Brazil|null|  null|    null|\n",
            "+---------+-------+----+------+--------+\n",
            "only showing top 20 rows\n",
            "\n"
          ]
        }
      ]
    },
    {
      "cell_type": "code",
      "source": [
        "mpnullBrazildf2 = mpnullBrazildf.filter(mpnullBrazildf.Country == \"Brazil\") and mpnullBrazildf.filter(mpnullBrazildf.Status == \"confirmed\")\n",
        "mpnullBrazildf2.count()"
      ],
      "metadata": {
        "id": "ijoT2kStFIW2",
        "colab": {
          "base_uri": "https://localhost:8080/"
        },
        "outputId": "6172e911-c6cf-4914-98ff-c94325ba4ee3"
      },
      "execution_count": 64,
      "outputs": [
        {
          "output_type": "execute_result",
          "data": {
            "text/plain": [
              "7269"
            ]
          },
          "metadata": {},
          "execution_count": 64
        }
      ]
    },
    {
      "cell_type": "code",
      "source": [
        "mpnullBrazildf3 = spark.sql('select Status, Pais, Idade, Sexo, Sintomas from NewMonkeyPox1 where isNULL(Sexo) and Status == \"confirmed\" and Pais == \"Brazil\"').count()\n",
        "mpnullBrazildf3"
      ],
      "metadata": {
        "id": "-Xyul0hOFRld",
        "colab": {
          "base_uri": "https://localhost:8080/"
        },
        "outputId": "d8d01ad6-dd45-43cc-c8a1-4ffffd11ad93"
      },
      "execution_count": 65,
      "outputs": [
        {
          "output_type": "execute_result",
          "data": {
            "text/plain": [
              "7277"
            ]
          },
          "metadata": {},
          "execution_count": 65
        }
      ]
    },
    {
      "cell_type": "code",
      "source": [
        "mpnullBrazildf4 = spark.sql('select Status, Pais, Idade, Sexo, Sintomas from NewMonkeyPox1 where Sexo == \"male\" and Status == \"confirmed\" and Pais ==\"Brazil\"').count()\n",
        "mpnullBrazildf4"
      ],
      "metadata": {
        "id": "zYM19U-JFYOg",
        "colab": {
          "base_uri": "https://localhost:8080/"
        },
        "outputId": "48797aab-f066-4aeb-c2fb-ada78379b646"
      },
      "execution_count": 66,
      "outputs": [
        {
          "output_type": "execute_result",
          "data": {
            "text/plain": [
              "23"
            ]
          },
          "metadata": {},
          "execution_count": 66
        }
      ]
    },
    {
      "cell_type": "code",
      "source": [
        "mpnullBrazildf5 = spark.sql('select Status, Pais, Idade, Sexo, Sintomas from NewMonkeyPox1 where Sexo == \"female\" and Status == \"confirmed\" and Pais ==\"Brazil\"').count()\n",
        "mpnullBrazildf5"
      ],
      "metadata": {
        "id": "szV0vRJtFaV-",
        "colab": {
          "base_uri": "https://localhost:8080/"
        },
        "outputId": "c9156c28-8ec9-406c-ed51-cb4da402edf7"
      },
      "execution_count": 67,
      "outputs": [
        {
          "output_type": "execute_result",
          "data": {
            "text/plain": [
              "0"
            ]
          },
          "metadata": {},
          "execution_count": 67
        }
      ]
    },
    {
      "cell_type": "code",
      "source": [
        "mpIdadedf = spark.sql(\n",
        "    \"\"\"select distinct Idade, Status, Sintomas from NewMonkeyPox1 where Status like 'confirmed'\"\"\"\n",
        ").count()\n",
        "mpIdadedf"
      ],
      "metadata": {
        "id": "I9OA2oUPFbay",
        "colab": {
          "base_uri": "https://localhost:8080/"
        },
        "outputId": "306f6ca6-f383-487d-d7a8-26a4f2daf453"
      },
      "execution_count": 68,
      "outputs": [
        {
          "output_type": "execute_result",
          "data": {
            "text/plain": [
              "195"
            ]
          },
          "metadata": {},
          "execution_count": 68
        }
      ]
    },
    {
      "cell_type": "markdown",
      "source": [
        "#### Pivotando colunas-chave do dataset"
      ],
      "metadata": {
        "id": "j5wrr3-gGQTj"
      }
    },
    {
      "cell_type": "code",
      "source": [
        "monkeypoxdf.groupBy(\"Country\").pivot(\"Age\").count().show()"
      ],
      "metadata": {
        "id": "ywmFBNj4GUYV",
        "colab": {
          "base_uri": "https://localhost:8080/"
        },
        "outputId": "474a28a3-db75-4b72-d8ba-5f6909ddeb76"
      },
      "execution_count": 69,
      "outputs": [
        {
          "output_type": "stream",
          "name": "stdout",
          "text": [
            "+-----------+----+----+----+----+----+----+----+----+----+----+-----+-----+-----+-----+-----+-----+-----+-----+-----+-----+-----+-----+-----+-----+-----+-----+-----+-----+-----+-----+-----+-----+-----+-----+-----+-----+-----+-----+-----+-----+-----+-----+-----+-----+-----+-----+-----+-----+-----+-----+-----+-----+-----+-----+-----+-----+-----+-----+-----+-----+-----+-----+-----+-----+-----+-----+-----+-----+-----+-----+-----+-----+-----+-----+-----+-----+-----+-----+-----+-----+-----+-----+-----+-----+-----+-----+----+-----+-----+-----+-----+-----+-----+-----+-----+-----+\n",
            "|    Country|null|0-14|0-29|0-39|0-49| 0-5|0-59|0-69| 0-9|1-69|10-14|15-19|15-20|15-39|15-59|15-64|15-69|15-74|15-84|18-61|19-24|19-59|20-24|20-25|20-29|20-35|20-39|20-40|20-44|20-46|20-49|20-50|20-54|20-59|20-60|20-62|20-64|20-65|20-69|20-99|21-54|22-43|22-55|22-59|23-46|23-50|24-29|25-29|25-30|25-34|25-39|25-44|25-49|25-52|25-53|26-30|26-54|28-43|29-41|29-43|30-34|30-35|30-39|30-40|30-49|30-50|30-54|30-59|30-60|31-44|31-59|34-46|35-39|35-40|35-44|36-42|36-50|40-42|40-44|40-45|40-49|41-45|45-49|45-50|45-54|46-50| 5-9|50-54|50-55|50-59|51-65|55-59|55-64|60-64|65-69|70-74|\n",
            "+-----------+----+----+----+----+----+----+----+----+----+----+-----+-----+-----+-----+-----+-----+-----+-----+-----+-----+-----+-----+-----+-----+-----+-----+-----+-----+-----+-----+-----+-----+-----+-----+-----+-----+-----+-----+-----+-----+-----+-----+-----+-----+-----+-----+-----+-----+-----+-----+-----+-----+-----+-----+-----+-----+-----+-----+-----+-----+-----+-----+-----+-----+-----+-----+-----+-----+-----+-----+-----+-----+-----+-----+-----+-----+-----+-----+-----+-----+-----+-----+-----+-----+-----+-----+----+-----+-----+-----+-----+-----+-----+-----+-----+-----+\n",
            "|   Paraguay|   3|null|null|null|null|null|null|null|null|null| null| null| null| null| null| null| null| null| null| null| null| null| null| null| null| null| null| null| null| null| null| null| null| null| null| null| null| null| null| null| null| null| null| null| null| null| null| null| null| null| null| null| null| null| null| null| null| null| null| null| null| null| null| null| null| null| null| null| null| null| null| null| null| null| null| null| null| null| null| null| null| null| null| null| null| null|null| null| null| null| null| null| null| null| null| null|\n",
            "|     Russia|   2|null|null|null|null|null|null|null|null|null| null| null| null| null| null| null| null| null| null| null| null| null| null| null| null| null| null| null| null| null| null| null| null| null| null| null| null| null| null| null| null| null| null| null| null| null| null| null| null| null| null| null| null| null| null| null| null| null| null| null| null| null| null| null| null| null| null| null| null| null| null| null| null| null| null| null| null| null| null| null| null| null| null| null| null| null|null| null| null| null| null| null| null| null| null| null|\n",
            "|     Sweden| 113|null|null|null|null|null|null|null|null|null| null| null| null| null| null| null| null| null| null| null| null| null| null| null| null| null| null| null| null| null| null| null| null| null|   15| null|   15|   28|   15| null| null| null| null| null| null| null| null| null| null| null| null| null| null| null| null| null| null| null| null| null| null| null| null| null| null| null| null| null| null| null| null| null| null| null| null| null| null| null| null| null| null| null| null| null| null| null|null| null| null| null| null| null| null| null| null| null|\n",
            "|     Guyana|   1|null|null|null|null|null|null|null|null|null| null| null| null| null| null| null| null| null| null| null| null| null| null| null| null| null| null| null| null| null| null| null| null| null| null| null| null| null| null| null| null| null| null| null| null| null| null| null| null| null| null| null| null| null| null| null| null| null| null| null| null| null| null| null| null| null| null| null| null| null| null| null| null| null| null| null| null| null| null| null| null| null| null| null| null| null|null| null| null|    1| null| null| null| null| null| null|\n",
            "|Philippines|null|null|null|null|null|null|null|null|null|null| null| null| null| null| null| null| null| null| null| null| null| null| null| null| null| null| null| null| null| null| null| null| null| null| null| null| null| null| null| null| null| null| null| null| null| null| null|    2| null| null| null| null| null| null| null| null| null| null| null| null|    2| null| null| null| null| null| null| null| null| null| null| null| null| null| null| null| null| null| null| null| null| null| null| null| null| null|null| null| null| null| null| null| null| null| null| null|\n",
            "|   Malaysia|   3|null|null|null|null|null|null|null|null|null| null| null| null| null| null| null| null| null| null| null| null| null| null| null| null| null| null| null| null| null| null| null| null| null| null| null| null| null| null| null| null| null| null| null| null| null| null| null| null| null| null| null| null| null| null| null| null| null| null| null| null| null| null| null| null| null| null| null| null| null| null| null| null| null| null| null| null| null| null| null| null| null| null| null| null| null|null| null| null| null| null| null| null| null| null| null|\n",
            "|  Singapore|   4|null|null|null|null|null|null|null|null|null| null| null| null| null| null| null| null| null| null| null| null| null| null| null| null| null| null| null| null| null| null| null| null| null| null| null| null| null| null| null| null| null| null| null| null| null|    1|    2| null| null| null| null| null| null| null| null| null| null| null| null|    3|    1| null| null| null| null| null| null| null| null| null| null|    1| null| null| null| null| null|    2| null| null| null|    3| null| null| null|null|    1| null| null| null|    1| null| null| null| null|\n",
            "|       Fiji|   1|null|null|null|null|null|null|null|null|null| null| null| null| null| null| null| null| null| null| null| null| null| null| null| null| null| null| null| null| null| null| null| null| null| null| null| null| null| null| null| null| null| null| null| null| null| null| null| null| null| null| null| null| null| null| null| null| null| null| null| null| null| null| null| null| null| null| null| null| null| null| null| null| null| null| null| null| null| null| null| null| null| null| null| null| null|null| null| null| null| null| null| null| null| null| null|\n",
            "|     Turkey|  14|null|null|null|null|null|null|null|null|null| null| null| null| null| null| null| null| null| null| null| null| null| null| null| null| null| null| null| null| null| null| null| null| null| null| null| null| null| null| null| null| null| null| null| null| null| null| null| null| null| null| null| null| null| null| null| null| null| null| null| null| null| null| null| null| null| null| null| null| null| null| null|    1| null| null| null| null| null| null| null| null| null| null| null| null| null|null| null| null| null| null| null| null| null| null| null|\n",
            "|     Malawi|   1|null|null|null|null|null|null|null|null|null| null| null| null| null| null| null| null| null| null| null| null| null| null| null| null| null| null| null| null| null| null| null| null| null| null| null| null| null| null| null| null| null| null| null| null| null| null| null| null| null| null| null| null| null| null| null| null| null| null| null| null| null| null| null| null| null| null| null| null| null| null| null| null| null| null| null| null| null| null| null| null| null| null| null| null| null|null| null| null| null| null| null| null| null| null| null|\n",
            "|    Germany|3560|null|null|null|null|null|null|null|null|null| null| null| null| null| null| null| null| null| null| null| null| null|    1| null| null| null| null| null| null| null| null| null| null| null| null| null| null| null| null| null| null| null| null| null| null| null| null|    7| null| null| null| null| null| null| null| null| null| null| null| null|    6| null| null| null| null| null| null| null| null| null| null|    2|    3| null| null| null| null|    1|    5| null| null| null|    2| null| null| null|null| null| null|    1| null|    1| null|    1| null| null|\n",
            "|   Cambodia|  11|null|null|null|null|null|null|null|null|null| null| null| null| null| null| null| null| null| null| null| null| null| null| null| null| null| null| null| null| null| null| null| null| null| null| null| null| null| null| null| null| null| null| null| null| null| null| null| null| null| null| null| null| null| null| null| null| null| null| null| null| null| null| null| null| null| null| null| null| null| null| null| null| null| null| null| null| null| null| null| null| null| null| null| null| null|null| null| null| null| null| null| null| null| null| null|\n",
            "|     Jordan|null|null|null|null|null|null|null|null|null|null| null| null| null| null| null| null| null| null| null| null| null| null| null| null| null| null| null| null| null| null| null| null| null| null| null| null| null| null| null| null| null| null| null| null| null| null| null| null| null| null| null| null| null| null| null| null| null| null| null| null| null| null| null|    1| null| null| null| null| null| null| null| null| null| null| null| null| null| null| null| null| null| null| null| null| null| null|null| null| null| null| null| null| null| null| null| null|\n",
            "|      Sudan|   6|null|null|null|null|null|null|null|null|null| null| null|    1| null| null| null| null| null| null| null| null| null| null| null| null| null| null| null| null| null| null| null| null| null| null| null| null| null| null| null| null| null| null| null| null| null| null| null| null| null| null| null| null| null| null| null| null| null| null| null| null| null| null| null| null| null| null| null| null| null| null| null| null| null| null| null| null| null| null| null| null| null| null| null| null| null|null| null| null| null| null| null| null| null| null| null|\n",
            "|     France|3533|null|null|null|null|null|null|null|null|null| null| null| null| null| null| null| null|  240|  187| null| null| null| null| null| null| null| null| null| null| null| null| null| null| null| null| null| null| null| null| null| null| null| null| null| null| null| null|    1| null| null| null| null| null| null| null| null| null| null| null| null| null| null| null| null| null| null| null| null| null| null| null| null| null| null| null| null| null| null| null| null| null| null| null| null| null| null|null| null| null| null| null| null| null| null| null| null|\n",
            "|     Greece|  10|null|null|null|null|null|null|null|null|null| null| null| null| null|    7|    4| null| null| null| null| null|   36| null| null| null| null| null| null| null| null| null| null| null|   10| null| null| null| null| null| null| null| null| null|    6| null| null| null| null| null| null| null| null| null| null| null| null| null| null| null| null| null| null| null| null| null| null| null| null| null| null| null| null| null| null| null| null| null| null| null| null| null| null| null| null| null| null|null| null| null| null| null| null| null| null| null| null|\n",
            "|     Kosovo|null|null|null|null|null|null|null|null|null|null| null| null| null| null| null| null| null| null| null| null| null| null| null| null| null| null| null| null| null| null| null| null| null| null| null| null| null| null| null| null| null| null| null| null| null| null| null| null| null| null| null| null| null| null| null| null| null| null| null| null| null| null| null| null| null| null| null| null| null| null| null| null| null| null| null| null| null| null| null| null| null| null| null| null| null| null|null| null| null| null| null| null| null| null|    1| null|\n",
            "|     Taiwan|   1|null|null|null|null|null|null|null|null|null| null| null| null| null| null| null| null| null| null| null| null| null|    1| null|    1| null| null| null| null| null| null| null| null| null| null| null| null| null| null| null| null| null| null| null| null| null| null| null| null| null| null| null| null| null| null| null| null| null| null| null| null| null|    1| null| null| null| null| null| null| null| null| null| null| null| null| null| null| null| null| null| null| null| null| null| null| null|null| null| null| null| null| null| null| null| null| null|\n",
            "|       null|  44|null|null|null|null|null|null|null|null|null| null| null| null| null| null| null| null| null| null| null| null| null| null| null| null| null| null| null| null| null| null| null| null| null| null| null| null| null| null| null| null| null| null| null| null| null| null| null| null| null| null| null| null| null| null| null| null| null| null| null| null| null| null| null| null| null| null| null| null| null| null| null| null| null| null| null| null| null| null| null| null| null| null| null| null| null|null| null| null| null| null| null| null| null| null| null|\n",
            "|   Slovakia|   9|null|null|null|null|null|null|null|null|null| null| null| null| null| null| null| null| null| null| null| null| null| null| null| null| null| null| null| null| null| null| null| null|    6| null| null| null| null| null| null| null| null| null| null| null| null| null| null| null| null| null| null| null| null| null| null| null| null| null| null| null| null| null| null| null| null| null| null| null| null| null| null| null| null| null| null| null| null| null| null| null| null| null| null| null| null|null| null| null| null| null| null| null| null| null| null|\n",
            "+-----------+----+----+----+----+----+----+----+----+----+----+-----+-----+-----+-----+-----+-----+-----+-----+-----+-----+-----+-----+-----+-----+-----+-----+-----+-----+-----+-----+-----+-----+-----+-----+-----+-----+-----+-----+-----+-----+-----+-----+-----+-----+-----+-----+-----+-----+-----+-----+-----+-----+-----+-----+-----+-----+-----+-----+-----+-----+-----+-----+-----+-----+-----+-----+-----+-----+-----+-----+-----+-----+-----+-----+-----+-----+-----+-----+-----+-----+-----+-----+-----+-----+-----+-----+----+-----+-----+-----+-----+-----+-----+-----+-----+-----+\n",
            "only showing top 20 rows\n",
            "\n"
          ]
        }
      ]
    },
    {
      "cell_type": "code",
      "source": [
        "monkeypoxdf.groupBy(\"Age\").pivot(\"Country\").count().show()"
      ],
      "metadata": {
        "id": "sl-dj44xGZac",
        "colab": {
          "base_uri": "https://localhost:8080/"
        },
        "outputId": "d1c6e5ee-4959-4fac-c6c8-51931b2fab13"
      },
      "execution_count": 70,
      "outputs": [
        {
          "output_type": "stream",
          "name": "stdout",
          "text": [
            "+-----+----+-------+---------+-----+---------+-------+-------+-------+----------+--------+-------+------+-----+-------+-------+----------------------+------+--------+--------+--------+------+--------------+------------------------+-----+-----+--------+----------+-------+----+-------+------+--------------+--------------------------------+-------+------------------+-------+-----+-----------+-------+-------+----+-------+------+-------------+-------+-------+-----+---------+------+---------+----------+----+---------+------+-----+--------+---------+-------+-------+-----+---------+----+-------+------+-----+-------+-----+------+------+------+-------+-------+---------+----------+------+--------+-----+----------+---------+------+-------+------+----------+-------+-----+-----------+-------------+-----------+-------+----------------+------+--------+------+--------+----+-----------+------+--------+-----------+-----+-----------------+-------+------+--------------------------+------------+--------+------+------------+---------+--------+--------+-------+------------+-----------+-----------+-----+-----+------+-----------+------+--------+------+------+-------+--------------------+-------------+-------+---------+-----+------+\n",
            "|  Age|null|Andorra|Argentina|Aruba|Australia|Austria|Bahamas|Bahrain|Bangladesh|Barbados|Belgium|Belize|Benin|Bermuda|Bolivia|Bosnia And Herzegovina|Brazil|Bulgaria|Cambodia|Cameroon|Canada|Cayman Islands|Central African Republic|Chile|China|Colombia|Costa Rica|Croatia|Cuba|Curaçao|Cyprus|Czech Republic|Democratic Republic Of The Congo|Denmark|Dominican Republic|Ecuador|Egypt|El Salvador|England|Estonia|Fiji|Finland|France|French Guiana|Georgia|Germany|Ghana|Gibraltar|Greece|Greenland|Guadeloupe|Guam|Guatemala|Guyana|Haiti|Honduras|Hong Kong|Hungary|Iceland|India|Indonesia|Iran|Ireland|Israel|Italy|Jamaica|Japan|Jordan|Kosovo|Latvia|Lebanon|Liberia|Lithuania|Luxembourg|Malawi|Malaysia|Malta|Martinique|Mauritius|Mexico|Moldova|Monaco|Montenegro|Morocco|Nepal|Netherlands|New Caledonia|New Zealand|Nigeria|Northern Ireland|Norway|Pakistan|Panama|Paraguay|Peru|Philippines|Poland|Portugal|Puerto Rico|Qatar|Republic of Congo|Romania|Russia|Saint Martin (French part)|Saudi Arabia|Scotland|Serbia|Sierra Leone|Singapore|Slovakia|Slovenia|Somalia|South Africa|South Korea|South Sudan|Spain|Sudan|Sweden|Switzerland|Taiwan|Thailand|Turkey|Uganda|Ukraine|United Arab Emirates|United States|Uruguay|Venezuela|Wales|Zambia|\n",
            "+-----+----+-------+---------+-----+---------+-------+-------+-------+----------+--------+-------+------+-----+-------+-------+----------------------+------+--------+--------+--------+------+--------------+------------------------+-----+-----+--------+----------+-------+----+-------+------+--------------+--------------------------------+-------+------------------+-------+-----+-----------+-------+-------+----+-------+------+-------------+-------+-------+-----+---------+------+---------+----------+----+---------+------+-----+--------+---------+-------+-------+-----+---------+----+-------+------+-----+-------+-----+------+------+------+-------+-------+---------+----------+------+--------+-----+----------+---------+------+-------+------+----------+-------+-----+-----------+-------------+-----------+-------+----------------+------+--------+------+--------+----+-----------+------+--------+-----------+-----+-----------------+-------+------+--------------------------+------------+--------+------+------------+---------+--------+--------+-------+------------+-----------+-----------+-----+-----+------+-----------+------+--------+------+------+-------+--------------------+-------------+-------+---------+-----+------+\n",
            "|  5-9|null|   null|     null| null|     null|   null|   null|   null|      null|    null|   null|  null| null|   null|   null|                  null|  null|    null|    null|    null|  null|          null|                    null| null| null|    null|      null|   null|null|   null|  null|          null|                            null|   null|              null|   null| null|       null|   null|   null|null|   null|  null|         null|   null|   null| null|     null|  null|     null|      null|null|     null|  null| null|    null|     null|   null|   null|    1|     null|null|   null|  null| null|   null| null|  null|  null|  null|   null|   null|     null|      null|  null|    null| null|      null|     null|  null|   null|  null|      null|   null| null|          1|         null|       null|   null|            null|  null|    null|  null|    null|null|       null|  null|    null|       null| null|             null|   null|  null|                      null|        null|    null|  null|        null|     null|    null|    null|   null|        null|       null|       null| null| null|  null|       null|  null|    null|  null|  null|   null|                null|         null|   null|     null| null|  null|\n",
            "|20-40|null|   null|     null| null|     null|   null|   null|   null|      null|    null|   null|  null| null|   null|   null|                  null|  null|    null|    null|    null|  null|          null|                    null| null| null|    null|      null|   null|null|   null|  null|          null|                            null|   null|              null|   null| null|       null|   null|   null|null|   null|  null|         null|   null|   null| null|     null|  null|     null|      null|null|     null|  null| null|    null|     null|      2|   null| null|     null|null|   null|  null| null|   null| null|  null|  null|  null|   null|   null|     null|      null|  null|    null| null|      null|     null|  null|   null|  null|      null|   null| null|       null|         null|       null|   null|            null|  null|    null|  null|    null|null|       null|  null|    null|       null| null|             null|   null|  null|                      null|        null|    null|  null|        null|     null|    null|    null|   null|        null|       null|       null| null| null|  null|       null|  null|    null|  null|  null|   null|                null|         null|   null|     null| null|  null|\n",
            "|50-55|null|   null|     null| null|     null|   null|   null|   null|      null|    null|   null|  null| null|   null|   null|                  null|  null|    null|    null|    null|  null|          null|                    null| null| null|    null|      null|   null|null|   null|  null|          null|                            null|   null|              null|   null| null|       null|   null|   null|null|   null|  null|         null|   null|   null| null|     null|  null|     null|      null|null|     null|  null| null|    null|     null|   null|   null| null|     null|null|   null|  null| null|   null| null|  null|  null|  null|   null|   null|     null|      null|  null|    null| null|      null|     null|     1|   null|  null|      null|   null| null|       null|         null|       null|   null|            null|  null|    null|  null|    null|null|       null|  null|    null|       null| null|             null|   null|  null|                      null|        null|    null|  null|        null|     null|    null|    null|   null|        null|       null|       null| null| null|  null|       null|  null|    null|  null|  null|   null|                null|         null|   null|     null| null|  null|\n",
            "|20-24|null|   null|     null| null|     null|   null|   null|   null|      null|    null|   null|  null| null|   null|      1|                  null|     1|       1|    null|    null|  null|          null|                    null|    2| null|    null|         1|   null|null|   null|     1|             1|                            null|   null|                 2|   null| null|       null|   null|   null|null|   null|  null|         null|   null|      1| null|     null|  null|     null|      null|null|        1|  null| null|    null|     null|      1|   null|    3|     null|null|   null|  null|    3|   null| null|  null|  null|  null|   null|   null|     null|      null|  null|    null| null|      null|     null|     2|   null|  null|      null|   null| null|       null|         null|       null|   null|            null|  null|    null|  null|    null|null|       null|  null|    null|       null| null|             null|      2|  null|                      null|        null|    null|  null|        null|     null|    null|    null|   null|        null|       null|       null|    1| null|  null|       null|     1|       2|  null|  null|   null|                null|         null|   null|     null| null|     1|\n",
            "|20-59|null|   null|     null| null|     null|   null|   null|   null|      null|    null|     45|  null| null|   null|   null|                  null|  null|    null|    null|    null|   183|          null|                    null| null| null|    null|      null|   null|null|   null|  null|          null|                            null|   null|              null|   null| null|       null|   null|   null|null|   null|  null|         null|   null|   null| null|     null|    10|     null|      null|null|     null|  null| null|    null|     null|   null|   null| null|     null|null|   null|  null| null|   null| null|  null|  null|  null|   null|   null|     null|      null|  null|    null| null|      null|     null|  null|   null|  null|      null|   null| null|       null|         null|       null|   null|            null|  null|    null|  null|    null|null|       null|  null|    null|       null| null|             null|   null|  null|                      null|        null|    null|  null|        null|     null|       6|    null|   null|        null|       null|       null| null| null|  null|       null|  null|    null|  null|  null|   null|                null|         null|   null|     null| null|  null|\n",
            "|15-69|null|   null|     null| null|     null|   null|   null|   null|      null|    null|   null|  null| null|   null|   null|                  null|  null|    null|    null|    null|  null|          null|                    null| null| null|    null|      null|   null|null|   null|  null|          null|                            null|   null|              null|   null| null|       null|   null|   null|null|   null|  null|         null|   null|   null| null|     null|  null|     null|      null|null|     null|  null| null|    null|     null|   null|   null| null|     null|null|   null|  null| null|   null| null|  null|  null|  null|   null|   null|     null|      null|  null|    null| null|      null|     null|  null|   null|  null|      null|   null| null|       null|         null|       null|   null|            null|  null|    null|  null|    null|null|       null|  null|    null|       null| null|             null|   null|  null|                      null|        null|    null|  null|        null|     null|    null|    null|   null|        null|       null|       null|  184| null|  null|       null|  null|    null|  null|  null|   null|                null|         null|   null|     null| null|  null|\n",
            "|45-54|null|   null|     null| null|     null|   null|   null|   null|      null|    null|   null|  null| null|   null|   null|                  null|  null|    null|    null|    null|  null|          null|                    null| null| null|    null|      null|   null|null|   null|  null|          null|                            null|   null|              null|   null| null|       null|   null|   null|null|   null|  null|         null|   null|   null| null|     null|  null|     null|      null|null|     null|  null| null|    null|     null|   null|   null| null|     null|null|      3|  null| null|   null| null|  null|  null|  null|   null|   null|     null|      null|  null|    null| null|      null|     null|  null|   null|  null|      null|   null| null|       null|         null|       null|   null|            null|  null|    null|  null|    null|null|       null|  null|    null|       null| null|             null|   null|  null|                      null|        null|    null|  null|        null|     null|    null|    null|   null|        null|       null|       null| null| null|  null|       null|  null|    null|  null|  null|   null|                null|         null|   null|     null| null|  null|\n",
            "|29-43|null|   null|     null| null|     null|   null|   null|   null|      null|    null|   null|  null| null|   null|   null|                  null|  null|    null|    null|    null|  null|          null|                    null| null| null|    null|      null|   null|null|   null|  null|          null|                            null|   null|              null|   null| null|       null|   null|   null|null|   null|  null|         null|   null|   null| null|     null|  null|     null|      null|null|     null|  null| null|    null|     null|      6|   null| null|     null|null|   null|  null| null|   null| null|  null|  null|  null|   null|   null|     null|      null|  null|    null| null|      null|     null|  null|   null|  null|      null|   null| null|       null|         null|       null|   null|            null|  null|    null|  null|    null|null|       null|  null|    null|       null| null|             null|   null|  null|                      null|        null|    null|  null|        null|     null|    null|    null|   null|        null|       null|       null| null| null|  null|       null|  null|    null|  null|  null|   null|                null|         null|   null|     null| null|  null|\n",
            "|51-65|null|   null|     null| null|     null|   null|   null|   null|      null|    null|   null|  null| null|   null|   null|                  null|  null|    null|    null|    null|  null|          null|                    null| null| null|    null|      null|   null|null|   null|  null|          null|                            null|   null|              null|   null| null|       null|   null|   null|null|   null|  null|         null|   null|   null| null|     null|  null|     null|      null|null|     null|  null| null|    null|     null|   null|   null| null|     null|null|   null|  null| null|   null| null|  null|  null|  null|   null|   null|     null|      null|  null|    null| null|      null|     null|  null|   null|  null|      null|   null| null|       null|         null|       null|   null|            null|  null|    null|  null|    null|null|       null|  null|    null|          3| null|             null|   null|  null|                      null|        null|    null|  null|        null|     null|    null|    null|   null|        null|       null|       null| null| null|  null|       null|  null|    null|  null|  null|   null|                null|         null|   null|     null| null|  null|\n",
            "|20-69|null|   null|     null| null|     null|   null|   null|   null|      null|    null|     56|  null| null|   null|   null|                  null|  null|    null|    null|    null|   209|          null|                    null| null| null|    null|      null|   null|null|   null|  null|          null|                            null|   null|              null|   null| null|       null|   null|   null|null|   null|  null|         null|   null|   null| null|     null|  null|     null|      null|null|     null|  null| null|    null|     null|   null|   null| null|     null|null|   null|  null| null|   null| null|  null|  null|  null|   null|   null|     null|      null|  null|    null| null|      null|     null|  null|   null|  null|      null|   null| null|       null|         null|       null|   null|            null|  null|    null|  null|    null|null|       null|  null|    null|       null| null|             null|   null|  null|                      null|        null|    null|  null|        null|     null|    null|    null|   null|        null|       null|       null| null| null|    15|       null|  null|    null|  null|  null|   null|                null|          336|   null|     null| null|  null|\n",
            "|30-50|null|   null|     null| null|     null|   null|   null|   null|      null|    null|   null|  null| null|   null|   null|                  null|  null|    null|    null|    null|  null|          null|                    null| null| null|    null|      null|   null|null|   null|  null|          null|                            null|   null|              null|   null| null|       null|   null|   null|null|   null|  null|         null|   null|   null| null|     null|  null|     null|      null|null|     null|  null| null|    null|     null|   null|   null| null|     null|null|      7|  null| null|   null| null|  null|  null|  null|   null|   null|     null|      null|  null|    null| null|      null|     null|  null|   null|  null|      null|   null| null|       null|         null|       null|   null|            null|  null|    null|  null|    null|null|       null|  null|    null|       null| null|             null|   null|  null|                      null|        null|    null|  null|        null|     null|    null|    null|   null|        null|       null|       null| null| null|  null|       null|  null|    null|  null|  null|   null|                null|         null|   null|     null| null|  null|\n",
            "|23-46|null|   null|     null| null|     null|   null|   null|   null|      null|    null|   null|  null| null|   null|   null|                  null|     5|    null|    null|    null|  null|          null|                    null| null| null|    null|      null|   null|null|   null|  null|          null|                            null|   null|              null|   null| null|       null|   null|   null|null|   null|  null|         null|   null|   null| null|     null|  null|     null|      null|null|     null|  null| null|    null|     null|   null|   null| null|     null|null|   null|  null| null|   null| null|  null|  null|  null|   null|   null|     null|      null|  null|    null| null|      null|     null|  null|   null|  null|      null|   null| null|       null|         null|       null|   null|            null|  null|    null|  null|    null|null|       null|  null|    null|       null| null|             null|   null|  null|                      null|        null|    null|  null|        null|     null|    null|    null|   null|        null|       null|       null| null| null|  null|       null|  null|    null|  null|  null|   null|                null|         null|   null|     null| null|  null|\n",
            "|25-39|null|   null|     null| null|     null|   null|   null|   null|      null|    null|   null|  null| null|   null|   null|                  null|     1|    null|    null|    null|  null|          null|                    null| null| null|    null|      null|   null|null|   null|  null|          null|                            null|   null|              null|   null| null|       null|   null|   null|null|   null|  null|         null|   null|   null| null|     null|  null|     null|      null|null|     null|  null| null|    null|     null|   null|   null| null|     null|null|   null|  null| null|      4| null|  null|  null|  null|   null|   null|     null|      null|  null|    null| null|      null|     null|  null|   null|  null|      null|   null| null|       null|         null|       null|   null|            null|  null|    null|  null|    null|null|       null|  null|    null|       null| null|             null|   null|  null|                      null|        null|    null|  null|        null|     null|    null|    null|   null|        null|       null|       null| null| null|  null|       null|  null|    null|  null|  null|   null|                null|         null|   null|     null| null|  null|\n",
            "|65-69|null|   null|     null| null|     null|   null|   null|   null|      null|    null|   null|  null| null|   null|   null|                  null|  null|    null|    null|    null|  null|          null|                    null| null| null|    null|      null|   null|null|   null|  null|          null|                            null|   null|              null|   null| null|          1|   null|   null|null|   null|  null|         null|   null|   null| null|     null|  null|     null|      null|null|     null|  null| null|    null|     null|   null|   null| null|     null|null|      1|  null| null|   null| null|  null|     1|  null|   null|   null|     null|      null|  null|    null| null|      null|        1|  null|   null|  null|      null|   null| null|       null|         null|       null|   null|            null|  null|    null|  null|    null|null|       null|  null|    null|       null| null|             null|   null|  null|                      null|        null|    null|  null|        null|     null|    null|    null|   null|        null|       null|       null| null| null|  null|       null|  null|    null|  null|  null|   null|                null|         null|   null|     null| null|  null|\n",
            "|41-45|null|   null|     null| null|     null|   null|   null|   null|      null|    null|   null|  null| null|   null|   null|                  null|  null|    null|    null|    null|  null|          null|                    null| null| null|    null|      null|   null|null|   null|  null|          null|                            null|   null|              null|   null| null|       null|   null|   null|null|   null|  null|         null|   null|   null| null|     null|  null|     null|      null|null|     null|  null| null|    null|     null|   null|   null| null|     null|null|   null|  null| null|   null| null|  null|  null|  null|   null|      1|     null|      null|  null|    null| null|      null|     null|  null|   null|  null|      null|   null| null|       null|         null|       null|   null|            null|  null|    null|  null|    null|null|       null|  null|    null|       null| null|             null|   null|  null|                      null|        null|    null|  null|        null|     null|    null|    null|   null|        null|       null|       null| null| null|  null|       null|  null|    null|  null|  null|   null|                null|         null|   null|     null| null|  null|\n",
            "|15-39|null|   null|     null| null|     null|   null|   null|   null|      null|    null|   null|  null| null|   null|   null|                  null|  null|    null|    null|    null|  null|          null|                    null| null| null|    null|      null|   null|null|   null|  null|          null|                            null|   null|              null|   null| null|       null|   null|   null|null|   null|  null|         null|   null|   null| null|     null|  null|     null|      null|null|     null|  null| null|    null|     null|   null|   null| null|     null|null|   null|  null| null|   null| null|  null|  null|  null|   null|   null|     null|      null|  null|    null| null|      null|     null|  null|   null|  null|      null|   null| null|       null|         null|       null|   null|            null|  null|    null|  null|    null|null|       null|  null|       2|       null| null|             null|   null|  null|                      null|        null|    null|  null|        null|     null|    null|    null|   null|        null|       null|       null| null| null|  null|       null|  null|    null|  null|  null|   null|                null|         null|   null|     null| null|  null|\n",
            "|30-39|null|   null|     null| null|        4|   null|   null|   null|      null|       1|   null|  null| null|   null|   null|                  null|     1|    null|    null|    null|     1|          null|                    null| null| null|    null|      null|   null|null|   null|  null|          null|                            null|   null|              null|   null| null|       null|   null|   null|null|   null|  null|         null|   null|   null| null|     null|  null|     null|      null|null|     null|  null| null|    null|     null|   null|   null| null|     null|null|   null|     1| null|   null|    3|  null|  null|  null|   null|   null|        1|      null|  null|    null| null|      null|     null|  null|   null|  null|      null|   null| null|       null|         null|          1|   null|            null|  null|    null|  null|    null|null|       null|  null|    null|       null| null|             null|   null|  null|                      null|        null|    null|  null|        null|     null|    null|    null|   null|        null|       null|       null| null| null|  null|       null|     1|    null|  null|  null|   null|                null|            4|   null|     null| null|  null|\n",
            "|25-44|null|   null|     null| null|     null|   null|   null|   null|      null|    null|   null|  null| null|   null|   null|                  null|  null|    null|    null|    null|  null|          null|                    null| null| null|    null|      null|   null|null|   null|  null|          null|                            null|   null|              null|   null| null|       null|   null|   null|null|   null|  null|         null|   null|   null| null|     null|  null|     null|      null|null|     null|  null| null|    null|     null|   null|   null| null|     null|null|   null|  null| null|   null| null|  null|  null|  null|   null|   null|     null|      null|  null|    null| null|      null|     null|  null|   null|  null|      null|   null| null|       null|         null|       null|   null|            null|  null|    null|  null|    null|null|       null|  null|    null|       null| null|             null|   null|  null|                      null|        null|    null|     5|        null|     null|    null|    null|   null|        null|       null|       null| null| null|  null|       null|  null|    null|  null|  null|   null|                null|         null|   null|     null| null|  null|\n",
            "|20-39|null|   null|     null| null|     null|   null|   null|   null|      null|    null|   null|  null| null|   null|   null|                  null|     3|    null|    null|    null|  null|          null|                    null| null| null|    null|      null|   null|null|   null|  null|          null|                            null|   null|              null|   null| null|       null|   null|   null|null|   null|  null|         null|   null|   null| null|     null|  null|     null|      null|null|     null|  null| null|    null|     null|   null|   null| null|     null|null|   null|  null| null|   null| null|  null|  null|  null|   null|   null|     null|      null|  null|    null| null|      null|     null|  null|   null|  null|      null|   null| null|       null|         null|       null|   null|            null|  null|    null|  null|    null|null|       null|  null|    null|          1| null|             null|   null|  null|                      null|        null|    null|  null|        null|     null|    null|    null|   null|        null|       null|       null| null| null|  null|       null|  null|    null|  null|  null|   null|                null|         null|   null|     null| null|  null|\n",
            "| null|  44|      4|      263|    3|      128|    296|      1|   null|      null|    null|    589|     3|    3|      1|    146|                     3|  7305|       1|      11|       3|   792|             1|                      17|  736|    3|    1653|         2|     19|null|      3|     2|            54|                            3048|    183|                19|     87| null|       null|   3412|     11|   1|     33|  3533|            2|      2|   3560|  402|        6|    10|        2|         1|   1|     null|     1|    1|       4|        1|   null|     12|    4|     null|   6|    140|   248|  826|   null| null|  null|  null|     5|      7|      4|        2|        54|     1|       3|   32|         7|        1|  1337|      2|     3|         2|      6|    1|       1220|            1|          4|    703|              34|    90|    null|     3|       3|2251|       null|   173|     541|        167|    5|                8|     16|     2|                         1|           8|      93|  null|           2|        4|       9|      46|      3|        null|          3|          2| 7080|    6|   113|        502|     1|       9|    14|     4|      2|                  15|        24310|     10|        5|   46|  null|\n",
            "+-----+----+-------+---------+-----+---------+-------+-------+-------+----------+--------+-------+------+-----+-------+-------+----------------------+------+--------+--------+--------+------+--------------+------------------------+-----+-----+--------+----------+-------+----+-------+------+--------------+--------------------------------+-------+------------------+-------+-----+-----------+-------+-------+----+-------+------+-------------+-------+-------+-----+---------+------+---------+----------+----+---------+------+-----+--------+---------+-------+-------+-----+---------+----+-------+------+-----+-------+-----+------+------+------+-------+-------+---------+----------+------+--------+-----+----------+---------+------+-------+------+----------+-------+-----+-----------+-------------+-----------+-------+----------------+------+--------+------+--------+----+-----------+------+--------+-----------+-----+-----------------+-------+------+--------------------------+------------+--------+------+------------+---------+--------+--------+-------+------------+-----------+-----------+-----+-----+------+-----------+------+--------+------+------+-------+--------------------+-------------+-------+---------+-----+------+\n",
            "only showing top 20 rows\n",
            "\n"
          ]
        }
      ]
    },
    {
      "cell_type": "code",
      "source": [
        "monkeypoxdf.groupBy(\"Gender\").pivot(\"Country\").count().show()"
      ],
      "metadata": {
        "id": "DLqm7TcKGc4_",
        "colab": {
          "base_uri": "https://localhost:8080/"
        },
        "outputId": "08481ac9-33af-4a6d-8ae4-df0f936857a7"
      },
      "execution_count": 71,
      "outputs": [
        {
          "output_type": "stream",
          "name": "stdout",
          "text": [
            "+-------+----+-------+---------+-----+---------+-------+-------+-------+----------+--------+-------+------+-----+-------+-------+----------------------+------+--------+--------+--------+------+--------------+------------------------+-----+-----+--------+----------+-------+----+-------+------+--------------+--------------------------------+-------+------------------+-------+-----+-----------+-------+-------+----+-------+------+-------------+-------+-------+-----+---------+------+---------+----------+----+---------+------+-----+--------+---------+-------+-------+-----+---------+----+-------+------+-----+-------+-----+------+------+------+-------+-------+---------+----------+------+--------+-----+----------+---------+------+-------+------+----------+-------+-----+-----------+-------------+-----------+-------+----------------+------+--------+------+--------+----+-----------+------+--------+-----------+-----+-----------------+-------+------+--------------------------+------------+--------+------+------------+---------+--------+--------+-------+------------+-----------+-----------+-----+-----+------+-----------+------+--------+------+------+-------+--------------------+-------------+-------+---------+-----+------+\n",
            "| Gender|null|Andorra|Argentina|Aruba|Australia|Austria|Bahamas|Bahrain|Bangladesh|Barbados|Belgium|Belize|Benin|Bermuda|Bolivia|Bosnia And Herzegovina|Brazil|Bulgaria|Cambodia|Cameroon|Canada|Cayman Islands|Central African Republic|Chile|China|Colombia|Costa Rica|Croatia|Cuba|Curaçao|Cyprus|Czech Republic|Democratic Republic Of The Congo|Denmark|Dominican Republic|Ecuador|Egypt|El Salvador|England|Estonia|Fiji|Finland|France|French Guiana|Georgia|Germany|Ghana|Gibraltar|Greece|Greenland|Guadeloupe|Guam|Guatemala|Guyana|Haiti|Honduras|Hong Kong|Hungary|Iceland|India|Indonesia|Iran|Ireland|Israel|Italy|Jamaica|Japan|Jordan|Kosovo|Latvia|Lebanon|Liberia|Lithuania|Luxembourg|Malawi|Malaysia|Malta|Martinique|Mauritius|Mexico|Moldova|Monaco|Montenegro|Morocco|Nepal|Netherlands|New Caledonia|New Zealand|Nigeria|Northern Ireland|Norway|Pakistan|Panama|Paraguay|Peru|Philippines|Poland|Portugal|Puerto Rico|Qatar|Republic of Congo|Romania|Russia|Saint Martin (French part)|Saudi Arabia|Scotland|Serbia|Sierra Leone|Singapore|Slovakia|Slovenia|Somalia|South Africa|South Korea|South Sudan|Spain|Sudan|Sweden|Switzerland|Taiwan|Thailand|Turkey|Uganda|Ukraine|United Arab Emirates|United States|Uruguay|Venezuela|Wales|Zambia|\n",
            "+-------+----+-------+---------+-----+---------+-------+-------+-------+----------+--------+-------+------+-----+-------+-------+----------------------+------+--------+--------+--------+------+--------------+------------------------+-----+-----+--------+----------+-------+----+-------+------+--------------+--------------------------------+-------+------------------+-------+-----+-----------+-------+-------+----+-------+------+-------------+-------+-------+-----+---------+------+---------+----------+----+---------+------+-----+--------+---------+-------+-------+-----+---------+----+-------+------+-----+-------+-----+------+------+------+-------+-------+---------+----------+------+--------+-----+----------+---------+------+-------+------+----------+-------+-----+-----------+-------------+-----------+-------+----------------+------+--------+------+--------+----+-----------+------+--------+-----------+-----+-----------------+-------+------+--------------------------+------------+--------+------+------------+---------+--------+--------+-------+------------+-----------+-----------+-----+-----+------+-----------+------+--------+------+------+-------+--------------------+-------------+-------+---------+-----+------+\n",
            "|   null|  44|      4|      286|    3|      127|    297|      1|   null|         1|    null|    597|     3|    3|      1|    140|                     3|  7313|       2|      11|      34|   882|             1|                      17|  742|    4|    1651|         4|     19|null|      3|     2|            63|                            3048|    150|                19|     93| null|       null|   3408|     10|   1|      3|  3778|            2|      2|   3484|  402|        6|     5|        2|         1|   1|        1|     1|    1|       2|        1|   null|      8|    1|     null|   6|     60|   241|  822|   null| null|  null|  null|     5|      7|      4|        5|        14|     1|       3|   32|         7|     null|  1337|      1|     3|         2|      5| null|       1215|            1|          5|    703|              34|    90|    null|     4|       2|2250|          3|   173|     622|        145|    5|                8|     16|  null|                         1|           8|      93|  null|           2|        4|      14|      45|      3|        null|          3|          2| 7208|    7|   121|        501|     1|      10|    14|     5|      1|                  15|        24527|     10|        4|   46|  null|\n",
            "| Female|null|   null|     null| null|     null|   null|   null|   null|      null|    null|   null|  null| null|   null|   null|                  null|  null|    null|    null|    null|  null|          null|                    null| null| null|    null|      null|   null|null|   null|  null|          null|                            null|   null|              null|   null| null|       null|   null|   null|null|   null|  null|         null|   null|   null| null|     null|  null|     null|      null|null|     null|  null| null|    null|     null|   null|   null| null|     null|null|   null|  null| null|   null| null|  null|  null|  null|   null|   null|     null|      null|  null|    null| null|      null|     null|  null|   null|  null|      null|   null| null|       null|         null|       null|   null|            null|  null|    null|  null|    null|   1|       null|  null|    null|       null| null|             null|   null|  null|                      null|        null|    null|  null|        null|     null|    null|    null|   null|        null|       null|       null| null| null|  null|       null|  null|    null|  null|  null|   null|                null|         null|   null|     null| null|  null|\n",
            "| female|null|   null|     null| null|     null|   null|   null|   null|      null|    null|   null|  null| null|   null|   null|                  null|     3|    null|    null|    null|  null|          null|                    null| null| null|    null|         1|   null|null|   null|  null|             1|                            null|   null|                 3|      1| null|          1|   null|   null|null|   null|  null|         null|   null|   null| null|     null|  null|     null|      null|null|     null|  null| null|    null|     null|   null|   null|    5|     null|   1|   null|  null|    2|      1| null|  null|  null|  null|   null|   null|     null|      null|  null|    null| null|      null|     null|     1|   null|  null|      null|   null| null|       null|         null|       null|   null|            null|  null|    null|  null|    null|null|       null|  null|    null|          1| null|             null|   null|  null|                      null|        null|    null|  null|        null|     null|       1|    null|   null|        null|       null|       null|    1| null|  null|       null|  null|       4|  null|     1|   null|                   1|            1|   null|     null| null|     1|\n",
            "|  male |null|   null|     null| null|     null|   null|   null|   null|      null|    null|   null|  null| null|   null|   null|                  null|  null|    null|    null|    null|  null|          null|                    null| null| null|    null|      null|      1|null|   null|  null|          null|                            null|   null|              null|   null| null|       null|   null|   null|null|   null|  null|         null|   null|      2| null|     null|     1|     null|      null|null|     null|  null| null|    null|     null|   null|   null| null|     null|null|   null|  null| null|   null| null|  null|  null|  null|   null|   null|     null|      null|  null|    null| null|      null|     null|  null|   null|  null|      null|   null| null|       null|         null|       null|   null|            null|  null|    null|  null|    null|null|       null|  null|    null|       null| null|             null|      1|  null|                      null|        null|    null|  null|        null|     null|    null|    null|   null|        null|       null|       null| null| null|  null|       null|  null|    null|  null|  null|   null|                null|         null|   null|     null| null|  null|\n",
            "|   male|null|   null|       42| null|        8|      7|      1|      1|      null|       1|    160|  null| null|   null|     18|                  null|    31|       4|    null|    null|   606|          null|                    null|   32| null|       2|         2|      9|   2|   null|     3|             2|                            null|     33|                10|      2|    1|          3|      4|      1|null|     30|   183|         null|   null|    103| null|     null|    67|     null|      null|null|       14|     1| null|       4|        1|     77|      4|    6|        1|null|    118|    11|   22|     12|    4|     1|     1|  null|      4|      1|     null|        41|  null|    null|    1|      null|        3|    31|      1|  null|      null|      1|    1|          6|         null|       null|      1|            null|  null|       1|     9|       1|   3|          1|  null|     286|         29| null|             null|     22|     2|                      null|        null|    null|    40|        null|       15|    null|       1|   null|           5|          1|       null|   60| null|    65|          2|     2|       3|     1|  null|      1|                null|          135|   null|        1| null|  null|\n",
            "|   Male|null|   null|     null| null|     null|   null|   null|   null|      null|    null|   null|  null| null|   null|   null|                  null|  null|    null|    null|    null|  null|          null|                    null|   13| null|    null|      null|   null|null|   null|  null|          null|                            null|   null|              null|   null| null|       null|   null|   null|null|   null|  null|         null|   null|   null| null|     null|  null|     null|      null|null|     null|  null| null|    null|     null|   null|   null|    1|     null|null|   null|  null| null|   null| null|  null|  null|  null|   null|   null|     null|      null|  null|    null| null|      null|     null|  null|   null|  null|      null|   null| null|       null|         null|       null|   null|            null|  null|    null|  null|    null|null|       null|  null|    null|       null| null|             null|   null|  null|                      null|        null|    null|  null|        null|     null|    null|    null|   null|        null|       null|       null| null| null|  null|       null|     1|    null|  null|  null|   null|                null|         null|   null|     null| null|  null|\n",
            "|female |null|   null|     null| null|     null|   null|   null|   null|      null|    null|   null|  null| null|   null|   null|                  null|  null|    null|    null|    null|  null|          null|                    null| null| null|    null|      null|   null|null|   null|  null|          null|                            null|   null|              null|   null| null|       null|   null|   null|null|   null|  null|         null|   null|      1| null|     null|  null|     null|      null|null|     null|  null| null|    null|     null|   null|   null| null|     null|null|   null|  null| null|   null| null|  null|  null|  null|   null|   null|     null|      null|  null|    null| null|      null|     null|  null|   null|  null|      null|   null| null|       null|         null|       null|   null|            null|  null|    null|  null|    null|null|       null|  null|    null|       null| null|             null|   null|  null|                      null|        null|    null|  null|        null|     null|    null|    null|   null|        null|       null|       null| null| null|  null|       null|  null|    null|  null|  null|   null|                null|         null|   null|     null| null|  null|\n",
            "+-------+----+-------+---------+-----+---------+-------+-------+-------+----------+--------+-------+------+-----+-------+-------+----------------------+------+--------+--------+--------+------+--------------+------------------------+-----+-----+--------+----------+-------+----+-------+------+--------------+--------------------------------+-------+------------------+-------+-----+-----------+-------+-------+----+-------+------+-------------+-------+-------+-----+---------+------+---------+----------+----+---------+------+-----+--------+---------+-------+-------+-----+---------+----+-------+------+-----+-------+-----+------+------+------+-------+-------+---------+----------+------+--------+-----+----------+---------+------+-------+------+----------+-------+-----+-----------+-------------+-----------+-------+----------------+------+--------+------+--------+----+-----------+------+--------+-----------+-----+-----------------+-------+------+--------------------------+------------+--------+------+------------+---------+--------+--------+-------+------------+-----------+-----------+-----+-----+------+-----------+------+--------+------+------+-------+--------------------+-------------+-------+---------+-----+------+\n",
            "\n"
          ]
        }
      ]
    },
    {
      "cell_type": "code",
      "source": [
        "monkeypoxPivot = monkeypoxdf.groupBy(\"Country\").pivot(\"Gender\").count().show()\n",
        "monkeypoxPivot\n",
        "\n",
        "#monkeypoxPivot = monkeypoxdf.groupBy(\"Country\").pivot(\"Gender\").count().show()\n",
        "#monkeypoxPivot"
      ],
      "metadata": {
        "id": "fd_OMFcqGhx3",
        "colab": {
          "base_uri": "https://localhost:8080/"
        },
        "outputId": "ed03f237-853c-426d-e3e9-fb5f166055d1"
      },
      "execution_count": 72,
      "outputs": [
        {
          "output_type": "stream",
          "name": "stdout",
          "text": [
            "+-----------+----+------+----+------+-------+----+-----+\n",
            "|    Country|null|Female|Male|female|female |male|male |\n",
            "+-----------+----+------+----+------+-------+----+-----+\n",
            "|   Paraguay|   2|  null|null|  null|   null|   1| null|\n",
            "|     Russia|null|  null|null|  null|   null|   2| null|\n",
            "|     Sweden| 121|  null|null|  null|   null|  65| null|\n",
            "|     Guyana|   1|  null|null|  null|   null|   1| null|\n",
            "|Philippines|   3|  null|null|  null|   null|   1| null|\n",
            "|   Malaysia|   3|  null|null|  null|   null|null| null|\n",
            "|  Singapore|   4|  null|null|  null|   null|  15| null|\n",
            "|       Fiji|   1|  null|null|  null|   null|null| null|\n",
            "|     Turkey|  14|  null|null|  null|   null|   1| null|\n",
            "|     Malawi|   1|  null|null|  null|   null|null| null|\n",
            "|    Germany|3484|  null|null|  null|      1| 103|    2|\n",
            "|   Cambodia|  11|  null|null|  null|   null|null| null|\n",
            "|     Jordan|null|  null|null|  null|   null|   1| null|\n",
            "|      Sudan|   7|  null|null|  null|   null|null| null|\n",
            "|     France|3778|  null|null|  null|   null| 183| null|\n",
            "|     Greece|   5|  null|null|  null|   null|  67|    1|\n",
            "|     Kosovo|null|  null|null|  null|   null|   1| null|\n",
            "|     Taiwan|   1|  null|   1|  null|   null|   2| null|\n",
            "|       null|  44|  null|null|  null|   null|null| null|\n",
            "|   Slovakia|  14|  null|null|     1|   null|null| null|\n",
            "+-----------+----+------+----+------+-------+----+-----+\n",
            "only showing top 20 rows\n",
            "\n"
          ]
        }
      ]
    },
    {
      "cell_type": "code",
      "source": [
        "monkeypoxPivotSG = monkeypoxdf.groupBy(\"Symptoms\").pivot(\"Gender\").count().show()\n",
        "monkeypoxPivotSG"
      ],
      "metadata": {
        "id": "BAFfaH9-G0A7",
        "colab": {
          "base_uri": "https://localhost:8080/"
        },
        "outputId": "f5b243e1-e8a5-4670-c885-ad0b690ab4c4"
      },
      "execution_count": 73,
      "outputs": [
        {
          "output_type": "stream",
          "name": "stdout",
          "text": [
            "+--------------------+-----+------+----+------+-------+----+-----+\n",
            "|            Symptoms| null|Female|Male|female|female |male|male |\n",
            "+--------------------+-----+------+----+------+-------+----+-----+\n",
            "|headache, skin le...|    2|  null|null|  null|   null|null| null|\n",
            "|Perianal rash, fever| null|  null|null|  null|   null|   1| null|\n",
            "|Fever, chills, fa...|    1|  null|null|  null|   null|null| null|\n",
            "|headache, muscle ...| null|  null|null|  null|   null|   1| null|\n",
            "|fever, general ma...| null|  null|null|  null|   null|   1| null|\n",
            "|fever, outbreak o...| null|  null|null|     1|   null|null| null|\n",
            "|                rash|    2|  null|null|  null|   null|   1| null|\n",
            "|rash, body pains,...| null|  null|null|  null|   null|   1| null|\n",
            "|             lesions| null|  null|null|  null|   null|   1| null|\n",
            "|genital ulcer les...| null|  null|null|  null|   null|  30| null|\n",
            "|characteristic sy...| null|  null|null|  null|   null|   1| null|\n",
            "| skin manifestations|    1|  null|null|  null|   null|null| null|\n",
            "|      fever, lesions| null|  null|null|  null|   null|   2| null|\n",
            "|headache, muscle ...| null|  null|null|  null|   null|   1| null|\n",
            "|symptoms compatib...| null|  null|null|  null|   null|   1| null|\n",
            "|                Rash| null|  null|  13|  null|   null|null| null|\n",
            "|      fever; myalgia| null|  null|null|  null|   null|   1| null|\n",
            "|Spots on skin, ve...| null|  null|null|  null|   null|   1| null|\n",
            "|         skin rashes| null|  null|null|  null|   null|   1| null|\n",
            "|                null|67137|  null|   1|    18|      1|2258|    4|\n",
            "+--------------------+-----+------+----+------+-------+----+-----+\n",
            "only showing top 20 rows\n",
            "\n"
          ]
        }
      ]
    },
    {
      "cell_type": "code",
      "source": [
        "monkeypoxPivotSA = monkeypoxdf.groupBy(\"Symptoms\").pivot(\"Age\").count().show()\n",
        "monkeypoxPivotSA"
      ],
      "metadata": {
        "id": "WztdyBP9G5OX",
        "colab": {
          "base_uri": "https://localhost:8080/"
        },
        "outputId": "27413ba1-1d21-4e55-a0d7-c9f3ccbbdfa6"
      },
      "execution_count": 74,
      "outputs": [
        {
          "output_type": "stream",
          "name": "stdout",
          "text": [
            "+--------------------+-----+----+----+----+----+----+----+----+----+----+-----+-----+-----+-----+-----+-----+-----+-----+-----+-----+-----+-----+-----+-----+-----+-----+-----+-----+-----+-----+-----+-----+-----+-----+-----+-----+-----+-----+-----+-----+-----+-----+-----+-----+-----+-----+-----+-----+-----+-----+-----+-----+-----+-----+-----+-----+-----+-----+-----+-----+-----+-----+-----+-----+-----+-----+-----+-----+-----+-----+-----+-----+-----+-----+-----+-----+-----+-----+-----+-----+-----+-----+-----+-----+-----+-----+----+-----+-----+-----+-----+-----+-----+-----+-----+-----+\n",
            "|            Symptoms| null|0-14|0-29|0-39|0-49| 0-5|0-59|0-69| 0-9|1-69|10-14|15-19|15-20|15-39|15-59|15-64|15-69|15-74|15-84|18-61|19-24|19-59|20-24|20-25|20-29|20-35|20-39|20-40|20-44|20-46|20-49|20-50|20-54|20-59|20-60|20-62|20-64|20-65|20-69|20-99|21-54|22-43|22-55|22-59|23-46|23-50|24-29|25-29|25-30|25-34|25-39|25-44|25-49|25-52|25-53|26-30|26-54|28-43|29-41|29-43|30-34|30-35|30-39|30-40|30-49|30-50|30-54|30-59|30-60|31-44|31-59|34-46|35-39|35-40|35-44|36-42|36-50|40-42|40-44|40-45|40-49|41-45|45-49|45-50|45-54|46-50| 5-9|50-54|50-55|50-59|51-65|55-59|55-64|60-64|65-69|70-74|\n",
            "+--------------------+-----+----+----+----+----+----+----+----+----+----+-----+-----+-----+-----+-----+-----+-----+-----+-----+-----+-----+-----+-----+-----+-----+-----+-----+-----+-----+-----+-----+-----+-----+-----+-----+-----+-----+-----+-----+-----+-----+-----+-----+-----+-----+-----+-----+-----+-----+-----+-----+-----+-----+-----+-----+-----+-----+-----+-----+-----+-----+-----+-----+-----+-----+-----+-----+-----+-----+-----+-----+-----+-----+-----+-----+-----+-----+-----+-----+-----+-----+-----+-----+-----+-----+-----+----+-----+-----+-----+-----+-----+-----+-----+-----+-----+\n",
            "|headache, skin le...|    2|null|null|null|null|null|null|null|null|null| null| null| null| null| null| null| null| null| null| null| null| null| null| null| null| null| null| null| null| null| null| null| null| null| null| null| null| null| null| null| null| null| null| null| null| null| null| null| null| null| null| null| null| null| null| null| null| null| null| null| null| null| null| null| null| null| null| null| null| null| null| null| null| null| null| null| null| null| null| null| null| null| null| null| null| null|null| null| null| null| null| null| null| null| null| null|\n",
            "|Perianal rash, fever| null|null|null|null|null|null|null|null|null|null| null| null| null| null| null| null| null| null| null| null| null| null| null| null| null| null| null| null| null| null| null| null| null| null| null| null| null| null| null| null| null| null| null| null| null| null| null| null| null| null| null| null| null| null| null| null| null| null| null| null| null|    1| null| null| null| null| null| null| null| null| null| null| null| null| null| null| null| null| null| null| null| null| null| null| null| null|null| null| null| null| null| null| null| null| null| null|\n",
            "|Fever, chills, fa...| null|null|null|null|null|null|null|null|null|null| null| null| null| null| null| null| null| null| null| null| null| null| null| null| null| null| null| null| null| null| null| null| null| null| null| null| null| null| null| null| null| null| null| null| null| null| null| null| null| null| null| null| null| null| null| null| null| null| null| null|    1| null| null| null| null| null| null| null| null| null| null| null| null| null| null| null| null| null| null| null| null| null| null| null| null| null|null| null| null| null| null| null| null| null| null| null|\n",
            "|headache, muscle ...| null|null|null|null|null|null|null|null|null|null| null| null| null| null| null| null| null| null| null| null| null| null| null| null| null| null| null| null| null| null| null| null| null| null| null| null| null| null| null| null| null| null| null| null| null| null| null| null| null| null| null| null| null| null| null| null| null| null| null| null| null| null| null| null| null| null| null| null| null| null| null| null|    1| null| null| null| null| null| null| null| null| null| null| null| null| null|null| null| null| null| null| null| null| null| null| null|\n",
            "|fever, general ma...| null|null|null|null|null|null|null|null|null|null| null| null| null| null| null| null| null| null| null| null| null| null| null| null| null| null| null| null| null| null| null| null| null| null| null| null| null| null| null| null| null| null| null| null| null| null| null|    1| null| null| null| null| null| null| null| null| null| null| null| null| null| null| null| null| null| null| null| null| null| null| null| null| null| null| null| null| null| null| null| null| null| null| null| null| null| null|null| null| null| null| null| null| null| null| null| null|\n",
            "|fever, outbreak o...| null|null|null|null|null|null|null|null|null|null| null| null| null| null| null| null| null| null| null| null| null| null|    1| null| null| null| null| null| null| null| null| null| null| null| null| null| null| null| null| null| null| null| null| null| null| null| null| null| null| null| null| null| null| null| null| null| null| null| null| null| null| null| null| null| null| null| null| null| null| null| null| null| null| null| null| null| null| null| null| null| null| null| null| null| null| null|null| null| null| null| null| null| null| null| null| null|\n",
            "|                rash|    2|null|null|null|null|null|null|null|null|null| null| null| null| null| null| null| null| null| null| null| null| null| null| null| null| null| null| null| null| null| null| null| null| null| null| null| null| null| null| null| null| null| null| null| null| null| null| null| null| null| null| null| null| null| null| null| null| null| null| null| null| null|    1| null| null| null| null| null| null| null| null| null| null| null| null| null| null| null| null| null| null| null| null| null| null| null|null| null| null| null| null| null| null| null| null| null|\n",
            "|rash, body pains,...| null|null|null|null|null|null|null|null|null|null| null| null| null| null| null| null| null| null| null| null| null| null| null| null| null| null| null| null| null| null| null| null| null| null| null| null| null| null| null| null| null| null| null| null| null| null| null| null| null| null| null| null| null| null| null| null| null| null| null| null| null| null|    1| null| null| null| null| null| null| null| null| null| null| null| null| null| null| null| null| null| null| null| null| null| null| null|null| null| null| null| null| null| null| null| null| null|\n",
            "|genital ulcer les...| null|null|null|null|null|null|null|null|null|null| null| null| null| null| null| null| null| null| null| null| null| null| null| null| null| null| null| null| null| null| null| null| null| null| null| null|   30| null| null| null| null| null| null| null| null| null| null| null| null| null| null| null| null| null| null| null| null| null| null| null| null| null| null| null| null| null| null| null| null| null| null| null| null| null| null| null| null| null| null| null| null| null| null| null| null| null|null| null| null| null| null| null| null| null| null| null|\n",
            "|             lesions| null|null|null|null|null|null|null|null|null|null| null| null| null| null| null| null| null| null| null| null| null| null| null| null| null| null| null| null| null| null| null| null| null| null| null| null| null| null| null| null| null| null| null| null| null| null| null| null| null| null| null| null| null| null| null| null| null| null| null| null| null| null| null| null| null| null| null| null| null| null| null| null| null| null| null| null| null| null|    1| null| null| null| null| null| null| null|null| null| null| null| null| null| null| null| null| null|\n",
            "|characteristic sy...| null|null|null|null|null|null|null|null|null|null| null| null| null| null| null| null| null| null| null| null| null| null| null| null| null| null| null| null| null| null| null| null| null| null| null| null| null| null| null| null| null| null| null| null| null| null| null| null| null| null| null| null| null| null| null| null| null| null| null| null| null| null| null| null| null| null| null| null| null| null| null| null| null| null| null| null| null| null|    1| null| null| null| null| null| null| null|null| null| null| null| null| null| null| null| null| null|\n",
            "|      fever, lesions| null|null|null|null|null|null|null|null|null|null| null| null| null| null| null| null| null| null| null| null| null| null| null| null| null| null| null| null| null| null| null| null| null| null| null| null| null| null| null| null| null| null| null| null| null| null| null| null| null| null| null| null| null| null| null| null| null| null| null| null|    1| null| null| null| null| null| null| null| null| null| null| null|    1| null| null| null| null| null| null| null| null| null| null| null| null| null|null| null| null| null| null| null| null| null| null| null|\n",
            "| skin manifestations| null|null|null|null|null|null|null|null|null|null| null| null| null| null| null| null| null| null| null| null| null| null| null| null| null| null| null| null| null| null| null| null| null| null| null| null| null| null| null| null| null| null| null| null| null| null| null| null| null| null| null| null| null| null| null| null| null| null| null| null| null| null| null| null| null| null| null| null| null| null| null| null| null| null| null| null| null| null|    1| null| null| null| null| null| null| null|null| null| null| null| null| null| null| null| null| null|\n",
            "|symptoms compatib...| null|null|null|null|null|null|null|null|null|null| null| null| null| null| null| null| null| null| null| null| null| null| null| null| null| null| null| null| null| null| null| null| null| null| null| null| null| null| null| null| null| null| null| null| null| null| null| null| null| null| null| null| null| null| null| null| null| null| null| null| null| null| null| null| null| null| null| null| null| null| null| null| null| null| null| null| null| null|    1| null| null| null| null| null| null| null|null| null| null| null| null| null| null| null| null| null|\n",
            "|headache, muscle ...| null|null|null|null|null|null|null|null|null|null| null| null| null| null| null| null| null| null| null| null| null| null|    1| null| null| null| null| null| null| null| null| null| null| null| null| null| null| null| null| null| null| null| null| null| null| null| null| null| null| null| null| null| null| null| null| null| null| null| null| null| null| null| null| null| null| null| null| null| null| null| null| null| null| null| null| null| null| null| null| null| null| null| null| null| null| null|null| null| null| null| null| null| null| null| null| null|\n",
            "|                Rash| null|null|null|null|null|null|null|null|null|null| null| null| null| null| null| null| null| null| null| null| null| null| null| null| null| null| null| null| null|   13| null| null| null| null| null| null| null| null| null| null| null| null| null| null| null| null| null| null| null| null| null| null| null| null| null| null| null| null| null| null| null| null| null| null| null| null| null| null| null| null| null| null| null| null| null| null| null| null| null| null| null| null| null| null| null| null|null| null| null| null| null| null| null| null| null| null|\n",
            "|      fever; myalgia| null|null|null|null|null|null|null|null|null|null| null| null| null| null| null| null| null| null| null| null| null| null| null| null| null| null| null| null| null| null| null| null| null| null| null| null| null| null| null| null| null| null| null| null| null| null| null| null| null| null| null| null| null| null| null| null| null| null| null| null| null| null| null| null| null| null| null| null| null| null| null| null| null| null| null| null| null| null|    1| null| null| null| null| null| null| null|null| null| null| null| null| null| null| null| null| null|\n",
            "|Spots on skin, ve...| null|null|null|null|null|null|null|null|null|null| null| null| null| null| null| null| null| null| null| null| null| null| null| null| null| null| null| null| null| null| null| null| null| null| null| null| null| null| null| null| null| null| null| null| null| null| null|    1| null| null| null| null| null| null| null| null| null| null| null| null| null| null| null| null| null| null| null| null| null| null| null| null| null| null| null| null| null| null| null| null| null| null| null| null| null| null|null| null| null| null| null| null| null| null| null| null|\n",
            "|         skin rashes| null|null|null|null|null|null|null|null|null|null| null| null| null| null| null| null| null| null| null| null| null|    1| null| null| null| null| null| null| null| null| null| null| null| null| null| null| null| null| null| null| null| null| null| null| null| null| null| null| null| null| null| null| null| null| null| null| null| null| null| null| null| null| null| null| null| null| null| null| null| null| null| null| null| null| null| null| null| null| null| null| null| null| null| null| null| null|null| null| null| null| null| null| null| null| null| null|\n",
            "|                null|66587|   1|   1|  31|  19|   1|  34|  54|   2|  37|    2|    1|    2|    2|    7|  275|  184|  240|  187|   44|    1|   35|   17|    2|    3|    2|    4|    2|   40| null|   15|    6|   16|  244|   15|   15|  190|   28|  616|   57|    9|    4|    2|    6|    5|   32| null|   45|    1|   10|    5|    5|    3|    9|    5|    2|    8|    6|    7|    6|   57| null|   13| null|    7|    7|   12|    3|    1|    1|    1|    2|   35|    1|    7|    4|    2|    1|   30|    2|    7|    1|    7|    1|    3|    1|null|    6|    1|    5|    3|    2|    3|    1|    3| null|\n",
            "+--------------------+-----+----+----+----+----+----+----+----+----+----+-----+-----+-----+-----+-----+-----+-----+-----+-----+-----+-----+-----+-----+-----+-----+-----+-----+-----+-----+-----+-----+-----+-----+-----+-----+-----+-----+-----+-----+-----+-----+-----+-----+-----+-----+-----+-----+-----+-----+-----+-----+-----+-----+-----+-----+-----+-----+-----+-----+-----+-----+-----+-----+-----+-----+-----+-----+-----+-----+-----+-----+-----+-----+-----+-----+-----+-----+-----+-----+-----+-----+-----+-----+-----+-----+-----+----+-----+-----+-----+-----+-----+-----+-----+-----+-----+\n",
            "only showing top 20 rows\n",
            "\n"
          ]
        }
      ]
    },
    {
      "cell_type": "code",
      "source": [
        "#from pyspark.sql.functions import col,lit,create_map\n",
        "df2 = monkeypoxdf.withColumn(\"Sexo+Idade\",create_map(\n",
        "        lit(\"Gender\"),col(\"Gender\"),\n",
        "        lit(\"Age\"),col(\"Age\")\n",
        "        )).drop(\"Gender\",\"Age\") \\\n",
        "        .withColumn(\"Sintomas+Hospitalizado+Isolado\",create_map(\n",
        "        lit(\"Symptoms\"),col(\"Symptoms\"),\n",
        "        lit(\"Hospitalised (Y/N/NA)\"),col(\"Hospitalised (Y/N/NA)\"),\n",
        "        lit(\"Isolated (Y/N/NA)\"),col(\"Isolated (Y/N/NA)\")\n",
        "        )).drop(\"Symptoms\",\"Hospitalised (Y/N/NA)\",\"Isolated (Y/N/NA)\") \\\n",
        "        .withColumn(\"Viajou?+Local_visitado\",create_map(\n",
        "            lit(\"Travel_history (Y/N/NA)\"), col(\"Travel_history (Y/N/NA)\"),\n",
        "            lit(\"Travel_history_location\"), col(\"Travel_history_location\"),\n",
        "            lit(\"Travel_history_country\"), col(\"Travel_history_country\")\n",
        "        )).drop(\"Country_ISO3\",\"Date_onset\",\"Travel_history (Y/N/NA)\",\"Travel_history_location\",\"Travel_history_country\") \\\n",
        "        .drop(\"Date_hospitalisation\",\"Date_isolation\",\"Outcome\",\"Contact_comment\",\"Contact_ID\",\"Contact_location\",\"Travel_history_entry\",\"Travel_history_start\", \\\n",
        "              \"Genomics_Metadata\",\"Confirmation_method\",\"Source\",\"Source_II\",\"Source_III\",\"Source_IV\",\"Source_V\",\"Source_VI\",\"Source_VII\",\"Date_entry\",\"Date_death\",\"Date_last_modified\")\n",
        "df2.printSchema()\n",
        "df2.show(truncate=False)"
      ],
      "metadata": {
        "id": "ZYKJJ2MOImuh",
        "colab": {
          "base_uri": "https://localhost:8080/"
        },
        "outputId": "b9b66a1f-e8c2-4645-f092-f48a955bdd62"
      },
      "execution_count": 75,
      "outputs": [
        {
          "output_type": "stream",
          "name": "stdout",
          "text": [
            "root\n",
            " |-- ID: string (nullable = true)\n",
            " |-- Status: string (nullable = true)\n",
            " |-- Location: string (nullable = true)\n",
            " |-- City: string (nullable = true)\n",
            " |-- Country: string (nullable = true)\n",
            " |-- Date_confirmation: timestamp (nullable = true)\n",
            " |-- Sexo+Idade: map (nullable = false)\n",
            " |    |-- key: string\n",
            " |    |-- value: string (valueContainsNull = true)\n",
            " |-- Sintomas+Hospitalizado+Isolado: map (nullable = false)\n",
            " |    |-- key: string\n",
            " |    |-- value: string (valueContainsNull = true)\n",
            " |-- Viajou?+Local_visitado: map (nullable = false)\n",
            " |    |-- key: string\n",
            " |    |-- value: string (valueContainsNull = true)\n",
            "\n",
            "+---+---------+-----------------------------------+---------+--------+-------------------+------------------------------+------------------------------------------------------------------------------------------------+--------------------------------------------------------------------------------------------------------------------+\n",
            "|ID |Status   |Location                           |City     |Country |Date_confirmation  |Sexo+Idade                    |Sintomas+Hospitalizado+Isolado                                                                  |Viajou?+Local_visitado                                                                                              |\n",
            "+---+---------+-----------------------------------+---------+--------+-------------------+------------------------------+------------------------------------------------------------------------------------------------+--------------------------------------------------------------------------------------------------------------------+\n",
            "|N1 |confirmed|Guy's and St Thomas Hospital London|London   |England |2022-05-06 00:00:00|[Gender ->, Age ->]           |[Symptoms -> rash, Hospitalised (Y/N/NA) -> Y, Isolated (Y/N/NA) -> Y]                          |[Travel_history (Y/N/NA) -> Y, Travel_history_location -> Lagos and Delta States, Travel_history_country -> Nigeria]|\n",
            "|N2 |confirmed|Guy's and St Thomas Hospital London|London   |England |2022-05-12 00:00:00|[Gender ->, Age ->]           |[Symptoms -> rash, Hospitalised (Y/N/NA) -> Y, Isolated (Y/N/NA) -> Y]                          |[Travel_history (Y/N/NA) -> N, Travel_history_location ->, Travel_history_country ->]                               |\n",
            "|N3 |confirmed|London                             |London   |England |2022-05-13 00:00:00|[Gender ->, Age ->]           |[Symptoms -> vesicular rash, Hospitalised (Y/N/NA) -> N, Isolated (Y/N/NA) -> Y]                |[Travel_history (Y/N/NA) -> N, Travel_history_location ->, Travel_history_country ->]                               |\n",
            "|N4 |confirmed|London                             |London   |England |2022-05-15 00:00:00|[Gender -> male, Age ->]      |[Symptoms -> vesicular rash, Hospitalised (Y/N/NA) -> Y, Isolated (Y/N/NA) -> Y]                |[Travel_history (Y/N/NA) -> N, Travel_history_location ->, Travel_history_country ->]                               |\n",
            "|N5 |confirmed|London                             |London   |England |2022-05-15 00:00:00|[Gender -> male, Age ->]      |[Symptoms -> vesicular rash, Hospitalised (Y/N/NA) -> Y, Isolated (Y/N/NA) -> Y]                |[Travel_history (Y/N/NA) -> N, Travel_history_location ->, Travel_history_country ->]                               |\n",
            "|N6 |confirmed|London                             |London   |England |2022-05-15 00:00:00|[Gender -> male, Age ->]      |[Symptoms -> vesicular rash, Hospitalised (Y/N/NA) ->, Isolated (Y/N/NA) -> Y]                  |[Travel_history (Y/N/NA) -> N, Travel_history_location ->, Travel_history_country ->]                               |\n",
            "|N7 |confirmed|Newcastle                          |Newcastle|England |2022-05-15 00:00:00|[Gender -> male, Age ->]      |[Symptoms -> vesicular rash, Hospitalised (Y/N/NA) -> Y, Isolated (Y/N/NA) -> Y]                |[Travel_history (Y/N/NA) -> Y, Travel_history_location -> London, Travel_history_country -> England]                |\n",
            "|N8 |confirmed|Lisbon                             |Lisbon   |Portugal|2022-05-17 00:00:00|[Gender -> male, Age -> 20-44]|[Symptoms -> skin lesions, ulcerative lesions, Hospitalised (Y/N/NA) -> N, Isolated (Y/N/NA) ->]|[Travel_history (Y/N/NA) -> N, Travel_history_location ->, Travel_history_country ->]                               |\n",
            "|N9 |confirmed|Lisbon                             |Lisbon   |Portugal|2022-05-17 00:00:00|[Gender -> male, Age -> 20-44]|[Symptoms -> skin lesions, ulcerative lesions, Hospitalised (Y/N/NA) -> N, Isolated (Y/N/NA) ->]|[Travel_history (Y/N/NA) -> N, Travel_history_location ->, Travel_history_country ->]                               |\n",
            "|N10|confirmed|Lisbon                             |Lisbon   |Portugal|2022-05-17 00:00:00|[Gender -> male, Age -> 20-44]|[Symptoms -> skin lesions, ulcerative lesions, Hospitalised (Y/N/NA) -> N, Isolated (Y/N/NA) ->]|[Travel_history (Y/N/NA) -> N, Travel_history_location ->, Travel_history_country ->]                               |\n",
            "|N11|confirmed|Lisbon                             |Lisbon   |Portugal|2022-05-18 00:00:00|[Gender -> male, Age -> 20-44]|[Symptoms -> skin lesions, ulcerative lesions, Hospitalised (Y/N/NA) -> N, Isolated (Y/N/NA) ->]|[Travel_history (Y/N/NA) -> N, Travel_history_location ->, Travel_history_country ->]                               |\n",
            "|N12|confirmed|Lisbon                             |Lisbon   |Portugal|2022-05-18 00:00:00|[Gender -> male, Age -> 20-44]|[Symptoms -> skin lesions, ulcerative lesions, Hospitalised (Y/N/NA) -> N, Isolated (Y/N/NA) ->]|[Travel_history (Y/N/NA) -> N, Travel_history_location ->, Travel_history_country ->]                               |\n",
            "|N13|confirmed|Lisbon and Tagus Valley            |Lisbon   |Portugal|2022-05-18 00:00:00|[Gender -> male, Age -> 20-44]|[Symptoms -> ulcerative lesions, Hospitalised (Y/N/NA) -> N, Isolated (Y/N/NA) ->]              |[Travel_history (Y/N/NA) -> N, Travel_history_location ->, Travel_history_country ->]                               |\n",
            "|N14|confirmed|Lisbon and Tagus Valley            |Lisbon   |Portugal|2022-05-18 00:00:00|[Gender -> male, Age -> 20-44]|[Symptoms -> ulcerative lesions, Hospitalised (Y/N/NA) -> N, Isolated (Y/N/NA) ->]              |[Travel_history (Y/N/NA) -> N, Travel_history_location ->, Travel_history_country ->]                               |\n",
            "|N15|confirmed|Lisbon and Tagus Valley            |Lisbon   |Portugal|2022-05-18 00:00:00|[Gender -> male, Age -> 20-44]|[Symptoms -> ulcerative lesions, Hospitalised (Y/N/NA) -> N, Isolated (Y/N/NA) ->]              |[Travel_history (Y/N/NA) -> N, Travel_history_location ->, Travel_history_country ->]                               |\n",
            "|N16|confirmed|Lisbon and Tagus Valley            |Lisbon   |Portugal|2022-05-18 00:00:00|[Gender -> male, Age -> 20-44]|[Symptoms -> ulcerative lesions, Hospitalised (Y/N/NA) -> N, Isolated (Y/N/NA) ->]              |[Travel_history (Y/N/NA) -> N, Travel_history_location ->, Travel_history_country ->]                               |\n",
            "|N17|confirmed|Lisbon and Tagus Valley            |Lisbon   |Portugal|2022-05-18 00:00:00|[Gender -> male, Age -> 20-44]|[Symptoms -> ulcerative lesions, Hospitalised (Y/N/NA) -> N, Isolated (Y/N/NA) ->]              |[Travel_history (Y/N/NA) -> N, Travel_history_location ->, Travel_history_country ->]                               |\n",
            "|N18|confirmed|Lisbon and Tagus Valley            |Lisbon   |Portugal|2022-05-18 00:00:00|[Gender -> male, Age -> 20-44]|[Symptoms -> ulcerative lesions, Hospitalised (Y/N/NA) -> N, Isolated (Y/N/NA) ->]              |[Travel_history (Y/N/NA) -> N, Travel_history_location ->, Travel_history_country ->]                               |\n",
            "|N19|confirmed|Lisbon and Tagus Valley            |Lisbon   |Portugal|2022-05-18 00:00:00|[Gender -> male, Age -> 20-44]|[Symptoms -> ulcerative lesions, Hospitalised (Y/N/NA) -> N, Isolated (Y/N/NA) ->]              |[Travel_history (Y/N/NA) -> N, Travel_history_location ->, Travel_history_country ->]                               |\n",
            "|N20|confirmed|Lisbon and Tagus Valley            |Lisbon   |Portugal|2022-05-18 00:00:00|[Gender -> male, Age -> 20-44]|[Symptoms -> ulcerative lesions, Hospitalised (Y/N/NA) -> N, Isolated (Y/N/NA) ->]              |[Travel_history (Y/N/NA) -> N, Travel_history_location ->, Travel_history_country ->]                               |\n",
            "+---+---------+-----------------------------------+---------+--------+-------------------+------------------------------+------------------------------------------------------------------------------------------------+--------------------------------------------------------------------------------------------------------------------+\n",
            "only showing top 20 rows\n",
            "\n"
          ]
        }
      ]
    },
    {
      "cell_type": "markdown",
      "source": [
        "## Storytelling: O peso do vazio"
      ],
      "metadata": {
        "id": "dNx-PQWAKjmX"
      }
    },
    {
      "cell_type": "code",
      "source": [
        "newmonkeypoxdf_Null=[\"Status\", \"Localizacao\", \"Cidade\", \"Pais\", \"Cod_ISO3\",\"Idade\", \"Sexo\", \"Sintomas\",\"Hospitalizado\",\"Em_isolamento\",\"Detectado\",\"Comentarios_contato\",\"Identidade_Contato\",\"Cidade_contato\", \"Viajou\", \"Data_viagem\",\"Data_inicio_viagem\",\"Localidade_visitada\",\"Pais_visitado\",\"Genoma_virus\", \"Metodo_confirmacao\", \"Fonte\", \"Fonte_II\", \"Fonte_III\", \"Fonte_IV\", \"Fonte_V\", \"Fonte_VI\", \"Fonte_VII\"]\n",
        "newmonkeypoxdf1.select([count(when(isnan(c) | col(c).isNull(), c)).alias(c) for c in newmonkeypoxdf_Null]).show()"
      ],
      "metadata": {
        "id": "888u-3EIKnm3",
        "colab": {
          "base_uri": "https://localhost:8080/"
        },
        "outputId": "2a314096-0f29-4dcb-b6c1-50851d04b65d"
      },
      "execution_count": 87,
      "outputs": [
        {
          "output_type": "stream",
          "name": "stdout",
          "text": [
            "+------+-----------+------+----+--------+-----+-----+--------+-------------+-------------+---------+-------------------+------------------+--------------+------+-----------+------------------+-------------------+-------------+------------+------------------+-----+--------+---------+--------+-------+--------+---------+\n",
            "|Status|Localizacao|Cidade|Pais|Cod_ISO3|Idade| Sexo|Sintomas|Hospitalizado|Em_isolamento|Detectado|Comentarios_contato|Identidade_Contato|Cidade_contato|Viajou|Data_viagem|Data_inicio_viagem|Localidade_visitada|Pais_visitado|Genoma_virus|Metodo_confirmacao|Fonte|Fonte_II|Fonte_III|Fonte_IV|Fonte_V|Fonte_VI|Fonte_VII|\n",
            "+------+-----------+------+----+--------+-----+-----+--------+-------------+-------------+---------+-------------------+------------------+--------------+------+-----------+------------------+-------------------+-------------+------------+------------------+-----+--------+---------+--------+-------+--------+---------+\n",
            "|    44|      17252| 68256|  44|      44|66618|67164|   69419|        69285|        69146|    69538|              69548|             69612|         69633| 69274|      69597|             69628|              69525|        69540|       69615|             69539|   44|   61442|    68746|   69585|  69639|   69639|    69639|\n",
            "+------+-----------+------+----+--------+-----+-----+--------+-------------+-------------+---------+-------------------+------------------+--------------+------+-----------+------------------+-------------------+-------------+------------+------------------+-----+--------+---------+--------+-------+--------+---------+\n",
            "\n"
          ]
        }
      ]
    },
    {
      "cell_type": "code",
      "source": [
        "px.bar(x=[\"Status\",\"Localizacao\",\"Cidade\",\"Pais\",\"Cod_ISO3\",\"Idade\",\"Sexo\",\"Sintomas\",\"Hospitalizado\",\"Em_isolamento\",\"Detectado\",\"Comentarios_contato\",\"Identidade_Contato\",\"Cidade_Contato\",\"Viajou\",\"Data_viagem\",\"Data_inicio_viagem\",\"Localidade_visitada\",\"Pais_visitado\",\"Genoma_virus\", \"Metodo_confirmacao\", \"Fonte\", \"Fonte_II\", \"Fonte_III\", \"Fonte_IV\", \"Fonte_V\", \"Fonte_VI\", \"Fonte_VII\"], y=[44,17252,8256,44,44,66618,67164,69419,69285,69146,69538,69548,69612,69633,69274,69597,69628,69525,69540,69615,69539,44,61442,68746,69585,69639,69639,69639])"
      ],
      "metadata": {
        "id": "DH4TAjWHLX13",
        "colab": {
          "base_uri": "https://localhost:8080/",
          "height": 542
        },
        "outputId": "d51692fa-a94e-46da-a96c-30dd2d3bcfe6"
      },
      "execution_count": 79,
      "outputs": [
        {
          "output_type": "display_data",
          "data": {
            "text/html": [
              "<html>\n",
              "<head><meta charset=\"utf-8\" /></head>\n",
              "<body>\n",
              "    <div>            <script src=\"https://cdnjs.cloudflare.com/ajax/libs/mathjax/2.7.5/MathJax.js?config=TeX-AMS-MML_SVG\"></script><script type=\"text/javascript\">if (window.MathJax && window.MathJax.Hub && window.MathJax.Hub.Config) {window.MathJax.Hub.Config({SVG: {font: \"STIX-Web\"}});}</script>                <script type=\"text/javascript\">window.PlotlyConfig = {MathJaxConfig: 'local'};</script>\n",
              "        <script src=\"https://cdn.plot.ly/plotly-2.14.0.min.js\"></script>                <div id=\"8d9061b4-837c-43e1-a718-bd19ac8827bc\" class=\"plotly-graph-div\" style=\"height:525px; width:100%;\"></div>            <script type=\"text/javascript\">                                    window.PLOTLYENV=window.PLOTLYENV || {};                                    if (document.getElementById(\"8d9061b4-837c-43e1-a718-bd19ac8827bc\")) {                    Plotly.newPlot(                        \"8d9061b4-837c-43e1-a718-bd19ac8827bc\",                        [{\"alignmentgroup\":\"True\",\"hovertemplate\":\"x=%{x}<br>y=%{y}<extra></extra>\",\"legendgroup\":\"\",\"marker\":{\"color\":\"#636efa\",\"pattern\":{\"shape\":\"\"}},\"name\":\"\",\"offsetgroup\":\"\",\"orientation\":\"v\",\"showlegend\":false,\"textposition\":\"auto\",\"x\":[\"Status\",\"Localizacao\",\"Cidade\",\"Pais\",\"Cod_ISO3\",\"Idade\",\"Sexo\",\"Sintomas\",\"Hospitalizado\",\"Em_isolamento\",\"Detectado\",\"Comentarios_contato\",\"Identidade_Contato\",\"Cidade_Contato\",\"Viajou\",\"Data_viagem\",\"Data_inicio_viagem\",\"Localidade_visitada\",\"Pais_visitado\",\"Genoma_virus\",\"Metodo_confirmacao\",\"Fonte\",\"Fonte_II\",\"Fonte_III\",\"Fonte_IV\",\"Fonte_V\",\"Fonte_VI\",\"Fonte_VII\"],\"xaxis\":\"x\",\"y\":[44,17252,8256,44,44,66618,67164,69419,69285,69146,69538,69548,69612,69633,69274,69597,69628,69525,69540,69615,69539,44,61442,68746,69585,69639,69639,69639],\"yaxis\":\"y\",\"type\":\"bar\"}],                        {\"template\":{\"data\":{\"histogram2dcontour\":[{\"type\":\"histogram2dcontour\",\"colorbar\":{\"outlinewidth\":0,\"ticks\":\"\"},\"colorscale\":[[0.0,\"#0d0887\"],[0.1111111111111111,\"#46039f\"],[0.2222222222222222,\"#7201a8\"],[0.3333333333333333,\"#9c179e\"],[0.4444444444444444,\"#bd3786\"],[0.5555555555555556,\"#d8576b\"],[0.6666666666666666,\"#ed7953\"],[0.7777777777777778,\"#fb9f3a\"],[0.8888888888888888,\"#fdca26\"],[1.0,\"#f0f921\"]]}],\"choropleth\":[{\"type\":\"choropleth\",\"colorbar\":{\"outlinewidth\":0,\"ticks\":\"\"}}],\"histogram2d\":[{\"type\":\"histogram2d\",\"colorbar\":{\"outlinewidth\":0,\"ticks\":\"\"},\"colorscale\":[[0.0,\"#0d0887\"],[0.1111111111111111,\"#46039f\"],[0.2222222222222222,\"#7201a8\"],[0.3333333333333333,\"#9c179e\"],[0.4444444444444444,\"#bd3786\"],[0.5555555555555556,\"#d8576b\"],[0.6666666666666666,\"#ed7953\"],[0.7777777777777778,\"#fb9f3a\"],[0.8888888888888888,\"#fdca26\"],[1.0,\"#f0f921\"]]}],\"heatmap\":[{\"type\":\"heatmap\",\"colorbar\":{\"outlinewidth\":0,\"ticks\":\"\"},\"colorscale\":[[0.0,\"#0d0887\"],[0.1111111111111111,\"#46039f\"],[0.2222222222222222,\"#7201a8\"],[0.3333333333333333,\"#9c179e\"],[0.4444444444444444,\"#bd3786\"],[0.5555555555555556,\"#d8576b\"],[0.6666666666666666,\"#ed7953\"],[0.7777777777777778,\"#fb9f3a\"],[0.8888888888888888,\"#fdca26\"],[1.0,\"#f0f921\"]]}],\"heatmapgl\":[{\"type\":\"heatmapgl\",\"colorbar\":{\"outlinewidth\":0,\"ticks\":\"\"},\"colorscale\":[[0.0,\"#0d0887\"],[0.1111111111111111,\"#46039f\"],[0.2222222222222222,\"#7201a8\"],[0.3333333333333333,\"#9c179e\"],[0.4444444444444444,\"#bd3786\"],[0.5555555555555556,\"#d8576b\"],[0.6666666666666666,\"#ed7953\"],[0.7777777777777778,\"#fb9f3a\"],[0.8888888888888888,\"#fdca26\"],[1.0,\"#f0f921\"]]}],\"contourcarpet\":[{\"type\":\"contourcarpet\",\"colorbar\":{\"outlinewidth\":0,\"ticks\":\"\"}}],\"contour\":[{\"type\":\"contour\",\"colorbar\":{\"outlinewidth\":0,\"ticks\":\"\"},\"colorscale\":[[0.0,\"#0d0887\"],[0.1111111111111111,\"#46039f\"],[0.2222222222222222,\"#7201a8\"],[0.3333333333333333,\"#9c179e\"],[0.4444444444444444,\"#bd3786\"],[0.5555555555555556,\"#d8576b\"],[0.6666666666666666,\"#ed7953\"],[0.7777777777777778,\"#fb9f3a\"],[0.8888888888888888,\"#fdca26\"],[1.0,\"#f0f921\"]]}],\"surface\":[{\"type\":\"surface\",\"colorbar\":{\"outlinewidth\":0,\"ticks\":\"\"},\"colorscale\":[[0.0,\"#0d0887\"],[0.1111111111111111,\"#46039f\"],[0.2222222222222222,\"#7201a8\"],[0.3333333333333333,\"#9c179e\"],[0.4444444444444444,\"#bd3786\"],[0.5555555555555556,\"#d8576b\"],[0.6666666666666666,\"#ed7953\"],[0.7777777777777778,\"#fb9f3a\"],[0.8888888888888888,\"#fdca26\"],[1.0,\"#f0f921\"]]}],\"mesh3d\":[{\"type\":\"mesh3d\",\"colorbar\":{\"outlinewidth\":0,\"ticks\":\"\"}}],\"scatter\":[{\"fillpattern\":{\"fillmode\":\"overlay\",\"size\":10,\"solidity\":0.2},\"type\":\"scatter\"}],\"parcoords\":[{\"type\":\"parcoords\",\"line\":{\"colorbar\":{\"outlinewidth\":0,\"ticks\":\"\"}}}],\"scatterpolargl\":[{\"type\":\"scatterpolargl\",\"marker\":{\"colorbar\":{\"outlinewidth\":0,\"ticks\":\"\"}}}],\"bar\":[{\"error_x\":{\"color\":\"#2a3f5f\"},\"error_y\":{\"color\":\"#2a3f5f\"},\"marker\":{\"line\":{\"color\":\"#E5ECF6\",\"width\":0.5},\"pattern\":{\"fillmode\":\"overlay\",\"size\":10,\"solidity\":0.2}},\"type\":\"bar\"}],\"scattergeo\":[{\"type\":\"scattergeo\",\"marker\":{\"colorbar\":{\"outlinewidth\":0,\"ticks\":\"\"}}}],\"scatterpolar\":[{\"type\":\"scatterpolar\",\"marker\":{\"colorbar\":{\"outlinewidth\":0,\"ticks\":\"\"}}}],\"histogram\":[{\"marker\":{\"pattern\":{\"fillmode\":\"overlay\",\"size\":10,\"solidity\":0.2}},\"type\":\"histogram\"}],\"scattergl\":[{\"type\":\"scattergl\",\"marker\":{\"colorbar\":{\"outlinewidth\":0,\"ticks\":\"\"}}}],\"scatter3d\":[{\"type\":\"scatter3d\",\"line\":{\"colorbar\":{\"outlinewidth\":0,\"ticks\":\"\"}},\"marker\":{\"colorbar\":{\"outlinewidth\":0,\"ticks\":\"\"}}}],\"scattermapbox\":[{\"type\":\"scattermapbox\",\"marker\":{\"colorbar\":{\"outlinewidth\":0,\"ticks\":\"\"}}}],\"scatterternary\":[{\"type\":\"scatterternary\",\"marker\":{\"colorbar\":{\"outlinewidth\":0,\"ticks\":\"\"}}}],\"scattercarpet\":[{\"type\":\"scattercarpet\",\"marker\":{\"colorbar\":{\"outlinewidth\":0,\"ticks\":\"\"}}}],\"carpet\":[{\"aaxis\":{\"endlinecolor\":\"#2a3f5f\",\"gridcolor\":\"white\",\"linecolor\":\"white\",\"minorgridcolor\":\"white\",\"startlinecolor\":\"#2a3f5f\"},\"baxis\":{\"endlinecolor\":\"#2a3f5f\",\"gridcolor\":\"white\",\"linecolor\":\"white\",\"minorgridcolor\":\"white\",\"startlinecolor\":\"#2a3f5f\"},\"type\":\"carpet\"}],\"table\":[{\"cells\":{\"fill\":{\"color\":\"#EBF0F8\"},\"line\":{\"color\":\"white\"}},\"header\":{\"fill\":{\"color\":\"#C8D4E3\"},\"line\":{\"color\":\"white\"}},\"type\":\"table\"}],\"barpolar\":[{\"marker\":{\"line\":{\"color\":\"#E5ECF6\",\"width\":0.5},\"pattern\":{\"fillmode\":\"overlay\",\"size\":10,\"solidity\":0.2}},\"type\":\"barpolar\"}],\"pie\":[{\"automargin\":true,\"type\":\"pie\"}]},\"layout\":{\"autotypenumbers\":\"strict\",\"colorway\":[\"#636efa\",\"#EF553B\",\"#00cc96\",\"#ab63fa\",\"#FFA15A\",\"#19d3f3\",\"#FF6692\",\"#B6E880\",\"#FF97FF\",\"#FECB52\"],\"font\":{\"color\":\"#2a3f5f\"},\"hovermode\":\"closest\",\"hoverlabel\":{\"align\":\"left\"},\"paper_bgcolor\":\"white\",\"plot_bgcolor\":\"#E5ECF6\",\"polar\":{\"bgcolor\":\"#E5ECF6\",\"angularaxis\":{\"gridcolor\":\"white\",\"linecolor\":\"white\",\"ticks\":\"\"},\"radialaxis\":{\"gridcolor\":\"white\",\"linecolor\":\"white\",\"ticks\":\"\"}},\"ternary\":{\"bgcolor\":\"#E5ECF6\",\"aaxis\":{\"gridcolor\":\"white\",\"linecolor\":\"white\",\"ticks\":\"\"},\"baxis\":{\"gridcolor\":\"white\",\"linecolor\":\"white\",\"ticks\":\"\"},\"caxis\":{\"gridcolor\":\"white\",\"linecolor\":\"white\",\"ticks\":\"\"}},\"coloraxis\":{\"colorbar\":{\"outlinewidth\":0,\"ticks\":\"\"}},\"colorscale\":{\"sequential\":[[0.0,\"#0d0887\"],[0.1111111111111111,\"#46039f\"],[0.2222222222222222,\"#7201a8\"],[0.3333333333333333,\"#9c179e\"],[0.4444444444444444,\"#bd3786\"],[0.5555555555555556,\"#d8576b\"],[0.6666666666666666,\"#ed7953\"],[0.7777777777777778,\"#fb9f3a\"],[0.8888888888888888,\"#fdca26\"],[1.0,\"#f0f921\"]],\"sequentialminus\":[[0.0,\"#0d0887\"],[0.1111111111111111,\"#46039f\"],[0.2222222222222222,\"#7201a8\"],[0.3333333333333333,\"#9c179e\"],[0.4444444444444444,\"#bd3786\"],[0.5555555555555556,\"#d8576b\"],[0.6666666666666666,\"#ed7953\"],[0.7777777777777778,\"#fb9f3a\"],[0.8888888888888888,\"#fdca26\"],[1.0,\"#f0f921\"]],\"diverging\":[[0,\"#8e0152\"],[0.1,\"#c51b7d\"],[0.2,\"#de77ae\"],[0.3,\"#f1b6da\"],[0.4,\"#fde0ef\"],[0.5,\"#f7f7f7\"],[0.6,\"#e6f5d0\"],[0.7,\"#b8e186\"],[0.8,\"#7fbc41\"],[0.9,\"#4d9221\"],[1,\"#276419\"]]},\"xaxis\":{\"gridcolor\":\"white\",\"linecolor\":\"white\",\"ticks\":\"\",\"title\":{\"standoff\":15},\"zerolinecolor\":\"white\",\"automargin\":true,\"zerolinewidth\":2},\"yaxis\":{\"gridcolor\":\"white\",\"linecolor\":\"white\",\"ticks\":\"\",\"title\":{\"standoff\":15},\"zerolinecolor\":\"white\",\"automargin\":true,\"zerolinewidth\":2},\"scene\":{\"xaxis\":{\"backgroundcolor\":\"#E5ECF6\",\"gridcolor\":\"white\",\"linecolor\":\"white\",\"showbackground\":true,\"ticks\":\"\",\"zerolinecolor\":\"white\",\"gridwidth\":2},\"yaxis\":{\"backgroundcolor\":\"#E5ECF6\",\"gridcolor\":\"white\",\"linecolor\":\"white\",\"showbackground\":true,\"ticks\":\"\",\"zerolinecolor\":\"white\",\"gridwidth\":2},\"zaxis\":{\"backgroundcolor\":\"#E5ECF6\",\"gridcolor\":\"white\",\"linecolor\":\"white\",\"showbackground\":true,\"ticks\":\"\",\"zerolinecolor\":\"white\",\"gridwidth\":2}},\"shapedefaults\":{\"line\":{\"color\":\"#2a3f5f\"}},\"annotationdefaults\":{\"arrowcolor\":\"#2a3f5f\",\"arrowhead\":0,\"arrowwidth\":1},\"geo\":{\"bgcolor\":\"white\",\"landcolor\":\"#E5ECF6\",\"subunitcolor\":\"white\",\"showland\":true,\"showlakes\":true,\"lakecolor\":\"white\"},\"title\":{\"x\":0.05},\"mapbox\":{\"style\":\"light\"}}},\"xaxis\":{\"anchor\":\"y\",\"domain\":[0.0,1.0],\"title\":{\"text\":\"x\"}},\"yaxis\":{\"anchor\":\"x\",\"domain\":[0.0,1.0],\"title\":{\"text\":\"y\"}},\"legend\":{\"tracegroupgap\":0},\"margin\":{\"t\":60},\"barmode\":\"relative\"},                        {\"responsive\": true}                    ).then(function(){\n",
              "                            \n",
              "var gd = document.getElementById('8d9061b4-837c-43e1-a718-bd19ac8827bc');\n",
              "var x = new MutationObserver(function (mutations, observer) {{\n",
              "        var display = window.getComputedStyle(gd).display;\n",
              "        if (!display || display === 'none') {{\n",
              "            console.log([gd, 'removed!']);\n",
              "            Plotly.purge(gd);\n",
              "            observer.disconnect();\n",
              "        }}\n",
              "}});\n",
              "\n",
              "// Listen for the removal of the full notebook cells\n",
              "var notebookContainer = gd.closest('#notebook-container');\n",
              "if (notebookContainer) {{\n",
              "    x.observe(notebookContainer, {childList: true});\n",
              "}}\n",
              "\n",
              "// Listen for the clearing of the current output cell\n",
              "var outputEl = gd.closest('.output');\n",
              "if (outputEl) {{\n",
              "    x.observe(outputEl, {childList: true});\n",
              "}}\n",
              "\n",
              "                        })                };                            </script>        </div>\n",
              "</body>\n",
              "</html>"
            ]
          },
          "metadata": {}
        }
      ]
    },
    {
      "cell_type": "code",
      "source": [
        "px.line(x=[\"Status\",\"Localizacao\",\"Cidade\",\"Pais\",\"Cod_ISO3\",\"Idade\",\"Sexo\",\"Sintomas\",\"Hospitalizado\",\"Em_isolamento\",\"Detectado\",\"Comentarios_contato\",\"Identidade_Contato\",\"Cidade_Contato\",\"Viajou\",\"Data_viagem\",\"Data_inicio_viagem\",\"Localidade_visitada\",\"Pais_visitado\",\"Genoma_virus\", \"Metodo_confirmacao\", \"Fonte\", \"Fonte_II\", \"Fonte_III\", \"Fonte_IV\", \"Fonte_V\", \"Fonte_VI\", \"Fonte_VII\"], y=[44,17252,8256,44,44,66618,67164,69419,69285,69146,69538,69548,69612,69633,69274,69597,69628,69525,69540,69615,69539,44,61442,68746,69585,69639,69639,69639])"
      ],
      "metadata": {
        "id": "kkGLz8otLCEw",
        "colab": {
          "base_uri": "https://localhost:8080/",
          "height": 542
        },
        "outputId": "da5b038d-c4fe-43f7-c2e4-863cac70a79a"
      },
      "execution_count": 78,
      "outputs": [
        {
          "output_type": "display_data",
          "data": {
            "text/html": [
              "<html>\n",
              "<head><meta charset=\"utf-8\" /></head>\n",
              "<body>\n",
              "    <div>            <script src=\"https://cdnjs.cloudflare.com/ajax/libs/mathjax/2.7.5/MathJax.js?config=TeX-AMS-MML_SVG\"></script><script type=\"text/javascript\">if (window.MathJax && window.MathJax.Hub && window.MathJax.Hub.Config) {window.MathJax.Hub.Config({SVG: {font: \"STIX-Web\"}});}</script>                <script type=\"text/javascript\">window.PlotlyConfig = {MathJaxConfig: 'local'};</script>\n",
              "        <script src=\"https://cdn.plot.ly/plotly-2.14.0.min.js\"></script>                <div id=\"e35fa42a-ccdb-4bd1-b1f3-66d5d3037ecf\" class=\"plotly-graph-div\" style=\"height:525px; width:100%;\"></div>            <script type=\"text/javascript\">                                    window.PLOTLYENV=window.PLOTLYENV || {};                                    if (document.getElementById(\"e35fa42a-ccdb-4bd1-b1f3-66d5d3037ecf\")) {                    Plotly.newPlot(                        \"e35fa42a-ccdb-4bd1-b1f3-66d5d3037ecf\",                        [{\"hovertemplate\":\"x=%{x}<br>y=%{y}<extra></extra>\",\"legendgroup\":\"\",\"line\":{\"color\":\"#636efa\",\"dash\":\"solid\"},\"marker\":{\"symbol\":\"circle\"},\"mode\":\"lines\",\"name\":\"\",\"orientation\":\"v\",\"showlegend\":false,\"x\":[\"Status\",\"Localizacao\",\"Cidade\",\"Pais\",\"Cod_ISO3\",\"Idade\",\"Sexo\",\"Sintomas\",\"Hospitalizado\",\"Em_isolamento\",\"Detectado\",\"Comentarios_contato\",\"Identidade_Contato\",\"Cidade_Contato\",\"Viajou\",\"Data_viagem\",\"Data_inicio_viagem\",\"Localidade_visitada\",\"Pais_visitado\",\"Genoma_virus\",\"Metodo_confirmacao\",\"Fonte\",\"Fonte_II\",\"Fonte_III\",\"Fonte_IV\",\"Fonte_V\",\"Fonte_VI\",\"Fonte_VII\"],\"xaxis\":\"x\",\"y\":[44,17252,8256,44,44,66618,67164,69419,69285,69146,69538,69548,69612,69633,69274,69597,69628,69525,69540,69615,69539,44,61442,68746,69585,69639,69639,69639],\"yaxis\":\"y\",\"type\":\"scatter\"}],                        {\"template\":{\"data\":{\"histogram2dcontour\":[{\"type\":\"histogram2dcontour\",\"colorbar\":{\"outlinewidth\":0,\"ticks\":\"\"},\"colorscale\":[[0.0,\"#0d0887\"],[0.1111111111111111,\"#46039f\"],[0.2222222222222222,\"#7201a8\"],[0.3333333333333333,\"#9c179e\"],[0.4444444444444444,\"#bd3786\"],[0.5555555555555556,\"#d8576b\"],[0.6666666666666666,\"#ed7953\"],[0.7777777777777778,\"#fb9f3a\"],[0.8888888888888888,\"#fdca26\"],[1.0,\"#f0f921\"]]}],\"choropleth\":[{\"type\":\"choropleth\",\"colorbar\":{\"outlinewidth\":0,\"ticks\":\"\"}}],\"histogram2d\":[{\"type\":\"histogram2d\",\"colorbar\":{\"outlinewidth\":0,\"ticks\":\"\"},\"colorscale\":[[0.0,\"#0d0887\"],[0.1111111111111111,\"#46039f\"],[0.2222222222222222,\"#7201a8\"],[0.3333333333333333,\"#9c179e\"],[0.4444444444444444,\"#bd3786\"],[0.5555555555555556,\"#d8576b\"],[0.6666666666666666,\"#ed7953\"],[0.7777777777777778,\"#fb9f3a\"],[0.8888888888888888,\"#fdca26\"],[1.0,\"#f0f921\"]]}],\"heatmap\":[{\"type\":\"heatmap\",\"colorbar\":{\"outlinewidth\":0,\"ticks\":\"\"},\"colorscale\":[[0.0,\"#0d0887\"],[0.1111111111111111,\"#46039f\"],[0.2222222222222222,\"#7201a8\"],[0.3333333333333333,\"#9c179e\"],[0.4444444444444444,\"#bd3786\"],[0.5555555555555556,\"#d8576b\"],[0.6666666666666666,\"#ed7953\"],[0.7777777777777778,\"#fb9f3a\"],[0.8888888888888888,\"#fdca26\"],[1.0,\"#f0f921\"]]}],\"heatmapgl\":[{\"type\":\"heatmapgl\",\"colorbar\":{\"outlinewidth\":0,\"ticks\":\"\"},\"colorscale\":[[0.0,\"#0d0887\"],[0.1111111111111111,\"#46039f\"],[0.2222222222222222,\"#7201a8\"],[0.3333333333333333,\"#9c179e\"],[0.4444444444444444,\"#bd3786\"],[0.5555555555555556,\"#d8576b\"],[0.6666666666666666,\"#ed7953\"],[0.7777777777777778,\"#fb9f3a\"],[0.8888888888888888,\"#fdca26\"],[1.0,\"#f0f921\"]]}],\"contourcarpet\":[{\"type\":\"contourcarpet\",\"colorbar\":{\"outlinewidth\":0,\"ticks\":\"\"}}],\"contour\":[{\"type\":\"contour\",\"colorbar\":{\"outlinewidth\":0,\"ticks\":\"\"},\"colorscale\":[[0.0,\"#0d0887\"],[0.1111111111111111,\"#46039f\"],[0.2222222222222222,\"#7201a8\"],[0.3333333333333333,\"#9c179e\"],[0.4444444444444444,\"#bd3786\"],[0.5555555555555556,\"#d8576b\"],[0.6666666666666666,\"#ed7953\"],[0.7777777777777778,\"#fb9f3a\"],[0.8888888888888888,\"#fdca26\"],[1.0,\"#f0f921\"]]}],\"surface\":[{\"type\":\"surface\",\"colorbar\":{\"outlinewidth\":0,\"ticks\":\"\"},\"colorscale\":[[0.0,\"#0d0887\"],[0.1111111111111111,\"#46039f\"],[0.2222222222222222,\"#7201a8\"],[0.3333333333333333,\"#9c179e\"],[0.4444444444444444,\"#bd3786\"],[0.5555555555555556,\"#d8576b\"],[0.6666666666666666,\"#ed7953\"],[0.7777777777777778,\"#fb9f3a\"],[0.8888888888888888,\"#fdca26\"],[1.0,\"#f0f921\"]]}],\"mesh3d\":[{\"type\":\"mesh3d\",\"colorbar\":{\"outlinewidth\":0,\"ticks\":\"\"}}],\"scatter\":[{\"fillpattern\":{\"fillmode\":\"overlay\",\"size\":10,\"solidity\":0.2},\"type\":\"scatter\"}],\"parcoords\":[{\"type\":\"parcoords\",\"line\":{\"colorbar\":{\"outlinewidth\":0,\"ticks\":\"\"}}}],\"scatterpolargl\":[{\"type\":\"scatterpolargl\",\"marker\":{\"colorbar\":{\"outlinewidth\":0,\"ticks\":\"\"}}}],\"bar\":[{\"error_x\":{\"color\":\"#2a3f5f\"},\"error_y\":{\"color\":\"#2a3f5f\"},\"marker\":{\"line\":{\"color\":\"#E5ECF6\",\"width\":0.5},\"pattern\":{\"fillmode\":\"overlay\",\"size\":10,\"solidity\":0.2}},\"type\":\"bar\"}],\"scattergeo\":[{\"type\":\"scattergeo\",\"marker\":{\"colorbar\":{\"outlinewidth\":0,\"ticks\":\"\"}}}],\"scatterpolar\":[{\"type\":\"scatterpolar\",\"marker\":{\"colorbar\":{\"outlinewidth\":0,\"ticks\":\"\"}}}],\"histogram\":[{\"marker\":{\"pattern\":{\"fillmode\":\"overlay\",\"size\":10,\"solidity\":0.2}},\"type\":\"histogram\"}],\"scattergl\":[{\"type\":\"scattergl\",\"marker\":{\"colorbar\":{\"outlinewidth\":0,\"ticks\":\"\"}}}],\"scatter3d\":[{\"type\":\"scatter3d\",\"line\":{\"colorbar\":{\"outlinewidth\":0,\"ticks\":\"\"}},\"marker\":{\"colorbar\":{\"outlinewidth\":0,\"ticks\":\"\"}}}],\"scattermapbox\":[{\"type\":\"scattermapbox\",\"marker\":{\"colorbar\":{\"outlinewidth\":0,\"ticks\":\"\"}}}],\"scatterternary\":[{\"type\":\"scatterternary\",\"marker\":{\"colorbar\":{\"outlinewidth\":0,\"ticks\":\"\"}}}],\"scattercarpet\":[{\"type\":\"scattercarpet\",\"marker\":{\"colorbar\":{\"outlinewidth\":0,\"ticks\":\"\"}}}],\"carpet\":[{\"aaxis\":{\"endlinecolor\":\"#2a3f5f\",\"gridcolor\":\"white\",\"linecolor\":\"white\",\"minorgridcolor\":\"white\",\"startlinecolor\":\"#2a3f5f\"},\"baxis\":{\"endlinecolor\":\"#2a3f5f\",\"gridcolor\":\"white\",\"linecolor\":\"white\",\"minorgridcolor\":\"white\",\"startlinecolor\":\"#2a3f5f\"},\"type\":\"carpet\"}],\"table\":[{\"cells\":{\"fill\":{\"color\":\"#EBF0F8\"},\"line\":{\"color\":\"white\"}},\"header\":{\"fill\":{\"color\":\"#C8D4E3\"},\"line\":{\"color\":\"white\"}},\"type\":\"table\"}],\"barpolar\":[{\"marker\":{\"line\":{\"color\":\"#E5ECF6\",\"width\":0.5},\"pattern\":{\"fillmode\":\"overlay\",\"size\":10,\"solidity\":0.2}},\"type\":\"barpolar\"}],\"pie\":[{\"automargin\":true,\"type\":\"pie\"}]},\"layout\":{\"autotypenumbers\":\"strict\",\"colorway\":[\"#636efa\",\"#EF553B\",\"#00cc96\",\"#ab63fa\",\"#FFA15A\",\"#19d3f3\",\"#FF6692\",\"#B6E880\",\"#FF97FF\",\"#FECB52\"],\"font\":{\"color\":\"#2a3f5f\"},\"hovermode\":\"closest\",\"hoverlabel\":{\"align\":\"left\"},\"paper_bgcolor\":\"white\",\"plot_bgcolor\":\"#E5ECF6\",\"polar\":{\"bgcolor\":\"#E5ECF6\",\"angularaxis\":{\"gridcolor\":\"white\",\"linecolor\":\"white\",\"ticks\":\"\"},\"radialaxis\":{\"gridcolor\":\"white\",\"linecolor\":\"white\",\"ticks\":\"\"}},\"ternary\":{\"bgcolor\":\"#E5ECF6\",\"aaxis\":{\"gridcolor\":\"white\",\"linecolor\":\"white\",\"ticks\":\"\"},\"baxis\":{\"gridcolor\":\"white\",\"linecolor\":\"white\",\"ticks\":\"\"},\"caxis\":{\"gridcolor\":\"white\",\"linecolor\":\"white\",\"ticks\":\"\"}},\"coloraxis\":{\"colorbar\":{\"outlinewidth\":0,\"ticks\":\"\"}},\"colorscale\":{\"sequential\":[[0.0,\"#0d0887\"],[0.1111111111111111,\"#46039f\"],[0.2222222222222222,\"#7201a8\"],[0.3333333333333333,\"#9c179e\"],[0.4444444444444444,\"#bd3786\"],[0.5555555555555556,\"#d8576b\"],[0.6666666666666666,\"#ed7953\"],[0.7777777777777778,\"#fb9f3a\"],[0.8888888888888888,\"#fdca26\"],[1.0,\"#f0f921\"]],\"sequentialminus\":[[0.0,\"#0d0887\"],[0.1111111111111111,\"#46039f\"],[0.2222222222222222,\"#7201a8\"],[0.3333333333333333,\"#9c179e\"],[0.4444444444444444,\"#bd3786\"],[0.5555555555555556,\"#d8576b\"],[0.6666666666666666,\"#ed7953\"],[0.7777777777777778,\"#fb9f3a\"],[0.8888888888888888,\"#fdca26\"],[1.0,\"#f0f921\"]],\"diverging\":[[0,\"#8e0152\"],[0.1,\"#c51b7d\"],[0.2,\"#de77ae\"],[0.3,\"#f1b6da\"],[0.4,\"#fde0ef\"],[0.5,\"#f7f7f7\"],[0.6,\"#e6f5d0\"],[0.7,\"#b8e186\"],[0.8,\"#7fbc41\"],[0.9,\"#4d9221\"],[1,\"#276419\"]]},\"xaxis\":{\"gridcolor\":\"white\",\"linecolor\":\"white\",\"ticks\":\"\",\"title\":{\"standoff\":15},\"zerolinecolor\":\"white\",\"automargin\":true,\"zerolinewidth\":2},\"yaxis\":{\"gridcolor\":\"white\",\"linecolor\":\"white\",\"ticks\":\"\",\"title\":{\"standoff\":15},\"zerolinecolor\":\"white\",\"automargin\":true,\"zerolinewidth\":2},\"scene\":{\"xaxis\":{\"backgroundcolor\":\"#E5ECF6\",\"gridcolor\":\"white\",\"linecolor\":\"white\",\"showbackground\":true,\"ticks\":\"\",\"zerolinecolor\":\"white\",\"gridwidth\":2},\"yaxis\":{\"backgroundcolor\":\"#E5ECF6\",\"gridcolor\":\"white\",\"linecolor\":\"white\",\"showbackground\":true,\"ticks\":\"\",\"zerolinecolor\":\"white\",\"gridwidth\":2},\"zaxis\":{\"backgroundcolor\":\"#E5ECF6\",\"gridcolor\":\"white\",\"linecolor\":\"white\",\"showbackground\":true,\"ticks\":\"\",\"zerolinecolor\":\"white\",\"gridwidth\":2}},\"shapedefaults\":{\"line\":{\"color\":\"#2a3f5f\"}},\"annotationdefaults\":{\"arrowcolor\":\"#2a3f5f\",\"arrowhead\":0,\"arrowwidth\":1},\"geo\":{\"bgcolor\":\"white\",\"landcolor\":\"#E5ECF6\",\"subunitcolor\":\"white\",\"showland\":true,\"showlakes\":true,\"lakecolor\":\"white\"},\"title\":{\"x\":0.05},\"mapbox\":{\"style\":\"light\"}}},\"xaxis\":{\"anchor\":\"y\",\"domain\":[0.0,1.0],\"title\":{\"text\":\"x\"}},\"yaxis\":{\"anchor\":\"x\",\"domain\":[0.0,1.0],\"title\":{\"text\":\"y\"}},\"legend\":{\"tracegroupgap\":0},\"margin\":{\"t\":60}},                        {\"responsive\": true}                    ).then(function(){\n",
              "                            \n",
              "var gd = document.getElementById('e35fa42a-ccdb-4bd1-b1f3-66d5d3037ecf');\n",
              "var x = new MutationObserver(function (mutations, observer) {{\n",
              "        var display = window.getComputedStyle(gd).display;\n",
              "        if (!display || display === 'none') {{\n",
              "            console.log([gd, 'removed!']);\n",
              "            Plotly.purge(gd);\n",
              "            observer.disconnect();\n",
              "        }}\n",
              "}});\n",
              "\n",
              "// Listen for the removal of the full notebook cells\n",
              "var notebookContainer = gd.closest('#notebook-container');\n",
              "if (notebookContainer) {{\n",
              "    x.observe(notebookContainer, {childList: true});\n",
              "}}\n",
              "\n",
              "// Listen for the clearing of the current output cell\n",
              "var outputEl = gd.closest('.output');\n",
              "if (outputEl) {{\n",
              "    x.observe(outputEl, {childList: true});\n",
              "}}\n",
              "\n",
              "                        })                };                            </script>        </div>\n",
              "</body>\n",
              "</html>"
            ]
          },
          "metadata": {}
        }
      ]
    },
    {
      "cell_type": "code",
      "source": [
        "newmonkeypoxdf_Null1=[\"Status\", \"Localizacao\", \"Cidade\", \"Pais\", \"Cod_ISO3\",\"Idade\", \"Sexo\", \"Sintomas\",\"Hospitalizado\",\"Viajou\"]\n",
        "newmonkeypoxdf1.select([count(when(isnan(c) | col(c).isNull(), c)).alias(c) for c in newmonkeypoxdf_Null1]).show()"
      ],
      "metadata": {
        "colab": {
          "base_uri": "https://localhost:8080/"
        },
        "id": "DTwzKR89Yp5y",
        "outputId": "c1644b26-50bb-4eef-932a-c70b1f33512f"
      },
      "execution_count": 89,
      "outputs": [
        {
          "output_type": "stream",
          "name": "stdout",
          "text": [
            "+------+-----------+------+----+--------+-----+-----+--------+-------------+------+\n",
            "|Status|Localizacao|Cidade|Pais|Cod_ISO3|Idade| Sexo|Sintomas|Hospitalizado|Viajou|\n",
            "+------+-----------+------+----+--------+-----+-----+--------+-------------+------+\n",
            "|    44|      17252| 68256|  44|      44|66618|67164|   69419|        69285| 69274|\n",
            "+------+-----------+------+----+--------+-----+-----+--------+-------------+------+\n",
            "\n"
          ]
        }
      ]
    },
    {
      "cell_type": "code",
      "source": [
        "px.line(x=[\"Status\", \"Localizacao\", \"Cidade\", \"Pais\", \"Cod_ISO3\",\"Idade\", \"Sexo\", \"Sintomas\",\"Hospitalizado\",\"Viajou\"], y=[44,17252,68256,44,44,66618,67164,69419,69285,69274])"
      ],
      "metadata": {
        "colab": {
          "base_uri": "https://localhost:8080/",
          "height": 542
        },
        "id": "RZmPXVVddtMd",
        "outputId": "64ffd693-f785-4d33-d077-10959cd8ca98"
      },
      "execution_count": 90,
      "outputs": [
        {
          "output_type": "display_data",
          "data": {
            "text/html": [
              "<html>\n",
              "<head><meta charset=\"utf-8\" /></head>\n",
              "<body>\n",
              "    <div>            <script src=\"https://cdnjs.cloudflare.com/ajax/libs/mathjax/2.7.5/MathJax.js?config=TeX-AMS-MML_SVG\"></script><script type=\"text/javascript\">if (window.MathJax && window.MathJax.Hub && window.MathJax.Hub.Config) {window.MathJax.Hub.Config({SVG: {font: \"STIX-Web\"}});}</script>                <script type=\"text/javascript\">window.PlotlyConfig = {MathJaxConfig: 'local'};</script>\n",
              "        <script src=\"https://cdn.plot.ly/plotly-2.14.0.min.js\"></script>                <div id=\"b23bd007-ffac-4eac-a8db-e4a36beb4666\" class=\"plotly-graph-div\" style=\"height:525px; width:100%;\"></div>            <script type=\"text/javascript\">                                    window.PLOTLYENV=window.PLOTLYENV || {};                                    if (document.getElementById(\"b23bd007-ffac-4eac-a8db-e4a36beb4666\")) {                    Plotly.newPlot(                        \"b23bd007-ffac-4eac-a8db-e4a36beb4666\",                        [{\"hovertemplate\":\"x=%{x}<br>y=%{y}<extra></extra>\",\"legendgroup\":\"\",\"line\":{\"color\":\"#636efa\",\"dash\":\"solid\"},\"marker\":{\"symbol\":\"circle\"},\"mode\":\"lines\",\"name\":\"\",\"orientation\":\"v\",\"showlegend\":false,\"x\":[\"Status\",\"Localizacao\",\"Cidade\",\"Pais\",\"Cod_ISO3\",\"Idade\",\"Sexo\",\"Sintomas\",\"Hospitalizado\",\"Viajou\"],\"xaxis\":\"x\",\"y\":[44,17252,68256,44,44,66618,67164,69419,69285,69274],\"yaxis\":\"y\",\"type\":\"scatter\"}],                        {\"template\":{\"data\":{\"histogram2dcontour\":[{\"type\":\"histogram2dcontour\",\"colorbar\":{\"outlinewidth\":0,\"ticks\":\"\"},\"colorscale\":[[0.0,\"#0d0887\"],[0.1111111111111111,\"#46039f\"],[0.2222222222222222,\"#7201a8\"],[0.3333333333333333,\"#9c179e\"],[0.4444444444444444,\"#bd3786\"],[0.5555555555555556,\"#d8576b\"],[0.6666666666666666,\"#ed7953\"],[0.7777777777777778,\"#fb9f3a\"],[0.8888888888888888,\"#fdca26\"],[1.0,\"#f0f921\"]]}],\"choropleth\":[{\"type\":\"choropleth\",\"colorbar\":{\"outlinewidth\":0,\"ticks\":\"\"}}],\"histogram2d\":[{\"type\":\"histogram2d\",\"colorbar\":{\"outlinewidth\":0,\"ticks\":\"\"},\"colorscale\":[[0.0,\"#0d0887\"],[0.1111111111111111,\"#46039f\"],[0.2222222222222222,\"#7201a8\"],[0.3333333333333333,\"#9c179e\"],[0.4444444444444444,\"#bd3786\"],[0.5555555555555556,\"#d8576b\"],[0.6666666666666666,\"#ed7953\"],[0.7777777777777778,\"#fb9f3a\"],[0.8888888888888888,\"#fdca26\"],[1.0,\"#f0f921\"]]}],\"heatmap\":[{\"type\":\"heatmap\",\"colorbar\":{\"outlinewidth\":0,\"ticks\":\"\"},\"colorscale\":[[0.0,\"#0d0887\"],[0.1111111111111111,\"#46039f\"],[0.2222222222222222,\"#7201a8\"],[0.3333333333333333,\"#9c179e\"],[0.4444444444444444,\"#bd3786\"],[0.5555555555555556,\"#d8576b\"],[0.6666666666666666,\"#ed7953\"],[0.7777777777777778,\"#fb9f3a\"],[0.8888888888888888,\"#fdca26\"],[1.0,\"#f0f921\"]]}],\"heatmapgl\":[{\"type\":\"heatmapgl\",\"colorbar\":{\"outlinewidth\":0,\"ticks\":\"\"},\"colorscale\":[[0.0,\"#0d0887\"],[0.1111111111111111,\"#46039f\"],[0.2222222222222222,\"#7201a8\"],[0.3333333333333333,\"#9c179e\"],[0.4444444444444444,\"#bd3786\"],[0.5555555555555556,\"#d8576b\"],[0.6666666666666666,\"#ed7953\"],[0.7777777777777778,\"#fb9f3a\"],[0.8888888888888888,\"#fdca26\"],[1.0,\"#f0f921\"]]}],\"contourcarpet\":[{\"type\":\"contourcarpet\",\"colorbar\":{\"outlinewidth\":0,\"ticks\":\"\"}}],\"contour\":[{\"type\":\"contour\",\"colorbar\":{\"outlinewidth\":0,\"ticks\":\"\"},\"colorscale\":[[0.0,\"#0d0887\"],[0.1111111111111111,\"#46039f\"],[0.2222222222222222,\"#7201a8\"],[0.3333333333333333,\"#9c179e\"],[0.4444444444444444,\"#bd3786\"],[0.5555555555555556,\"#d8576b\"],[0.6666666666666666,\"#ed7953\"],[0.7777777777777778,\"#fb9f3a\"],[0.8888888888888888,\"#fdca26\"],[1.0,\"#f0f921\"]]}],\"surface\":[{\"type\":\"surface\",\"colorbar\":{\"outlinewidth\":0,\"ticks\":\"\"},\"colorscale\":[[0.0,\"#0d0887\"],[0.1111111111111111,\"#46039f\"],[0.2222222222222222,\"#7201a8\"],[0.3333333333333333,\"#9c179e\"],[0.4444444444444444,\"#bd3786\"],[0.5555555555555556,\"#d8576b\"],[0.6666666666666666,\"#ed7953\"],[0.7777777777777778,\"#fb9f3a\"],[0.8888888888888888,\"#fdca26\"],[1.0,\"#f0f921\"]]}],\"mesh3d\":[{\"type\":\"mesh3d\",\"colorbar\":{\"outlinewidth\":0,\"ticks\":\"\"}}],\"scatter\":[{\"fillpattern\":{\"fillmode\":\"overlay\",\"size\":10,\"solidity\":0.2},\"type\":\"scatter\"}],\"parcoords\":[{\"type\":\"parcoords\",\"line\":{\"colorbar\":{\"outlinewidth\":0,\"ticks\":\"\"}}}],\"scatterpolargl\":[{\"type\":\"scatterpolargl\",\"marker\":{\"colorbar\":{\"outlinewidth\":0,\"ticks\":\"\"}}}],\"bar\":[{\"error_x\":{\"color\":\"#2a3f5f\"},\"error_y\":{\"color\":\"#2a3f5f\"},\"marker\":{\"line\":{\"color\":\"#E5ECF6\",\"width\":0.5},\"pattern\":{\"fillmode\":\"overlay\",\"size\":10,\"solidity\":0.2}},\"type\":\"bar\"}],\"scattergeo\":[{\"type\":\"scattergeo\",\"marker\":{\"colorbar\":{\"outlinewidth\":0,\"ticks\":\"\"}}}],\"scatterpolar\":[{\"type\":\"scatterpolar\",\"marker\":{\"colorbar\":{\"outlinewidth\":0,\"ticks\":\"\"}}}],\"histogram\":[{\"marker\":{\"pattern\":{\"fillmode\":\"overlay\",\"size\":10,\"solidity\":0.2}},\"type\":\"histogram\"}],\"scattergl\":[{\"type\":\"scattergl\",\"marker\":{\"colorbar\":{\"outlinewidth\":0,\"ticks\":\"\"}}}],\"scatter3d\":[{\"type\":\"scatter3d\",\"line\":{\"colorbar\":{\"outlinewidth\":0,\"ticks\":\"\"}},\"marker\":{\"colorbar\":{\"outlinewidth\":0,\"ticks\":\"\"}}}],\"scattermapbox\":[{\"type\":\"scattermapbox\",\"marker\":{\"colorbar\":{\"outlinewidth\":0,\"ticks\":\"\"}}}],\"scatterternary\":[{\"type\":\"scatterternary\",\"marker\":{\"colorbar\":{\"outlinewidth\":0,\"ticks\":\"\"}}}],\"scattercarpet\":[{\"type\":\"scattercarpet\",\"marker\":{\"colorbar\":{\"outlinewidth\":0,\"ticks\":\"\"}}}],\"carpet\":[{\"aaxis\":{\"endlinecolor\":\"#2a3f5f\",\"gridcolor\":\"white\",\"linecolor\":\"white\",\"minorgridcolor\":\"white\",\"startlinecolor\":\"#2a3f5f\"},\"baxis\":{\"endlinecolor\":\"#2a3f5f\",\"gridcolor\":\"white\",\"linecolor\":\"white\",\"minorgridcolor\":\"white\",\"startlinecolor\":\"#2a3f5f\"},\"type\":\"carpet\"}],\"table\":[{\"cells\":{\"fill\":{\"color\":\"#EBF0F8\"},\"line\":{\"color\":\"white\"}},\"header\":{\"fill\":{\"color\":\"#C8D4E3\"},\"line\":{\"color\":\"white\"}},\"type\":\"table\"}],\"barpolar\":[{\"marker\":{\"line\":{\"color\":\"#E5ECF6\",\"width\":0.5},\"pattern\":{\"fillmode\":\"overlay\",\"size\":10,\"solidity\":0.2}},\"type\":\"barpolar\"}],\"pie\":[{\"automargin\":true,\"type\":\"pie\"}]},\"layout\":{\"autotypenumbers\":\"strict\",\"colorway\":[\"#636efa\",\"#EF553B\",\"#00cc96\",\"#ab63fa\",\"#FFA15A\",\"#19d3f3\",\"#FF6692\",\"#B6E880\",\"#FF97FF\",\"#FECB52\"],\"font\":{\"color\":\"#2a3f5f\"},\"hovermode\":\"closest\",\"hoverlabel\":{\"align\":\"left\"},\"paper_bgcolor\":\"white\",\"plot_bgcolor\":\"#E5ECF6\",\"polar\":{\"bgcolor\":\"#E5ECF6\",\"angularaxis\":{\"gridcolor\":\"white\",\"linecolor\":\"white\",\"ticks\":\"\"},\"radialaxis\":{\"gridcolor\":\"white\",\"linecolor\":\"white\",\"ticks\":\"\"}},\"ternary\":{\"bgcolor\":\"#E5ECF6\",\"aaxis\":{\"gridcolor\":\"white\",\"linecolor\":\"white\",\"ticks\":\"\"},\"baxis\":{\"gridcolor\":\"white\",\"linecolor\":\"white\",\"ticks\":\"\"},\"caxis\":{\"gridcolor\":\"white\",\"linecolor\":\"white\",\"ticks\":\"\"}},\"coloraxis\":{\"colorbar\":{\"outlinewidth\":0,\"ticks\":\"\"}},\"colorscale\":{\"sequential\":[[0.0,\"#0d0887\"],[0.1111111111111111,\"#46039f\"],[0.2222222222222222,\"#7201a8\"],[0.3333333333333333,\"#9c179e\"],[0.4444444444444444,\"#bd3786\"],[0.5555555555555556,\"#d8576b\"],[0.6666666666666666,\"#ed7953\"],[0.7777777777777778,\"#fb9f3a\"],[0.8888888888888888,\"#fdca26\"],[1.0,\"#f0f921\"]],\"sequentialminus\":[[0.0,\"#0d0887\"],[0.1111111111111111,\"#46039f\"],[0.2222222222222222,\"#7201a8\"],[0.3333333333333333,\"#9c179e\"],[0.4444444444444444,\"#bd3786\"],[0.5555555555555556,\"#d8576b\"],[0.6666666666666666,\"#ed7953\"],[0.7777777777777778,\"#fb9f3a\"],[0.8888888888888888,\"#fdca26\"],[1.0,\"#f0f921\"]],\"diverging\":[[0,\"#8e0152\"],[0.1,\"#c51b7d\"],[0.2,\"#de77ae\"],[0.3,\"#f1b6da\"],[0.4,\"#fde0ef\"],[0.5,\"#f7f7f7\"],[0.6,\"#e6f5d0\"],[0.7,\"#b8e186\"],[0.8,\"#7fbc41\"],[0.9,\"#4d9221\"],[1,\"#276419\"]]},\"xaxis\":{\"gridcolor\":\"white\",\"linecolor\":\"white\",\"ticks\":\"\",\"title\":{\"standoff\":15},\"zerolinecolor\":\"white\",\"automargin\":true,\"zerolinewidth\":2},\"yaxis\":{\"gridcolor\":\"white\",\"linecolor\":\"white\",\"ticks\":\"\",\"title\":{\"standoff\":15},\"zerolinecolor\":\"white\",\"automargin\":true,\"zerolinewidth\":2},\"scene\":{\"xaxis\":{\"backgroundcolor\":\"#E5ECF6\",\"gridcolor\":\"white\",\"linecolor\":\"white\",\"showbackground\":true,\"ticks\":\"\",\"zerolinecolor\":\"white\",\"gridwidth\":2},\"yaxis\":{\"backgroundcolor\":\"#E5ECF6\",\"gridcolor\":\"white\",\"linecolor\":\"white\",\"showbackground\":true,\"ticks\":\"\",\"zerolinecolor\":\"white\",\"gridwidth\":2},\"zaxis\":{\"backgroundcolor\":\"#E5ECF6\",\"gridcolor\":\"white\",\"linecolor\":\"white\",\"showbackground\":true,\"ticks\":\"\",\"zerolinecolor\":\"white\",\"gridwidth\":2}},\"shapedefaults\":{\"line\":{\"color\":\"#2a3f5f\"}},\"annotationdefaults\":{\"arrowcolor\":\"#2a3f5f\",\"arrowhead\":0,\"arrowwidth\":1},\"geo\":{\"bgcolor\":\"white\",\"landcolor\":\"#E5ECF6\",\"subunitcolor\":\"white\",\"showland\":true,\"showlakes\":true,\"lakecolor\":\"white\"},\"title\":{\"x\":0.05},\"mapbox\":{\"style\":\"light\"}}},\"xaxis\":{\"anchor\":\"y\",\"domain\":[0.0,1.0],\"title\":{\"text\":\"x\"}},\"yaxis\":{\"anchor\":\"x\",\"domain\":[0.0,1.0],\"title\":{\"text\":\"y\"}},\"legend\":{\"tracegroupgap\":0},\"margin\":{\"t\":60}},                        {\"responsive\": true}                    ).then(function(){\n",
              "                            \n",
              "var gd = document.getElementById('b23bd007-ffac-4eac-a8db-e4a36beb4666');\n",
              "var x = new MutationObserver(function (mutations, observer) {{\n",
              "        var display = window.getComputedStyle(gd).display;\n",
              "        if (!display || display === 'none') {{\n",
              "            console.log([gd, 'removed!']);\n",
              "            Plotly.purge(gd);\n",
              "            observer.disconnect();\n",
              "        }}\n",
              "}});\n",
              "\n",
              "// Listen for the removal of the full notebook cells\n",
              "var notebookContainer = gd.closest('#notebook-container');\n",
              "if (notebookContainer) {{\n",
              "    x.observe(notebookContainer, {childList: true});\n",
              "}}\n",
              "\n",
              "// Listen for the clearing of the current output cell\n",
              "var outputEl = gd.closest('.output');\n",
              "if (outputEl) {{\n",
              "    x.observe(outputEl, {childList: true});\n",
              "}}\n",
              "\n",
              "                        })                };                            </script>        </div>\n",
              "</body>\n",
              "</html>"
            ]
          },
          "metadata": {}
        }
      ]
    },
    {
      "cell_type": "code",
      "source": [
        "import plotly.express as px \n",
        "import numpy \n",
        "random_x = [44,17252,68256,44,44,66618,67164,69419,69285,69274] \n",
        "names = [\"Status\", \"Localizacao\", \"Cidade\", \"Pais\", \"Cod_ISO3\",\"Idade\", \"Sexo\", \"Sintomas\",\"Hospitalizado\",\"Viajou\"]\n",
        "  \n",
        "fig = px.pie(values=random_x, names=names) \n",
        "fig.show()"
      ],
      "metadata": {
        "colab": {
          "base_uri": "https://localhost:8080/",
          "height": 542
        },
        "id": "xyx8OnHMemSM",
        "outputId": "9862658c-eb36-4509-dfc5-fab88c90d5cf"
      },
      "execution_count": 91,
      "outputs": [
        {
          "output_type": "display_data",
          "data": {
            "text/html": [
              "<html>\n",
              "<head><meta charset=\"utf-8\" /></head>\n",
              "<body>\n",
              "    <div>            <script src=\"https://cdnjs.cloudflare.com/ajax/libs/mathjax/2.7.5/MathJax.js?config=TeX-AMS-MML_SVG\"></script><script type=\"text/javascript\">if (window.MathJax && window.MathJax.Hub && window.MathJax.Hub.Config) {window.MathJax.Hub.Config({SVG: {font: \"STIX-Web\"}});}</script>                <script type=\"text/javascript\">window.PlotlyConfig = {MathJaxConfig: 'local'};</script>\n",
              "        <script src=\"https://cdn.plot.ly/plotly-2.14.0.min.js\"></script>                <div id=\"70cba9db-6e1b-4fa5-8248-41d3510a6d93\" class=\"plotly-graph-div\" style=\"height:525px; width:100%;\"></div>            <script type=\"text/javascript\">                                    window.PLOTLYENV=window.PLOTLYENV || {};                                    if (document.getElementById(\"70cba9db-6e1b-4fa5-8248-41d3510a6d93\")) {                    Plotly.newPlot(                        \"70cba9db-6e1b-4fa5-8248-41d3510a6d93\",                        [{\"domain\":{\"x\":[0.0,1.0],\"y\":[0.0,1.0]},\"hovertemplate\":\"label=%{label}<br>value=%{value}<extra></extra>\",\"labels\":[\"Status\",\"Localizacao\",\"Cidade\",\"Pais\",\"Cod_ISO3\",\"Idade\",\"Sexo\",\"Sintomas\",\"Hospitalizado\",\"Viajou\"],\"legendgroup\":\"\",\"name\":\"\",\"showlegend\":true,\"values\":[44,17252,68256,44,44,66618,67164,69419,69285,69274],\"type\":\"pie\"}],                        {\"template\":{\"data\":{\"histogram2dcontour\":[{\"type\":\"histogram2dcontour\",\"colorbar\":{\"outlinewidth\":0,\"ticks\":\"\"},\"colorscale\":[[0.0,\"#0d0887\"],[0.1111111111111111,\"#46039f\"],[0.2222222222222222,\"#7201a8\"],[0.3333333333333333,\"#9c179e\"],[0.4444444444444444,\"#bd3786\"],[0.5555555555555556,\"#d8576b\"],[0.6666666666666666,\"#ed7953\"],[0.7777777777777778,\"#fb9f3a\"],[0.8888888888888888,\"#fdca26\"],[1.0,\"#f0f921\"]]}],\"choropleth\":[{\"type\":\"choropleth\",\"colorbar\":{\"outlinewidth\":0,\"ticks\":\"\"}}],\"histogram2d\":[{\"type\":\"histogram2d\",\"colorbar\":{\"outlinewidth\":0,\"ticks\":\"\"},\"colorscale\":[[0.0,\"#0d0887\"],[0.1111111111111111,\"#46039f\"],[0.2222222222222222,\"#7201a8\"],[0.3333333333333333,\"#9c179e\"],[0.4444444444444444,\"#bd3786\"],[0.5555555555555556,\"#d8576b\"],[0.6666666666666666,\"#ed7953\"],[0.7777777777777778,\"#fb9f3a\"],[0.8888888888888888,\"#fdca26\"],[1.0,\"#f0f921\"]]}],\"heatmap\":[{\"type\":\"heatmap\",\"colorbar\":{\"outlinewidth\":0,\"ticks\":\"\"},\"colorscale\":[[0.0,\"#0d0887\"],[0.1111111111111111,\"#46039f\"],[0.2222222222222222,\"#7201a8\"],[0.3333333333333333,\"#9c179e\"],[0.4444444444444444,\"#bd3786\"],[0.5555555555555556,\"#d8576b\"],[0.6666666666666666,\"#ed7953\"],[0.7777777777777778,\"#fb9f3a\"],[0.8888888888888888,\"#fdca26\"],[1.0,\"#f0f921\"]]}],\"heatmapgl\":[{\"type\":\"heatmapgl\",\"colorbar\":{\"outlinewidth\":0,\"ticks\":\"\"},\"colorscale\":[[0.0,\"#0d0887\"],[0.1111111111111111,\"#46039f\"],[0.2222222222222222,\"#7201a8\"],[0.3333333333333333,\"#9c179e\"],[0.4444444444444444,\"#bd3786\"],[0.5555555555555556,\"#d8576b\"],[0.6666666666666666,\"#ed7953\"],[0.7777777777777778,\"#fb9f3a\"],[0.8888888888888888,\"#fdca26\"],[1.0,\"#f0f921\"]]}],\"contourcarpet\":[{\"type\":\"contourcarpet\",\"colorbar\":{\"outlinewidth\":0,\"ticks\":\"\"}}],\"contour\":[{\"type\":\"contour\",\"colorbar\":{\"outlinewidth\":0,\"ticks\":\"\"},\"colorscale\":[[0.0,\"#0d0887\"],[0.1111111111111111,\"#46039f\"],[0.2222222222222222,\"#7201a8\"],[0.3333333333333333,\"#9c179e\"],[0.4444444444444444,\"#bd3786\"],[0.5555555555555556,\"#d8576b\"],[0.6666666666666666,\"#ed7953\"],[0.7777777777777778,\"#fb9f3a\"],[0.8888888888888888,\"#fdca26\"],[1.0,\"#f0f921\"]]}],\"surface\":[{\"type\":\"surface\",\"colorbar\":{\"outlinewidth\":0,\"ticks\":\"\"},\"colorscale\":[[0.0,\"#0d0887\"],[0.1111111111111111,\"#46039f\"],[0.2222222222222222,\"#7201a8\"],[0.3333333333333333,\"#9c179e\"],[0.4444444444444444,\"#bd3786\"],[0.5555555555555556,\"#d8576b\"],[0.6666666666666666,\"#ed7953\"],[0.7777777777777778,\"#fb9f3a\"],[0.8888888888888888,\"#fdca26\"],[1.0,\"#f0f921\"]]}],\"mesh3d\":[{\"type\":\"mesh3d\",\"colorbar\":{\"outlinewidth\":0,\"ticks\":\"\"}}],\"scatter\":[{\"fillpattern\":{\"fillmode\":\"overlay\",\"size\":10,\"solidity\":0.2},\"type\":\"scatter\"}],\"parcoords\":[{\"type\":\"parcoords\",\"line\":{\"colorbar\":{\"outlinewidth\":0,\"ticks\":\"\"}}}],\"scatterpolargl\":[{\"type\":\"scatterpolargl\",\"marker\":{\"colorbar\":{\"outlinewidth\":0,\"ticks\":\"\"}}}],\"bar\":[{\"error_x\":{\"color\":\"#2a3f5f\"},\"error_y\":{\"color\":\"#2a3f5f\"},\"marker\":{\"line\":{\"color\":\"#E5ECF6\",\"width\":0.5},\"pattern\":{\"fillmode\":\"overlay\",\"size\":10,\"solidity\":0.2}},\"type\":\"bar\"}],\"scattergeo\":[{\"type\":\"scattergeo\",\"marker\":{\"colorbar\":{\"outlinewidth\":0,\"ticks\":\"\"}}}],\"scatterpolar\":[{\"type\":\"scatterpolar\",\"marker\":{\"colorbar\":{\"outlinewidth\":0,\"ticks\":\"\"}}}],\"histogram\":[{\"marker\":{\"pattern\":{\"fillmode\":\"overlay\",\"size\":10,\"solidity\":0.2}},\"type\":\"histogram\"}],\"scattergl\":[{\"type\":\"scattergl\",\"marker\":{\"colorbar\":{\"outlinewidth\":0,\"ticks\":\"\"}}}],\"scatter3d\":[{\"type\":\"scatter3d\",\"line\":{\"colorbar\":{\"outlinewidth\":0,\"ticks\":\"\"}},\"marker\":{\"colorbar\":{\"outlinewidth\":0,\"ticks\":\"\"}}}],\"scattermapbox\":[{\"type\":\"scattermapbox\",\"marker\":{\"colorbar\":{\"outlinewidth\":0,\"ticks\":\"\"}}}],\"scatterternary\":[{\"type\":\"scatterternary\",\"marker\":{\"colorbar\":{\"outlinewidth\":0,\"ticks\":\"\"}}}],\"scattercarpet\":[{\"type\":\"scattercarpet\",\"marker\":{\"colorbar\":{\"outlinewidth\":0,\"ticks\":\"\"}}}],\"carpet\":[{\"aaxis\":{\"endlinecolor\":\"#2a3f5f\",\"gridcolor\":\"white\",\"linecolor\":\"white\",\"minorgridcolor\":\"white\",\"startlinecolor\":\"#2a3f5f\"},\"baxis\":{\"endlinecolor\":\"#2a3f5f\",\"gridcolor\":\"white\",\"linecolor\":\"white\",\"minorgridcolor\":\"white\",\"startlinecolor\":\"#2a3f5f\"},\"type\":\"carpet\"}],\"table\":[{\"cells\":{\"fill\":{\"color\":\"#EBF0F8\"},\"line\":{\"color\":\"white\"}},\"header\":{\"fill\":{\"color\":\"#C8D4E3\"},\"line\":{\"color\":\"white\"}},\"type\":\"table\"}],\"barpolar\":[{\"marker\":{\"line\":{\"color\":\"#E5ECF6\",\"width\":0.5},\"pattern\":{\"fillmode\":\"overlay\",\"size\":10,\"solidity\":0.2}},\"type\":\"barpolar\"}],\"pie\":[{\"automargin\":true,\"type\":\"pie\"}]},\"layout\":{\"autotypenumbers\":\"strict\",\"colorway\":[\"#636efa\",\"#EF553B\",\"#00cc96\",\"#ab63fa\",\"#FFA15A\",\"#19d3f3\",\"#FF6692\",\"#B6E880\",\"#FF97FF\",\"#FECB52\"],\"font\":{\"color\":\"#2a3f5f\"},\"hovermode\":\"closest\",\"hoverlabel\":{\"align\":\"left\"},\"paper_bgcolor\":\"white\",\"plot_bgcolor\":\"#E5ECF6\",\"polar\":{\"bgcolor\":\"#E5ECF6\",\"angularaxis\":{\"gridcolor\":\"white\",\"linecolor\":\"white\",\"ticks\":\"\"},\"radialaxis\":{\"gridcolor\":\"white\",\"linecolor\":\"white\",\"ticks\":\"\"}},\"ternary\":{\"bgcolor\":\"#E5ECF6\",\"aaxis\":{\"gridcolor\":\"white\",\"linecolor\":\"white\",\"ticks\":\"\"},\"baxis\":{\"gridcolor\":\"white\",\"linecolor\":\"white\",\"ticks\":\"\"},\"caxis\":{\"gridcolor\":\"white\",\"linecolor\":\"white\",\"ticks\":\"\"}},\"coloraxis\":{\"colorbar\":{\"outlinewidth\":0,\"ticks\":\"\"}},\"colorscale\":{\"sequential\":[[0.0,\"#0d0887\"],[0.1111111111111111,\"#46039f\"],[0.2222222222222222,\"#7201a8\"],[0.3333333333333333,\"#9c179e\"],[0.4444444444444444,\"#bd3786\"],[0.5555555555555556,\"#d8576b\"],[0.6666666666666666,\"#ed7953\"],[0.7777777777777778,\"#fb9f3a\"],[0.8888888888888888,\"#fdca26\"],[1.0,\"#f0f921\"]],\"sequentialminus\":[[0.0,\"#0d0887\"],[0.1111111111111111,\"#46039f\"],[0.2222222222222222,\"#7201a8\"],[0.3333333333333333,\"#9c179e\"],[0.4444444444444444,\"#bd3786\"],[0.5555555555555556,\"#d8576b\"],[0.6666666666666666,\"#ed7953\"],[0.7777777777777778,\"#fb9f3a\"],[0.8888888888888888,\"#fdca26\"],[1.0,\"#f0f921\"]],\"diverging\":[[0,\"#8e0152\"],[0.1,\"#c51b7d\"],[0.2,\"#de77ae\"],[0.3,\"#f1b6da\"],[0.4,\"#fde0ef\"],[0.5,\"#f7f7f7\"],[0.6,\"#e6f5d0\"],[0.7,\"#b8e186\"],[0.8,\"#7fbc41\"],[0.9,\"#4d9221\"],[1,\"#276419\"]]},\"xaxis\":{\"gridcolor\":\"white\",\"linecolor\":\"white\",\"ticks\":\"\",\"title\":{\"standoff\":15},\"zerolinecolor\":\"white\",\"automargin\":true,\"zerolinewidth\":2},\"yaxis\":{\"gridcolor\":\"white\",\"linecolor\":\"white\",\"ticks\":\"\",\"title\":{\"standoff\":15},\"zerolinecolor\":\"white\",\"automargin\":true,\"zerolinewidth\":2},\"scene\":{\"xaxis\":{\"backgroundcolor\":\"#E5ECF6\",\"gridcolor\":\"white\",\"linecolor\":\"white\",\"showbackground\":true,\"ticks\":\"\",\"zerolinecolor\":\"white\",\"gridwidth\":2},\"yaxis\":{\"backgroundcolor\":\"#E5ECF6\",\"gridcolor\":\"white\",\"linecolor\":\"white\",\"showbackground\":true,\"ticks\":\"\",\"zerolinecolor\":\"white\",\"gridwidth\":2},\"zaxis\":{\"backgroundcolor\":\"#E5ECF6\",\"gridcolor\":\"white\",\"linecolor\":\"white\",\"showbackground\":true,\"ticks\":\"\",\"zerolinecolor\":\"white\",\"gridwidth\":2}},\"shapedefaults\":{\"line\":{\"color\":\"#2a3f5f\"}},\"annotationdefaults\":{\"arrowcolor\":\"#2a3f5f\",\"arrowhead\":0,\"arrowwidth\":1},\"geo\":{\"bgcolor\":\"white\",\"landcolor\":\"#E5ECF6\",\"subunitcolor\":\"white\",\"showland\":true,\"showlakes\":true,\"lakecolor\":\"white\"},\"title\":{\"x\":0.05},\"mapbox\":{\"style\":\"light\"}}},\"legend\":{\"tracegroupgap\":0},\"margin\":{\"t\":60}},                        {\"responsive\": true}                    ).then(function(){\n",
              "                            \n",
              "var gd = document.getElementById('70cba9db-6e1b-4fa5-8248-41d3510a6d93');\n",
              "var x = new MutationObserver(function (mutations, observer) {{\n",
              "        var display = window.getComputedStyle(gd).display;\n",
              "        if (!display || display === 'none') {{\n",
              "            console.log([gd, 'removed!']);\n",
              "            Plotly.purge(gd);\n",
              "            observer.disconnect();\n",
              "        }}\n",
              "}});\n",
              "\n",
              "// Listen for the removal of the full notebook cells\n",
              "var notebookContainer = gd.closest('#notebook-container');\n",
              "if (notebookContainer) {{\n",
              "    x.observe(notebookContainer, {childList: true});\n",
              "}}\n",
              "\n",
              "// Listen for the clearing of the current output cell\n",
              "var outputEl = gd.closest('.output');\n",
              "if (outputEl) {{\n",
              "    x.observe(outputEl, {childList: true});\n",
              "}}\n",
              "\n",
              "                        })                };                            </script>        </div>\n",
              "</body>\n",
              "</html>"
            ]
          },
          "metadata": {}
        }
      ]
    },
    {
      "cell_type": "code",
      "source": [
        "import plotly.express as px \n",
        "import numpy \n",
        "random_x = [44,17252,68256,44,44,66618,67164,69419] \n",
        "names = ['Status','Localizacao','Cidade','Pais','Cod_ISO3','Idade','Sexo','Sintomas'] \n",
        "  \n",
        "fig = px.pie(values=random_x, names=names) \n",
        "fig.show()"
      ],
      "metadata": {
        "colab": {
          "base_uri": "https://localhost:8080/",
          "height": 542
        },
        "id": "wd74P2Nt-G-h",
        "outputId": "22044779-725b-4ea8-dcac-7542b44d284a"
      },
      "execution_count": 77,
      "outputs": [
        {
          "output_type": "display_data",
          "data": {
            "text/html": [
              "<html>\n",
              "<head><meta charset=\"utf-8\" /></head>\n",
              "<body>\n",
              "    <div>            <script src=\"https://cdnjs.cloudflare.com/ajax/libs/mathjax/2.7.5/MathJax.js?config=TeX-AMS-MML_SVG\"></script><script type=\"text/javascript\">if (window.MathJax && window.MathJax.Hub && window.MathJax.Hub.Config) {window.MathJax.Hub.Config({SVG: {font: \"STIX-Web\"}});}</script>                <script type=\"text/javascript\">window.PlotlyConfig = {MathJaxConfig: 'local'};</script>\n",
              "        <script src=\"https://cdn.plot.ly/plotly-2.14.0.min.js\"></script>                <div id=\"5d7969e7-9d97-4b19-b3e1-aedae9d290a3\" class=\"plotly-graph-div\" style=\"height:525px; width:100%;\"></div>            <script type=\"text/javascript\">                                    window.PLOTLYENV=window.PLOTLYENV || {};                                    if (document.getElementById(\"5d7969e7-9d97-4b19-b3e1-aedae9d290a3\")) {                    Plotly.newPlot(                        \"5d7969e7-9d97-4b19-b3e1-aedae9d290a3\",                        [{\"domain\":{\"x\":[0.0,1.0],\"y\":[0.0,1.0]},\"hovertemplate\":\"label=%{label}<br>value=%{value}<extra></extra>\",\"labels\":[\"Status\",\"Localizacao\",\"Cidade\",\"Pais\",\"Cod_ISO3\",\"Idade\",\"Sexo\",\"Sintomas\"],\"legendgroup\":\"\",\"name\":\"\",\"showlegend\":true,\"values\":[44,17252,68256,44,44,66618,67164,69419],\"type\":\"pie\"}],                        {\"template\":{\"data\":{\"histogram2dcontour\":[{\"type\":\"histogram2dcontour\",\"colorbar\":{\"outlinewidth\":0,\"ticks\":\"\"},\"colorscale\":[[0.0,\"#0d0887\"],[0.1111111111111111,\"#46039f\"],[0.2222222222222222,\"#7201a8\"],[0.3333333333333333,\"#9c179e\"],[0.4444444444444444,\"#bd3786\"],[0.5555555555555556,\"#d8576b\"],[0.6666666666666666,\"#ed7953\"],[0.7777777777777778,\"#fb9f3a\"],[0.8888888888888888,\"#fdca26\"],[1.0,\"#f0f921\"]]}],\"choropleth\":[{\"type\":\"choropleth\",\"colorbar\":{\"outlinewidth\":0,\"ticks\":\"\"}}],\"histogram2d\":[{\"type\":\"histogram2d\",\"colorbar\":{\"outlinewidth\":0,\"ticks\":\"\"},\"colorscale\":[[0.0,\"#0d0887\"],[0.1111111111111111,\"#46039f\"],[0.2222222222222222,\"#7201a8\"],[0.3333333333333333,\"#9c179e\"],[0.4444444444444444,\"#bd3786\"],[0.5555555555555556,\"#d8576b\"],[0.6666666666666666,\"#ed7953\"],[0.7777777777777778,\"#fb9f3a\"],[0.8888888888888888,\"#fdca26\"],[1.0,\"#f0f921\"]]}],\"heatmap\":[{\"type\":\"heatmap\",\"colorbar\":{\"outlinewidth\":0,\"ticks\":\"\"},\"colorscale\":[[0.0,\"#0d0887\"],[0.1111111111111111,\"#46039f\"],[0.2222222222222222,\"#7201a8\"],[0.3333333333333333,\"#9c179e\"],[0.4444444444444444,\"#bd3786\"],[0.5555555555555556,\"#d8576b\"],[0.6666666666666666,\"#ed7953\"],[0.7777777777777778,\"#fb9f3a\"],[0.8888888888888888,\"#fdca26\"],[1.0,\"#f0f921\"]]}],\"heatmapgl\":[{\"type\":\"heatmapgl\",\"colorbar\":{\"outlinewidth\":0,\"ticks\":\"\"},\"colorscale\":[[0.0,\"#0d0887\"],[0.1111111111111111,\"#46039f\"],[0.2222222222222222,\"#7201a8\"],[0.3333333333333333,\"#9c179e\"],[0.4444444444444444,\"#bd3786\"],[0.5555555555555556,\"#d8576b\"],[0.6666666666666666,\"#ed7953\"],[0.7777777777777778,\"#fb9f3a\"],[0.8888888888888888,\"#fdca26\"],[1.0,\"#f0f921\"]]}],\"contourcarpet\":[{\"type\":\"contourcarpet\",\"colorbar\":{\"outlinewidth\":0,\"ticks\":\"\"}}],\"contour\":[{\"type\":\"contour\",\"colorbar\":{\"outlinewidth\":0,\"ticks\":\"\"},\"colorscale\":[[0.0,\"#0d0887\"],[0.1111111111111111,\"#46039f\"],[0.2222222222222222,\"#7201a8\"],[0.3333333333333333,\"#9c179e\"],[0.4444444444444444,\"#bd3786\"],[0.5555555555555556,\"#d8576b\"],[0.6666666666666666,\"#ed7953\"],[0.7777777777777778,\"#fb9f3a\"],[0.8888888888888888,\"#fdca26\"],[1.0,\"#f0f921\"]]}],\"surface\":[{\"type\":\"surface\",\"colorbar\":{\"outlinewidth\":0,\"ticks\":\"\"},\"colorscale\":[[0.0,\"#0d0887\"],[0.1111111111111111,\"#46039f\"],[0.2222222222222222,\"#7201a8\"],[0.3333333333333333,\"#9c179e\"],[0.4444444444444444,\"#bd3786\"],[0.5555555555555556,\"#d8576b\"],[0.6666666666666666,\"#ed7953\"],[0.7777777777777778,\"#fb9f3a\"],[0.8888888888888888,\"#fdca26\"],[1.0,\"#f0f921\"]]}],\"mesh3d\":[{\"type\":\"mesh3d\",\"colorbar\":{\"outlinewidth\":0,\"ticks\":\"\"}}],\"scatter\":[{\"fillpattern\":{\"fillmode\":\"overlay\",\"size\":10,\"solidity\":0.2},\"type\":\"scatter\"}],\"parcoords\":[{\"type\":\"parcoords\",\"line\":{\"colorbar\":{\"outlinewidth\":0,\"ticks\":\"\"}}}],\"scatterpolargl\":[{\"type\":\"scatterpolargl\",\"marker\":{\"colorbar\":{\"outlinewidth\":0,\"ticks\":\"\"}}}],\"bar\":[{\"error_x\":{\"color\":\"#2a3f5f\"},\"error_y\":{\"color\":\"#2a3f5f\"},\"marker\":{\"line\":{\"color\":\"#E5ECF6\",\"width\":0.5},\"pattern\":{\"fillmode\":\"overlay\",\"size\":10,\"solidity\":0.2}},\"type\":\"bar\"}],\"scattergeo\":[{\"type\":\"scattergeo\",\"marker\":{\"colorbar\":{\"outlinewidth\":0,\"ticks\":\"\"}}}],\"scatterpolar\":[{\"type\":\"scatterpolar\",\"marker\":{\"colorbar\":{\"outlinewidth\":0,\"ticks\":\"\"}}}],\"histogram\":[{\"marker\":{\"pattern\":{\"fillmode\":\"overlay\",\"size\":10,\"solidity\":0.2}},\"type\":\"histogram\"}],\"scattergl\":[{\"type\":\"scattergl\",\"marker\":{\"colorbar\":{\"outlinewidth\":0,\"ticks\":\"\"}}}],\"scatter3d\":[{\"type\":\"scatter3d\",\"line\":{\"colorbar\":{\"outlinewidth\":0,\"ticks\":\"\"}},\"marker\":{\"colorbar\":{\"outlinewidth\":0,\"ticks\":\"\"}}}],\"scattermapbox\":[{\"type\":\"scattermapbox\",\"marker\":{\"colorbar\":{\"outlinewidth\":0,\"ticks\":\"\"}}}],\"scatterternary\":[{\"type\":\"scatterternary\",\"marker\":{\"colorbar\":{\"outlinewidth\":0,\"ticks\":\"\"}}}],\"scattercarpet\":[{\"type\":\"scattercarpet\",\"marker\":{\"colorbar\":{\"outlinewidth\":0,\"ticks\":\"\"}}}],\"carpet\":[{\"aaxis\":{\"endlinecolor\":\"#2a3f5f\",\"gridcolor\":\"white\",\"linecolor\":\"white\",\"minorgridcolor\":\"white\",\"startlinecolor\":\"#2a3f5f\"},\"baxis\":{\"endlinecolor\":\"#2a3f5f\",\"gridcolor\":\"white\",\"linecolor\":\"white\",\"minorgridcolor\":\"white\",\"startlinecolor\":\"#2a3f5f\"},\"type\":\"carpet\"}],\"table\":[{\"cells\":{\"fill\":{\"color\":\"#EBF0F8\"},\"line\":{\"color\":\"white\"}},\"header\":{\"fill\":{\"color\":\"#C8D4E3\"},\"line\":{\"color\":\"white\"}},\"type\":\"table\"}],\"barpolar\":[{\"marker\":{\"line\":{\"color\":\"#E5ECF6\",\"width\":0.5},\"pattern\":{\"fillmode\":\"overlay\",\"size\":10,\"solidity\":0.2}},\"type\":\"barpolar\"}],\"pie\":[{\"automargin\":true,\"type\":\"pie\"}]},\"layout\":{\"autotypenumbers\":\"strict\",\"colorway\":[\"#636efa\",\"#EF553B\",\"#00cc96\",\"#ab63fa\",\"#FFA15A\",\"#19d3f3\",\"#FF6692\",\"#B6E880\",\"#FF97FF\",\"#FECB52\"],\"font\":{\"color\":\"#2a3f5f\"},\"hovermode\":\"closest\",\"hoverlabel\":{\"align\":\"left\"},\"paper_bgcolor\":\"white\",\"plot_bgcolor\":\"#E5ECF6\",\"polar\":{\"bgcolor\":\"#E5ECF6\",\"angularaxis\":{\"gridcolor\":\"white\",\"linecolor\":\"white\",\"ticks\":\"\"},\"radialaxis\":{\"gridcolor\":\"white\",\"linecolor\":\"white\",\"ticks\":\"\"}},\"ternary\":{\"bgcolor\":\"#E5ECF6\",\"aaxis\":{\"gridcolor\":\"white\",\"linecolor\":\"white\",\"ticks\":\"\"},\"baxis\":{\"gridcolor\":\"white\",\"linecolor\":\"white\",\"ticks\":\"\"},\"caxis\":{\"gridcolor\":\"white\",\"linecolor\":\"white\",\"ticks\":\"\"}},\"coloraxis\":{\"colorbar\":{\"outlinewidth\":0,\"ticks\":\"\"}},\"colorscale\":{\"sequential\":[[0.0,\"#0d0887\"],[0.1111111111111111,\"#46039f\"],[0.2222222222222222,\"#7201a8\"],[0.3333333333333333,\"#9c179e\"],[0.4444444444444444,\"#bd3786\"],[0.5555555555555556,\"#d8576b\"],[0.6666666666666666,\"#ed7953\"],[0.7777777777777778,\"#fb9f3a\"],[0.8888888888888888,\"#fdca26\"],[1.0,\"#f0f921\"]],\"sequentialminus\":[[0.0,\"#0d0887\"],[0.1111111111111111,\"#46039f\"],[0.2222222222222222,\"#7201a8\"],[0.3333333333333333,\"#9c179e\"],[0.4444444444444444,\"#bd3786\"],[0.5555555555555556,\"#d8576b\"],[0.6666666666666666,\"#ed7953\"],[0.7777777777777778,\"#fb9f3a\"],[0.8888888888888888,\"#fdca26\"],[1.0,\"#f0f921\"]],\"diverging\":[[0,\"#8e0152\"],[0.1,\"#c51b7d\"],[0.2,\"#de77ae\"],[0.3,\"#f1b6da\"],[0.4,\"#fde0ef\"],[0.5,\"#f7f7f7\"],[0.6,\"#e6f5d0\"],[0.7,\"#b8e186\"],[0.8,\"#7fbc41\"],[0.9,\"#4d9221\"],[1,\"#276419\"]]},\"xaxis\":{\"gridcolor\":\"white\",\"linecolor\":\"white\",\"ticks\":\"\",\"title\":{\"standoff\":15},\"zerolinecolor\":\"white\",\"automargin\":true,\"zerolinewidth\":2},\"yaxis\":{\"gridcolor\":\"white\",\"linecolor\":\"white\",\"ticks\":\"\",\"title\":{\"standoff\":15},\"zerolinecolor\":\"white\",\"automargin\":true,\"zerolinewidth\":2},\"scene\":{\"xaxis\":{\"backgroundcolor\":\"#E5ECF6\",\"gridcolor\":\"white\",\"linecolor\":\"white\",\"showbackground\":true,\"ticks\":\"\",\"zerolinecolor\":\"white\",\"gridwidth\":2},\"yaxis\":{\"backgroundcolor\":\"#E5ECF6\",\"gridcolor\":\"white\",\"linecolor\":\"white\",\"showbackground\":true,\"ticks\":\"\",\"zerolinecolor\":\"white\",\"gridwidth\":2},\"zaxis\":{\"backgroundcolor\":\"#E5ECF6\",\"gridcolor\":\"white\",\"linecolor\":\"white\",\"showbackground\":true,\"ticks\":\"\",\"zerolinecolor\":\"white\",\"gridwidth\":2}},\"shapedefaults\":{\"line\":{\"color\":\"#2a3f5f\"}},\"annotationdefaults\":{\"arrowcolor\":\"#2a3f5f\",\"arrowhead\":0,\"arrowwidth\":1},\"geo\":{\"bgcolor\":\"white\",\"landcolor\":\"#E5ECF6\",\"subunitcolor\":\"white\",\"showland\":true,\"showlakes\":true,\"lakecolor\":\"white\"},\"title\":{\"x\":0.05},\"mapbox\":{\"style\":\"light\"}}},\"legend\":{\"tracegroupgap\":0},\"margin\":{\"t\":60}},                        {\"responsive\": true}                    ).then(function(){\n",
              "                            \n",
              "var gd = document.getElementById('5d7969e7-9d97-4b19-b3e1-aedae9d290a3');\n",
              "var x = new MutationObserver(function (mutations, observer) {{\n",
              "        var display = window.getComputedStyle(gd).display;\n",
              "        if (!display || display === 'none') {{\n",
              "            console.log([gd, 'removed!']);\n",
              "            Plotly.purge(gd);\n",
              "            observer.disconnect();\n",
              "        }}\n",
              "}});\n",
              "\n",
              "// Listen for the removal of the full notebook cells\n",
              "var notebookContainer = gd.closest('#notebook-container');\n",
              "if (notebookContainer) {{\n",
              "    x.observe(notebookContainer, {childList: true});\n",
              "}}\n",
              "\n",
              "// Listen for the clearing of the current output cell\n",
              "var outputEl = gd.closest('.output');\n",
              "if (outputEl) {{\n",
              "    x.observe(outputEl, {childList: true});\n",
              "}}\n",
              "\n",
              "                        })                };                            </script>        </div>\n",
              "</body>\n",
              "</html>"
            ]
          },
          "metadata": {}
        }
      ]
    }
  ]
}